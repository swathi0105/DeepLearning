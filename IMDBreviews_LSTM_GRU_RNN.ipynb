{
  "cells": [
    {
      "cell_type": "markdown",
      "metadata": {
        "id": "tbZCF3ZJogQf"
      },
      "source": [
        "#Design of LSTM and GRU RNN for classification of IMDB reviews"
      ]
    },
    {
      "cell_type": "markdown",
      "metadata": {
        "id": "nEs79Og8qeuR"
      },
      "source": [
        "### Step-1:"
      ]
    },
    {
      "cell_type": "code",
      "execution_count": null,
      "metadata": {
        "id": "DNWdMGjGogQh"
      },
      "outputs": [],
      "source": [
        "import pandas as pd    \n",
        "import numpy as np    \n",
        "from nltk.corpus import stopwords   \n",
        "from sklearn.model_selection import train_test_split      \n",
        "from tensorflow.keras.preprocessing.text import Tokenizer \n",
        "from tensorflow.keras.preprocessing.sequence import pad_sequences   \n",
        "from tensorflow.keras.models import Sequential    \n",
        "from tensorflow.keras.layers import Embedding, LSTM, Dense, Bidirectional, GRU\n",
        "from tensorflow.keras.callbacks import ModelCheckpoint \n",
        "from tensorflow.keras.models import load_model   \n",
        "import re"
      ]
    },
    {
      "cell_type": "code",
      "execution_count": null,
      "metadata": {
        "colab": {
          "base_uri": "https://localhost:8080/",
          "height": 206
        },
        "id": "KBL5at5DogQj",
        "outputId": "fbb638a5-b345-41a8-c68d-6a37519c7f20"
      },
      "outputs": [
        {
          "data": {
            "text/html": [
              "\n",
              "  <div id=\"df-a95cd03b-c977-468b-acad-4a861d9b3d00\">\n",
              "    <div class=\"colab-df-container\">\n",
              "      <div>\n",
              "<style scoped>\n",
              "    .dataframe tbody tr th:only-of-type {\n",
              "        vertical-align: middle;\n",
              "    }\n",
              "\n",
              "    .dataframe tbody tr th {\n",
              "        vertical-align: top;\n",
              "    }\n",
              "\n",
              "    .dataframe thead th {\n",
              "        text-align: right;\n",
              "    }\n",
              "</style>\n",
              "<table border=\"1\" class=\"dataframe\">\n",
              "  <thead>\n",
              "    <tr style=\"text-align: right;\">\n",
              "      <th></th>\n",
              "      <th>review</th>\n",
              "      <th>sentiment</th>\n",
              "    </tr>\n",
              "  </thead>\n",
              "  <tbody>\n",
              "    <tr>\n",
              "      <th>0</th>\n",
              "      <td>One of the other reviewers has mentioned that ...</td>\n",
              "      <td>positive</td>\n",
              "    </tr>\n",
              "    <tr>\n",
              "      <th>1</th>\n",
              "      <td>A wonderful little production. &lt;br /&gt;&lt;br /&gt;The...</td>\n",
              "      <td>positive</td>\n",
              "    </tr>\n",
              "    <tr>\n",
              "      <th>2</th>\n",
              "      <td>I thought this was a wonderful way to spend ti...</td>\n",
              "      <td>positive</td>\n",
              "    </tr>\n",
              "    <tr>\n",
              "      <th>3</th>\n",
              "      <td>Basically there's a family where a little boy ...</td>\n",
              "      <td>negative</td>\n",
              "    </tr>\n",
              "    <tr>\n",
              "      <th>4</th>\n",
              "      <td>Petter Mattei's \"Love in the Time of Money\" is...</td>\n",
              "      <td>positive</td>\n",
              "    </tr>\n",
              "  </tbody>\n",
              "</table>\n",
              "</div>\n",
              "      <button class=\"colab-df-convert\" onclick=\"convertToInteractive('df-a95cd03b-c977-468b-acad-4a861d9b3d00')\"\n",
              "              title=\"Convert this dataframe to an interactive table.\"\n",
              "              style=\"display:none;\">\n",
              "        \n",
              "  <svg xmlns=\"http://www.w3.org/2000/svg\" height=\"24px\"viewBox=\"0 0 24 24\"\n",
              "       width=\"24px\">\n",
              "    <path d=\"M0 0h24v24H0V0z\" fill=\"none\"/>\n",
              "    <path d=\"M18.56 5.44l.94 2.06.94-2.06 2.06-.94-2.06-.94-.94-2.06-.94 2.06-2.06.94zm-11 1L8.5 8.5l.94-2.06 2.06-.94-2.06-.94L8.5 2.5l-.94 2.06-2.06.94zm10 10l.94 2.06.94-2.06 2.06-.94-2.06-.94-.94-2.06-.94 2.06-2.06.94z\"/><path d=\"M17.41 7.96l-1.37-1.37c-.4-.4-.92-.59-1.43-.59-.52 0-1.04.2-1.43.59L10.3 9.45l-7.72 7.72c-.78.78-.78 2.05 0 2.83L4 21.41c.39.39.9.59 1.41.59.51 0 1.02-.2 1.41-.59l7.78-7.78 2.81-2.81c.8-.78.8-2.07 0-2.86zM5.41 20L4 18.59l7.72-7.72 1.47 1.35L5.41 20z\"/>\n",
              "  </svg>\n",
              "      </button>\n",
              "      \n",
              "  <style>\n",
              "    .colab-df-container {\n",
              "      display:flex;\n",
              "      flex-wrap:wrap;\n",
              "      gap: 12px;\n",
              "    }\n",
              "\n",
              "    .colab-df-convert {\n",
              "      background-color: #E8F0FE;\n",
              "      border: none;\n",
              "      border-radius: 50%;\n",
              "      cursor: pointer;\n",
              "      display: none;\n",
              "      fill: #1967D2;\n",
              "      height: 32px;\n",
              "      padding: 0 0 0 0;\n",
              "      width: 32px;\n",
              "    }\n",
              "\n",
              "    .colab-df-convert:hover {\n",
              "      background-color: #E2EBFA;\n",
              "      box-shadow: 0px 1px 2px rgba(60, 64, 67, 0.3), 0px 1px 3px 1px rgba(60, 64, 67, 0.15);\n",
              "      fill: #174EA6;\n",
              "    }\n",
              "\n",
              "    [theme=dark] .colab-df-convert {\n",
              "      background-color: #3B4455;\n",
              "      fill: #D2E3FC;\n",
              "    }\n",
              "\n",
              "    [theme=dark] .colab-df-convert:hover {\n",
              "      background-color: #434B5C;\n",
              "      box-shadow: 0px 1px 3px 1px rgba(0, 0, 0, 0.15);\n",
              "      filter: drop-shadow(0px 1px 2px rgba(0, 0, 0, 0.3));\n",
              "      fill: #FFFFFF;\n",
              "    }\n",
              "  </style>\n",
              "\n",
              "      <script>\n",
              "        const buttonEl =\n",
              "          document.querySelector('#df-a95cd03b-c977-468b-acad-4a861d9b3d00 button.colab-df-convert');\n",
              "        buttonEl.style.display =\n",
              "          google.colab.kernel.accessAllowed ? 'block' : 'none';\n",
              "\n",
              "        async function convertToInteractive(key) {\n",
              "          const element = document.querySelector('#df-a95cd03b-c977-468b-acad-4a861d9b3d00');\n",
              "          const dataTable =\n",
              "            await google.colab.kernel.invokeFunction('convertToInteractive',\n",
              "                                                     [key], {});\n",
              "          if (!dataTable) return;\n",
              "\n",
              "          const docLinkHtml = 'Like what you see? Visit the ' +\n",
              "            '<a target=\"_blank\" href=https://colab.research.google.com/notebooks/data_table.ipynb>data table notebook</a>'\n",
              "            + ' to learn more about interactive tables.';\n",
              "          element.innerHTML = '';\n",
              "          dataTable['output_type'] = 'display_data';\n",
              "          await google.colab.output.renderOutput(dataTable, element);\n",
              "          const docLink = document.createElement('div');\n",
              "          docLink.innerHTML = docLinkHtml;\n",
              "          element.appendChild(docLink);\n",
              "        }\n",
              "      </script>\n",
              "    </div>\n",
              "  </div>\n",
              "  "
            ],
            "text/plain": [
              "                                              review sentiment\n",
              "0  One of the other reviewers has mentioned that ...  positive\n",
              "1  A wonderful little production. <br /><br />The...  positive\n",
              "2  I thought this was a wonderful way to spend ti...  positive\n",
              "3  Basically there's a family where a little boy ...  negative\n",
              "4  Petter Mattei's \"Love in the Time of Money\" is...  positive"
            ]
          },
          "execution_count": 8,
          "metadata": {},
          "output_type": "execute_result"
        }
      ],
      "source": [
        "data = pd.read_csv('/content/IMDB Dataset.csv')\n",
        "data.head()"
      ]
    },
    {
      "cell_type": "code",
      "execution_count": null,
      "metadata": {
        "colab": {
          "base_uri": "https://localhost:8080/"
        },
        "id": "3GOuCseXogQk",
        "outputId": "f6d8eefe-5609-4505-aec7-7188d9f66107"
      },
      "outputs": [
        {
          "name": "stderr",
          "output_type": "stream",
          "text": [
            "[nltk_data] Downloading package stopwords to /root/nltk_data...\n",
            "[nltk_data]   Package stopwords is already up-to-date!\n"
          ]
        }
      ],
      "source": [
        "import nltk\n",
        "nltk.download('stopwords')\n",
        "english_stops = set(stopwords.words('english'))"
      ]
    },
    {
      "cell_type": "markdown",
      "metadata": {
        "id": "pIIGf8-JogQk"
      },
      "source": [
        "### Step-2:"
      ]
    },
    {
      "cell_type": "code",
      "execution_count": null,
      "metadata": {
        "colab": {
          "base_uri": "https://localhost:8080/"
        },
        "id": "VK-Ml643ogQk",
        "outputId": "4c0ba612-df3a-4a22-e26e-1b38f74e9206"
      },
      "outputs": [
        {
          "name": "stdout",
          "output_type": "stream",
          "text": [
            "Reviews\n",
            "0        [one, reviewers, mentioned, watching, oz, epis...\n",
            "1        [a, wonderful, little, production, the, filmin...\n",
            "2        [i, thought, wonderful, way, spend, time, hot,...\n",
            "3        [basically, family, little, boy, jake, thinks,...\n",
            "4        [petter, mattei, love, time, money, visually, ...\n",
            "                               ...                        \n",
            "49995    [i, thought, movie, right, good, job, it, crea...\n",
            "49996    [bad, plot, bad, dialogue, bad, acting, idioti...\n",
            "49997    [i, catholic, taught, parochial, elementary, s...\n",
            "49998    [i, going, disagree, previous, comment, side, ...\n",
            "49999    [no, one, expects, star, trek, movies, high, a...\n",
            "Name: review, Length: 50000, dtype: object \n",
            "\n",
            "Sentiment\n",
            "0        1\n",
            "1        1\n",
            "2        1\n",
            "3        0\n",
            "4        1\n",
            "        ..\n",
            "49995    1\n",
            "49996    0\n",
            "49997    0\n",
            "49998    0\n",
            "49999    0\n",
            "Name: sentiment, Length: 50000, dtype: int64\n"
          ]
        }
      ],
      "source": [
        "def load_dataset():\n",
        "    df = pd.read_csv('IMDB Dataset.csv')\n",
        "    x_data = df['review']      \n",
        "    y_data = df['sentiment']    \n",
        "\n",
        "    # PRE-PROCESS REVIEW\n",
        "    x_data = x_data.replace({'<.*?>': ''}, regex = True)          \n",
        "    x_data = x_data.replace({'[^A-Za-z]': ' '}, regex = True)     \n",
        "    x_data = x_data.apply(lambda review: [w for w in review.split() if w not in english_stops]) \n",
        "    x_data = x_data.apply(lambda review: [w.lower() for w in review])   \n",
        "    \n",
        "    # ENCODE SENTIMENT -> 0 & 1\n",
        "    y_data = y_data.replace('positive', 1)\n",
        "    y_data = y_data.replace('negative', 0)\n",
        "\n",
        "    return x_data, y_data\n",
        "\n",
        "x_data, y_data = load_dataset()\n",
        "\n",
        "print('Reviews')\n",
        "print(x_data, '\\n')\n",
        "print('Sentiment')\n",
        "print(y_data)"
      ]
    },
    {
      "cell_type": "markdown",
      "metadata": {
        "id": "DD52pg8cogQl"
      },
      "source": [
        "### Step-3:"
      ]
    },
    {
      "cell_type": "code",
      "execution_count": null,
      "metadata": {
        "colab": {
          "base_uri": "https://localhost:8080/"
        },
        "id": "Spp0nKHFogQl",
        "outputId": "a8a640f6-7bea-4745-a9c0-3b4b92b7e98d"
      },
      "outputs": [
        {
          "name": "stdout",
          "output_type": "stream",
          "text": [
            "Train Set\n",
            "27950    [absolute, masterpiece, film, goodnight, mr, t...\n",
            "20530    [countenance, antoine, monot, copycat, imperso...\n",
            "8389     [i, recently, saw, blind, spot, coyoacan, drew...\n",
            "17509    [this, film, pretty, poor, the, acting, abysma...\n",
            "46320    [i, cannot, believe, film, i, like, i, usually...\n",
            "                               ...                        \n",
            "13625    [i, looking, forward, seeing, bruce, willis, e...\n",
            "1147     [prison, often, brought, conversations, best, ...\n",
            "36009    [watching, preview, armored, i, thought, movie...\n",
            "19023    [david, lean, worst, film, even, in, which, we...\n",
            "39135    [like, previous, commentator, film, i, found, ...\n",
            "Name: review, Length: 30000, dtype: object \n",
            "\n",
            "23036    [may, contain, spoilers, the, titular, topless...\n",
            "3856     [one, oddest, strikingly, eerie, creepy, horro...\n",
            "49589    [as, member, cast, i, member, band, basketball...\n",
            "11280    [oh, my, god, idiotic, completely, pointless, ...\n",
            "43509    [tu, pa, tam, one, worst, movies, i, ever, see...\n",
            "                               ...                        \n",
            "12324    [midnight, clear, great, premise, a, group, ed...\n",
            "17551    [this, cute, movie, first, got, sappy, feature...\n",
            "28036    [craig, brewer, grew, tennessee, evident, movi...\n",
            "35042    [i, moved, get, away, kind, thing, the, small,...\n",
            "23687    [gung, ho, good, idea, however, much, ask, ame...\n",
            "Name: review, Length: 20000, dtype: object \n",
            "\n",
            "Test Set\n",
            "27950    1\n",
            "20530    0\n",
            "8389     1\n",
            "17509    0\n",
            "46320    0\n",
            "        ..\n",
            "13625    0\n",
            "1147     1\n",
            "36009    1\n",
            "19023    0\n",
            "39135    0\n",
            "Name: sentiment, Length: 30000, dtype: int64 \n",
            "\n",
            "23036    0\n",
            "3856     1\n",
            "49589    0\n",
            "11280    0\n",
            "43509    0\n",
            "        ..\n",
            "12324    0\n",
            "17551    0\n",
            "28036    1\n",
            "35042    1\n",
            "23687    0\n",
            "Name: sentiment, Length: 20000, dtype: int64\n"
          ]
        }
      ],
      "source": [
        "x_train, x_test, y_train, y_test = train_test_split(x_data, y_data, test_size = 0.4)\n",
        "\n",
        "print('Train Set')\n",
        "print(x_train, '\\n')\n",
        "print(x_test, '\\n')\n",
        "print('Test Set')\n",
        "print(y_train, '\\n')\n",
        "print(y_test)"
      ]
    },
    {
      "cell_type": "code",
      "execution_count": null,
      "metadata": {
        "id": "5b_hLu8NogQm"
      },
      "outputs": [],
      "source": [
        "def get_max_length():\n",
        "    review_length = []\n",
        "    for review in x_train:\n",
        "        review_length.append(len(review))\n",
        "\n",
        "    return int(np.ceil(np.mean(review_length)))"
      ]
    },
    {
      "cell_type": "code",
      "execution_count": null,
      "metadata": {
        "colab": {
          "base_uri": "https://localhost:8080/"
        },
        "id": "ckTjeDBnogQm",
        "outputId": "097bb8ff-fa5c-4c2b-b0c6-d3cc47f12c30"
      },
      "outputs": [
        {
          "name": "stdout",
          "output_type": "stream",
          "text": [
            "Encoded X Train\n",
            " [[ 1537   798     4 ...     0     0     0]\n",
            " [26367 10313 50841 ...     0     0     0]\n",
            " [    1   936   117 ...     0     0     0]\n",
            " ...\n",
            " [   65  4079 18720 ...     0     0     0]\n",
            " [  484  5896   158 ...     0     0     0]\n",
            " [    6   822  9274 ...  3165  2383    34]] \n",
            "\n",
            "Encoded X Test\n",
            " [[  107  2819   955 ...  2440     0     0]\n",
            " [    5 19126 10773 ...  8981 13868   306]\n",
            " [  108  1498    88 ...     0     0     0]\n",
            " ...\n",
            " [ 3489 18184  2066 ...  2224    68  1860]\n",
            " [    1  1571    19 ...     0     0     0]\n",
            " [10487  3264     9 ...  1038   137   178]] \n",
            "\n",
            "Maximum review length:  130\n"
          ]
        }
      ],
      "source": [
        "# ENCODE REVIEW\n",
        "token = Tokenizer(lower=False)    # no need lower, because already lowered the data in load_data()\n",
        "token.fit_on_texts(x_train)\n",
        "x_train = token.texts_to_sequences(x_train)\n",
        "x_test = token.texts_to_sequences(x_test)\n",
        "\n",
        "max_length = get_max_length()\n",
        "\n",
        "x_train = pad_sequences(x_train, maxlen=max_length, padding='post', truncating='post')\n",
        "x_test = pad_sequences(x_test, maxlen=max_length, padding='post', truncating='post')\n",
        "\n",
        "total_words = len(token.word_index) + 1   # add 1 because of 0 padding\n",
        "\n",
        "print('Encoded X Train\\n', x_train, '\\n')\n",
        "print('Encoded X Test\\n', x_test, '\\n')\n",
        "print('Maximum review length: ', max_length)"
      ]
    },
    {
      "cell_type": "markdown",
      "metadata": {
        "id": "LKVG6uo8ogQn"
      },
      "source": [
        "### Step-4:"
      ]
    },
    {
      "cell_type": "code",
      "execution_count": null,
      "metadata": {
        "colab": {
          "base_uri": "https://localhost:8080/"
        },
        "id": "bTzIxYW7ogQn",
        "outputId": "7e57dd61-ecea-48de-f1a4-4dc9f7fbb19b"
      },
      "outputs": [
        {
          "name": "stdout",
          "output_type": "stream",
          "text": [
            "Model: \"sequential\"\n",
            "_________________________________________________________________\n",
            " Layer (type)                Output Shape              Param #   \n",
            "=================================================================\n",
            " embedding (Embedding)       (None, 130, 32)           2627264   \n",
            "                                                                 \n",
            " lstm (LSTM)                 (None, 64)                24832     \n",
            "                                                                 \n",
            " dense (Dense)               (None, 32)                2080      \n",
            "                                                                 \n",
            " dense_1 (Dense)             (None, 1)                 33        \n",
            "                                                                 \n",
            "=================================================================\n",
            "Total params: 2,654,209\n",
            "Trainable params: 2,654,209\n",
            "Non-trainable params: 0\n",
            "_________________________________________________________________\n",
            "None\n"
          ]
        }
      ],
      "source": [
        "EMBED_DIM = 32\n",
        "LSTM_OUT = 64\n",
        "\n",
        "model = Sequential()\n",
        "model.add(Embedding(total_words, EMBED_DIM, input_length = max_length))#input_lenght = review oda len\n",
        "model.add(LSTM(LSTM_OUT))                                              #total_words = no .of unique words\n",
        "model.add(Dense(32, activation='relu'))\n",
        "model.add(Dense(1, activation='sigmoid'))\n",
        "model.compile(optimizer = 'adam', loss = 'binary_crossentropy', metrics = ['accuracy'])\n",
        "\n",
        "print(model.summary())"
      ]
    },
    {
      "cell_type": "code",
      "execution_count": null,
      "metadata": {
        "id": "gE5j2CRzogQn"
      },
      "outputs": [],
      "source": [
        "checkpoint = ModelCheckpoint(\n",
        "    'models/LSTM.h5',\n",
        "    monitor='accuracy',\n",
        "    save_best_only=True,\n",
        "    verbose=1\n",
        ")"
      ]
    },
    {
      "cell_type": "code",
      "execution_count": null,
      "metadata": {
        "colab": {
          "base_uri": "https://localhost:8080/"
        },
        "id": "4cZu9Q_uogQo",
        "outputId": "8b7e65b9-e597-4de0-92e0-75b4943a94fc"
      },
      "outputs": [
        {
          "name": "stdout",
          "output_type": "stream",
          "text": [
            "Epoch 1/10\n",
            "235/235 [==============================] - ETA: 0s - loss: 0.5022 - accuracy: 0.7140\n",
            "Epoch 1: accuracy improved from -inf to 0.71403, saving model to models/LSTM.h5\n",
            "235/235 [==============================] - 43s 174ms/step - loss: 0.5022 - accuracy: 0.7140\n",
            "Epoch 2/10\n",
            "235/235 [==============================] - ETA: 0s - loss: 0.2128 - accuracy: 0.9215\n",
            "Epoch 2: accuracy improved from 0.71403 to 0.92153, saving model to models/LSTM.h5\n",
            "235/235 [==============================] - 42s 179ms/step - loss: 0.2128 - accuracy: 0.9215\n",
            "Epoch 3/10\n",
            "235/235 [==============================] - ETA: 0s - loss: 0.1138 - accuracy: 0.9650\n",
            "Epoch 3: accuracy improved from 0.92153 to 0.96503, saving model to models/LSTM.h5\n",
            "235/235 [==============================] - 42s 178ms/step - loss: 0.1138 - accuracy: 0.9650\n",
            "Epoch 4/10\n",
            "235/235 [==============================] - ETA: 0s - loss: 0.0646 - accuracy: 0.9805\n",
            "Epoch 4: accuracy improved from 0.96503 to 0.98050, saving model to models/LSTM.h5\n",
            "235/235 [==============================] - 44s 186ms/step - loss: 0.0646 - accuracy: 0.9805\n",
            "Epoch 5/10\n",
            "235/235 [==============================] - ETA: 0s - loss: 0.0419 - accuracy: 0.9884\n",
            "Epoch 5: accuracy improved from 0.98050 to 0.98843, saving model to models/LSTM.h5\n",
            "235/235 [==============================] - 45s 191ms/step - loss: 0.0419 - accuracy: 0.9884\n",
            "Epoch 6/10\n",
            "235/235 [==============================] - ETA: 0s - loss: 0.0324 - accuracy: 0.9915\n",
            "Epoch 6: accuracy improved from 0.98843 to 0.99150, saving model to models/LSTM.h5\n",
            "235/235 [==============================] - 40s 172ms/step - loss: 0.0324 - accuracy: 0.9915\n",
            "Epoch 7/10\n",
            "235/235 [==============================] - ETA: 0s - loss: 0.0239 - accuracy: 0.9940\n",
            "Epoch 7: accuracy improved from 0.99150 to 0.99397, saving model to models/LSTM.h5\n",
            "235/235 [==============================] - 42s 179ms/step - loss: 0.0239 - accuracy: 0.9940\n",
            "Epoch 8/10\n",
            "235/235 [==============================] - ETA: 0s - loss: 0.0286 - accuracy: 0.9921\n",
            "Epoch 8: accuracy did not improve from 0.99397\n",
            "235/235 [==============================] - 46s 197ms/step - loss: 0.0286 - accuracy: 0.9921\n",
            "Epoch 9/10\n",
            "235/235 [==============================] - ETA: 0s - loss: 0.0229 - accuracy: 0.9935\n",
            "Epoch 9: accuracy did not improve from 0.99397\n",
            "235/235 [==============================] - 41s 176ms/step - loss: 0.0229 - accuracy: 0.9935\n",
            "Epoch 10/10\n",
            "235/235 [==============================] - ETA: 0s - loss: 0.0257 - accuracy: 0.9930\n",
            "Epoch 10: accuracy did not improve from 0.99397\n",
            "235/235 [==============================] - 40s 172ms/step - loss: 0.0257 - accuracy: 0.9930\n"
          ]
        },
        {
          "data": {
            "text/plain": [
              "<keras.callbacks.History at 0x7f2960c1e4d0>"
            ]
          },
          "execution_count": 16,
          "metadata": {},
          "output_type": "execute_result"
        }
      ],
      "source": [
        "model.fit(x_train, y_train, batch_size = 128, epochs = 10, callbacks=[checkpoint])"
      ]
    },
    {
      "cell_type": "code",
      "execution_count": null,
      "metadata": {
        "colab": {
          "base_uri": "https://localhost:8080/"
        },
        "id": "mAnOWnGivSe0",
        "outputId": "01556748-07bd-4250-cd40-a4d981729c3d"
      },
      "outputs": [
        {
          "name": "stdout",
          "output_type": "stream",
          "text": [
            "625/625 [==============================] - 12s 19ms/step - loss: 0.9053 - accuracy: 0.8419\n"
          ]
        },
        {
          "data": {
            "text/plain": [
              "[0.9052920937538147, 0.841949999332428]"
            ]
          },
          "execution_count": 18,
          "metadata": {},
          "output_type": "execute_result"
        }
      ],
      "source": [
        "model.evaluate(x_test, y_test)"
      ]
    },
    {
      "cell_type": "markdown",
      "metadata": {
        "id": "vsVuL8KKuRpM"
      },
      "source": [
        "Step-5:"
      ]
    },
    {
      "cell_type": "code",
      "execution_count": null,
      "metadata": {
        "colab": {
          "base_uri": "https://localhost:8080/"
        },
        "id": "kbsnQGqtuT0D",
        "outputId": "83fb7fdf-02bc-4d03-ae2e-0c17bec251cc"
      },
      "outputs": [
        {
          "name": "stdout",
          "output_type": "stream",
          "text": [
            "Epoch 1/10\n",
            "235/235 [==============================] - ETA: 0s - loss: 0.5782 - accuracy: 0.6567\n",
            "Epoch 1: accuracy did not improve from 0.99397\n",
            "235/235 [==============================] - 29s 113ms/step - loss: 0.5782 - accuracy: 0.6567\n",
            "Epoch 2/10\n",
            "235/235 [==============================] - ETA: 0s - loss: 0.2500 - accuracy: 0.9053\n",
            "Epoch 2: accuracy did not improve from 0.99397\n",
            "235/235 [==============================] - 27s 114ms/step - loss: 0.2500 - accuracy: 0.9053\n",
            "Epoch 3/10\n",
            "235/235 [==============================] - ETA: 0s - loss: 0.1191 - accuracy: 0.9615\n",
            "Epoch 3: accuracy did not improve from 0.99397\n",
            "235/235 [==============================] - 27s 113ms/step - loss: 0.1191 - accuracy: 0.9615\n",
            "Epoch 4/10\n",
            "235/235 [==============================] - ETA: 0s - loss: 0.0667 - accuracy: 0.9813\n",
            "Epoch 4: accuracy did not improve from 0.99397\n",
            "235/235 [==============================] - 28s 118ms/step - loss: 0.0667 - accuracy: 0.9813\n",
            "Epoch 5/10\n",
            "235/235 [==============================] - ETA: 0s - loss: 0.0419 - accuracy: 0.9886\n",
            "Epoch 5: accuracy did not improve from 0.99397\n",
            "235/235 [==============================] - 27s 114ms/step - loss: 0.0419 - accuracy: 0.9886\n",
            "Epoch 6/10\n",
            "235/235 [==============================] - ETA: 0s - loss: 0.0257 - accuracy: 0.9938\n",
            "Epoch 6: accuracy did not improve from 0.99397\n",
            "235/235 [==============================] - 26s 109ms/step - loss: 0.0257 - accuracy: 0.9938\n",
            "Epoch 7/10\n",
            "235/235 [==============================] - ETA: 0s - loss: 0.0620 - accuracy: 0.9825\n",
            "Epoch 7: accuracy did not improve from 0.99397\n",
            "235/235 [==============================] - 26s 109ms/step - loss: 0.0620 - accuracy: 0.9825\n",
            "Epoch 8/10\n",
            "235/235 [==============================] - ETA: 0s - loss: 0.0291 - accuracy: 0.9922\n",
            "Epoch 8: accuracy did not improve from 0.99397\n",
            "235/235 [==============================] - 33s 140ms/step - loss: 0.0291 - accuracy: 0.9922\n",
            "Epoch 9/10\n",
            "235/235 [==============================] - ETA: 0s - loss: 0.0203 - accuracy: 0.9956\n",
            "Epoch 9: accuracy improved from 0.99397 to 0.99557, saving model to models/LSTM.h5\n",
            "235/235 [==============================] - 27s 115ms/step - loss: 0.0203 - accuracy: 0.9956\n",
            "Epoch 10/10\n",
            "235/235 [==============================] - ETA: 0s - loss: 0.0136 - accuracy: 0.9971\n",
            "Epoch 10: accuracy improved from 0.99557 to 0.99713, saving model to models/LSTM.h5\n",
            "235/235 [==============================] - 26s 112ms/step - loss: 0.0136 - accuracy: 0.9971\n",
            "625/625 [==============================] - 9s 13ms/step - loss: 0.7810 - accuracy: 0.8517\n",
            "Model: \"sequential_2\"\n",
            "_________________________________________________________________\n",
            " Layer (type)                Output Shape              Param #   \n",
            "=================================================================\n",
            " embedding_2 (Embedding)     (None, 130, 32)           2627264   \n",
            "                                                                 \n",
            " lstm_3 (LSTM)               (None, 32)                8320      \n",
            "                                                                 \n",
            " dense_2 (Dense)             (None, 32)                1056      \n",
            "                                                                 \n",
            " dense_3 (Dense)             (None, 1)                 33        \n",
            "                                                                 \n",
            "=================================================================\n",
            "Total params: 2,636,673\n",
            "Trainable params: 2,636,673\n",
            "Non-trainable params: 0\n",
            "_________________________________________________________________\n",
            "None\n"
          ]
        }
      ],
      "source": [
        "model1 = Sequential()\n",
        "model1.add(Embedding(total_words, 32, input_length = max_length))\n",
        "model1.add(LSTM(32))\n",
        "model1.add(Dense(32, activation='relu'))\n",
        "model1.add(Dense(1, activation='sigmoid'))\n",
        "model1.compile(optimizer = 'adam', loss = 'binary_crossentropy', metrics = ['accuracy'])\n",
        "model1.fit(x_train, y_train, batch_size = 128, epochs = 10, callbacks=[checkpoint])\n",
        "model1.evaluate(x_test, y_test)\n",
        "print(model1.summary())"
      ]
    },
    {
      "cell_type": "markdown",
      "metadata": {
        "id": "uy2y1KTUuUh-"
      },
      "source": [
        "### Step-6:"
      ]
    },
    {
      "cell_type": "code",
      "execution_count": null,
      "metadata": {
        "colab": {
          "base_uri": "https://localhost:8080/"
        },
        "id": "T_DH12QluW4K",
        "outputId": "f04a4aa3-2b30-42c9-d6ef-7120b5b5a915"
      },
      "outputs": [
        {
          "name": "stdout",
          "output_type": "stream",
          "text": [
            "Epoch 1/10\n",
            "235/235 [==============================] - 48s 186ms/step - loss: 0.4300 - accuracy: 0.7857\n",
            "Epoch 2/10\n",
            "235/235 [==============================] - 42s 178ms/step - loss: 0.1826 - accuracy: 0.9342\n",
            "Epoch 3/10\n",
            "235/235 [==============================] - 44s 186ms/step - loss: 0.0895 - accuracy: 0.9713\n",
            "Epoch 4/10\n",
            "235/235 [==============================] - 41s 174ms/step - loss: 0.0468 - accuracy: 0.9851\n",
            "Epoch 5/10\n",
            "235/235 [==============================] - 41s 175ms/step - loss: 0.0357 - accuracy: 0.9882\n",
            "Epoch 6/10\n",
            "235/235 [==============================] - 44s 189ms/step - loss: 0.0210 - accuracy: 0.9934\n",
            "Epoch 7/10\n",
            "235/235 [==============================] - 43s 182ms/step - loss: 0.0171 - accuracy: 0.9948\n",
            "Epoch 8/10\n",
            "235/235 [==============================] - 42s 176ms/step - loss: 0.0136 - accuracy: 0.9959\n",
            "Epoch 9/10\n",
            "235/235 [==============================] - 42s 179ms/step - loss: 0.0189 - accuracy: 0.9940\n",
            "Epoch 10/10\n",
            "235/235 [==============================] - 42s 178ms/step - loss: 0.0097 - accuracy: 0.9969\n",
            "625/625 [==============================] - 18s 27ms/step - loss: 0.8364 - accuracy: 0.8523\n",
            "Model: \"sequential_3\"\n",
            "_________________________________________________________________\n",
            " Layer (type)                Output Shape              Param #   \n",
            "=================================================================\n",
            " embedding_3 (Embedding)     (None, 130, 32)           2627264   \n",
            "                                                                 \n",
            " bidirectional (Bidirectiona  (None, 64)               16640     \n",
            " l)                                                              \n",
            "                                                                 \n",
            " dense_4 (Dense)             (None, 32)                2080      \n",
            "                                                                 \n",
            " dense_5 (Dense)             (None, 1)                 33        \n",
            "                                                                 \n",
            "=================================================================\n",
            "Total params: 2,646,017\n",
            "Trainable params: 2,646,017\n",
            "Non-trainable params: 0\n",
            "_________________________________________________________________\n",
            "None\n"
          ]
        }
      ],
      "source": [
        "model2 = Sequential()\n",
        "model2.add(Embedding(total_words, 32, input_length = max_length))\n",
        "model2.add(Bidirectional(LSTM(32)))\n",
        "model2.add(Dense(32, activation='relu'))\n",
        "model2.add(Dense(1, activation='sigmoid'))\n",
        "model2.compile(optimizer = 'adam', loss = 'binary_crossentropy', metrics = ['accuracy'])\n",
        "model2.fit(x_train, y_train, batch_size = 128, epochs = 10)\n",
        "model2.evaluate(x_test, y_test)\n",
        "print(model2.summary())"
      ]
    },
    {
      "cell_type": "code",
      "execution_count": null,
      "metadata": {
        "colab": {
          "base_uri": "https://localhost:8080/"
        },
        "id": "sJRncLGpyrxw",
        "outputId": "a933f21e-2886-4907-83eb-35f8939cde67"
      },
      "outputs": [
        {
          "name": "stdout",
          "output_type": "stream",
          "text": [
            "625/625 [==============================] - 12s 20ms/step - loss: 0.8364 - accuracy: 0.8523\n"
          ]
        },
        {
          "data": {
            "text/plain": [
              "[0.8363948464393616, 0.8522999882698059]"
            ]
          },
          "execution_count": 23,
          "metadata": {},
          "output_type": "execute_result"
        }
      ],
      "source": [
        "model2.evaluate(x_test, y_test)"
      ]
    },
    {
      "cell_type": "code",
      "execution_count": null,
      "metadata": {
        "id": "raz5VRsua5ux",
        "outputId": "e84f3b6d-0c7c-4bce-cf38-5f75d71746f9"
      },
      "outputs": [
        {
          "name": "stdout",
          "output_type": "stream",
          "text": [
            "None\n"
          ]
        }
      ],
      "source": [
        "from keras.preprocessing.text import Tokenizer\n",
        "\n",
        "t  = Tokenizer()\n",
        "# Defining 4 document lists\n",
        "fit_text = ['Machine Learning Knowledge',\n",
        "\t    'Machine Learning',\n",
        "            'Deep Learning',\n",
        "            'Artificial Intelligence']\n",
        "t.fit_on_texts(fit_text)\n"
      ]
    },
    {
      "cell_type": "code",
      "execution_count": null,
      "metadata": {
        "id": "vw3pK-oza5ux"
      },
      "outputs": [],
      "source": [
        "from keras.preprocessing.text import Tokenizer\n",
        "\n",
        "t  = Tokenizer()\n",
        "# Defining 4 document lists\n",
        "fit_text = ['Machine Learning Knowledge',\n",
        "\t    'Machine Learning',\n",
        "            'Deep Learning',\n",
        "            'Artificial Intelligence']"
      ]
    },
    {
      "cell_type": "code",
      "execution_count": null,
      "metadata": {
        "id": "6gZGQsQ_a5uy"
      },
      "outputs": [],
      "source": []
    }
  ],
  "metadata": {
    "colab": {
      "provenance": []
    },
    "kernelspec": {
      "display_name": "Python 3",
      "language": "python",
      "name": "python3"
    },
    "language_info": {
      "codemirror_mode": {
        "name": "ipython",
        "version": 3
      },
      "file_extension": ".py",
      "mimetype": "text/x-python",
      "name": "python",
      "nbconvert_exporter": "python",
      "pygments_lexer": "ipython3",
      "version": "3.8.8"
    }
  },
  "nbformat": 4,
  "nbformat_minor": 0
}