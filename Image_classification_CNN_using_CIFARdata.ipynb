{
  "cells": [
    {
      "cell_type": "markdown",
      "id": "discrete-intranet",
      "metadata": {
        "id": "discrete-intranet",
        "tags": []
      },
      "source": [
        "#Image Classification using CNN for CIFAR-10 \n"
      ]
    },
    {
      "cell_type": "markdown",
      "id": "demonstrated-cooler",
      "metadata": {
        "id": "demonstrated-cooler"
      },
      "source": [
        "### 1. Import libraries"
      ]
    },
    {
      "cell_type": "code",
      "execution_count": null,
      "id": "neural-sessions",
      "metadata": {
        "id": "neural-sessions"
      },
      "outputs": [],
      "source": [
        "from __future__ import print_function\n",
        "import keras\n",
        "from keras.datasets import cifar10\n",
        "from keras.preprocessing.image import ImageDataGenerator\n",
        "from keras.models import Sequential\n",
        "import random\n",
        "import numpy as np\n",
        "from keras.layers import Dense, Dropout, Activation, Flatten\n",
        "from keras.layers import Conv2D, MaxPooling2D\n",
        "from tensorflow.keras.optimizers import RMSprop,SGD,Adam\n",
        "from tensorflow.keras.utils import to_categorical\n",
        "import matplotlib.pyplot as plt\n",
        "%matplotlib inline"
      ]
    },
    {
      "cell_type": "markdown",
      "id": "historical-yemen",
      "metadata": {
        "id": "historical-yemen"
      },
      "source": [
        "### 2. Load your data and print the shape of training and test samples"
      ]
    },
    {
      "cell_type": "code",
      "execution_count": null,
      "id": "antique-event",
      "metadata": {
        "colab": {
          "base_uri": "https://localhost:8080/"
        },
        "id": "antique-event",
        "outputId": "774f2c91-e58b-4b90-e708-df0638b34416"
      },
      "outputs": [
        {
          "name": "stdout",
          "output_type": "stream",
          "text": [
            "x_train shape: (50000, 32, 32, 3)\n",
            "x_test shape: (10000, 32, 32, 3)\n",
            "50000 train samples\n",
            "10000 test samples\n"
          ]
        }
      ],
      "source": [
        "(x_train, y_train), (x_test, y_test) = cifar10.load_data()\n",
        "\n",
        "print('x_train shape:', x_train.shape)\n",
        "print('x_test shape:', x_test.shape)\n",
        "\n",
        "print(x_train.shape[0], 'train samples')\n",
        "print(x_test.shape[0], 'test samples')"
      ]
    },
    {
      "cell_type": "markdown",
      "id": "ejUG5KSguMFZ",
      "metadata": {
        "id": "ejUG5KSguMFZ"
      },
      "source": [
        "### 3. Print the shape of one image (is it 32 x 32 x 3 numpy array ?)"
      ]
    },
    {
      "cell_type": "code",
      "execution_count": null,
      "id": "adequate-vancouver",
      "metadata": {
        "colab": {
          "base_uri": "https://localhost:8080/"
        },
        "id": "adequate-vancouver",
        "outputId": "5acf38ef-975e-4b19-9115-ccbd8f734eb3"
      },
      "outputs": [
        {
          "data": {
            "text/plain": [
              "(32, 32, 3)"
            ]
          },
          "execution_count": 21,
          "metadata": {},
          "output_type": "execute_result"
        }
      ],
      "source": [
        "x_train[444].shape"
      ]
    },
    {
      "cell_type": "markdown",
      "id": "lAOE4Jkrur9i",
      "metadata": {
        "id": "lAOE4Jkrur9i"
      },
      "source": [
        "### 4. Display one image using imshow() function"
      ]
    },
    {
      "cell_type": "code",
      "execution_count": null,
      "id": "tY7pHIhKuTKi",
      "metadata": {
        "colab": {
          "base_uri": "https://localhost:8080/",
          "height": 301
        },
        "id": "tY7pHIhKuTKi",
        "outputId": "efd4ffb7-d97a-4561-eeb3-9cc7f4505f21"
      },
      "outputs": [
        {
          "name": "stdout",
          "output_type": "stream",
          "text": [
            "[9]\n"
          ]
        },
        {
          "data": {
            "text/plain": [
              "<matplotlib.image.AxesImage at 0x7ff0a05e4f50>"
            ]
          },
          "execution_count": 22,
          "metadata": {},
          "output_type": "execute_result"
        },
        {
          "data": {
            "image/png": "[encoded data removed]",
            "text/plain": [
              "<Figure size 432x288 with 1 Axes>"
            ]
          },
          "metadata": {
            "needs_background": "light"
          },
          "output_type": "display_data"
        }
      ],
      "source": [
        "print(y_train[444])\n",
        "plt.imshow(x_train[444])"
      ]
    },
    {
      "cell_type": "markdown",
      "id": "yUfsBqPquvZw",
      "metadata": {
        "id": "yUfsBqPquvZw"
      },
      "source": [
        "### 5. Convert y_train and y_test into categorical values"
      ]
    },
    {
      "cell_type": "code",
      "execution_count": null,
      "id": "jUoOc5lRuypV",
      "metadata": {
        "id": "jUoOc5lRuypV"
      },
      "outputs": [],
      "source": [
        "num_classes = 10\n",
        "y_train = to_categorical(y_train, num_classes)\n",
        "y_test = to_categorical(y_test, num_classes)"
      ]
    },
    {
      "cell_type": "code",
      "execution_count": null,
      "id": "54T85X-oq_Ih",
      "metadata": {
        "id": "54T85X-oq_Ih"
      },
      "outputs": [],
      "source": [
        "class_names = ['airplane','car','bird','dog','cat','deer','frog','horse','ship','truck']"
      ]
    },
    {
      "cell_type": "code",
      "execution_count": null,
      "id": "QJ4xeTvEHqEY",
      "metadata": {
        "colab": {
          "base_uri": "https://localhost:8080/"
        },
        "id": "QJ4xeTvEHqEY",
        "outputId": "ea37e752-de5e-4bf4-c32e-f950543ad6aa"
      },
      "outputs": [
        {
          "data": {
            "text/plain": [
              "array([0., 0., 0., 0., 0., 0., 1., 0., 0., 0.], dtype=float32)"
            ]
          },
          "execution_count": 25,
          "metadata": {},
          "output_type": "execute_result"
        }
      ],
      "source": [
        "y_train[0]"
      ]
    },
    {
      "cell_type": "markdown",
      "id": "5E71BvJ7uzLd",
      "metadata": {
        "id": "5E71BvJ7uzLd"
      },
      "source": [
        "### 6. Convert train data into float and scale"
      ]
    },
    {
      "cell_type": "code",
      "execution_count": null,
      "id": "AisteDKmu3ts",
      "metadata": {
        "id": "AisteDKmu3ts"
      },
      "outputs": [],
      "source": [
        "x_train = x_train.astype('float32')\n",
        "x_test = x_test.astype('float32')\n",
        "x_train /= 255\n",
        "x_test /= 255"
      ]
    },
    {
      "cell_type": "markdown",
      "id": "38-14D5Vu4Yj",
      "metadata": {
        "id": "38-14D5Vu4Yj"
      },
      "source": [
        "### 7. Build your first CNN"
      ]
    },
    {
      "cell_type": "code",
      "execution_count": null,
      "id": "PPYY0-v7u643",
      "metadata": {
        "id": "PPYY0-v7u643"
      },
      "outputs": [],
      "source": [
        "INPUT_SHAPE = (32,32,3)\n",
        "\n",
        "model = Sequential()\n",
        "\n",
        "model.add(Conv2D(filters=32, kernel_size=(5,5), strides=(2,2),activation='relu', padding='same', input_shape=INPUT_SHAPE))\n",
        "\n",
        "model.add(Conv2D(filters=32, kernel_size=(5,5),strides=(2,2), activation='relu', padding='same', input_shape=INPUT_SHAPE))\n",
        "\n",
        "model.add(MaxPooling2D(pool_size=(2,2)))\n",
        "\n",
        "model.add(Dropout(rate=0.25))\n",
        "\n",
        "model.add(Flatten())\n",
        "\n",
        "model.add(Dense(512, activation='relu'))\n",
        "\n",
        "model.add(Dropout(rate=0.5))\n",
        "\n",
        "model.add(Dense(10, activation='softmax'))"
      ]
    },
    {
      "cell_type": "code",
      "execution_count": null,
      "id": "wiFu3jkbu_eZ",
      "metadata": {
        "id": "wiFu3jkbu_eZ"
      },
      "outputs": [],
      "source": [
        "model.summary()"
      ]
    },
    {
      "cell_type": "markdown",
      "id": "992a4708-6c27-4061-9685-f722e92d8b3c",
      "metadata": {
        "id": "992a4708-6c27-4061-9685-f722e92d8b3c"
      },
      "source": [
        "### 8. Print summary and verify your configuration"
      ]
    },
    {
      "cell_type": "code",
      "execution_count": null,
      "id": "aac3e05f-e848-4a99-ae93-900348d46469",
      "metadata": {
        "id": "aac3e05f-e848-4a99-ae93-900348d46469",
        "outputId": "f64576ff-e396-4cea-afec-918d55ccad02"
      },
      "outputs": [
        {
          "name": "stdout",
          "output_type": "stream",
          "text": [
            "Model: \"sequential_1\"\n",
            "_________________________________________________________________\n",
            "Layer (type)                 Output Shape              Param #   \n",
            "=================================================================\n",
            "conv2d_2 (Conv2D)            (None, 16, 16, 32)        2432      \n",
            "_________________________________________________________________\n",
            "conv2d_3 (Conv2D)            (None, 8, 8, 32)          25632     \n",
            "_________________________________________________________________\n",
            "max_pooling2d_1 (MaxPooling2 (None, 4, 4, 32)          0         \n",
            "_________________________________________________________________\n",
            "dropout_2 (Dropout)          (None, 4, 4, 32)          0         \n",
            "_________________________________________________________________\n",
            "flatten_1 (Flatten)          (None, 512)               0         \n",
            "_________________________________________________________________\n",
            "dense_2 (Dense)              (None, 512)               262656    \n",
            "_________________________________________________________________\n",
            "dropout_3 (Dropout)          (None, 512)               0         \n",
            "_________________________________________________________________\n",
            "dense_3 (Dense)              (None, 10)                5130      \n",
            "=================================================================\n",
            "Total params: 295,850\n",
            "Trainable params: 295,850\n",
            "Non-trainable params: 0\n",
            "_________________________________________________________________\n"
          ]
        }
      ],
      "source": [
        "model.summary()"
      ]
    },
    {
      "cell_type": "markdown",
      "id": "amozYhfevBzX",
      "metadata": {
        "id": "amozYhfevBzX"
      },
      "source": [
        "### 9. Compile and fit and validate your model with the following parameters"
      ]
    },
    {
      "cell_type": "code",
      "execution_count": null,
      "id": "99444a74-3dc1-4cab-b235-a2c3e9c2b8b7",
      "metadata": {
        "id": "99444a74-3dc1-4cab-b235-a2c3e9c2b8b7"
      },
      "outputs": [],
      "source": [
        "model.compile(optimizer=RMSprop(0.00005,1e-6),loss='categorical_crossentropy',metrics=['accuracy'])"
      ]
    },
    {
      "cell_type": "code",
      "execution_count": null,
      "id": "KsZ9hBrCcEXE",
      "metadata": {
        "colab": {
          "base_uri": "https://localhost:8080/"
        },
        "id": "KsZ9hBrCcEXE",
        "outputId": "106b2435-9c83-4733-dd9c-a0b40aa62c88"
      },
      "outputs": [
        {
          "name": "stdout",
          "output_type": "stream",
          "text": [
            "Epoch 1/15\n",
            "1250/1250 - 12s - loss: 2.1423 - accuracy: 0.2083 - val_loss: 1.9224 - val_accuracy: 0.3265\n",
            "Epoch 2/15\n",
            "1250/1250 - 11s - loss: 1.8894 - accuracy: 0.3147 - val_loss: 1.7713 - val_accuracy: 0.3727\n",
            "Epoch 3/15\n",
            "1250/1250 - 11s - loss: 1.7858 - accuracy: 0.3535 - val_loss: 1.6951 - val_accuracy: 0.3996\n",
            "Epoch 4/15\n",
            "1250/1250 - 11s - loss: 1.7226 - accuracy: 0.3766 - val_loss: 1.6587 - val_accuracy: 0.4119\n",
            "Epoch 5/15\n",
            "1250/1250 - 11s - loss: 1.6736 - accuracy: 0.3948 - val_loss: 1.6026 - val_accuracy: 0.4269\n",
            "Epoch 6/15\n",
            "1250/1250 - 11s - loss: 1.6323 - accuracy: 0.4091 - val_loss: 1.5602 - val_accuracy: 0.4420\n",
            "Epoch 7/15\n",
            "1250/1250 - 11s - loss: 1.6064 - accuracy: 0.4190 - val_loss: 1.5292 - val_accuracy: 0.4560\n",
            "Epoch 8/15\n",
            "1250/1250 - 11s - loss: 1.5787 - accuracy: 0.4310 - val_loss: 1.5022 - val_accuracy: 0.4666\n",
            "Epoch 9/15\n",
            "1250/1250 - 11s - loss: 1.5525 - accuracy: 0.4381 - val_loss: 1.4955 - val_accuracy: 0.4727\n",
            "Epoch 10/15\n",
            "1250/1250 - 13s - loss: 1.5345 - accuracy: 0.4462 - val_loss: 1.4715 - val_accuracy: 0.4764\n",
            "Epoch 11/15\n",
            "1250/1250 - 13s - loss: 1.5193 - accuracy: 0.4543 - val_loss: 1.4568 - val_accuracy: 0.4836\n",
            "Epoch 12/15\n",
            "1250/1250 - 13s - loss: 1.5011 - accuracy: 0.4617 - val_loss: 1.4381 - val_accuracy: 0.4897\n",
            "Epoch 13/15\n",
            "1250/1250 - 13s - loss: 1.4861 - accuracy: 0.4661 - val_loss: 1.4217 - val_accuracy: 0.5008\n",
            "Epoch 14/15\n",
            "1250/1250 - 13s - loss: 1.4749 - accuracy: 0.4717 - val_loss: 1.4263 - val_accuracy: 0.5000\n",
            "Epoch 15/15\n",
            "1250/1250 - 14s - loss: 1.4671 - accuracy: 0.4753 - val_loss: 1.4000 - val_accuracy: 0.5102\n"
          ]
        }
      ],
      "source": [
        "history=model.fit(x_train,y_train,batch_size=32,epochs=15,verbose=2,validation_split=0.2,shuffle=True)"
      ]
    },
    {
      "cell_type": "code",
      "execution_count": null,
      "id": "gxDL1zlXkeAq",
      "metadata": {
        "colab": {
          "base_uri": "https://localhost:8080/"
        },
        "id": "gxDL1zlXkeAq",
        "outputId": "f10bc3b0-5254-41db-e1c0-5eca1868f7b5"
      },
      "outputs": [
        {
          "name": "stdout",
          "output_type": "stream",
          "text": [
            "Test loss: 1.3927862644195557\n",
            "Test accuracy: 0.51419997215271\n"
          ]
        }
      ],
      "source": [
        "score = model.evaluate(x_test, y_test, verbose=0)\n",
        "print('Test loss:', score[0])\n",
        "print('Test accuracy:', score[1])"
      ]
    },
    {
      "cell_type": "markdown",
      "id": "ibl2e6SbvJTG",
      "metadata": {
        "id": "ibl2e6SbvJTG",
        "tags": []
      },
      "source": [
        "### 10. Exercise"
      ]
    },
    {
      "cell_type": "markdown",
      "id": "r9cO54W4Z9Ph",
      "metadata": {
        "id": "r9cO54W4Z9Ph"
      },
      "source": [
        "#### 1. Build a more complicated model with the following pattern: Conv -> Conv-> MaxPool -> Conv-> Conv -> MaxPool -> (Flatten) -> Dense -> Final Classification\n",
        "\n",
        "#### 2. Use strides of 1 for all convolutional layers.\n",
        "\n",
        "#### 3. How many parameters does your model have? How does that compare to the previous model?\n",
        "\n",
        "#### 4. Train it for 5 epochs. What do you notice about the training time, loss and accuracy numbers (on both the training and validation sets)?\n",
        "\n",
        "#### 5. Try different structures and run times, and see how accurate your model can be.\n"
      ]
    },
    {
      "cell_type": "markdown",
      "id": "ca2fab53-5f65-4215-b86a-425c2fca0709",
      "metadata": {
        "id": "ca2fab53-5f65-4215-b86a-425c2fca0709"
      },
      "source": [
        "# Model1"
      ]
    },
    {
      "cell_type": "code",
      "execution_count": null,
      "id": "pRnmg84FvKDF",
      "metadata": {
        "id": "pRnmg84FvKDF"
      },
      "outputs": [],
      "source": [
        "INPUT_SHAPE = (32,32,3)\n",
        "\n",
        "model1 = Sequential()\n",
        "\n",
        "model1.add(Conv2D(filters=64, kernel_size=(5,5), strides=(1,1),activation='relu', padding='same', input_shape=INPUT_SHAPE))\n",
        "\n",
        "model1.add(Conv2D(filters=32, kernel_size=(4,4),strides=(1,1), activation='relu', padding='same', input_shape=INPUT_SHAPE))\n",
        "\n",
        "model1.add(MaxPooling2D(pool_size=(2,2)))\n",
        "\n",
        "model1.add(Flatten())\n",
        "\n",
        "model1.add(Dense(512, activation='relu'))\n",
        "model1.add(Dense(256, activation='relu'))\n",
        "\n",
        "model1.add(Dense(10, activation='softmax'))"
      ]
    },
    {
      "cell_type": "code",
      "execution_count": null,
      "id": "cpa2ZqwmcX65",
      "metadata": {
        "colab": {
          "base_uri": "https://localhost:8080/"
        },
        "id": "cpa2ZqwmcX65",
        "outputId": "486a4fc2-286e-4cd7-a90e-45d3a88614c3"
      },
      "outputs": [
        {
          "name": "stdout",
          "output_type": "stream",
          "text": [
            "Model: \"sequential_2\"\n",
            "_________________________________________________________________\n",
            "Layer (type)                 Output Shape              Param #   \n",
            "=================================================================\n",
            "conv2d_4 (Conv2D)            (None, 32, 32, 64)        4864      \n",
            "_________________________________________________________________\n",
            "conv2d_5 (Conv2D)            (None, 32, 32, 32)        32800     \n",
            "_________________________________________________________________\n",
            "max_pooling2d_2 (MaxPooling2 (None, 16, 16, 32)        0         \n",
            "_________________________________________________________________\n",
            "flatten_2 (Flatten)          (None, 8192)              0         \n",
            "_________________________________________________________________\n",
            "dense_4 (Dense)              (None, 512)               4194816   \n",
            "_________________________________________________________________\n",
            "dense_5 (Dense)              (None, 256)               131328    \n",
            "_________________________________________________________________\n",
            "dense_6 (Dense)              (None, 10)                2570      \n",
            "=================================================================\n",
            "Total params: 4,366,378\n",
            "Trainable params: 4,366,378\n",
            "Non-trainable params: 0\n",
            "_________________________________________________________________\n"
          ]
        }
      ],
      "source": [
        "model1.summary()"
      ]
    },
    {
      "cell_type": "code",
      "execution_count": null,
      "id": "BBahVskValC0",
      "metadata": {
        "id": "BBahVskValC0"
      },
      "outputs": [],
      "source": [
        "model1.compile(optimizer='adam',loss='categorical_crossentropy',metrics=['accuracy'])"
      ]
    },
    {
      "cell_type": "code",
      "execution_count": null,
      "id": "4ADaHifyakyU",
      "metadata": {
        "colab": {
          "base_uri": "https://localhost:8080/"
        },
        "id": "4ADaHifyakyU",
        "outputId": "27d2752a-6f17-4789-f495-a074d4fc27d1"
      },
      "outputs": [
        {
          "name": "stdout",
          "output_type": "stream",
          "text": [
            "Epoch 1/15\n",
            "2500/2500 - 175s - loss: 1.5021 - accuracy: 0.4564 - val_loss: 1.2974 - val_accuracy: 0.5408\n",
            "Epoch 2/15\n",
            "2500/2500 - 193s - loss: 1.1132 - accuracy: 0.6039 - val_loss: 1.0787 - val_accuracy: 0.6254\n",
            "Epoch 3/15\n",
            "2500/2500 - 183s - loss: 0.8665 - accuracy: 0.6933 - val_loss: 1.0872 - val_accuracy: 0.6393\n",
            "Epoch 4/15\n",
            "2500/2500 - 182s - loss: 0.6368 - accuracy: 0.7746 - val_loss: 1.1180 - val_accuracy: 0.6443\n",
            "Epoch 5/15\n",
            "2500/2500 - 183s - loss: 0.4450 - accuracy: 0.8438 - val_loss: 1.3444 - val_accuracy: 0.6261\n",
            "Epoch 6/15\n",
            "2500/2500 - 191s - loss: 0.3006 - accuracy: 0.8943 - val_loss: 1.5416 - val_accuracy: 0.6353\n",
            "Epoch 7/15\n",
            "2500/2500 - 188s - loss: 0.2152 - accuracy: 0.9266 - val_loss: 1.8568 - val_accuracy: 0.6146\n",
            "Epoch 8/15\n",
            "2500/2500 - 182s - loss: 0.1725 - accuracy: 0.9420 - val_loss: 2.1555 - val_accuracy: 0.6189\n",
            "Epoch 9/15\n",
            "2500/2500 - 186s - loss: 0.1452 - accuracy: 0.9526 - val_loss: 2.0869 - val_accuracy: 0.6272\n",
            "Epoch 10/15\n",
            "2500/2500 - 186s - loss: 0.1363 - accuracy: 0.9563 - val_loss: 2.3875 - val_accuracy: 0.6162\n",
            "Epoch 11/15\n",
            "2500/2500 - 183s - loss: 0.1206 - accuracy: 0.9611 - val_loss: 2.6024 - val_accuracy: 0.6150\n",
            "Epoch 12/15\n",
            "2500/2500 - 183s - loss: 0.1149 - accuracy: 0.9647 - val_loss: 2.6983 - val_accuracy: 0.6218\n",
            "Epoch 13/15\n",
            "2500/2500 - 187s - loss: 0.1069 - accuracy: 0.9678 - val_loss: 2.6930 - val_accuracy: 0.6179\n",
            "Epoch 14/15\n",
            "2500/2500 - 188s - loss: 0.1002 - accuracy: 0.9683 - val_loss: 2.8497 - val_accuracy: 0.6269\n",
            "Epoch 15/15\n",
            "2500/2500 - 188s - loss: 0.0978 - accuracy: 0.9701 - val_loss: 3.1164 - val_accuracy: 0.6079\n"
          ]
        }
      ],
      "source": [
        "history1=model1.fit(x_train,y_train,batch_size=16,epochs=15,verbose=2,validation_split=0.2,shuffle=True)"
      ]
    },
    {
      "cell_type": "code",
      "execution_count": null,
      "id": "eRsPyEyWk4NM",
      "metadata": {
        "colab": {
          "base_uri": "https://localhost:8080/"
        },
        "id": "eRsPyEyWk4NM",
        "outputId": "06d586c8-0f98-4a7c-cade-6e4b204daed3"
      },
      "outputs": [
        {
          "name": "stdout",
          "output_type": "stream",
          "text": [
            "Test loss: 3.1400527954101562\n",
            "Test accuracy: 0.6053000092506409\n"
          ]
        }
      ],
      "source": [
        "score = model1.evaluate(x_test, y_test, verbose=0)\n",
        "print('Test loss:', score[0])\n",
        "print('Test accuracy:', score[1])"
      ]
    },
    {
      "cell_type": "markdown",
      "id": "4377345d-4ab9-41ca-b09a-cbfce5e4b9fc",
      "metadata": {
        "id": "4377345d-4ab9-41ca-b09a-cbfce5e4b9fc"
      },
      "source": [
        " "
      ]
    },
    {
      "cell_type": "markdown",
      "id": "529fe12b-4b6d-4fe1-8c15-7453f7927446",
      "metadata": {
        "id": "529fe12b-4b6d-4fe1-8c15-7453f7927446"
      },
      "source": [
        " # Model2"
      ]
    },
    {
      "cell_type": "code",
      "execution_count": null,
      "id": "zbN0hxG_jz94",
      "metadata": {
        "id": "zbN0hxG_jz94",
        "outputId": "f51b1fbf-fdcc-4558-a00f-26a959f22b13"
      },
      "outputs": [
        {
          "name": "stdout",
          "output_type": "stream",
          "text": [
            "Model: \"sequential_13\"\n",
            "_________________________________________________________________\n",
            "Layer (type)                 Output Shape              Param #   \n",
            "=================================================================\n",
            "conv2d_30 (Conv2D)           (None, 32, 32, 32)        896       \n",
            "_________________________________________________________________\n",
            "conv2d_31 (Conv2D)           (None, 32, 32, 32)        9248      \n",
            "_________________________________________________________________\n",
            "max_pooling2d_15 (MaxPooling (None, 16, 16, 32)        0         \n",
            "_________________________________________________________________\n",
            "dropout_26 (Dropout)         (None, 16, 16, 32)        0         \n",
            "_________________________________________________________________\n",
            "conv2d_32 (Conv2D)           (None, 16, 16, 64)        18496     \n",
            "_________________________________________________________________\n",
            "conv2d_33 (Conv2D)           (None, 16, 16, 64)        36928     \n",
            "_________________________________________________________________\n",
            "max_pooling2d_16 (MaxPooling (None, 8, 8, 64)          0         \n",
            "_________________________________________________________________\n",
            "dropout_27 (Dropout)         (None, 8, 8, 64)          0         \n",
            "_________________________________________________________________\n",
            "flatten_7 (Flatten)          (None, 4096)              0         \n",
            "_________________________________________________________________\n",
            "dense_27 (Dense)             (None, 128)               524416    \n",
            "_________________________________________________________________\n",
            "dropout_28 (Dropout)         (None, 128)               0         \n",
            "_________________________________________________________________\n",
            "dense_28 (Dense)             (None, 10)                1290      \n",
            "=================================================================\n",
            "Total params: 591,274\n",
            "Trainable params: 591,274\n",
            "Non-trainable params: 0\n",
            "_________________________________________________________________\n"
          ]
        }
      ],
      "source": [
        "model2 = Sequential()\n",
        "model2.add(Conv2D(32, kernel_size=3, activation='relu', padding='same', input_shape=(32,32,3)))\n",
        "model2.add(Conv2D(32, kernel_size=3, activation='relu', padding='same'))\n",
        "model2.add(MaxPooling2D())\n",
        "model2.add(Dropout(0.2))\n",
        "\n",
        "model2.add(Conv2D(64, kernel_size=3, activation='relu', padding='same'))\n",
        "model2.add(Conv2D(64, kernel_size=3, activation='relu', padding='same'))\n",
        "model2.add(MaxPooling2D())\n",
        "model2.add(Dropout(0.3))\n",
        "\n",
        "model2.add(Flatten())\n",
        "model2.add(Dense(128, activation='relu'))\n",
        "model2.add(Dropout(0.4))\n",
        "model2.add(Dense(10, activation='softmax'))\n",
        "\n",
        "model2.compile(loss='categorical_crossentropy', optimizer=tf.keras.optimizers.Adam(0.001), metrics=['accuracy'])\n",
        "model2.summary()"
      ]
    },
    {
      "cell_type": "code",
      "execution_count": null,
      "id": "FCiN9A-udcW5",
      "metadata": {
        "id": "FCiN9A-udcW5"
      },
      "outputs": [],
      "source": [
        "model2.compile(optimizer='adam',loss='categorical_crossentropy',metrics=['accuracy'])"
      ]
    },
    {
      "cell_type": "code",
      "execution_count": null,
      "id": "PPNf7LwMdhsh",
      "metadata": {
        "colab": {
          "base_uri": "https://localhost:8080/"
        },
        "id": "PPNf7LwMdhsh",
        "outputId": "fe1bdf85-da17-4d18-a5d9-a090ed4e22e6"
      },
      "outputs": [
        {
          "name": "stdout",
          "output_type": "stream",
          "text": [
            "Epoch 1/10\n",
            "1563/1563 [==============================] - 76s 48ms/step - loss: 1.5912 - accuracy: 0.4190\n",
            "Epoch 2/10\n",
            "1563/1563 [==============================] - 74s 47ms/step - loss: 1.2124 - accuracy: 0.5685\n",
            "Epoch 3/10\n",
            "1563/1563 [==============================] - 74s 48ms/step - loss: 1.0567 - accuracy: 0.6283\n",
            "Epoch 4/10\n",
            "1563/1563 [==============================] - 74s 47ms/step - loss: 0.9621 - accuracy: 0.6638\n",
            "Epoch 5/10\n",
            "1563/1563 [==============================] - 73s 47ms/step - loss: 0.8898 - accuracy: 0.6886\n",
            "Epoch 6/10\n",
            "1563/1563 [==============================] - 73s 47ms/step - loss: 0.8257 - accuracy: 0.7114\n",
            "Epoch 7/10\n",
            "1563/1563 [==============================] - 73s 47ms/step - loss: 0.7869 - accuracy: 0.7238\n",
            "Epoch 8/10\n",
            "1563/1563 [==============================] - 74s 47ms/step - loss: 0.7532 - accuracy: 0.7387\n",
            "Epoch 9/10\n",
            "1563/1563 [==============================] - 74s 48ms/step - loss: 0.7276 - accuracy: 0.7451\n",
            "Epoch 10/10\n",
            "1563/1563 [==============================] - 75s 48ms/step - loss: 0.6996 - accuracy: 0.7540\n"
          ]
        }
      ],
      "source": [
        "history2 = model2.fit(x_train,y_train,epochs=10,verbose=1)"
      ]
    },
    {
      "cell_type": "code",
      "execution_count": null,
      "id": "bYjzjbXFdpbK",
      "metadata": {
        "colab": {
          "base_uri": "https://localhost:8080/"
        },
        "id": "bYjzjbXFdpbK",
        "outputId": "b625c868-a837-4547-fa3f-cd1dbb83f655"
      },
      "outputs": [
        {
          "name": "stdout",
          "output_type": "stream",
          "text": [
            "Test loss: 0.6964384913444519\n",
            "Test accuracy: 0.7613999843597412\n"
          ]
        }
      ],
      "source": [
        "score = model2.evaluate(x_test, y_test, verbose=0)\n",
        "print('Test loss:', score[0])\n",
        "print('Test accuracy:', score[1])"
      ]
    },
    {
      "cell_type": "markdown",
      "id": "5b368cbb-a7f2-46a1-ac70-f1bb61cff6ae",
      "metadata": {
        "id": "5b368cbb-a7f2-46a1-ac70-f1bb61cff6ae"
      },
      "source": [
        " "
      ]
    },
    {
      "cell_type": "markdown",
      "id": "75243fe5-9b2b-4cac-bdc7-ae46a393fbc6",
      "metadata": {
        "id": "75243fe5-9b2b-4cac-bdc7-ae46a393fbc6"
      },
      "source": [
        " # Model3"
      ]
    },
    {
      "cell_type": "code",
      "execution_count": null,
      "id": "33522cb5-e897-428f-8cdf-bee9e5ec1b3c",
      "metadata": {
        "id": "33522cb5-e897-428f-8cdf-bee9e5ec1b3c"
      },
      "outputs": [],
      "source": [
        "import tensorflow as tf"
      ]
    },
    {
      "cell_type": "code",
      "execution_count": null,
      "id": "86plOBOCip0e",
      "metadata": {
        "id": "86plOBOCip0e",
        "outputId": "a92e44a7-1fb9-4f9a-8031-2bc6e7ae0854"
      },
      "outputs": [
        {
          "name": "stdout",
          "output_type": "stream",
          "text": [
            "Model: \"sequential_9\"\n",
            "_________________________________________________________________\n",
            "Layer (type)                 Output Shape              Param #   \n",
            "=================================================================\n",
            "conv2d_18 (Conv2D)           (None, 32, 32, 32)        896       \n",
            "_________________________________________________________________\n",
            "conv2d_19 (Conv2D)           (None, 32, 32, 32)        9248      \n",
            "_________________________________________________________________\n",
            "max_pooling2d_9 (MaxPooling2 (None, 16, 16, 32)        0         \n",
            "_________________________________________________________________\n",
            "dropout_16 (Dropout)         (None, 16, 16, 32)        0         \n",
            "_________________________________________________________________\n",
            "conv2d_20 (Conv2D)           (None, 16, 16, 64)        18496     \n",
            "_________________________________________________________________\n",
            "conv2d_21 (Conv2D)           (None, 16, 16, 64)        36928     \n",
            "_________________________________________________________________\n",
            "max_pooling2d_10 (MaxPooling (None, 8, 8, 64)          0         \n",
            "_________________________________________________________________\n",
            "dropout_17 (Dropout)         (None, 8, 8, 64)          0         \n",
            "_________________________________________________________________\n",
            "conv2d_22 (Conv2D)           (None, 8, 8, 128)         73856     \n",
            "_________________________________________________________________\n",
            "conv2d_23 (Conv2D)           (None, 8, 8, 128)         147584    \n",
            "_________________________________________________________________\n",
            "max_pooling2d_11 (MaxPooling (None, 4, 4, 128)         0         \n",
            "_________________________________________________________________\n",
            "dropout_18 (Dropout)         (None, 4, 4, 128)         0         \n",
            "_________________________________________________________________\n",
            "flatten_3 (Flatten)          (None, 2048)              0         \n",
            "_________________________________________________________________\n",
            "dense_19 (Dense)             (None, 128)               262272    \n",
            "_________________________________________________________________\n",
            "dropout_19 (Dropout)         (None, 128)               0         \n",
            "_________________________________________________________________\n",
            "dense_20 (Dense)             (None, 10)                1290      \n",
            "=================================================================\n",
            "Total params: 550,570\n",
            "Trainable params: 550,570\n",
            "Non-trainable params: 0\n",
            "_________________________________________________________________\n"
          ]
        }
      ],
      "source": [
        "model3 = Sequential()\n",
        "model3.add(Conv2D(32, kernel_size=3, activation='relu', padding='same', input_shape=(32,32,3)))\n",
        "model3.add(Conv2D(32, kernel_size=3, activation='relu', padding='same'))\n",
        "model3.add(MaxPooling2D())\n",
        "model3.add(Dropout(0.2))\n",
        "\n",
        "model3.add(Conv2D(64, kernel_size=3, activation='relu', padding='same'))\n",
        "model3.add(Conv2D(64, kernel_size=3, activation='relu', padding='same'))\n",
        "model3.add(MaxPooling2D())\n",
        "model3.add(Dropout(0.3))\n",
        "\n",
        "model3.add(Conv2D(128, kernel_size=3, activation='relu', padding='same'))\n",
        "model3.add(Conv2D(128, kernel_size=3, activation='relu', padding='same'))\n",
        "model3.add(MaxPooling2D())\n",
        "model3.add(Dropout(0.4))\n",
        "\n",
        "model3.add(Flatten())\n",
        "model3.add(Dense(128, activation='relu'))\n",
        "model3.add(Dropout(0.4))\n",
        "model3.add(Dense(10, activation='softmax'))\n",
        "\n",
        "model3.compile(loss='categorical_crossentropy', optimizer=tf.keras.optimizers.Adam(0.001), metrics=['accuracy'])\n",
        "model3.summary()"
      ]
    },
    {
      "cell_type": "code",
      "execution_count": null,
      "id": "9faa5375-3977-4e8a-9986-f9170474c20e",
      "metadata": {
        "id": "9faa5375-3977-4e8a-9986-f9170474c20e"
      },
      "outputs": [],
      "source": [
        "model3.compile(optimizer='adam',loss='categorical_crossentropy',metrics=['accuracy'])"
      ]
    },
    {
      "cell_type": "code",
      "execution_count": null,
      "id": "8ef099a6-7902-48e6-bc1d-2dc7a5031dda",
      "metadata": {
        "id": "8ef099a6-7902-48e6-bc1d-2dc7a5031dda",
        "outputId": "a6629471-8a98-47f0-f80b-7e46c4f527c6"
      },
      "outputs": [
        {
          "name": "stdout",
          "output_type": "stream",
          "text": [
            "Epoch 1/10\n",
            "1563/1563 [==============================] - 98s 62ms/step - loss: 1.7149 - accuracy: 0.3627\n",
            "Epoch 2/10\n",
            "1563/1563 [==============================] - 97s 62ms/step - loss: 1.3060 - accuracy: 0.5319\n",
            "Epoch 3/10\n",
            "1563/1563 [==============================] - 97s 62ms/step - loss: 1.1653 - accuracy: 0.5870\n",
            "Epoch 4/10\n",
            "1563/1563 [==============================] - 97s 62ms/step - loss: 1.0647 - accuracy: 0.6236\n",
            "Epoch 5/10\n",
            "1563/1563 [==============================] - 97s 62ms/step - loss: 0.9906 - accuracy: 0.6520\n",
            "Epoch 6/10\n",
            "1563/1563 [==============================] - 97s 62ms/step - loss: 0.9458 - accuracy: 0.6709\n",
            "Epoch 7/10\n",
            "1563/1563 [==============================] - 98s 62ms/step - loss: 0.9033 - accuracy: 0.6853\n",
            "Epoch 8/10\n",
            "1563/1563 [==============================] - 97s 62ms/step - loss: 0.8687 - accuracy: 0.6963\n",
            "Epoch 9/10\n",
            "1563/1563 [==============================] - 100s 64ms/step - loss: 0.8376 - accuracy: 0.7093\n",
            "Epoch 10/10\n",
            "1563/1563 [==============================] - 98s 63ms/step - loss: 0.8235 - accuracy: 0.7130\n"
          ]
        }
      ],
      "source": [
        "history3 = model3.fit(x_train,y_train,epochs=10,verbose=1)"
      ]
    },
    {
      "cell_type": "code",
      "execution_count": null,
      "id": "2f7c6496-21b0-4a08-8b47-74f70b07347e",
      "metadata": {
        "id": "2f7c6496-21b0-4a08-8b47-74f70b07347e",
        "outputId": "81238562-056f-4f82-c533-9ed7dd3d44f1"
      },
      "outputs": [
        {
          "name": "stdout",
          "output_type": "stream",
          "text": [
            "Test loss: 0.7111510634422302\n",
            "Test accuracy: 0.7573999762535095\n"
          ]
        }
      ],
      "source": [
        "score = model3.evaluate(x_test, y_test, verbose=0)\n",
        "print('Test loss:', score[0])\n",
        "print('Test accuracy:', score[1])"
      ]
    },
    {
      "cell_type": "markdown",
      "id": "ce378276-4ca2-4c2d-8a9f-cb2db1b5c0ff",
      "metadata": {
        "id": "ce378276-4ca2-4c2d-8a9f-cb2db1b5c0ff"
      },
      "source": [
        " "
      ]
    },
    {
      "cell_type": "markdown",
      "id": "34645450-4a02-4bcb-a024-3c68b8d9cf3a",
      "metadata": {
        "id": "34645450-4a02-4bcb-a024-3c68b8d9cf3a"
      },
      "source": [
        " # Model4"
      ]
    },
    {
      "cell_type": "code",
      "execution_count": null,
      "id": "70f4f4c8-b49b-494f-8655-95ff75347dae",
      "metadata": {
        "id": "70f4f4c8-b49b-494f-8655-95ff75347dae",
        "outputId": "6e30b9a4-06a5-4543-ac8a-ff2a07ce623c"
      },
      "outputs": [
        {
          "name": "stdout",
          "output_type": "stream",
          "text": [
            "Model: \"sequential_14\"\n",
            "_________________________________________________________________\n",
            "Layer (type)                 Output Shape              Param #   \n",
            "=================================================================\n",
            "conv2d_34 (Conv2D)           (None, 32, 32, 32)        896       \n",
            "_________________________________________________________________\n",
            "conv2d_35 (Conv2D)           (None, 32, 32, 32)        9248      \n",
            "_________________________________________________________________\n",
            "max_pooling2d_17 (MaxPooling (None, 16, 16, 32)        0         \n",
            "_________________________________________________________________\n",
            "dropout_29 (Dropout)         (None, 16, 16, 32)        0         \n",
            "_________________________________________________________________\n",
            "conv2d_36 (Conv2D)           (None, 16, 16, 64)        18496     \n",
            "_________________________________________________________________\n",
            "conv2d_37 (Conv2D)           (None, 16, 16, 64)        36928     \n",
            "_________________________________________________________________\n",
            "max_pooling2d_18 (MaxPooling (None, 8, 8, 64)          0         \n",
            "_________________________________________________________________\n",
            "dropout_30 (Dropout)         (None, 8, 8, 64)          0         \n",
            "_________________________________________________________________\n",
            "conv2d_38 (Conv2D)           (None, 8, 8, 128)         73856     \n",
            "_________________________________________________________________\n",
            "conv2d_39 (Conv2D)           (None, 8, 8, 128)         147584    \n",
            "_________________________________________________________________\n",
            "max_pooling2d_19 (MaxPooling (None, 4, 4, 128)         0         \n",
            "_________________________________________________________________\n",
            "dropout_31 (Dropout)         (None, 4, 4, 128)         0         \n",
            "_________________________________________________________________\n",
            "flatten_8 (Flatten)          (None, 2048)              0         \n",
            "_________________________________________________________________\n",
            "dense_29 (Dense)             (None, 128)               262272    \n",
            "_________________________________________________________________\n",
            "dropout_32 (Dropout)         (None, 128)               0         \n",
            "_________________________________________________________________\n",
            "dense_30 (Dense)             (None, 10)                1290      \n",
            "=================================================================\n",
            "Total params: 550,570\n",
            "Trainable params: 550,570\n",
            "Non-trainable params: 0\n",
            "_________________________________________________________________\n"
          ]
        }
      ],
      "source": [
        "model4 = Sequential()\n",
        "model4.add(Conv2D(32, kernel_size=3, activation='relu', padding='same', input_shape=(32,32,3)))\n",
        "model4.add(Conv2D(32, kernel_size=3, activation='relu', padding='same'))\n",
        "model4.add(MaxPooling2D())\n",
        "model4.add(Dropout(0.2))\n",
        "\n",
        "model4.add(Conv2D(64, kernel_size=3, activation='relu', padding='same'))\n",
        "model4.add(Conv2D(64, kernel_size=3, activation='relu', padding='same'))\n",
        "model4.add(MaxPooling2D())\n",
        "model4.add(Dropout(0.3))\n",
        "\n",
        "model4.add(Conv2D(128, kernel_size=3, activation='relu', padding='same'))\n",
        "model4.add(Conv2D(128, kernel_size=3, activation='relu', padding='same'))\n",
        "model4.add(MaxPooling2D())\n",
        "model4.add(Dropout(0.4))\n",
        "\n",
        "model4.add(Flatten())\n",
        "model4.add(Dense(128, activation='relu'))\n",
        "model4.add(Dropout(0.4))\n",
        "model4.add(Dense(10, activation='softmax'))\n",
        "\n",
        "model4.compile(loss='categorical_crossentropy', optimizer=tf.keras.optimizers.Adam(0.001), metrics=['accuracy'])\n",
        "model4.summary()"
      ]
    },
    {
      "cell_type": "code",
      "execution_count": null,
      "id": "f811cc2f-fb19-4f0a-8f2b-fca58fe8a4bc",
      "metadata": {
        "id": "f811cc2f-fb19-4f0a-8f2b-fca58fe8a4bc"
      },
      "outputs": [],
      "source": [
        "model4.compile(optimizer='adam',loss='categorical_crossentropy',metrics=['accuracy'])"
      ]
    },
    {
      "cell_type": "code",
      "execution_count": null,
      "id": "284be031-9f9c-481e-b8ad-0d9a44a54a6a",
      "metadata": {
        "id": "284be031-9f9c-481e-b8ad-0d9a44a54a6a",
        "outputId": "4f699275-592f-4885-c343-c8882b2f8d57"
      },
      "outputs": [
        {
          "name": "stdout",
          "output_type": "stream",
          "text": [
            "Epoch 1/30\n",
            "1563/1563 [==============================] - 98s 62ms/step - loss: 1.6767 - accuracy: 0.3736\n",
            "Epoch 2/30\n",
            "1563/1563 [==============================] - 97s 62ms/step - loss: 1.2842 - accuracy: 0.5396\n",
            "Epoch 3/30\n",
            "1563/1563 [==============================] - 98s 62ms/step - loss: 1.1160 - accuracy: 0.6048\n",
            "Epoch 4/30\n",
            "1563/1563 [==============================] - 102s 65ms/step - loss: 1.0198 - accuracy: 0.6412\n",
            "Epoch 5/30\n",
            "1563/1563 [==============================] - 99s 63ms/step - loss: 0.9509 - accuracy: 0.6660\n",
            "Epoch 6/30\n",
            "1563/1563 [==============================] - 99s 64ms/step - loss: 0.8953 - accuracy: 0.6868\n",
            "Epoch 7/30\n",
            "1563/1563 [==============================] - 99s 63ms/step - loss: 0.8570 - accuracy: 0.7038\n",
            "Epoch 8/30\n",
            "1563/1563 [==============================] - 99s 63ms/step - loss: 0.8297 - accuracy: 0.7090\n",
            "Epoch 9/30\n",
            "1563/1563 [==============================] - 99s 63ms/step - loss: 0.7995 - accuracy: 0.7191\n",
            "Epoch 10/30\n",
            "1563/1563 [==============================] - 102s 65ms/step - loss: 0.7822 - accuracy: 0.7315\n",
            "Epoch 11/30\n",
            "1563/1563 [==============================] - 102s 65ms/step - loss: 0.7591 - accuracy: 0.7378\n",
            "Epoch 12/30\n",
            "1563/1563 [==============================] - 99s 63ms/step - loss: 0.7474 - accuracy: 0.7404\n",
            "Epoch 13/30\n",
            "1563/1563 [==============================] - 101s 65ms/step - loss: 0.7274 - accuracy: 0.7479\n",
            "Epoch 14/30\n",
            "1563/1563 [==============================] - 103s 66ms/step - loss: 0.7167 - accuracy: 0.7511\n",
            "Epoch 15/30\n",
            "1563/1563 [==============================] - 102s 65ms/step - loss: 0.7007 - accuracy: 0.7567\n",
            "Epoch 16/30\n",
            "1563/1563 [==============================] - 100s 64ms/step - loss: 0.6922 - accuracy: 0.7609\n",
            "Epoch 17/30\n",
            "1563/1563 [==============================] - 103s 66ms/step - loss: 0.6943 - accuracy: 0.7610\n",
            "Epoch 18/30\n",
            "1563/1563 [==============================] - 103s 66ms/step - loss: 0.6795 - accuracy: 0.7654\n",
            "Epoch 19/30\n",
            "1563/1563 [==============================] - 104s 66ms/step - loss: 0.6700 - accuracy: 0.7688\n",
            "Epoch 20/30\n",
            "1563/1563 [==============================] - 102s 65ms/step - loss: 0.6654 - accuracy: 0.7709\n",
            "Epoch 21/30\n",
            "1563/1563 [==============================] - 98s 63ms/step - loss: 0.6609 - accuracy: 0.7738\n",
            "Epoch 22/30\n",
            "1563/1563 [==============================] - 102s 65ms/step - loss: 0.6484 - accuracy: 0.7744\n",
            "Epoch 23/30\n",
            "1563/1563 [==============================] - 102s 65ms/step - loss: 0.6510 - accuracy: 0.7749\n",
            "Epoch 24/30\n",
            "1563/1563 [==============================] - 98s 63ms/step - loss: 0.6449 - accuracy: 0.7774\n",
            "Epoch 25/30\n",
            "1563/1563 [==============================] - 101s 64ms/step - loss: 0.6328 - accuracy: 0.7817\n",
            "Epoch 26/30\n",
            "1563/1563 [==============================] - 98s 63ms/step - loss: 0.6355 - accuracy: 0.7814\n",
            "Epoch 27/30\n",
            "1563/1563 [==============================] - 101s 65ms/step - loss: 0.6313 - accuracy: 0.7827\n",
            "Epoch 28/30\n",
            "1563/1563 [==============================] - 103s 66ms/step - loss: 0.6261 - accuracy: 0.7836\n",
            "Epoch 29/30\n",
            "1563/1563 [==============================] - 99s 64ms/step - loss: 0.6319 - accuracy: 0.7862\n",
            "Epoch 30/30\n",
            "1563/1563 [==============================] - 99s 63ms/step - loss: 0.6182 - accuracy: 0.7872\n"
          ]
        }
      ],
      "source": [
        "history4 = model4.fit(x_train,y_train,epochs=30,verbose=1)"
      ]
    },
    {
      "cell_type": "code",
      "execution_count": null,
      "id": "1c19e37b-fd54-4d51-86f2-55c01b145e4a",
      "metadata": {
        "id": "1c19e37b-fd54-4d51-86f2-55c01b145e4a",
        "outputId": "27a6318f-94e8-47a7-cdc6-a6ddb1921aa8"
      },
      "outputs": [
        {
          "name": "stdout",
          "output_type": "stream",
          "text": [
            "Test loss: 0.6298004388809204\n",
            "Test accuracy: 0.7901999950408936\n"
          ]
        }
      ],
      "source": [
        "score = model4.evaluate(x_test, y_test, verbose=0)\n",
        "print('Test loss:', score[0])\n",
        "print('Test accuracy:', score[1])"
      ]
    },
    {
      "cell_type": "code",
      "execution_count": null,
      "id": "e8a3cc9d-54dc-4334-ac81-c8d01184f23e",
      "metadata": {
        "id": "e8a3cc9d-54dc-4334-ac81-c8d01184f23e"
      },
      "outputs": [],
      "source": []
    }
  ],
  "metadata": {
    "accelerator": "GPU",
    "colab": {
      "provenance": []
    },
    "kernelspec": {
      "display_name": "Python 3 (ipykernel)",
      "language": "python",
      "name": "python3"
    },
    "language_info": {
      "codemirror_mode": {
        "name": "ipython",
        "version": 3
      },
      "file_extension": ".py",
      "mimetype": "text/x-python",
      "name": "python",
      "nbconvert_exporter": "python",
      "pygments_lexer": "ipython3",
      "version": "3.8.8"
    }
  },
  "nbformat": 4,
  "nbformat_minor": 5
}