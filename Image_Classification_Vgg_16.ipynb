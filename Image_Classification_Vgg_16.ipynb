{
  "cells": [
    {
      "cell_type": "markdown",
      "source": [
        "#Image Classification using crawled data and VGG-16 \n"
      ],
      "metadata": {
        "id": "XCIMD4R9Jy0r"
      },
      "id": "XCIMD4R9Jy0r"
    },
    {
      "cell_type": "markdown",
      "metadata": {
        "id": "99c46cf5"
      },
      "source": [
        "### Steps 1- Dataset Creation:"
      ],
      "id": "99c46cf5"
    },
    {
      "cell_type": "code",
      "execution_count": null,
      "metadata": {
        "colab": {
          "base_uri": "https://localhost:8080/"
        },
        "id": "Wy9uKRoRdXMd",
        "outputId": "7398469a-f182-4a7d-8153-13b537ab83fa"
      },
      "outputs": [
        {
          "output_type": "stream",
          "name": "stdout",
          "text": [
            "Looking in indexes: https://pypi.org/simple, https://us-python.pkg.dev/colab-wheels/public/simple/\n",
            "Collecting bing-image-downloader\n",
            "  Downloading bing_image_downloader-1.1.2-py3-none-any.whl (5.9 kB)\n",
            "Installing collected packages: bing-image-downloader\n",
            "Successfully installed bing-image-downloader-1.1.2\n"
          ]
        }
      ],
      "source": [
        "!pip install bing-image-downloader"
      ],
      "id": "Wy9uKRoRdXMd"
    },
    {
      "cell_type": "code",
      "execution_count": null,
      "metadata": {
        "id": "_r5_wfY-dXPL"
      },
      "outputs": [],
      "source": [
        "!mkdir images"
      ],
      "id": "_r5_wfY-dXPL"
    },
    {
      "cell_type": "code",
      "execution_count": null,
      "metadata": {
        "colab": {
          "base_uri": "https://localhost:8080/"
        },
        "id": "kJbs8NLxdXSS",
        "outputId": "56208d9e-4fbd-4a58-c252-4ec2c7fb42b9"
      },
      "outputs": [
        {
          "output_type": "stream",
          "name": "stdout",
          "text": [
            "[%] Downloading Images to /content/images/DonaldTrump\n",
            "\n",
            "\n",
            "[!!]Indexing page: 1\n",
            "\n",
            "[%] Indexed 10 Images on Page 1.\n",
            "\n",
            "===============================================\n",
            "\n",
            "[%] Downloading Image #1 from https://i.ytimg.com/vi/Gew6l0Nwq8U/maxresdefault.jpg\n",
            "[%] File Downloaded !\n",
            "\n",
            "[%] Downloading Image #2 from https://images.mid-day.com/images/images/2017/jun/donaldtrump-dt-l.jpg\n",
            "[Error]Invalid image, not saving https://images.mid-day.com/images/images/2017/jun/donaldtrump-dt-l.jpg\n",
            "\n",
            "[!] Issue getting: https://images.mid-day.com/images/images/2017/jun/donaldtrump-dt-l.jpg\n",
            "[!] Error:: Invalid image, not saving https://images.mid-day.com/images/images/2017/jun/donaldtrump-dt-l.jpg\n",
            "\n",
            "[%] Downloading Image #2 from https://ichef.bbci.co.uk/news/624/cpsprodpb/111EE/production/_110462107_donaldtrump.jpg\n",
            "[%] File Downloaded !\n",
            "\n",
            "[%] Downloading Image #3 from http://somosemprendedores.com/wp-content/uploads/2012/11/frases-de-negocios-motivaciones-067.jpg\n",
            "[%] File Downloaded !\n",
            "\n",
            "[%] Downloading Image #4 from https://i.redd.it/0m9n7ewozf751.png\n",
            "[%] File Downloaded !\n",
            "\n",
            "[%] Downloading Image #5 from https://i.ytimg.com/vi/ZYG32ZThvJQ/maxresdefault.jpg\n",
            "[%] File Downloaded !\n",
            "\n",
            "[%] Downloading Image #6 from https://s24990.pcdn.co/wp-content/uploads/2019/04/melaniasexy_30-320x480.jpeg\n",
            "[%] File Downloaded !\n",
            "\n",
            "[%] Downloading Image #7 from http://www.middleeasteye.net/sites/default/files/images-story/mar-a-lago_afp.jpg\n",
            "[%] File Downloaded !\n",
            "\n",
            "[%] Downloading Image #8 from https://i.ytimg.com/vi/_VGPFKZLP20/maxresdefault.jpg\n",
            "[%] File Downloaded !\n",
            "\n",
            "[%] Downloading Image #9 from https://media.timesfreepress.com/img/photos/2020/08/12/1597269353_11xx18a00VeteranPickett0002_gs_t1070_h26df2157b3d6bb9cb7e26983e5aaeb53d83d8af2.jpg\n",
            "[%] File Downloaded !\n",
            "\n",
            "\n",
            "\n",
            "[!!]Indexing page: 2\n",
            "\n",
            "[%] Indexed 16 Images on Page 2.\n",
            "\n",
            "===============================================\n",
            "\n",
            "[%] Downloading Image #10 from https://preview.redd.it/7alztou86jx51.jpg?auto=webp&amp;s=26e4ae8e67a4e2492d083143430526d98051fa14\n",
            "[!] Issue getting: https://preview.redd.it/7alztou86jx51.jpg?auto=webp&amp;s=26e4ae8e67a4e2492d083143430526d98051fa14\n",
            "[!] Error:: HTTP Error 403: Forbidden\n",
            "[%] Downloading Image #10 from https://i.ytimg.com/vi/-R6J0YrGn0I/maxresdefault.jpg\n",
            "[%] File Downloaded !\n",
            "\n",
            "\n",
            "\n",
            "[%] Done. Downloaded 10 images.\n"
          ]
        }
      ],
      "source": [
        "from bing_image_downloader import downloader\n",
        "downloader.download(\"Kate Middleton\", limit=5,  output_dir='images', adult_filter_off=True, force_replace=False, timeout=60, verbose=True)"
      ],
      "id": "kJbs8NLxdXSS"
    },
    {
      "cell_type": "code",
      "execution_count": null,
      "metadata": {
        "colab": {
          "base_uri": "https://localhost:8080/"
        },
        "id": "ySvCuIUSdXVZ",
        "outputId": "ebc2e9fc-16c9-4981-c2c1-86867dc2681c"
      },
      "outputs": [
        {
          "output_type": "stream",
          "name": "stdout",
          "text": [
            "[%] Downloading Images to /content/images/chicken\n",
            "\n",
            "\n",
            "[!!]Indexing page: 1\n",
            "\n",
            "[%] Indexed 10 Images on Page 1.\n",
            "\n",
            "===============================================\n",
            "\n",
            "[%] Downloading Image #1 from http://www.healitall.com/wp-content/uploads/2018/06/chicken.jpg\n",
            "[%] File Downloaded !\n",
            "\n",
            "[%] Downloading Image #2 from http://4.bp.blogspot.com/-axqzmsLoeaQ/T9xWq0rq-PI/AAAAAAAACac/gvzI0AfHqaE/s1600/Chicken.jpg\n",
            "[%] File Downloaded !\n",
            "\n",
            "[%] Downloading Image #3 from https://www.wallpapersdsc.net/wp-content/uploads/2016/10/Chicken-Photos.jpg\n",
            "[%] File Downloaded !\n",
            "\n",
            "[%] Downloading Image #4 from http://4.bp.blogspot.com/-GAKG_FBKO3w/TV5p-40EZzI/AAAAAAAAAxc/T-5sy8fWuwE/s1600/chicken.jpg\n",
            "[%] File Downloaded !\n",
            "\n",
            "[%] Downloading Image #5 from http://images.freeimages.com/images/previews/7b0/chickens-1328963.jpg\n",
            "[%] File Downloaded !\n",
            "\n",
            "[%] Downloading Image #6 from http://2.bp.blogspot.com/-5z9R4wA36-c/T9hw1u5xnfI/AAAAAAAACM4/oRGlrkxdiYY/s1600/chicken.jpg\n",
            "[%] File Downloaded !\n",
            "\n",
            "[%] Downloading Image #7 from http://4.bp.blogspot.com/-bp8yDrPZ-iE/TV5qCkJxz4I/AAAAAAAAAxk/2zJqtlTbph8/s320/chickens.jpg\n",
            "[%] File Downloaded !\n",
            "\n",
            "[%] Downloading Image #8 from http://i246.photobucket.com/albums/gg109/wyndski/chickens.jpg\n",
            "[Error]Invalid image, not saving http://i246.photobucket.com/albums/gg109/wyndski/chickens.jpg\n",
            "\n",
            "[!] Issue getting: http://i246.photobucket.com/albums/gg109/wyndski/chickens.jpg\n",
            "[!] Error:: Invalid image, not saving http://i246.photobucket.com/albums/gg109/wyndski/chickens.jpg\n",
            "\n",
            "[%] Downloading Image #8 from https://imgmedia.lbb.in/media/2019/05/5ceb65b40abbc25fc55aff5e_1558930868057.jpg\n",
            "[%] File Downloaded !\n",
            "\n",
            "[%] Downloading Image #9 from https://image.zmenu.com/menupic/5203703/41b2b96d-7558-4370-aa7c-5acf5afb0615.jpg\n",
            "[%] File Downloaded !\n",
            "\n",
            "\n",
            "\n",
            "[!!]Indexing page: 2\n",
            "\n",
            "[%] Indexed 17 Images on Page 2.\n",
            "\n",
            "===============================================\n",
            "\n",
            "[%] Downloading Image #10 from https://queniem.com/wp-content/uploads/2021/03/Chickens.jpg\n",
            "[%] File Downloaded !\n",
            "\n",
            "\n",
            "\n",
            "[%] Done. Downloaded 10 images.\n"
          ]
        }
      ],
      "source": [
        "downloader.download(\"Meghan Markle\", limit=5,  output_dir='images', adult_filter_off=True, force_replace=False, timeout=60, verbose=True)"
      ],
      "id": "ySvCuIUSdXVZ"
    },
    {
      "cell_type": "markdown",
      "metadata": {
        "id": "73e950da"
      },
      "source": [
        "### Steps 2- Pre-Processing:"
      ],
      "id": "73e950da"
    },
    {
      "cell_type": "code",
      "execution_count": null,
      "metadata": {
        "id": "1925c6c4"
      },
      "outputs": [],
      "source": [
        "import warnings\n",
        "warnings.filterwarnings(\"ignore\")\n",
        "\n",
        "import time\n",
        "from time import process_time \n",
        "\n",
        "import numpy as np\n",
        "import pandas as pd\n",
        "\n",
        "import matplotlib.pyplot as plt\n",
        "%matplotlib inline\n",
        "\n",
        "import cv2\n",
        "import os\n",
        "\n",
        "from sklearn.model_selection import train_test_split\n",
        "from keras.models import Sequential\n",
        "from keras.layers.core import Dense"
      ],
      "id": "1925c6c4"
    },
    {
      "cell_type": "code",
      "execution_count": null,
      "metadata": {
        "colab": {
          "base_uri": "https://localhost:8080/",
          "height": 240
        },
        "id": "c0d898f4",
        "outputId": "002d7091-2d64-47b6-ae0b-9498fee9cb0a"
      },
      "outputs": [
        {
          "output_type": "display_data",
          "data": {
            "text/plain": [
              "<Figure size 432x288 with 1 Axes>"
            ],
            "image/png": "[encoded data removed]"
          },
          "metadata": {
            "needs_background": "light"
          }
        }
      ],
      "source": [
        "datadir =\"images\"\n",
        "categories =['DonaldTrump']\n",
        "\n",
        "for category in categories:\n",
        "    path = os.path.join(datadir, category)\n",
        "    for img in os.listdir(path):\n",
        "        img_array = cv2.imread(os.path.join(path,img), cv2.IMREAD_GRAYSCALE)\n",
        "        plt.imshow(img_array, cmap='gray')\n",
        "        plt.show()\n",
        "        break\n",
        "    break"
      ],
      "id": "c0d898f4"
    },
    {
      "cell_type": "code",
      "execution_count": null,
      "metadata": {
        "colab": {
          "base_uri": "https://localhost:8080/",
          "height": 269
        },
        "id": "f95e1c9d",
        "outputId": "26cf2358-fec3-40a5-a53e-1d92b78c7b4e"
      },
      "outputs": [
        {
          "output_type": "display_data",
          "data": {
            "text/plain": [
              "<Figure size 432x288 with 1 Axes>"
            ],
            "image/png": "[encoded data removed]"
          },
          "metadata": {
            "needs_background": "light"
          }
        }
      ],
      "source": [
        "datadir =\"images\"\n",
        "categories =['chicken']\n",
        "\n",
        "for category in categories:\n",
        "    path = os.path.join(datadir, category)\n",
        "    for img in os.listdir(path):\n",
        "        img_array = cv2.imread(os.path.join(path,img), cv2.IMREAD_GRAYSCALE)\n",
        "        plt.imshow(img_array, cmap='gray')\n",
        "        plt.show()\n",
        "        break\n",
        "    break"
      ],
      "id": "f95e1c9d"
    },
    {
      "cell_type": "code",
      "execution_count": null,
      "metadata": {
        "id": "ccdc0c0e"
      },
      "outputs": [],
      "source": [
        "datadir = \"images\"\n",
        "categories = ['peacock', 'whitepeacock']"
      ],
      "id": "ccdc0c0e"
    },
    {
      "cell_type": "code",
      "execution_count": null,
      "metadata": {
        "id": "ef87f3ec"
      },
      "outputs": [],
      "source": [
        "data = []\n",
        "img_size=500\n",
        "\n",
        "def preprocess():\n",
        "    for category in categories:\n",
        "        path = os.path.join(datadir, category)\n",
        "        class_num = categories.index(category)\n",
        "        \n",
        "        for img in os.listdir(path):\n",
        "            img_array = cv2.imread(os.path.join(path,img), cv2.IMREAD_GRAYSCALE)\n",
        "            num_array = cv2.resize(img_array,(img_size, img_size))\n",
        "            \n",
        "            data.append([num_array, class_num])\n",
        "            \n",
        "preprocess()"
      ],
      "id": "ef87f3ec"
    },
    {
      "cell_type": "code",
      "execution_count": null,
      "metadata": {
        "colab": {
          "base_uri": "https://localhost:8080/"
        },
        "id": "6f5d87ec",
        "outputId": "8ef808f7-0748-42d6-82af-60ae46ae6dbd"
      },
      "outputs": [
        {
          "name": "stdout",
          "output_type": "stream",
          "text": [
            "20\n"
          ]
        }
      ],
      "source": [
        "print(len(data))"
      ],
      "id": "6f5d87ec"
    },
    {
      "cell_type": "markdown",
      "metadata": {
        "id": "76cf85cd"
      },
      "source": [
        "### Steps 3- Dataset Preparation:"
      ],
      "id": "76cf85cd"
    },
    {
      "cell_type": "code",
      "execution_count": null,
      "metadata": {
        "id": "983588c9"
      },
      "outputs": [],
      "source": [
        "X = []\n",
        "y = []\n",
        "\n",
        "for features,label in data:\n",
        "    X.append(features)\n",
        "    y.append(label)\n",
        "\n",
        "X = np.asarray(X).reshape(-1,img_size,img_size,1)\n",
        "y = np.asarray(y)"
      ],
      "id": "983588c9"
    },
    {
      "cell_type": "code",
      "execution_count": null,
      "metadata": {
        "id": "76646f8c"
      },
      "outputs": [],
      "source": [
        "X_train, X_test, y_train, y_test = train_test_split(X, y, test_size=0.25, random_state=42)"
      ],
      "id": "76646f8c"
    },
    {
      "cell_type": "code",
      "execution_count": null,
      "metadata": {
        "colab": {
          "base_uri": "https://localhost:8080/"
        },
        "id": "0e3c248b",
        "outputId": "a23a96b0-ddf5-461b-faf1-f8cf4bae4424"
      },
      "outputs": [
        {
          "name": "stdout",
          "output_type": "stream",
          "text": [
            "Shape of the following:\n",
            "X_train = (15, 500, 500, 1) \n",
            "X_test = (5, 500, 500, 1) \n",
            "y_train = (15,) \n",
            "y_test = (5,)\n"
          ]
        }
      ],
      "source": [
        "print(\"Shape of the following:\")\n",
        "print(\"X_train =\", X_train.shape, \"\\nX_test =\", X_test.shape, \"\\ny_train =\", y_train.shape, \"\\ny_test =\", y_test.shape)"
      ],
      "id": "0e3c248b"
    },
    {
      "cell_type": "markdown",
      "metadata": {
        "id": "b7ca1d73"
      },
      "source": [
        "### Step 4 - Model Creation:"
      ],
      "id": "b7ca1d73"
    },
    {
      "cell_type": "code",
      "execution_count": null,
      "metadata": {
        "id": "ae20e5e3"
      },
      "outputs": [],
      "source": [
        "model = Sequential()\n",
        "model.add(Dense(8, input_dim=1, activation='relu'))\n",
        "model.add(Dense(1, activation='sigmoid'))"
      ],
      "id": "ae20e5e3"
    },
    {
      "cell_type": "code",
      "execution_count": null,
      "metadata": {
        "id": "df210c78"
      },
      "outputs": [],
      "source": [
        "model.compile(loss='mean_squared_error', metrics=['binary_accuracy'])"
      ],
      "id": "df210c78"
    },
    {
      "cell_type": "code",
      "execution_count": null,
      "metadata": {
        "colab": {
          "base_uri": "https://localhost:8080/"
        },
        "id": "d1be5c6f",
        "outputId": "283f7c49-39cf-408a-d4e0-98429c561167",
        "scrolled": true
      },
      "outputs": [
        {
          "name": "stdout",
          "output_type": "stream",
          "text": [
            "Epoch 1/100\n",
            "WARNING:tensorflow:Model was constructed with shape (None, 1) for input KerasTensor(type_spec=TensorSpec(shape=(None, 1), dtype=tf.float32, name='dense_input'), name='dense_input', description=\"created by layer 'dense_input'\"), but it was called on an input with incompatible shape (None, 500, 500, 1).\n",
            "WARNING:tensorflow:Model was constructed with shape (None, 1) for input KerasTensor(type_spec=TensorSpec(shape=(None, 1), dtype=tf.float32, name='dense_input'), name='dense_input', description=\"created by layer 'dense_input'\"), but it was called on an input with incompatible shape (None, 500, 500, 1).\n",
            "1/1 [==============================] - ETA: 0s - loss: 0.4620 - binary_accuracy: 0.5327WARNING:tensorflow:Model was constructed with shape (None, 1) for input KerasTensor(type_spec=TensorSpec(shape=(None, 1), dtype=tf.float32, name='dense_input'), name='dense_input', description=\"created by layer 'dense_input'\"), but it was called on an input with incompatible shape (None, 500, 500, 1).\n",
            "1/1 [==============================] - 2s 2s/step - loss: 0.4620 - binary_accuracy: 0.5327 - val_loss: 0.5757 - val_binary_accuracy: 0.4001\n",
            "Epoch 2/100\n",
            "1/1 [==============================] - 1s 1s/step - loss: 0.4618 - binary_accuracy: 0.5327 - val_loss: 0.5750 - val_binary_accuracy: 0.4001\n",
            "Epoch 3/100\n",
            "1/1 [==============================] - 1s 1s/step - loss: 0.4616 - binary_accuracy: 0.5327 - val_loss: 0.5744 - val_binary_accuracy: 0.4001\n",
            "Epoch 4/100\n",
            "1/1 [==============================] - 1s 1s/step - loss: 0.4615 - binary_accuracy: 0.5327 - val_loss: 0.5739 - val_binary_accuracy: 0.4001\n",
            "Epoch 5/100\n",
            "1/1 [==============================] - 1s 1s/step - loss: 0.4614 - binary_accuracy: 0.5327 - val_loss: 0.5733 - val_binary_accuracy: 0.4001\n",
            "Epoch 6/100\n",
            "1/1 [==============================] - 1s 1s/step - loss: 0.4612 - binary_accuracy: 0.5327 - val_loss: 0.5728 - val_binary_accuracy: 0.4001\n",
            "Epoch 7/100\n",
            "1/1 [==============================] - 1s 1s/step - loss: 0.4611 - binary_accuracy: 0.5327 - val_loss: 0.5723 - val_binary_accuracy: 0.4001\n",
            "Epoch 8/100\n",
            "1/1 [==============================] - 1s 1s/step - loss: 0.4610 - binary_accuracy: 0.5327 - val_loss: 0.5718 - val_binary_accuracy: 0.4001\n",
            "Epoch 9/100\n",
            "1/1 [==============================] - 1s 1s/step - loss: 0.4608 - binary_accuracy: 0.5327 - val_loss: 0.5712 - val_binary_accuracy: 0.4001\n",
            "Epoch 10/100\n",
            "1/1 [==============================] - 1s 1s/step - loss: 0.4607 - binary_accuracy: 0.5327 - val_loss: 0.5707 - val_binary_accuracy: 0.4001\n",
            "Epoch 11/100\n",
            "1/1 [==============================] - 1s 1s/step - loss: 0.4606 - binary_accuracy: 0.5327 - val_loss: 0.5701 - val_binary_accuracy: 0.4001\n",
            "Epoch 12/100\n",
            "1/1 [==============================] - 1s 1s/step - loss: 0.4604 - binary_accuracy: 0.5327 - val_loss: 0.5696 - val_binary_accuracy: 0.4001\n",
            "Epoch 13/100\n",
            "1/1 [==============================] - 1s 1s/step - loss: 0.4603 - binary_accuracy: 0.5327 - val_loss: 0.5690 - val_binary_accuracy: 0.4001\n",
            "Epoch 14/100\n",
            "1/1 [==============================] - 1s 1s/step - loss: 0.4601 - binary_accuracy: 0.5327 - val_loss: 0.5684 - val_binary_accuracy: 0.4001\n",
            "Epoch 15/100\n",
            "1/1 [==============================] - 1s 1s/step - loss: 0.4599 - binary_accuracy: 0.5327 - val_loss: 0.5678 - val_binary_accuracy: 0.4001\n",
            "Epoch 16/100\n",
            "1/1 [==============================] - 1s 1s/step - loss: 0.4597 - binary_accuracy: 0.5327 - val_loss: 0.5672 - val_binary_accuracy: 0.4001\n",
            "Epoch 17/100\n",
            "1/1 [==============================] - 1s 1s/step - loss: 0.4596 - binary_accuracy: 0.5327 - val_loss: 0.5665 - val_binary_accuracy: 0.4001\n",
            "Epoch 18/100\n",
            "1/1 [==============================] - 1s 1s/step - loss: 0.4594 - binary_accuracy: 0.5327 - val_loss: 0.5658 - val_binary_accuracy: 0.4001\n",
            "Epoch 19/100\n",
            "1/1 [==============================] - 1s 1s/step - loss: 0.4591 - binary_accuracy: 0.5327 - val_loss: 0.5651 - val_binary_accuracy: 0.4001\n",
            "Epoch 20/100\n",
            "1/1 [==============================] - 1s 1s/step - loss: 0.4589 - binary_accuracy: 0.5327 - val_loss: 0.5644 - val_binary_accuracy: 0.4001\n",
            "Epoch 21/100\n",
            "1/1 [==============================] - 1s 1s/step - loss: 0.4587 - binary_accuracy: 0.5327 - val_loss: 0.5636 - val_binary_accuracy: 0.4001\n",
            "Epoch 22/100\n",
            "1/1 [==============================] - 1s 1s/step - loss: 0.4584 - binary_accuracy: 0.5327 - val_loss: 0.5628 - val_binary_accuracy: 0.4001\n",
            "Epoch 23/100\n",
            "1/1 [==============================] - 1s 1s/step - loss: 0.4581 - binary_accuracy: 0.5327 - val_loss: 0.5619 - val_binary_accuracy: 0.4001\n",
            "Epoch 24/100\n",
            "1/1 [==============================] - 1s 1s/step - loss: 0.4578 - binary_accuracy: 0.5327 - val_loss: 0.5610 - val_binary_accuracy: 0.4001\n",
            "Epoch 25/100\n",
            "1/1 [==============================] - 1s 1s/step - loss: 0.4575 - binary_accuracy: 0.5327 - val_loss: 0.5600 - val_binary_accuracy: 0.4001\n",
            "Epoch 26/100\n",
            "1/1 [==============================] - 1s 1s/step - loss: 0.4571 - binary_accuracy: 0.5327 - val_loss: 0.5590 - val_binary_accuracy: 0.4001\n",
            "Epoch 27/100\n",
            "1/1 [==============================] - 1s 1s/step - loss: 0.4567 - binary_accuracy: 0.5327 - val_loss: 0.5579 - val_binary_accuracy: 0.4001\n",
            "Epoch 28/100\n",
            "1/1 [==============================] - 1s 1s/step - loss: 0.4562 - binary_accuracy: 0.5327 - val_loss: 0.5567 - val_binary_accuracy: 0.4001\n",
            "Epoch 29/100\n",
            "1/1 [==============================] - 1s 1s/step - loss: 0.4557 - binary_accuracy: 0.5327 - val_loss: 0.5554 - val_binary_accuracy: 0.4001\n",
            "Epoch 30/100\n",
            "1/1 [==============================] - 1s 1s/step - loss: 0.4552 - binary_accuracy: 0.5327 - val_loss: 0.5539 - val_binary_accuracy: 0.4020\n",
            "Epoch 31/100\n",
            "1/1 [==============================] - 1s 1s/step - loss: 0.4545 - binary_accuracy: 0.5326 - val_loss: 0.5524 - val_binary_accuracy: 0.4020\n",
            "Epoch 32/100\n",
            "1/1 [==============================] - 1s 1s/step - loss: 0.4538 - binary_accuracy: 0.5326 - val_loss: 0.5507 - val_binary_accuracy: 0.4020\n",
            "Epoch 33/100\n",
            "1/1 [==============================] - 1s 1s/step - loss: 0.4529 - binary_accuracy: 0.5326 - val_loss: 0.5487 - val_binary_accuracy: 0.4020\n",
            "Epoch 34/100\n",
            "1/1 [==============================] - 1s 1s/step - loss: 0.4519 - binary_accuracy: 0.5326 - val_loss: 0.5465 - val_binary_accuracy: 0.4020\n",
            "Epoch 35/100\n",
            "1/1 [==============================] - 1s 1s/step - loss: 0.4506 - binary_accuracy: 0.5326 - val_loss: 0.5440 - val_binary_accuracy: 0.4020\n",
            "Epoch 36/100\n",
            "1/1 [==============================] - 1s 1s/step - loss: 0.4492 - binary_accuracy: 0.5326 - val_loss: 0.5411 - val_binary_accuracy: 0.4020\n",
            "Epoch 37/100\n",
            "1/1 [==============================] - 2s 2s/step - loss: 0.4473 - binary_accuracy: 0.5326 - val_loss: 0.5377 - val_binary_accuracy: 0.4020\n",
            "Epoch 38/100\n",
            "1/1 [==============================] - 1s 1s/step - loss: 0.4450 - binary_accuracy: 0.5326 - val_loss: 0.5336 - val_binary_accuracy: 0.4070\n",
            "Epoch 39/100\n",
            "1/1 [==============================] - 1s 1s/step - loss: 0.4421 - binary_accuracy: 0.5326 - val_loss: 0.5286 - val_binary_accuracy: 0.4070\n",
            "Epoch 40/100\n",
            "1/1 [==============================] - 1s 1s/step - loss: 0.4383 - binary_accuracy: 0.5326 - val_loss: 0.5223 - val_binary_accuracy: 0.4070\n",
            "Epoch 41/100\n",
            "1/1 [==============================] - 1s 1s/step - loss: 0.4333 - binary_accuracy: 0.5326 - val_loss: 0.5141 - val_binary_accuracy: 0.4100\n",
            "Epoch 42/100\n",
            "1/1 [==============================] - 1s 1s/step - loss: 0.4265 - binary_accuracy: 0.5325 - val_loss: 0.5030 - val_binary_accuracy: 0.4126\n",
            "Epoch 43/100\n",
            "1/1 [==============================] - 1s 1s/step - loss: 0.4169 - binary_accuracy: 0.5324 - val_loss: 0.4871 - val_binary_accuracy: 0.4145\n",
            "Epoch 44/100\n",
            "1/1 [==============================] - 1s 1s/step - loss: 0.4030 - binary_accuracy: 0.5322 - val_loss: 0.4621 - val_binary_accuracy: 0.4163\n",
            "Epoch 45/100\n",
            "1/1 [==============================] - 1s 1s/step - loss: 0.3817 - binary_accuracy: 0.5320 - val_loss: 0.4186 - val_binary_accuracy: 0.4220\n",
            "Epoch 46/100\n",
            "1/1 [==============================] - 1s 1s/step - loss: 0.3466 - binary_accuracy: 0.5312 - val_loss: 0.3380 - val_binary_accuracy: 0.4324\n",
            "Epoch 47/100\n",
            "1/1 [==============================] - 1s 1s/step - loss: 0.2894 - binary_accuracy: 0.5294 - val_loss: 0.2498 - val_binary_accuracy: 0.5172\n",
            "Epoch 48/100\n",
            "1/1 [==============================] - 1s 1s/step - loss: 0.2512 - binary_accuracy: 0.4947 - val_loss: 0.2596 - val_binary_accuracy: 0.4745\n",
            "Epoch 49/100\n",
            "1/1 [==============================] - 1s 1s/step - loss: 0.2514 - binary_accuracy: 0.5113 - val_loss: 0.2476 - val_binary_accuracy: 0.5423\n",
            "Epoch 50/100\n",
            "1/1 [==============================] - 1s 1s/step - loss: 0.2517 - binary_accuracy: 0.4855 - val_loss: 0.2656 - val_binary_accuracy: 0.4649\n",
            "Epoch 51/100\n",
            "1/1 [==============================] - 1s 1s/step - loss: 0.2526 - binary_accuracy: 0.5163 - val_loss: 0.2439 - val_binary_accuracy: 0.6000\n",
            "Epoch 52/100\n",
            "1/1 [==============================] - 1s 1s/step - loss: 0.2540 - binary_accuracy: 0.4667 - val_loss: 0.2771 - val_binary_accuracy: 0.4528\n",
            "Epoch 53/100\n",
            "1/1 [==============================] - 1s 1s/step - loss: 0.2565 - binary_accuracy: 0.5228 - val_loss: 0.2423 - val_binary_accuracy: 0.6000\n",
            "Epoch 54/100\n",
            "1/1 [==============================] - 1s 1s/step - loss: 0.2561 - binary_accuracy: 0.4667 - val_loss: 0.2779 - val_binary_accuracy: 0.4517\n",
            "Epoch 55/100\n",
            "1/1 [==============================] - 1s 1s/step - loss: 0.2568 - binary_accuracy: 0.5233 - val_loss: 0.2437 - val_binary_accuracy: 0.6000\n",
            "Epoch 56/100\n",
            "1/1 [==============================] - 1s 1s/step - loss: 0.2542 - binary_accuracy: 0.4667 - val_loss: 0.2706 - val_binary_accuracy: 0.4580\n",
            "Epoch 57/100\n",
            "1/1 [==============================] - 1s 1s/step - loss: 0.2541 - binary_accuracy: 0.5204 - val_loss: 0.2451 - val_binary_accuracy: 0.5974\n",
            "Epoch 58/100\n",
            "1/1 [==============================] - 1s 1s/step - loss: 0.2530 - binary_accuracy: 0.4675 - val_loss: 0.2673 - val_binary_accuracy: 0.4611\n",
            "Epoch 59/100\n",
            "1/1 [==============================] - 1s 1s/step - loss: 0.2530 - binary_accuracy: 0.5187 - val_loss: 0.2456 - val_binary_accuracy: 0.5849\n",
            "Epoch 60/100\n",
            "1/1 [==============================] - 1s 1s/step - loss: 0.2526 - binary_accuracy: 0.4709 - val_loss: 0.2668 - val_binary_accuracy: 0.4621\n",
            "Epoch 61/100\n",
            "1/1 [==============================] - 1s 1s/step - loss: 0.2529 - binary_accuracy: 0.5183 - val_loss: 0.2454 - val_binary_accuracy: 0.5911\n",
            "Epoch 62/100\n",
            "1/1 [==============================] - 1s 1s/step - loss: 0.2527 - binary_accuracy: 0.4692 - val_loss: 0.2681 - val_binary_accuracy: 0.4601\n",
            "Epoch 63/100\n",
            "1/1 [==============================] - 1s 1s/step - loss: 0.2532 - binary_accuracy: 0.5194 - val_loss: 0.2448 - val_binary_accuracy: 0.6000\n",
            "Epoch 64/100\n",
            "1/1 [==============================] - 1s 1s/step - loss: 0.2531 - binary_accuracy: 0.4667 - val_loss: 0.2700 - val_binary_accuracy: 0.4570\n",
            "Epoch 65/100\n",
            "1/1 [==============================] - 1s 1s/step - loss: 0.2538 - binary_accuracy: 0.5208 - val_loss: 0.2443 - val_binary_accuracy: 0.6000\n",
            "Epoch 66/100\n",
            "1/1 [==============================] - 1s 1s/step - loss: 0.2535 - binary_accuracy: 0.4667 - val_loss: 0.2710 - val_binary_accuracy: 0.4560\n",
            "Epoch 67/100\n",
            "1/1 [==============================] - 1s 1s/step - loss: 0.2541 - binary_accuracy: 0.5214 - val_loss: 0.2443 - val_binary_accuracy: 0.6000\n",
            "Epoch 68/100\n",
            "1/1 [==============================] - 1s 1s/step - loss: 0.2535 - binary_accuracy: 0.4667 - val_loss: 0.2706 - val_binary_accuracy: 0.4560\n",
            "Epoch 69/100\n",
            "1/1 [==============================] - 1s 1s/step - loss: 0.2540 - binary_accuracy: 0.5214 - val_loss: 0.2446 - val_binary_accuracy: 0.6000\n",
            "Epoch 70/100\n",
            "1/1 [==============================] - 1s 1s/step - loss: 0.2533 - binary_accuracy: 0.4667 - val_loss: 0.2697 - val_binary_accuracy: 0.4560\n",
            "Epoch 71/100\n",
            "1/1 [==============================] - 1s 1s/step - loss: 0.2536 - binary_accuracy: 0.5214 - val_loss: 0.2448 - val_binary_accuracy: 0.6000\n",
            "Epoch 72/100\n",
            "1/1 [==============================] - 1s 1s/step - loss: 0.2531 - binary_accuracy: 0.4667 - val_loss: 0.2692 - val_binary_accuracy: 0.4570\n",
            "Epoch 73/100\n",
            "1/1 [==============================] - 1s 1s/step - loss: 0.2534 - binary_accuracy: 0.5208 - val_loss: 0.2449 - val_binary_accuracy: 0.6000\n",
            "Epoch 74/100\n",
            "1/1 [==============================] - 1s 1s/step - loss: 0.2530 - binary_accuracy: 0.4667 - val_loss: 0.2692 - val_binary_accuracy: 0.4560\n",
            "Epoch 75/100\n",
            "1/1 [==============================] - 1s 1s/step - loss: 0.2534 - binary_accuracy: 0.5214 - val_loss: 0.2448 - val_binary_accuracy: 0.6000\n",
            "Epoch 76/100\n",
            "1/1 [==============================] - 1s 1s/step - loss: 0.2530 - binary_accuracy: 0.4667 - val_loss: 0.2695 - val_binary_accuracy: 0.4560\n",
            "Epoch 77/100\n",
            "1/1 [==============================] - 1s 1s/step - loss: 0.2535 - binary_accuracy: 0.5214 - val_loss: 0.2447 - val_binary_accuracy: 0.6000\n",
            "Epoch 78/100\n",
            "1/1 [==============================] - 1s 1s/step - loss: 0.2531 - binary_accuracy: 0.4667 - val_loss: 0.2699 - val_binary_accuracy: 0.4549\n",
            "Epoch 79/100\n",
            "1/1 [==============================] - 1s 1s/step - loss: 0.2536 - binary_accuracy: 0.5218 - val_loss: 0.2447 - val_binary_accuracy: 0.6000\n",
            "Epoch 80/100\n",
            "1/1 [==============================] - 1s 1s/step - loss: 0.2531 - binary_accuracy: 0.4667 - val_loss: 0.2699 - val_binary_accuracy: 0.4549\n",
            "Epoch 81/100\n",
            "1/1 [==============================] - 1s 1s/step - loss: 0.2536 - binary_accuracy: 0.5218 - val_loss: 0.2447 - val_binary_accuracy: 0.6000\n",
            "Epoch 82/100\n",
            "1/1 [==============================] - 1s 1s/step - loss: 0.2531 - binary_accuracy: 0.4667 - val_loss: 0.2698 - val_binary_accuracy: 0.4538\n",
            "Epoch 83/100\n",
            "1/1 [==============================] - 1s 1s/step - loss: 0.2535 - binary_accuracy: 0.5224 - val_loss: 0.2448 - val_binary_accuracy: 0.6000\n",
            "Epoch 84/100\n",
            "1/1 [==============================] - 1s 1s/step - loss: 0.2531 - binary_accuracy: 0.4667 - val_loss: 0.2697 - val_binary_accuracy: 0.4538\n",
            "Epoch 85/100\n",
            "1/1 [==============================] - 1s 1s/step - loss: 0.2535 - binary_accuracy: 0.5224 - val_loss: 0.2448 - val_binary_accuracy: 0.6000\n",
            "Epoch 86/100\n",
            "1/1 [==============================] - 2s 2s/step - loss: 0.2530 - binary_accuracy: 0.4667 - val_loss: 0.2696 - val_binary_accuracy: 0.4538\n",
            "Epoch 87/100\n",
            "1/1 [==============================] - 1s 1s/step - loss: 0.2534 - binary_accuracy: 0.5224 - val_loss: 0.2449 - val_binary_accuracy: 0.6000\n",
            "Epoch 88/100\n",
            "1/1 [==============================] - 1s 1s/step - loss: 0.2530 - binary_accuracy: 0.4667 - val_loss: 0.2697 - val_binary_accuracy: 0.4538\n",
            "Epoch 89/100\n",
            "1/1 [==============================] - 1s 1s/step - loss: 0.2534 - binary_accuracy: 0.5224 - val_loss: 0.2449 - val_binary_accuracy: 0.6000\n",
            "Epoch 90/100\n",
            "1/1 [==============================] - 1s 1s/step - loss: 0.2530 - binary_accuracy: 0.4667 - val_loss: 0.2698 - val_binary_accuracy: 0.4528\n",
            "Epoch 91/100\n",
            "1/1 [==============================] - 1s 1s/step - loss: 0.2534 - binary_accuracy: 0.5228 - val_loss: 0.2449 - val_binary_accuracy: 0.6000\n",
            "Epoch 92/100\n",
            "1/1 [==============================] - 1s 1s/step - loss: 0.2530 - binary_accuracy: 0.4667 - val_loss: 0.2698 - val_binary_accuracy: 0.4528\n",
            "Epoch 93/100\n",
            "1/1 [==============================] - 1s 1s/step - loss: 0.2534 - binary_accuracy: 0.5228 - val_loss: 0.2449 - val_binary_accuracy: 0.6000\n",
            "Epoch 94/100\n",
            "1/1 [==============================] - 1s 1s/step - loss: 0.2530 - binary_accuracy: 0.4667 - val_loss: 0.2698 - val_binary_accuracy: 0.4517\n",
            "Epoch 95/100\n",
            "1/1 [==============================] - 1s 1s/step - loss: 0.2534 - binary_accuracy: 0.5233 - val_loss: 0.2449 - val_binary_accuracy: 0.6000\n",
            "Epoch 96/100\n",
            "1/1 [==============================] - 1s 1s/step - loss: 0.2529 - binary_accuracy: 0.4667 - val_loss: 0.2698 - val_binary_accuracy: 0.4517\n",
            "Epoch 97/100\n",
            "1/1 [==============================] - 1s 1s/step - loss: 0.2534 - binary_accuracy: 0.5233 - val_loss: 0.2449 - val_binary_accuracy: 0.6000\n",
            "Epoch 98/100\n",
            "1/1 [==============================] - 1s 1s/step - loss: 0.2529 - binary_accuracy: 0.4667 - val_loss: 0.2698 - val_binary_accuracy: 0.4517\n",
            "Epoch 99/100\n",
            "1/1 [==============================] - 1s 1s/step - loss: 0.2533 - binary_accuracy: 0.5233 - val_loss: 0.2449 - val_binary_accuracy: 0.6000\n",
            "Epoch 100/100\n",
            "1/1 [==============================] - 1s 1s/step - loss: 0.2529 - binary_accuracy: 0.4667 - val_loss: 0.2698 - val_binary_accuracy: 0.4506\n"
          ]
        },
        {
          "data": {
            "text/plain": [
              "<keras.callbacks.History at 0x7f8d86dfc5d0>"
            ]
          },
          "execution_count": 16,
          "metadata": {},
          "output_type": "execute_result"
        }
      ],
      "source": [
        "model.fit(X_train,y_train,validation_data=(X_test,y_test),epochs=100)"
      ],
      "id": "d1be5c6f"
    },
    {
      "cell_type": "code",
      "execution_count": null,
      "metadata": {
        "colab": {
          "base_uri": "https://localhost:8080/"
        },
        "id": "80c9fbfe",
        "outputId": "5fd2e8ed-78f0-4146-8073-c07e00a296e3"
      },
      "outputs": [
        {
          "name": "stdout",
          "output_type": "stream",
          "text": [
            "1/1 [==============================] - 1s 549ms/step - loss: 0.2533 - binary_accuracy: 0.5238\n"
          ]
        },
        {
          "data": {
            "text/plain": [
              "[0.25330647826194763, 0.5237506031990051]"
            ]
          },
          "execution_count": 17,
          "metadata": {},
          "output_type": "execute_result"
        }
      ],
      "source": [
        "model.evaluate(X_train, y_train)"
      ],
      "id": "80c9fbfe"
    },
    {
      "cell_type": "code",
      "execution_count": null,
      "metadata": {
        "colab": {
          "base_uri": "https://localhost:8080/"
        },
        "id": "9d3a46ab",
        "outputId": "9d4154fc-1099-423b-c9eb-0e28842a51fa"
      },
      "outputs": [
        {
          "name": "stdout",
          "output_type": "stream",
          "text": [
            "Model: \"sequential\"\n",
            "_________________________________________________________________\n",
            " Layer (type)                Output Shape              Param #   \n",
            "=================================================================\n",
            " dense (Dense)               (None, 8)                 16        \n",
            "                                                                 \n",
            " dense_1 (Dense)             (None, 1)                 9         \n",
            "                                                                 \n",
            "=================================================================\n",
            "Total params: 25\n",
            "Trainable params: 25\n",
            "Non-trainable params: 0\n",
            "_________________________________________________________________\n"
          ]
        }
      ],
      "source": [
        "model.summary()"
      ],
      "id": "9d3a46ab"
    },
    {
      "cell_type": "markdown",
      "metadata": {
        "id": "c26131c0"
      },
      "source": [
        "### Step 5 - Performance Analysis:"
      ],
      "id": "c26131c0"
    },
    {
      "cell_type": "markdown",
      "metadata": {
        "id": "e8b6c762"
      },
      "source": [
        "#### a. Single layer neural network Performance Analysis"
      ],
      "id": "e8b6c762"
    },
    {
      "cell_type": "code",
      "execution_count": null,
      "metadata": {
        "id": "37c47a05"
      },
      "outputs": [],
      "source": [
        "def performance_analysis(datadir, categories, img_size, nodes):\n",
        "    \n",
        "    df_results = pd.DataFrame(data=np.zeros(shape=(0, 5)), \n",
        "                              columns = ['Img size','Nodes Number','Accuracy','Loss','Training time'])\n",
        " \n",
        "    training_data = []\n",
        "    \n",
        "    for category in categories:\n",
        "        path = os.path.join(datadir,category)\n",
        "        class_num = categories.index(category)\n",
        "        \n",
        "        for img in os.listdir(path):\n",
        "            img_array = cv2.imread(os.path.join(path,img),cv2.IMREAD_GRAYSCALE)\n",
        "            num_array=cv2.resize(img_array,(img_size,img_size))\n",
        "            training_data.append([num_array,class_num])\n",
        "\n",
        "    X=[]\n",
        "    y=[]\n",
        "    \n",
        "    for features,label in training_data:\n",
        "        X.append(features)\n",
        "        y.append(label)\n",
        "        \n",
        "    X=np.asarray(X).reshape(-1,img_size,img_size,1)\n",
        "    y=np.asarray(y)\n",
        "\n",
        "    X_train,X_test,y_train,y_test = train_test_split(X,y,test_size=.25,random_state=42)\n",
        "\n",
        "    count = 0\n",
        "    t_start = process_time() \n",
        "    \n",
        "    model = Sequential()\n",
        "    model.add(Dense(nodes, input_dim=1, activation='relu'))\n",
        "    model.add(Dense(1,activation='sigmoid'))\n",
        "    model.compile(loss='mean_squared_error', metrics=['binary_accuracy'])\n",
        "    model.fit(X_train,y_train,validation_data=(X_test,y_test),epochs=10)\n",
        "    \n",
        "    t_stop = process_time() \n",
        "    t_elapsed = t_stop - t_start\n",
        "    \n",
        "    score = model.evaluate(X_test,y_test)\n",
        "    \n",
        "    count+=1\n",
        "\n",
        "    df_results.loc[count,'Img size'] = img_size\n",
        "    df_results.loc[count,'Nodes Number'] = nodes\n",
        "    df_results.loc[count,'Accuracy'] = score[1]\n",
        "    df_results.loc[count,'Loss'] = score[0]\n",
        "    df_results.loc[count,'Training time'] = t_elapsed\n",
        "        \n",
        "    return df_results"
      ],
      "id": "37c47a05"
    },
    {
      "cell_type": "code",
      "execution_count": null,
      "metadata": {
        "id": "859fda5a"
      },
      "outputs": [],
      "source": [
        "def evaluation():\n",
        "    m1 = performance_analysis(\"images\", ['peacock', 'whitepeacock'], 500, 8)\n",
        "    m2 = performance_analysis(\"images\", ['peacock', 'whitepeacock'], 500, 16)\n",
        "    m3 = performance_analysis(\"images\", ['peacock', 'whitepeacock'],500, 32)\n",
        "    m4 = performance_analysis(\"images\", ['peacock', 'whitepeacock'],500, 64)\n",
        "    m5 = performance_analysis(\"images\", ['peacock', 'whitepeacock'], 100, 8)\n",
        "    m6 = performance_analysis(\"images\", ['peacock', 'whitepeacock'],100, 16)\n",
        "    m7 = performance_analysis(\"images\", ['peacock', 'whitepeacock'], 100, 32)\n",
        "    m8 = performance_analysis(\"images\", ['peacock', 'whitepeacock'],100, 64)\n",
        "    m9 = performance_analysis(\"images\", ['peacock', 'whitepeacock'], 50, 8)\n",
        "    m10 = performance_analysis(\"images\", ['peacock', 'whitepeacock'],50, 16)\n",
        "    m11 = performance_analysis(\"images\", ['peacock', 'whitepeacock'],50, 32)\n",
        "    m12 = performance_analysis(\"images\", ['peacock', 'whitepeacock'], 50, 64)\n",
        "    m13 = performance_analysis(\"images\", ['peacock', 'whitepeacock'],25, 8)\n",
        "    m14 = performance_analysis(\"images\", ['peacock', 'whitepeacock'],25, 16)\n",
        "    m15 = performance_analysis(\"images\", ['peacock', 'whitepeacock'],25, 32)\n",
        "    m16 = performance_analysis(\"images\", ['peacock', 'whitepeacock'],25, 64)\n",
        "    m17 = performance_analysis(\"images\", ['peacock', 'whitepeacock'], 10, 8)\n",
        "    m18 = performance_analysis(\"images\", ['peacock', 'whitepeacock'],10, 16)\n",
        "    m19 = performance_analysis(\"images\", ['peacock', 'whitepeacock'], 10, 32)\n",
        "    m20 = performance_analysis(\"images\", ['peacock', 'whitepeacock'],10, 64)\n",
        "    \n",
        "    df = pd.concat([m1,m2,m3,m4,m5,m6,m7,m8,m9,m10,m11,m12,m13,m14,m15,m16,m17,m18,m19,m20], axis=0)\n",
        "\n",
        "    return df "
      ],
      "id": "859fda5a"
    },
    {
      "cell_type": "code",
      "execution_count": null,
      "metadata": {
        "colab": {
          "background_save": true,
          "base_uri": "https://localhost:8080/"
        },
        "id": "FUf0D5tnj_PO",
        "outputId": "fe0873da-77ba-45e6-ad20-2478b8027642"
      },
      "outputs": [
        {
          "name": "stdout",
          "output_type": "stream",
          "text": [
            "Epoch 1/10\n",
            "WARNING:tensorflow:Model was constructed with shape (None, 1) for input KerasTensor(type_spec=TensorSpec(shape=(None, 1), dtype=tf.float32, name='dense_50_input'), name='dense_50_input', description=\"created by layer 'dense_50_input'\"), but it was called on an input with incompatible shape (None, 500, 500, 1).\n"
          ]
        },
        {
          "name": "stderr",
          "output_type": "stream",
          "text": [
            "WARNING:tensorflow:Model was constructed with shape (None, 1) for input KerasTensor(type_spec=TensorSpec(shape=(None, 1), dtype=tf.float32, name='dense_50_input'), name='dense_50_input', description=\"created by layer 'dense_50_input'\"), but it was called on an input with incompatible shape (None, 500, 500, 1).\n"
          ]
        },
        {
          "name": "stdout",
          "output_type": "stream",
          "text": [
            "WARNING:tensorflow:Model was constructed with shape (None, 1) for input KerasTensor(type_spec=TensorSpec(shape=(None, 1), dtype=tf.float32, name='dense_50_input'), name='dense_50_input', description=\"created by layer 'dense_50_input'\"), but it was called on an input with incompatible shape (None, 500, 500, 1).\n"
          ]
        },
        {
          "name": "stderr",
          "output_type": "stream",
          "text": [
            "WARNING:tensorflow:Model was constructed with shape (None, 1) for input KerasTensor(type_spec=TensorSpec(shape=(None, 1), dtype=tf.float32, name='dense_50_input'), name='dense_50_input', description=\"created by layer 'dense_50_input'\"), but it was called on an input with incompatible shape (None, 500, 500, 1).\n"
          ]
        },
        {
          "name": "stdout",
          "output_type": "stream",
          "text": [
            "\r1/1 [==============================] - ETA: 0s - loss: 0.5298 - binary_accuracy: 0.4667WARNING:tensorflow:Model was constructed with shape (None, 1) for input KerasTensor(type_spec=TensorSpec(shape=(None, 1), dtype=tf.float32, name='dense_50_input'), name='dense_50_input', description=\"created by layer 'dense_50_input'\"), but it was called on an input with incompatible shape (None, 500, 500, 1).\n"
          ]
        },
        {
          "name": "stderr",
          "output_type": "stream",
          "text": [
            "WARNING:tensorflow:Model was constructed with shape (None, 1) for input KerasTensor(type_spec=TensorSpec(shape=(None, 1), dtype=tf.float32, name='dense_50_input'), name='dense_50_input', description=\"created by layer 'dense_50_input'\"), but it was called on an input with incompatible shape (None, 500, 500, 1).\n"
          ]
        },
        {
          "name": "stdout",
          "output_type": "stream",
          "text": [
            "1/1 [==============================] - 2s 2s/step - loss: 0.5298 - binary_accuracy: 0.4667 - val_loss: 0.3931 - val_binary_accuracy: 0.5999\n",
            "Epoch 2/10\n",
            "1/1 [==============================] - 1s 1s/step - loss: 0.5298 - binary_accuracy: 0.4673 - val_loss: 0.3931 - val_binary_accuracy: 0.5999\n",
            "Epoch 3/10\n",
            "1/1 [==============================] - 1s 1s/step - loss: 0.5297 - binary_accuracy: 0.4673 - val_loss: 0.3930 - val_binary_accuracy: 0.5999\n",
            "Epoch 4/10\n",
            "1/1 [==============================] - 1s 1s/step - loss: 0.5297 - binary_accuracy: 0.4673 - val_loss: 0.3929 - val_binary_accuracy: 0.5999\n",
            "Epoch 5/10\n",
            "1/1 [==============================] - 1s 1s/step - loss: 0.5297 - binary_accuracy: 0.4673 - val_loss: 0.3929 - val_binary_accuracy: 0.5999\n",
            "Epoch 6/10\n",
            "1/1 [==============================] - 1s 1s/step - loss: 0.5297 - binary_accuracy: 0.4673 - val_loss: 0.3928 - val_binary_accuracy: 0.5999\n",
            "Epoch 7/10\n",
            "1/1 [==============================] - 1s 1s/step - loss: 0.5297 - binary_accuracy: 0.4673 - val_loss: 0.3928 - val_binary_accuracy: 0.5999\n",
            "Epoch 8/10\n",
            "1/1 [==============================] - 1s 1s/step - loss: 0.5297 - binary_accuracy: 0.4673 - val_loss: 0.3927 - val_binary_accuracy: 0.5999\n",
            "Epoch 9/10\n",
            "1/1 [==============================] - 1s 1s/step - loss: 0.5297 - binary_accuracy: 0.4673 - val_loss: 0.3927 - val_binary_accuracy: 0.5999\n",
            "Epoch 10/10\n",
            "1/1 [==============================] - 1s 1s/step - loss: 0.5297 - binary_accuracy: 0.4673 - val_loss: 0.3926 - val_binary_accuracy: 0.5999\n",
            "1/1 [==============================] - 0s 144ms/step - loss: 0.3926 - binary_accuracy: 0.5999\n",
            "Epoch 1/10\n",
            "WARNING:tensorflow:Model was constructed with shape (None, 1) for input KerasTensor(type_spec=TensorSpec(shape=(None, 1), dtype=tf.float32, name='dense_52_input'), name='dense_52_input', description=\"created by layer 'dense_52_input'\"), but it was called on an input with incompatible shape (None, 500, 500, 1).\n"
          ]
        },
        {
          "name": "stderr",
          "output_type": "stream",
          "text": [
            "WARNING:tensorflow:Model was constructed with shape (None, 1) for input KerasTensor(type_spec=TensorSpec(shape=(None, 1), dtype=tf.float32, name='dense_52_input'), name='dense_52_input', description=\"created by layer 'dense_52_input'\"), but it was called on an input with incompatible shape (None, 500, 500, 1).\n"
          ]
        },
        {
          "name": "stdout",
          "output_type": "stream",
          "text": [
            "WARNING:tensorflow:Model was constructed with shape (None, 1) for input KerasTensor(type_spec=TensorSpec(shape=(None, 1), dtype=tf.float32, name='dense_52_input'), name='dense_52_input', description=\"created by layer 'dense_52_input'\"), but it was called on an input with incompatible shape (None, 500, 500, 1).\n"
          ]
        },
        {
          "name": "stderr",
          "output_type": "stream",
          "text": [
            "WARNING:tensorflow:Model was constructed with shape (None, 1) for input KerasTensor(type_spec=TensorSpec(shape=(None, 1), dtype=tf.float32, name='dense_52_input'), name='dense_52_input', description=\"created by layer 'dense_52_input'\"), but it was called on an input with incompatible shape (None, 500, 500, 1).\n"
          ]
        },
        {
          "name": "stdout",
          "output_type": "stream",
          "text": [
            "\r1/1 [==============================] - ETA: 0s - loss: 0.5278 - binary_accuracy: 0.4667WARNING:tensorflow:Model was constructed with shape (None, 1) for input KerasTensor(type_spec=TensorSpec(shape=(None, 1), dtype=tf.float32, name='dense_52_input'), name='dense_52_input', description=\"created by layer 'dense_52_input'\"), but it was called on an input with incompatible shape (None, 500, 500, 1).\n"
          ]
        },
        {
          "name": "stderr",
          "output_type": "stream",
          "text": [
            "WARNING:tensorflow:Model was constructed with shape (None, 1) for input KerasTensor(type_spec=TensorSpec(shape=(None, 1), dtype=tf.float32, name='dense_52_input'), name='dense_52_input', description=\"created by layer 'dense_52_input'\"), but it was called on an input with incompatible shape (None, 500, 500, 1).\n"
          ]
        },
        {
          "name": "stdout",
          "output_type": "stream",
          "text": [
            "1/1 [==============================] - 2s 2s/step - loss: 0.5278 - binary_accuracy: 0.4667 - val_loss: 0.3868 - val_binary_accuracy: 0.5999\n",
            "Epoch 2/10\n",
            "1/1 [==============================] - 1s 1s/step - loss: 0.5276 - binary_accuracy: 0.4673 - val_loss: 0.3865 - val_binary_accuracy: 0.5999\n",
            "Epoch 3/10\n",
            "1/1 [==============================] - 1s 1s/step - loss: 0.5274 - binary_accuracy: 0.4673 - val_loss: 0.3861 - val_binary_accuracy: 0.5999\n",
            "Epoch 4/10\n",
            "1/1 [==============================] - 1s 1s/step - loss: 0.5272 - binary_accuracy: 0.4673 - val_loss: 0.3858 - val_binary_accuracy: 0.5999\n",
            "Epoch 5/10\n",
            "1/1 [==============================] - 1s 1s/step - loss: 0.5270 - binary_accuracy: 0.4673 - val_loss: 0.3854 - val_binary_accuracy: 0.5999\n",
            "Epoch 6/10\n",
            "1/1 [==============================] - 1s 1s/step - loss: 0.5268 - binary_accuracy: 0.4673 - val_loss: 0.3851 - val_binary_accuracy: 0.5999\n",
            "Epoch 7/10\n",
            "1/1 [==============================] - 1s 1s/step - loss: 0.5266 - binary_accuracy: 0.4673 - val_loss: 0.3848 - val_binary_accuracy: 0.5999\n",
            "Epoch 8/10\n",
            "1/1 [==============================] - 1s 1s/step - loss: 0.5264 - binary_accuracy: 0.4673 - val_loss: 0.3845 - val_binary_accuracy: 0.5999\n",
            "Epoch 9/10\n",
            "1/1 [==============================] - 1s 1s/step - loss: 0.5262 - binary_accuracy: 0.4673 - val_loss: 0.3841 - val_binary_accuracy: 0.5999\n",
            "Epoch 10/10\n",
            "1/1 [==============================] - 1s 1s/step - loss: 0.5260 - binary_accuracy: 0.4673 - val_loss: 0.3838 - val_binary_accuracy: 0.5999\n",
            "1/1 [==============================] - 0s 167ms/step - loss: 0.3838 - binary_accuracy: 0.5999\n",
            "Epoch 1/10\n",
            "WARNING:tensorflow:Model was constructed with shape (None, 1) for input KerasTensor(type_spec=TensorSpec(shape=(None, 1), dtype=tf.float32, name='dense_54_input'), name='dense_54_input', description=\"created by layer 'dense_54_input'\"), but it was called on an input with incompatible shape (None, 500, 500, 1).\n"
          ]
        },
        {
          "name": "stderr",
          "output_type": "stream",
          "text": [
            "WARNING:tensorflow:Model was constructed with shape (None, 1) for input KerasTensor(type_spec=TensorSpec(shape=(None, 1), dtype=tf.float32, name='dense_54_input'), name='dense_54_input', description=\"created by layer 'dense_54_input'\"), but it was called on an input with incompatible shape (None, 500, 500, 1).\n"
          ]
        },
        {
          "name": "stdout",
          "output_type": "stream",
          "text": [
            "WARNING:tensorflow:Model was constructed with shape (None, 1) for input KerasTensor(type_spec=TensorSpec(shape=(None, 1), dtype=tf.float32, name='dense_54_input'), name='dense_54_input', description=\"created by layer 'dense_54_input'\"), but it was called on an input with incompatible shape (None, 500, 500, 1).\n"
          ]
        },
        {
          "name": "stderr",
          "output_type": "stream",
          "text": [
            "WARNING:tensorflow:Model was constructed with shape (None, 1) for input KerasTensor(type_spec=TensorSpec(shape=(None, 1), dtype=tf.float32, name='dense_54_input'), name='dense_54_input', description=\"created by layer 'dense_54_input'\"), but it was called on an input with incompatible shape (None, 500, 500, 1).\n"
          ]
        },
        {
          "name": "stdout",
          "output_type": "stream",
          "text": [
            "\r1/1 [==============================] - ETA: 0s - loss: 0.5245 - binary_accuracy: 0.4667WARNING:tensorflow:Model was constructed with shape (None, 1) for input KerasTensor(type_spec=TensorSpec(shape=(None, 1), dtype=tf.float32, name='dense_54_input'), name='dense_54_input', description=\"created by layer 'dense_54_input'\"), but it was called on an input with incompatible shape (None, 500, 500, 1).\n"
          ]
        },
        {
          "name": "stderr",
          "output_type": "stream",
          "text": [
            "WARNING:tensorflow:Model was constructed with shape (None, 1) for input KerasTensor(type_spec=TensorSpec(shape=(None, 1), dtype=tf.float32, name='dense_54_input'), name='dense_54_input', description=\"created by layer 'dense_54_input'\"), but it was called on an input with incompatible shape (None, 500, 500, 1).\n"
          ]
        },
        {
          "name": "stdout",
          "output_type": "stream",
          "text": [
            "1/1 [==============================] - 2s 2s/step - loss: 0.5245 - binary_accuracy: 0.4667 - val_loss: 0.3808 - val_binary_accuracy: 0.5999\n",
            "Epoch 2/10\n",
            "1/1 [==============================] - 2s 2s/step - loss: 0.5236 - binary_accuracy: 0.4673 - val_loss: 0.3797 - val_binary_accuracy: 0.5999\n",
            "Epoch 3/10\n",
            "1/1 [==============================] - 2s 2s/step - loss: 0.5227 - binary_accuracy: 0.4673 - val_loss: 0.3786 - val_binary_accuracy: 0.5999\n",
            "Epoch 4/10\n",
            "1/1 [==============================] - 2s 2s/step - loss: 0.5217 - binary_accuracy: 0.4673 - val_loss: 0.3775 - val_binary_accuracy: 0.5999\n",
            "Epoch 5/10\n",
            "1/1 [==============================] - 2s 2s/step - loss: 0.5206 - binary_accuracy: 0.4673 - val_loss: 0.3762 - val_binary_accuracy: 0.5999\n",
            "Epoch 6/10\n",
            "1/1 [==============================] - 2s 2s/step - loss: 0.5193 - binary_accuracy: 0.4673 - val_loss: 0.3748 - val_binary_accuracy: 0.5999\n",
            "Epoch 7/10\n",
            "1/1 [==============================] - 2s 2s/step - loss: 0.5176 - binary_accuracy: 0.4673 - val_loss: 0.3730 - val_binary_accuracy: 0.5999\n",
            "Epoch 8/10\n",
            "1/1 [==============================] - 2s 2s/step - loss: 0.5155 - binary_accuracy: 0.4673 - val_loss: 0.3709 - val_binary_accuracy: 0.5999\n",
            "Epoch 9/10\n",
            "1/1 [==============================] - 2s 2s/step - loss: 0.5126 - binary_accuracy: 0.4673 - val_loss: 0.3681 - val_binary_accuracy: 0.5999\n",
            "Epoch 10/10\n",
            "1/1 [==============================] - 2s 2s/step - loss: 0.5084 - binary_accuracy: 0.4673 - val_loss: 0.3642 - val_binary_accuracy: 0.5980\n",
            "1/1 [==============================] - 0s 219ms/step - loss: 0.3642 - binary_accuracy: 0.5980\n",
            "Epoch 1/10\n",
            "WARNING:tensorflow:Model was constructed with shape (None, 1) for input KerasTensor(type_spec=TensorSpec(shape=(None, 1), dtype=tf.float32, name='dense_56_input'), name='dense_56_input', description=\"created by layer 'dense_56_input'\"), but it was called on an input with incompatible shape (None, 500, 500, 1).\n"
          ]
        },
        {
          "name": "stderr",
          "output_type": "stream",
          "text": [
            "WARNING:tensorflow:Model was constructed with shape (None, 1) for input KerasTensor(type_spec=TensorSpec(shape=(None, 1), dtype=tf.float32, name='dense_56_input'), name='dense_56_input', description=\"created by layer 'dense_56_input'\"), but it was called on an input with incompatible shape (None, 500, 500, 1).\n"
          ]
        },
        {
          "name": "stdout",
          "output_type": "stream",
          "text": [
            "WARNING:tensorflow:Model was constructed with shape (None, 1) for input KerasTensor(type_spec=TensorSpec(shape=(None, 1), dtype=tf.float32, name='dense_56_input'), name='dense_56_input', description=\"created by layer 'dense_56_input'\"), but it was called on an input with incompatible shape (None, 500, 500, 1).\n"
          ]
        },
        {
          "name": "stderr",
          "output_type": "stream",
          "text": [
            "WARNING:tensorflow:Model was constructed with shape (None, 1) for input KerasTensor(type_spec=TensorSpec(shape=(None, 1), dtype=tf.float32, name='dense_56_input'), name='dense_56_input', description=\"created by layer 'dense_56_input'\"), but it was called on an input with incompatible shape (None, 500, 500, 1).\n"
          ]
        },
        {
          "name": "stdout",
          "output_type": "stream",
          "text": [
            "\r1/1 [==============================] - ETA: 0s - loss: 0.4416 - binary_accuracy: 0.5327WARNING:tensorflow:Model was constructed with shape (None, 1) for input KerasTensor(type_spec=TensorSpec(shape=(None, 1), dtype=tf.float32, name='dense_56_input'), name='dense_56_input', description=\"created by layer 'dense_56_input'\"), but it was called on an input with incompatible shape (None, 500, 500, 1).\n"
          ]
        },
        {
          "name": "stderr",
          "output_type": "stream",
          "text": [
            "WARNING:tensorflow:Model was constructed with shape (None, 1) for input KerasTensor(type_spec=TensorSpec(shape=(None, 1), dtype=tf.float32, name='dense_56_input'), name='dense_56_input', description=\"created by layer 'dense_56_input'\"), but it was called on an input with incompatible shape (None, 500, 500, 1).\n"
          ]
        },
        {
          "name": "stdout",
          "output_type": "stream",
          "text": [
            "1/1 [==============================] - 3s 3s/step - loss: 0.4416 - binary_accuracy: 0.5327 - val_loss: 0.5104 - val_binary_accuracy: 0.4001\n",
            "Epoch 2/10\n",
            "1/1 [==============================] - 3s 3s/step - loss: 0.4216 - binary_accuracy: 0.5327 - val_loss: 0.4480 - val_binary_accuracy: 0.4020\n",
            "Epoch 3/10\n",
            "1/1 [==============================] - 3s 3s/step - loss: 0.3684 - binary_accuracy: 0.5326 - val_loss: 0.2467 - val_binary_accuracy: 0.6000\n",
            "Epoch 4/10\n",
            "1/1 [==============================] - 3s 3s/step - loss: 0.2517 - binary_accuracy: 0.4667 - val_loss: 0.3850 - val_binary_accuracy: 0.4070\n",
            "Epoch 5/10\n",
            "1/1 [==============================] - 3s 3s/step - loss: 0.3199 - binary_accuracy: 0.5326 - val_loss: 0.2510 - val_binary_accuracy: 0.6000\n",
            "Epoch 6/10\n",
            "1/1 [==============================] - 3s 3s/step - loss: 0.2922 - binary_accuracy: 0.4667 - val_loss: 0.3754 - val_binary_accuracy: 0.4070\n",
            "Epoch 7/10\n",
            "1/1 [==============================] - 3s 3s/step - loss: 0.3130 - binary_accuracy: 0.5326 - val_loss: 0.2492 - val_binary_accuracy: 0.5571\n",
            "Epoch 8/10\n",
            "1/1 [==============================] - 3s 3s/step - loss: 0.2503 - binary_accuracy: 0.4787 - val_loss: 0.2748 - val_binary_accuracy: 0.4220\n",
            "Epoch 9/10\n",
            "1/1 [==============================] - 3s 3s/step - loss: 0.2539 - binary_accuracy: 0.5312 - val_loss: 0.2430 - val_binary_accuracy: 0.6000\n",
            "Epoch 10/10\n",
            "1/1 [==============================] - 3s 3s/step - loss: 0.2673 - binary_accuracy: 0.4667 - val_loss: 0.3382 - val_binary_accuracy: 0.4100\n",
            "1/1 [==============================] - 0s 342ms/step - loss: 0.3382 - binary_accuracy: 0.4100\n",
            "Epoch 1/10\n",
            "WARNING:tensorflow:Model was constructed with shape (None, 1) for input KerasTensor(type_spec=TensorSpec(shape=(None, 1), dtype=tf.float32, name='dense_58_input'), name='dense_58_input', description=\"created by layer 'dense_58_input'\"), but it was called on an input with incompatible shape (None, 100, 100, 1).\n"
          ]
        },
        {
          "name": "stderr",
          "output_type": "stream",
          "text": [
            "WARNING:tensorflow:Model was constructed with shape (None, 1) for input KerasTensor(type_spec=TensorSpec(shape=(None, 1), dtype=tf.float32, name='dense_58_input'), name='dense_58_input', description=\"created by layer 'dense_58_input'\"), but it was called on an input with incompatible shape (None, 100, 100, 1).\n"
          ]
        },
        {
          "name": "stdout",
          "output_type": "stream",
          "text": [
            "WARNING:tensorflow:Model was constructed with shape (None, 1) for input KerasTensor(type_spec=TensorSpec(shape=(None, 1), dtype=tf.float32, name='dense_58_input'), name='dense_58_input', description=\"created by layer 'dense_58_input'\"), but it was called on an input with incompatible shape (None, 100, 100, 1).\n"
          ]
        },
        {
          "name": "stderr",
          "output_type": "stream",
          "text": [
            "WARNING:tensorflow:Model was constructed with shape (None, 1) for input KerasTensor(type_spec=TensorSpec(shape=(None, 1), dtype=tf.float32, name='dense_58_input'), name='dense_58_input', description=\"created by layer 'dense_58_input'\"), but it was called on an input with incompatible shape (None, 100, 100, 1).\n"
          ]
        },
        {
          "name": "stdout",
          "output_type": "stream",
          "text": [
            "\r1/1 [==============================] - ETA: 0s - loss: 0.5254 - binary_accuracy: 0.4667WARNING:tensorflow:Model was constructed with shape (None, 1) for input KerasTensor(type_spec=TensorSpec(shape=(None, 1), dtype=tf.float32, name='dense_58_input'), name='dense_58_input', description=\"created by layer 'dense_58_input'\"), but it was called on an input with incompatible shape (None, 100, 100, 1).\n"
          ]
        },
        {
          "name": "stderr",
          "output_type": "stream",
          "text": [
            "WARNING:tensorflow:Model was constructed with shape (None, 1) for input KerasTensor(type_spec=TensorSpec(shape=(None, 1), dtype=tf.float32, name='dense_58_input'), name='dense_58_input', description=\"created by layer 'dense_58_input'\"), but it was called on an input with incompatible shape (None, 100, 100, 1).\n"
          ]
        },
        {
          "name": "stdout",
          "output_type": "stream",
          "text": [
            "1/1 [==============================] - 1s 828ms/step - loss: 0.5254 - binary_accuracy: 0.4667 - val_loss: 0.3822 - val_binary_accuracy: 0.5999\n",
            "Epoch 2/10\n",
            "1/1 [==============================] - 0s 84ms/step - loss: 0.5248 - binary_accuracy: 0.4673 - val_loss: 0.3814 - val_binary_accuracy: 0.5999\n",
            "Epoch 3/10\n",
            "1/1 [==============================] - 0s 111ms/step - loss: 0.5242 - binary_accuracy: 0.4673 - val_loss: 0.3807 - val_binary_accuracy: 0.5999\n",
            "Epoch 4/10\n",
            "1/1 [==============================] - 0s 117ms/step - loss: 0.5236 - binary_accuracy: 0.4673 - val_loss: 0.3800 - val_binary_accuracy: 0.5999\n",
            "Epoch 5/10\n",
            "1/1 [==============================] - 0s 121ms/step - loss: 0.5230 - binary_accuracy: 0.4673 - val_loss: 0.3792 - val_binary_accuracy: 0.5999\n",
            "Epoch 6/10\n",
            "1/1 [==============================] - 0s 118ms/step - loss: 0.5223 - binary_accuracy: 0.4673 - val_loss: 0.3784 - val_binary_accuracy: 0.5999\n",
            "Epoch 7/10\n",
            "1/1 [==============================] - 0s 120ms/step - loss: 0.5216 - binary_accuracy: 0.4673 - val_loss: 0.3775 - val_binary_accuracy: 0.5999\n",
            "Epoch 8/10\n",
            "1/1 [==============================] - 0s 122ms/step - loss: 0.5207 - binary_accuracy: 0.4673 - val_loss: 0.3765 - val_binary_accuracy: 0.5999\n",
            "Epoch 9/10\n",
            "1/1 [==============================] - 0s 139ms/step - loss: 0.5197 - binary_accuracy: 0.4673 - val_loss: 0.3754 - val_binary_accuracy: 0.5999\n",
            "Epoch 10/10\n",
            "1/1 [==============================] - 0s 129ms/step - loss: 0.5185 - binary_accuracy: 0.4673 - val_loss: 0.3741 - val_binary_accuracy: 0.5999\n",
            "1/1 [==============================] - 0s 41ms/step - loss: 0.3741 - binary_accuracy: 0.5999\n",
            "Epoch 1/10\n",
            "WARNING:tensorflow:Model was constructed with shape (None, 1) for input KerasTensor(type_spec=TensorSpec(shape=(None, 1), dtype=tf.float32, name='dense_60_input'), name='dense_60_input', description=\"created by layer 'dense_60_input'\"), but it was called on an input with incompatible shape (None, 100, 100, 1).\n"
          ]
        },
        {
          "name": "stderr",
          "output_type": "stream",
          "text": [
            "WARNING:tensorflow:Model was constructed with shape (None, 1) for input KerasTensor(type_spec=TensorSpec(shape=(None, 1), dtype=tf.float32, name='dense_60_input'), name='dense_60_input', description=\"created by layer 'dense_60_input'\"), but it was called on an input with incompatible shape (None, 100, 100, 1).\n"
          ]
        },
        {
          "name": "stdout",
          "output_type": "stream",
          "text": [
            "WARNING:tensorflow:Model was constructed with shape (None, 1) for input KerasTensor(type_spec=TensorSpec(shape=(None, 1), dtype=tf.float32, name='dense_60_input'), name='dense_60_input', description=\"created by layer 'dense_60_input'\"), but it was called on an input with incompatible shape (None, 100, 100, 1).\n"
          ]
        },
        {
          "name": "stderr",
          "output_type": "stream",
          "text": [
            "WARNING:tensorflow:Model was constructed with shape (None, 1) for input KerasTensor(type_spec=TensorSpec(shape=(None, 1), dtype=tf.float32, name='dense_60_input'), name='dense_60_input', description=\"created by layer 'dense_60_input'\"), but it was called on an input with incompatible shape (None, 100, 100, 1).\n"
          ]
        },
        {
          "name": "stdout",
          "output_type": "stream",
          "text": [
            "\r1/1 [==============================] - ETA: 0s - loss: 0.4637 - binary_accuracy: 0.5327WARNING:tensorflow:Model was constructed with shape (None, 1) for input KerasTensor(type_spec=TensorSpec(shape=(None, 1), dtype=tf.float32, name='dense_60_input'), name='dense_60_input', description=\"created by layer 'dense_60_input'\"), but it was called on an input with incompatible shape (None, 100, 100, 1).\n"
          ]
        },
        {
          "name": "stderr",
          "output_type": "stream",
          "text": [
            "WARNING:tensorflow:Model was constructed with shape (None, 1) for input KerasTensor(type_spec=TensorSpec(shape=(None, 1), dtype=tf.float32, name='dense_60_input'), name='dense_60_input', description=\"created by layer 'dense_60_input'\"), but it was called on an input with incompatible shape (None, 100, 100, 1).\n"
          ]
        },
        {
          "name": "stdout",
          "output_type": "stream",
          "text": [
            "1/1 [==============================] - 1s 1s/step - loss: 0.4637 - binary_accuracy: 0.5327 - val_loss: 0.5859 - val_binary_accuracy: 0.4001\n",
            "Epoch 2/10\n",
            "1/1 [==============================] - 0s 89ms/step - loss: 0.4637 - binary_accuracy: 0.5327 - val_loss: 0.5855 - val_binary_accuracy: 0.4001\n",
            "Epoch 3/10\n",
            "1/1 [==============================] - 0s 89ms/step - loss: 0.4636 - binary_accuracy: 0.5327 - val_loss: 0.5852 - val_binary_accuracy: 0.4001\n",
            "Epoch 4/10\n",
            "1/1 [==============================] - 0s 91ms/step - loss: 0.4636 - binary_accuracy: 0.5327 - val_loss: 0.5849 - val_binary_accuracy: 0.4001\n",
            "Epoch 5/10\n",
            "1/1 [==============================] - 0s 87ms/step - loss: 0.4635 - binary_accuracy: 0.5327 - val_loss: 0.5846 - val_binary_accuracy: 0.4001\n",
            "Epoch 6/10\n",
            "1/1 [==============================] - 0s 89ms/step - loss: 0.4635 - binary_accuracy: 0.5327 - val_loss: 0.5844 - val_binary_accuracy: 0.4001\n",
            "Epoch 7/10\n",
            "1/1 [==============================] - 0s 94ms/step - loss: 0.4635 - binary_accuracy: 0.5327 - val_loss: 0.5841 - val_binary_accuracy: 0.4001\n",
            "Epoch 8/10\n",
            "1/1 [==============================] - 0s 96ms/step - loss: 0.4634 - binary_accuracy: 0.5327 - val_loss: 0.5838 - val_binary_accuracy: 0.4001\n",
            "Epoch 9/10\n",
            "1/1 [==============================] - 0s 85ms/step - loss: 0.4634 - binary_accuracy: 0.5327 - val_loss: 0.5836 - val_binary_accuracy: 0.4001\n",
            "Epoch 10/10\n",
            "1/1 [==============================] - 0s 83ms/step - loss: 0.4634 - binary_accuracy: 0.5327 - val_loss: 0.5833 - val_binary_accuracy: 0.4001\n",
            "1/1 [==============================] - 0s 29ms/step - loss: 0.5833 - binary_accuracy: 0.4001\n",
            "Epoch 1/10\n",
            "WARNING:tensorflow:Model was constructed with shape (None, 1) for input KerasTensor(type_spec=TensorSpec(shape=(None, 1), dtype=tf.float32, name='dense_62_input'), name='dense_62_input', description=\"created by layer 'dense_62_input'\"), but it was called on an input with incompatible shape (None, 100, 100, 1).\n"
          ]
        },
        {
          "name": "stderr",
          "output_type": "stream",
          "text": [
            "WARNING:tensorflow:Model was constructed with shape (None, 1) for input KerasTensor(type_spec=TensorSpec(shape=(None, 1), dtype=tf.float32, name='dense_62_input'), name='dense_62_input', description=\"created by layer 'dense_62_input'\"), but it was called on an input with incompatible shape (None, 100, 100, 1).\n"
          ]
        },
        {
          "name": "stdout",
          "output_type": "stream",
          "text": [
            "WARNING:tensorflow:Model was constructed with shape (None, 1) for input KerasTensor(type_spec=TensorSpec(shape=(None, 1), dtype=tf.float32, name='dense_62_input'), name='dense_62_input', description=\"created by layer 'dense_62_input'\"), but it was called on an input with incompatible shape (None, 100, 100, 1).\n"
          ]
        },
        {
          "name": "stderr",
          "output_type": "stream",
          "text": [
            "WARNING:tensorflow:Model was constructed with shape (None, 1) for input KerasTensor(type_spec=TensorSpec(shape=(None, 1), dtype=tf.float32, name='dense_62_input'), name='dense_62_input', description=\"created by layer 'dense_62_input'\"), but it was called on an input with incompatible shape (None, 100, 100, 1).\n"
          ]
        },
        {
          "name": "stdout",
          "output_type": "stream",
          "text": [
            "\r1/1 [==============================] - ETA: 0s - loss: 0.5220 - binary_accuracy: 0.4667WARNING:tensorflow:Model was constructed with shape (None, 1) for input KerasTensor(type_spec=TensorSpec(shape=(None, 1), dtype=tf.float32, name='dense_62_input'), name='dense_62_input', description=\"created by layer 'dense_62_input'\"), but it was called on an input with incompatible shape (None, 100, 100, 1).\n"
          ]
        },
        {
          "name": "stderr",
          "output_type": "stream",
          "text": [
            "WARNING:tensorflow:Model was constructed with shape (None, 1) for input KerasTensor(type_spec=TensorSpec(shape=(None, 1), dtype=tf.float32, name='dense_62_input'), name='dense_62_input', description=\"created by layer 'dense_62_input'\"), but it was called on an input with incompatible shape (None, 100, 100, 1).\n"
          ]
        },
        {
          "name": "stdout",
          "output_type": "stream",
          "text": [
            "1/1 [==============================] - 1s 822ms/step - loss: 0.5220 - binary_accuracy: 0.4667 - val_loss: 0.3766 - val_binary_accuracy: 0.5999\n",
            "Epoch 2/10\n",
            "1/1 [==============================] - 0s 105ms/step - loss: 0.5198 - binary_accuracy: 0.4673 - val_loss: 0.3742 - val_binary_accuracy: 0.5999\n",
            "Epoch 3/10\n",
            "1/1 [==============================] - 0s 98ms/step - loss: 0.5170 - binary_accuracy: 0.4673 - val_loss: 0.3711 - val_binary_accuracy: 0.5999\n",
            "Epoch 4/10\n",
            "1/1 [==============================] - 0s 125ms/step - loss: 0.5130 - binary_accuracy: 0.4673 - val_loss: 0.3668 - val_binary_accuracy: 0.5999\n",
            "Epoch 5/10\n",
            "1/1 [==============================] - 0s 97ms/step - loss: 0.5066 - binary_accuracy: 0.4673 - val_loss: 0.3600 - val_binary_accuracy: 0.5999\n",
            "Epoch 6/10\n",
            "1/1 [==============================] - 0s 125ms/step - loss: 0.4951 - binary_accuracy: 0.4673 - val_loss: 0.3474 - val_binary_accuracy: 0.5984\n",
            "Epoch 7/10\n",
            "1/1 [==============================] - 0s 105ms/step - loss: 0.4713 - binary_accuracy: 0.4673 - val_loss: 0.3159 - val_binary_accuracy: 0.5901\n",
            "Epoch 8/10\n",
            "1/1 [==============================] - 0s 105ms/step - loss: 0.4115 - binary_accuracy: 0.4675 - val_loss: 0.2451 - val_binary_accuracy: 0.5577\n",
            "Epoch 9/10\n",
            "1/1 [==============================] - 0s 102ms/step - loss: 0.2567 - binary_accuracy: 0.4733 - val_loss: 0.3841 - val_binary_accuracy: 0.4000\n",
            "Epoch 10/10\n",
            "1/1 [==============================] - 0s 101ms/step - loss: 0.3182 - binary_accuracy: 0.5333 - val_loss: 0.2448 - val_binary_accuracy: 0.5615\n",
            "1/1 [==============================] - 0s 38ms/step - loss: 0.2448 - binary_accuracy: 0.5615\n",
            "Epoch 1/10\n",
            "WARNING:tensorflow:Model was constructed with shape (None, 1) for input KerasTensor(type_spec=TensorSpec(shape=(None, 1), dtype=tf.float32, name='dense_64_input'), name='dense_64_input', description=\"created by layer 'dense_64_input'\"), but it was called on an input with incompatible shape (None, 100, 100, 1).\n"
          ]
        },
        {
          "name": "stderr",
          "output_type": "stream",
          "text": [
            "WARNING:tensorflow:Model was constructed with shape (None, 1) for input KerasTensor(type_spec=TensorSpec(shape=(None, 1), dtype=tf.float32, name='dense_64_input'), name='dense_64_input', description=\"created by layer 'dense_64_input'\"), but it was called on an input with incompatible shape (None, 100, 100, 1).\n"
          ]
        },
        {
          "name": "stdout",
          "output_type": "stream",
          "text": [
            "WARNING:tensorflow:Model was constructed with shape (None, 1) for input KerasTensor(type_spec=TensorSpec(shape=(None, 1), dtype=tf.float32, name='dense_64_input'), name='dense_64_input', description=\"created by layer 'dense_64_input'\"), but it was called on an input with incompatible shape (None, 100, 100, 1).\n"
          ]
        },
        {
          "name": "stderr",
          "output_type": "stream",
          "text": [
            "WARNING:tensorflow:Model was constructed with shape (None, 1) for input KerasTensor(type_spec=TensorSpec(shape=(None, 1), dtype=tf.float32, name='dense_64_input'), name='dense_64_input', description=\"created by layer 'dense_64_input'\"), but it was called on an input with incompatible shape (None, 100, 100, 1).\n"
          ]
        },
        {
          "name": "stdout",
          "output_type": "stream",
          "text": [
            "\r1/1 [==============================] - ETA: 0s - loss: 0.4489 - binary_accuracy: 0.5327WARNING:tensorflow:Model was constructed with shape (None, 1) for input KerasTensor(type_spec=TensorSpec(shape=(None, 1), dtype=tf.float32, name='dense_64_input'), name='dense_64_input', description=\"created by layer 'dense_64_input'\"), but it was called on an input with incompatible shape (None, 100, 100, 1).\n"
          ]
        },
        {
          "name": "stderr",
          "output_type": "stream",
          "text": [
            "WARNING:tensorflow:Model was constructed with shape (None, 1) for input KerasTensor(type_spec=TensorSpec(shape=(None, 1), dtype=tf.float32, name='dense_64_input'), name='dense_64_input', description=\"created by layer 'dense_64_input'\"), but it was called on an input with incompatible shape (None, 100, 100, 1).\n"
          ]
        },
        {
          "name": "stdout",
          "output_type": "stream",
          "text": [
            "1/1 [==============================] - 1s 850ms/step - loss: 0.4489 - binary_accuracy: 0.5327 - val_loss: 0.5236 - val_binary_accuracy: 0.4001\n",
            "Epoch 2/10\n",
            "1/1 [==============================] - 0s 138ms/step - loss: 0.4330 - binary_accuracy: 0.5327 - val_loss: 0.4589 - val_binary_accuracy: 0.4016\n",
            "Epoch 3/10\n",
            "1/1 [==============================] - 0s 136ms/step - loss: 0.3775 - binary_accuracy: 0.5327 - val_loss: 0.2533 - val_binary_accuracy: 0.6000\n",
            "Epoch 4/10\n",
            "1/1 [==============================] - 0s 133ms/step - loss: 0.2977 - binary_accuracy: 0.4667 - val_loss: 0.4545 - val_binary_accuracy: 0.4016\n",
            "Epoch 5/10\n",
            "1/1 [==============================] - 0s 144ms/step - loss: 0.3739 - binary_accuracy: 0.5327 - val_loss: 0.3751 - val_binary_accuracy: 0.4099\n",
            "Epoch 6/10\n",
            "1/1 [==============================] - 0s 133ms/step - loss: 0.3129 - binary_accuracy: 0.5325 - val_loss: 0.2503 - val_binary_accuracy: 0.6000\n",
            "Epoch 7/10\n",
            "1/1 [==============================] - 0s 140ms/step - loss: 0.2911 - binary_accuracy: 0.4667 - val_loss: 0.3957 - val_binary_accuracy: 0.4099\n",
            "Epoch 8/10\n",
            "1/1 [==============================] - 0s 149ms/step - loss: 0.3278 - binary_accuracy: 0.5325 - val_loss: 0.2573 - val_binary_accuracy: 0.4433\n",
            "Epoch 9/10\n",
            "1/1 [==============================] - 0s 141ms/step - loss: 0.2495 - binary_accuracy: 0.5264 - val_loss: 0.2492 - val_binary_accuracy: 0.5421\n",
            "Epoch 10/10\n",
            "1/1 [==============================] - 0s 143ms/step - loss: 0.2503 - binary_accuracy: 0.4855 - val_loss: 0.2822 - val_binary_accuracy: 0.4234\n",
            "1/1 [==============================] - 0s 36ms/step - loss: 0.2822 - binary_accuracy: 0.4234\n",
            "Epoch 1/10\n",
            "WARNING:tensorflow:Model was constructed with shape (None, 1) for input KerasTensor(type_spec=TensorSpec(shape=(None, 1), dtype=tf.float32, name='dense_66_input'), name='dense_66_input', description=\"created by layer 'dense_66_input'\"), but it was called on an input with incompatible shape (None, 50, 50, 1).\n"
          ]
        },
        {
          "name": "stderr",
          "output_type": "stream",
          "text": [
            "WARNING:tensorflow:Model was constructed with shape (None, 1) for input KerasTensor(type_spec=TensorSpec(shape=(None, 1), dtype=tf.float32, name='dense_66_input'), name='dense_66_input', description=\"created by layer 'dense_66_input'\"), but it was called on an input with incompatible shape (None, 50, 50, 1).\n"
          ]
        },
        {
          "name": "stdout",
          "output_type": "stream",
          "text": [
            "WARNING:tensorflow:Model was constructed with shape (None, 1) for input KerasTensor(type_spec=TensorSpec(shape=(None, 1), dtype=tf.float32, name='dense_66_input'), name='dense_66_input', description=\"created by layer 'dense_66_input'\"), but it was called on an input with incompatible shape (None, 50, 50, 1).\n"
          ]
        },
        {
          "name": "stderr",
          "output_type": "stream",
          "text": [
            "WARNING:tensorflow:Model was constructed with shape (None, 1) for input KerasTensor(type_spec=TensorSpec(shape=(None, 1), dtype=tf.float32, name='dense_66_input'), name='dense_66_input', description=\"created by layer 'dense_66_input'\"), but it was called on an input with incompatible shape (None, 50, 50, 1).\n"
          ]
        },
        {
          "name": "stdout",
          "output_type": "stream",
          "text": [
            "\r1/1 [==============================] - ETA: 0s - loss: 0.5253 - binary_accuracy: 0.4667WARNING:tensorflow:Model was constructed with shape (None, 1) for input KerasTensor(type_spec=TensorSpec(shape=(None, 1), dtype=tf.float32, name='dense_66_input'), name='dense_66_input', description=\"created by layer 'dense_66_input'\"), but it was called on an input with incompatible shape (None, 50, 50, 1).\n"
          ]
        },
        {
          "name": "stderr",
          "output_type": "stream",
          "text": [
            "WARNING:tensorflow:Model was constructed with shape (None, 1) for input KerasTensor(type_spec=TensorSpec(shape=(None, 1), dtype=tf.float32, name='dense_66_input'), name='dense_66_input', description=\"created by layer 'dense_66_input'\"), but it was called on an input with incompatible shape (None, 50, 50, 1).\n"
          ]
        },
        {
          "name": "stdout",
          "output_type": "stream",
          "text": [
            "1/1 [==============================] - 1s 765ms/step - loss: 0.5253 - binary_accuracy: 0.4667 - val_loss: 0.3822 - val_binary_accuracy: 0.5999\n",
            "Epoch 2/10\n",
            "1/1 [==============================] - 0s 45ms/step - loss: 0.5244 - binary_accuracy: 0.4674 - val_loss: 0.3808 - val_binary_accuracy: 0.5999\n",
            "Epoch 3/10\n",
            "1/1 [==============================] - 0s 42ms/step - loss: 0.5234 - binary_accuracy: 0.4674 - val_loss: 0.3793 - val_binary_accuracy: 0.5999\n",
            "Epoch 4/10\n",
            "1/1 [==============================] - 0s 44ms/step - loss: 0.5222 - binary_accuracy: 0.4674 - val_loss: 0.3775 - val_binary_accuracy: 0.5999\n",
            "Epoch 5/10\n",
            "1/1 [==============================] - 0s 43ms/step - loss: 0.5206 - binary_accuracy: 0.4674 - val_loss: 0.3754 - val_binary_accuracy: 0.5999\n",
            "Epoch 6/10\n",
            "1/1 [==============================] - 0s 45ms/step - loss: 0.5184 - binary_accuracy: 0.4674 - val_loss: 0.3725 - val_binary_accuracy: 0.5999\n",
            "Epoch 7/10\n",
            "1/1 [==============================] - 0s 46ms/step - loss: 0.5150 - binary_accuracy: 0.4674 - val_loss: 0.3684 - val_binary_accuracy: 0.5999\n",
            "Epoch 8/10\n",
            "1/1 [==============================] - 0s 44ms/step - loss: 0.5093 - binary_accuracy: 0.4674 - val_loss: 0.3614 - val_binary_accuracy: 0.5985\n",
            "Epoch 9/10\n",
            "1/1 [==============================] - 0s 45ms/step - loss: 0.4978 - binary_accuracy: 0.4675 - val_loss: 0.3473 - val_binary_accuracy: 0.5935\n",
            "Epoch 10/10\n",
            "1/1 [==============================] - 0s 48ms/step - loss: 0.4709 - binary_accuracy: 0.4676 - val_loss: 0.3034 - val_binary_accuracy: 0.5839\n",
            "1/1 [==============================] - 0s 24ms/step - loss: 0.3034 - binary_accuracy: 0.5839\n",
            "Epoch 1/10\n",
            "WARNING:tensorflow:Model was constructed with shape (None, 1) for input KerasTensor(type_spec=TensorSpec(shape=(None, 1), dtype=tf.float32, name='dense_68_input'), name='dense_68_input', description=\"created by layer 'dense_68_input'\"), but it was called on an input with incompatible shape (None, 50, 50, 1).\n"
          ]
        },
        {
          "name": "stderr",
          "output_type": "stream",
          "text": [
            "WARNING:tensorflow:Model was constructed with shape (None, 1) for input KerasTensor(type_spec=TensorSpec(shape=(None, 1), dtype=tf.float32, name='dense_68_input'), name='dense_68_input', description=\"created by layer 'dense_68_input'\"), but it was called on an input with incompatible shape (None, 50, 50, 1).\n"
          ]
        },
        {
          "name": "stdout",
          "output_type": "stream",
          "text": [
            "WARNING:tensorflow:Model was constructed with shape (None, 1) for input KerasTensor(type_spec=TensorSpec(shape=(None, 1), dtype=tf.float32, name='dense_68_input'), name='dense_68_input', description=\"created by layer 'dense_68_input'\"), but it was called on an input with incompatible shape (None, 50, 50, 1).\n"
          ]
        },
        {
          "name": "stderr",
          "output_type": "stream",
          "text": [
            "WARNING:tensorflow:Model was constructed with shape (None, 1) for input KerasTensor(type_spec=TensorSpec(shape=(None, 1), dtype=tf.float32, name='dense_68_input'), name='dense_68_input', description=\"created by layer 'dense_68_input'\"), but it was called on an input with incompatible shape (None, 50, 50, 1).\n"
          ]
        },
        {
          "name": "stdout",
          "output_type": "stream",
          "text": [
            "\r1/1 [==============================] - ETA: 0s - loss: 0.4571 - binary_accuracy: 0.5326WARNING:tensorflow:Model was constructed with shape (None, 1) for input KerasTensor(type_spec=TensorSpec(shape=(None, 1), dtype=tf.float32, name='dense_68_input'), name='dense_68_input', description=\"created by layer 'dense_68_input'\"), but it was called on an input with incompatible shape (None, 50, 50, 1).\n"
          ]
        },
        {
          "name": "stderr",
          "output_type": "stream",
          "text": [
            "WARNING:tensorflow:Model was constructed with shape (None, 1) for input KerasTensor(type_spec=TensorSpec(shape=(None, 1), dtype=tf.float32, name='dense_68_input'), name='dense_68_input', description=\"created by layer 'dense_68_input'\"), but it was called on an input with incompatible shape (None, 50, 50, 1).\n"
          ]
        },
        {
          "name": "stdout",
          "output_type": "stream",
          "text": [
            "1/1 [==============================] - 1s 775ms/step - loss: 0.4571 - binary_accuracy: 0.5326 - val_loss: 0.5568 - val_binary_accuracy: 0.4001\n",
            "Epoch 2/10\n",
            "1/1 [==============================] - 0s 47ms/step - loss: 0.4554 - binary_accuracy: 0.5326 - val_loss: 0.5524 - val_binary_accuracy: 0.4001\n",
            "Epoch 3/10\n",
            "1/1 [==============================] - 0s 52ms/step - loss: 0.4533 - binary_accuracy: 0.5326 - val_loss: 0.5471 - val_binary_accuracy: 0.4001\n",
            "Epoch 4/10\n",
            "1/1 [==============================] - 0s 49ms/step - loss: 0.4504 - binary_accuracy: 0.5326 - val_loss: 0.5401 - val_binary_accuracy: 0.4001\n",
            "Epoch 5/10\n",
            "1/1 [==============================] - 0s 48ms/step - loss: 0.4461 - binary_accuracy: 0.5326 - val_loss: 0.5300 - val_binary_accuracy: 0.4001\n",
            "Epoch 6/10\n",
            "1/1 [==============================] - 0s 49ms/step - loss: 0.4388 - binary_accuracy: 0.5326 - val_loss: 0.5135 - val_binary_accuracy: 0.4015\n",
            "Epoch 7/10\n",
            "1/1 [==============================] - 0s 48ms/step - loss: 0.4252 - binary_accuracy: 0.5325 - val_loss: 0.4805 - val_binary_accuracy: 0.4065\n",
            "Epoch 8/10\n",
            "1/1 [==============================] - 0s 48ms/step - loss: 0.3965 - binary_accuracy: 0.5324 - val_loss: 0.3861 - val_binary_accuracy: 0.4141\n",
            "Epoch 9/10\n",
            "1/1 [==============================] - 0s 57ms/step - loss: 0.3210 - binary_accuracy: 0.5321 - val_loss: 0.2458 - val_binary_accuracy: 0.6000\n",
            "Epoch 10/10\n",
            "1/1 [==============================] - 0s 48ms/step - loss: 0.2807 - binary_accuracy: 0.4667 - val_loss: 0.3610 - val_binary_accuracy: 0.4179\n",
            "1/1 [==============================] - 0s 31ms/step - loss: 0.3610 - binary_accuracy: 0.4179\n",
            "Epoch 1/10\n",
            "WARNING:tensorflow:Model was constructed with shape (None, 1) for input KerasTensor(type_spec=TensorSpec(shape=(None, 1), dtype=tf.float32, name='dense_70_input'), name='dense_70_input', description=\"created by layer 'dense_70_input'\"), but it was called on an input with incompatible shape (None, 50, 50, 1).\n"
          ]
        },
        {
          "name": "stderr",
          "output_type": "stream",
          "text": [
            "WARNING:tensorflow:Model was constructed with shape (None, 1) for input KerasTensor(type_spec=TensorSpec(shape=(None, 1), dtype=tf.float32, name='dense_70_input'), name='dense_70_input', description=\"created by layer 'dense_70_input'\"), but it was called on an input with incompatible shape (None, 50, 50, 1).\n"
          ]
        },
        {
          "name": "stdout",
          "output_type": "stream",
          "text": [
            "WARNING:tensorflow:Model was constructed with shape (None, 1) for input KerasTensor(type_spec=TensorSpec(shape=(None, 1), dtype=tf.float32, name='dense_70_input'), name='dense_70_input', description=\"created by layer 'dense_70_input'\"), but it was called on an input with incompatible shape (None, 50, 50, 1).\n"
          ]
        },
        {
          "name": "stderr",
          "output_type": "stream",
          "text": [
            "WARNING:tensorflow:Model was constructed with shape (None, 1) for input KerasTensor(type_spec=TensorSpec(shape=(None, 1), dtype=tf.float32, name='dense_70_input'), name='dense_70_input', description=\"created by layer 'dense_70_input'\"), but it was called on an input with incompatible shape (None, 50, 50, 1).\n"
          ]
        },
        {
          "name": "stdout",
          "output_type": "stream",
          "text": [
            "\r1/1 [==============================] - ETA: 0s - loss: 0.5289 - binary_accuracy: 0.4667WARNING:tensorflow:Model was constructed with shape (None, 1) for input KerasTensor(type_spec=TensorSpec(shape=(None, 1), dtype=tf.float32, name='dense_70_input'), name='dense_70_input', description=\"created by layer 'dense_70_input'\"), but it was called on an input with incompatible shape (None, 50, 50, 1).\n"
          ]
        },
        {
          "name": "stderr",
          "output_type": "stream",
          "text": [
            "WARNING:tensorflow:Model was constructed with shape (None, 1) for input KerasTensor(type_spec=TensorSpec(shape=(None, 1), dtype=tf.float32, name='dense_70_input'), name='dense_70_input', description=\"created by layer 'dense_70_input'\"), but it was called on an input with incompatible shape (None, 50, 50, 1).\n"
          ]
        },
        {
          "name": "stdout",
          "output_type": "stream",
          "text": [
            "1/1 [==============================] - 1s 794ms/step - loss: 0.5289 - binary_accuracy: 0.4667 - val_loss: 0.3914 - val_binary_accuracy: 0.5999\n",
            "Epoch 2/10\n",
            "1/1 [==============================] - 0s 53ms/step - loss: 0.5287 - binary_accuracy: 0.4674 - val_loss: 0.3910 - val_binary_accuracy: 0.5999\n",
            "Epoch 3/10\n",
            "1/1 [==============================] - 0s 52ms/step - loss: 0.5286 - binary_accuracy: 0.4674 - val_loss: 0.3907 - val_binary_accuracy: 0.5999\n",
            "Epoch 4/10\n",
            "1/1 [==============================] - 0s 52ms/step - loss: 0.5285 - binary_accuracy: 0.4674 - val_loss: 0.3903 - val_binary_accuracy: 0.5999\n",
            "Epoch 5/10\n",
            "1/1 [==============================] - 0s 50ms/step - loss: 0.5284 - binary_accuracy: 0.4674 - val_loss: 0.3900 - val_binary_accuracy: 0.5999\n",
            "Epoch 6/10\n",
            "1/1 [==============================] - 0s 52ms/step - loss: 0.5283 - binary_accuracy: 0.4674 - val_loss: 0.3897 - val_binary_accuracy: 0.5999\n",
            "Epoch 7/10\n",
            "1/1 [==============================] - 0s 58ms/step - loss: 0.5282 - binary_accuracy: 0.4674 - val_loss: 0.3894 - val_binary_accuracy: 0.5999\n",
            "Epoch 8/10\n",
            "1/1 [==============================] - 0s 56ms/step - loss: 0.5281 - binary_accuracy: 0.4674 - val_loss: 0.3890 - val_binary_accuracy: 0.5999\n",
            "Epoch 9/10\n",
            "1/1 [==============================] - 0s 57ms/step - loss: 0.5280 - binary_accuracy: 0.4674 - val_loss: 0.3887 - val_binary_accuracy: 0.5999\n",
            "Epoch 10/10\n",
            "1/1 [==============================] - 0s 59ms/step - loss: 0.5279 - binary_accuracy: 0.4674 - val_loss: 0.3884 - val_binary_accuracy: 0.5999\n",
            "1/1 [==============================] - 0s 22ms/step - loss: 0.3884 - binary_accuracy: 0.5999\n",
            "Epoch 1/10\n",
            "WARNING:tensorflow:Model was constructed with shape (None, 1) for input KerasTensor(type_spec=TensorSpec(shape=(None, 1), dtype=tf.float32, name='dense_72_input'), name='dense_72_input', description=\"created by layer 'dense_72_input'\"), but it was called on an input with incompatible shape (None, 50, 50, 1).\n"
          ]
        },
        {
          "name": "stderr",
          "output_type": "stream",
          "text": [
            "WARNING:tensorflow:Model was constructed with shape (None, 1) for input KerasTensor(type_spec=TensorSpec(shape=(None, 1), dtype=tf.float32, name='dense_72_input'), name='dense_72_input', description=\"created by layer 'dense_72_input'\"), but it was called on an input with incompatible shape (None, 50, 50, 1).\n"
          ]
        },
        {
          "name": "stdout",
          "output_type": "stream",
          "text": [
            "WARNING:tensorflow:Model was constructed with shape (None, 1) for input KerasTensor(type_spec=TensorSpec(shape=(None, 1), dtype=tf.float32, name='dense_72_input'), name='dense_72_input', description=\"created by layer 'dense_72_input'\"), but it was called on an input with incompatible shape (None, 50, 50, 1).\n"
          ]
        },
        {
          "name": "stderr",
          "output_type": "stream",
          "text": [
            "WARNING:tensorflow:Model was constructed with shape (None, 1) for input KerasTensor(type_spec=TensorSpec(shape=(None, 1), dtype=tf.float32, name='dense_72_input'), name='dense_72_input', description=\"created by layer 'dense_72_input'\"), but it was called on an input with incompatible shape (None, 50, 50, 1).\n"
          ]
        },
        {
          "name": "stdout",
          "output_type": "stream",
          "text": [
            "\r1/1 [==============================] - ETA: 0s - loss: 0.4602 - binary_accuracy: 0.5326WARNING:tensorflow:Model was constructed with shape (None, 1) for input KerasTensor(type_spec=TensorSpec(shape=(None, 1), dtype=tf.float32, name='dense_72_input'), name='dense_72_input', description=\"created by layer 'dense_72_input'\"), but it was called on an input with incompatible shape (None, 50, 50, 1).\n"
          ]
        },
        {
          "name": "stderr",
          "output_type": "stream",
          "text": [
            "WARNING:tensorflow:Model was constructed with shape (None, 1) for input KerasTensor(type_spec=TensorSpec(shape=(None, 1), dtype=tf.float32, name='dense_72_input'), name='dense_72_input', description=\"created by layer 'dense_72_input'\"), but it was called on an input with incompatible shape (None, 50, 50, 1).\n"
          ]
        },
        {
          "name": "stdout",
          "output_type": "stream",
          "text": [
            "1/1 [==============================] - 1s 1s/step - loss: 0.4602 - binary_accuracy: 0.5326 - val_loss: 0.5685 - val_binary_accuracy: 0.4001\n",
            "Epoch 2/10\n",
            "1/1 [==============================] - 0s 61ms/step - loss: 0.4596 - binary_accuracy: 0.5326 - val_loss: 0.5665 - val_binary_accuracy: 0.4001\n",
            "Epoch 3/10\n",
            "1/1 [==============================] - 0s 59ms/step - loss: 0.4590 - binary_accuracy: 0.5326 - val_loss: 0.5645 - val_binary_accuracy: 0.4001\n",
            "Epoch 4/10\n",
            "1/1 [==============================] - 0s 63ms/step - loss: 0.4584 - binary_accuracy: 0.5326 - val_loss: 0.5625 - val_binary_accuracy: 0.4001\n",
            "Epoch 5/10\n",
            "1/1 [==============================] - 0s 64ms/step - loss: 0.4577 - binary_accuracy: 0.5326 - val_loss: 0.5604 - val_binary_accuracy: 0.4001\n",
            "Epoch 6/10\n",
            "1/1 [==============================] - 0s 61ms/step - loss: 0.4569 - binary_accuracy: 0.5326 - val_loss: 0.5579 - val_binary_accuracy: 0.4001\n",
            "Epoch 7/10\n",
            "1/1 [==============================] - 0s 71ms/step - loss: 0.4560 - binary_accuracy: 0.5326 - val_loss: 0.5552 - val_binary_accuracy: 0.4001\n",
            "Epoch 8/10\n",
            "1/1 [==============================] - 0s 64ms/step - loss: 0.4548 - binary_accuracy: 0.5326 - val_loss: 0.5519 - val_binary_accuracy: 0.4001\n",
            "Epoch 9/10\n",
            "1/1 [==============================] - 0s 60ms/step - loss: 0.4533 - binary_accuracy: 0.5326 - val_loss: 0.5479 - val_binary_accuracy: 0.4001\n",
            "Epoch 10/10\n",
            "1/1 [==============================] - 0s 63ms/step - loss: 0.4512 - binary_accuracy: 0.5326 - val_loss: 0.5429 - val_binary_accuracy: 0.4001\n",
            "1/1 [==============================] - 0s 24ms/step - loss: 0.5429 - binary_accuracy: 0.4001\n",
            "Epoch 1/10\n",
            "WARNING:tensorflow:Model was constructed with shape (None, 1) for input KerasTensor(type_spec=TensorSpec(shape=(None, 1), dtype=tf.float32, name='dense_74_input'), name='dense_74_input', description=\"created by layer 'dense_74_input'\"), but it was called on an input with incompatible shape (None, 25, 25, 1).\n"
          ]
        },
        {
          "name": "stderr",
          "output_type": "stream",
          "text": [
            "WARNING:tensorflow:Model was constructed with shape (None, 1) for input KerasTensor(type_spec=TensorSpec(shape=(None, 1), dtype=tf.float32, name='dense_74_input'), name='dense_74_input', description=\"created by layer 'dense_74_input'\"), but it was called on an input with incompatible shape (None, 25, 25, 1).\n"
          ]
        },
        {
          "name": "stdout",
          "output_type": "stream",
          "text": [
            "WARNING:tensorflow:Model was constructed with shape (None, 1) for input KerasTensor(type_spec=TensorSpec(shape=(None, 1), dtype=tf.float32, name='dense_74_input'), name='dense_74_input', description=\"created by layer 'dense_74_input'\"), but it was called on an input with incompatible shape (None, 25, 25, 1).\n"
          ]
        },
        {
          "name": "stderr",
          "output_type": "stream",
          "text": [
            "WARNING:tensorflow:Model was constructed with shape (None, 1) for input KerasTensor(type_spec=TensorSpec(shape=(None, 1), dtype=tf.float32, name='dense_74_input'), name='dense_74_input', description=\"created by layer 'dense_74_input'\"), but it was called on an input with incompatible shape (None, 25, 25, 1).\n"
          ]
        },
        {
          "name": "stdout",
          "output_type": "stream",
          "text": [
            "\r1/1 [==============================] - ETA: 0s - loss: 0.5289 - binary_accuracy: 0.4667WARNING:tensorflow:Model was constructed with shape (None, 1) for input KerasTensor(type_spec=TensorSpec(shape=(None, 1), dtype=tf.float32, name='dense_74_input'), name='dense_74_input', description=\"created by layer 'dense_74_input'\"), but it was called on an input with incompatible shape (None, 25, 25, 1).\n"
          ]
        },
        {
          "name": "stderr",
          "output_type": "stream",
          "text": [
            "WARNING:tensorflow:Model was constructed with shape (None, 1) for input KerasTensor(type_spec=TensorSpec(shape=(None, 1), dtype=tf.float32, name='dense_74_input'), name='dense_74_input', description=\"created by layer 'dense_74_input'\"), but it was called on an input with incompatible shape (None, 25, 25, 1).\n"
          ]
        },
        {
          "name": "stdout",
          "output_type": "stream",
          "text": [
            "1/1 [==============================] - 1s 831ms/step - loss: 0.5289 - binary_accuracy: 0.4667 - val_loss: 0.3912 - val_binary_accuracy: 0.5998\n",
            "Epoch 2/10\n",
            "1/1 [==============================] - 0s 38ms/step - loss: 0.5288 - binary_accuracy: 0.4674 - val_loss: 0.3911 - val_binary_accuracy: 0.5998\n",
            "Epoch 3/10\n",
            "1/1 [==============================] - 0s 44ms/step - loss: 0.5288 - binary_accuracy: 0.4674 - val_loss: 0.3910 - val_binary_accuracy: 0.5998\n",
            "Epoch 4/10\n",
            "1/1 [==============================] - 0s 39ms/step - loss: 0.5288 - binary_accuracy: 0.4674 - val_loss: 0.3909 - val_binary_accuracy: 0.5998\n",
            "Epoch 5/10\n",
            "1/1 [==============================] - 0s 36ms/step - loss: 0.5288 - binary_accuracy: 0.4674 - val_loss: 0.3908 - val_binary_accuracy: 0.5998\n",
            "Epoch 6/10\n",
            "1/1 [==============================] - 0s 37ms/step - loss: 0.5287 - binary_accuracy: 0.4674 - val_loss: 0.3907 - val_binary_accuracy: 0.5998\n",
            "Epoch 7/10\n",
            "1/1 [==============================] - 0s 37ms/step - loss: 0.5287 - binary_accuracy: 0.4674 - val_loss: 0.3906 - val_binary_accuracy: 0.5998\n",
            "Epoch 8/10\n",
            "1/1 [==============================] - 0s 44ms/step - loss: 0.5287 - binary_accuracy: 0.4674 - val_loss: 0.3906 - val_binary_accuracy: 0.5998\n",
            "Epoch 9/10\n",
            "1/1 [==============================] - 0s 37ms/step - loss: 0.5287 - binary_accuracy: 0.4674 - val_loss: 0.3905 - val_binary_accuracy: 0.5998\n",
            "Epoch 10/10\n",
            "1/1 [==============================] - 0s 40ms/step - loss: 0.5286 - binary_accuracy: 0.4674 - val_loss: 0.3904 - val_binary_accuracy: 0.5998\n",
            "1/1 [==============================] - 0s 22ms/step - loss: 0.3904 - binary_accuracy: 0.5998\n",
            "Epoch 1/10\n",
            "WARNING:tensorflow:Model was constructed with shape (None, 1) for input KerasTensor(type_spec=TensorSpec(shape=(None, 1), dtype=tf.float32, name='dense_76_input'), name='dense_76_input', description=\"created by layer 'dense_76_input'\"), but it was called on an input with incompatible shape (None, 25, 25, 1).\n"
          ]
        },
        {
          "name": "stderr",
          "output_type": "stream",
          "text": [
            "WARNING:tensorflow:Model was constructed with shape (None, 1) for input KerasTensor(type_spec=TensorSpec(shape=(None, 1), dtype=tf.float32, name='dense_76_input'), name='dense_76_input', description=\"created by layer 'dense_76_input'\"), but it was called on an input with incompatible shape (None, 25, 25, 1).\n"
          ]
        },
        {
          "name": "stdout",
          "output_type": "stream",
          "text": [
            "WARNING:tensorflow:Model was constructed with shape (None, 1) for input KerasTensor(type_spec=TensorSpec(shape=(None, 1), dtype=tf.float32, name='dense_76_input'), name='dense_76_input', description=\"created by layer 'dense_76_input'\"), but it was called on an input with incompatible shape (None, 25, 25, 1).\n"
          ]
        },
        {
          "name": "stderr",
          "output_type": "stream",
          "text": [
            "WARNING:tensorflow:Model was constructed with shape (None, 1) for input KerasTensor(type_spec=TensorSpec(shape=(None, 1), dtype=tf.float32, name='dense_76_input'), name='dense_76_input', description=\"created by layer 'dense_76_input'\"), but it was called on an input with incompatible shape (None, 25, 25, 1).\n"
          ]
        },
        {
          "name": "stdout",
          "output_type": "stream",
          "text": [
            "\r1/1 [==============================] - ETA: 0s - loss: 0.2536 - binary_accuracy: 0.5326WARNING:tensorflow:Model was constructed with shape (None, 1) for input KerasTensor(type_spec=TensorSpec(shape=(None, 1), dtype=tf.float32, name='dense_76_input'), name='dense_76_input', description=\"created by layer 'dense_76_input'\"), but it was called on an input with incompatible shape (None, 25, 25, 1).\n"
          ]
        },
        {
          "name": "stderr",
          "output_type": "stream",
          "text": [
            "WARNING:tensorflow:Model was constructed with shape (None, 1) for input KerasTensor(type_spec=TensorSpec(shape=(None, 1), dtype=tf.float32, name='dense_76_input'), name='dense_76_input', description=\"created by layer 'dense_76_input'\"), but it was called on an input with incompatible shape (None, 25, 25, 1).\n"
          ]
        },
        {
          "name": "stdout",
          "output_type": "stream",
          "text": [
            "1/1 [==============================] - 1s 778ms/step - loss: 0.2536 - binary_accuracy: 0.5326 - val_loss: 0.2669 - val_binary_accuracy: 0.6000\n",
            "Epoch 2/10\n",
            "1/1 [==============================] - 0s 42ms/step - loss: 0.3238 - binary_accuracy: 0.4667 - val_loss: 0.2678 - val_binary_accuracy: 0.4002\n",
            "Epoch 3/10\n",
            "1/1 [==============================] - 0s 34ms/step - loss: 0.2512 - binary_accuracy: 0.5326 - val_loss: 0.2466 - val_binary_accuracy: 0.6000\n",
            "Epoch 4/10\n",
            "1/1 [==============================] - 0s 34ms/step - loss: 0.2520 - binary_accuracy: 0.4667 - val_loss: 0.2749 - val_binary_accuracy: 0.4000\n",
            "Epoch 5/10\n",
            "1/1 [==============================] - 0s 42ms/step - loss: 0.2535 - binary_accuracy: 0.5333 - val_loss: 0.2448 - val_binary_accuracy: 0.6000\n",
            "Epoch 6/10\n",
            "1/1 [==============================] - 0s 38ms/step - loss: 0.2541 - binary_accuracy: 0.4667 - val_loss: 0.2797 - val_binary_accuracy: 0.4000\n",
            "Epoch 7/10\n",
            "1/1 [==============================] - 0s 56ms/step - loss: 0.2554 - binary_accuracy: 0.5333 - val_loss: 0.2449 - val_binary_accuracy: 0.6000\n",
            "Epoch 8/10\n",
            "1/1 [==============================] - 0s 40ms/step - loss: 0.2541 - binary_accuracy: 0.4667 - val_loss: 0.2769 - val_binary_accuracy: 0.4000\n",
            "Epoch 9/10\n",
            "1/1 [==============================] - 0s 39ms/step - loss: 0.2543 - binary_accuracy: 0.5333 - val_loss: 0.2457 - val_binary_accuracy: 0.5998\n",
            "Epoch 10/10\n",
            "1/1 [==============================] - 0s 37ms/step - loss: 0.2529 - binary_accuracy: 0.4674 - val_loss: 0.2734 - val_binary_accuracy: 0.4000\n",
            "1/1 [==============================] - 0s 24ms/step - loss: 0.2734 - binary_accuracy: 0.4000\n",
            "Epoch 1/10\n",
            "WARNING:tensorflow:Model was constructed with shape (None, 1) for input KerasTensor(type_spec=TensorSpec(shape=(None, 1), dtype=tf.float32, name='dense_78_input'), name='dense_78_input', description=\"created by layer 'dense_78_input'\"), but it was called on an input with incompatible shape (None, 25, 25, 1).\n"
          ]
        },
        {
          "name": "stderr",
          "output_type": "stream",
          "text": [
            "WARNING:tensorflow:Model was constructed with shape (None, 1) for input KerasTensor(type_spec=TensorSpec(shape=(None, 1), dtype=tf.float32, name='dense_78_input'), name='dense_78_input', description=\"created by layer 'dense_78_input'\"), but it was called on an input with incompatible shape (None, 25, 25, 1).\n"
          ]
        },
        {
          "name": "stdout",
          "output_type": "stream",
          "text": [
            "WARNING:tensorflow:Model was constructed with shape (None, 1) for input KerasTensor(type_spec=TensorSpec(shape=(None, 1), dtype=tf.float32, name='dense_78_input'), name='dense_78_input', description=\"created by layer 'dense_78_input'\"), but it was called on an input with incompatible shape (None, 25, 25, 1).\n"
          ]
        },
        {
          "name": "stderr",
          "output_type": "stream",
          "text": [
            "WARNING:tensorflow:Model was constructed with shape (None, 1) for input KerasTensor(type_spec=TensorSpec(shape=(None, 1), dtype=tf.float32, name='dense_78_input'), name='dense_78_input', description=\"created by layer 'dense_78_input'\"), but it was called on an input with incompatible shape (None, 25, 25, 1).\n"
          ]
        },
        {
          "name": "stdout",
          "output_type": "stream",
          "text": [
            "\r1/1 [==============================] - ETA: 0s - loss: 0.4442 - binary_accuracy: 0.4667WARNING:tensorflow:Model was constructed with shape (None, 1) for input KerasTensor(type_spec=TensorSpec(shape=(None, 1), dtype=tf.float32, name='dense_78_input'), name='dense_78_input', description=\"created by layer 'dense_78_input'\"), but it was called on an input with incompatible shape (None, 25, 25, 1).\n"
          ]
        },
        {
          "name": "stderr",
          "output_type": "stream",
          "text": [
            "WARNING:tensorflow:Model was constructed with shape (None, 1) for input KerasTensor(type_spec=TensorSpec(shape=(None, 1), dtype=tf.float32, name='dense_78_input'), name='dense_78_input', description=\"created by layer 'dense_78_input'\"), but it was called on an input with incompatible shape (None, 25, 25, 1).\n"
          ]
        },
        {
          "name": "stdout",
          "output_type": "stream",
          "text": [
            "1/1 [==============================] - 1s 771ms/step - loss: 0.4442 - binary_accuracy: 0.4667 - val_loss: 0.2497 - val_binary_accuracy: 0.5178\n",
            "Epoch 2/10\n",
            "1/1 [==============================] - 0s 38ms/step - loss: 0.2502 - binary_accuracy: 0.4919 - val_loss: 0.4045 - val_binary_accuracy: 0.4000\n",
            "Epoch 3/10\n",
            "1/1 [==============================] - 0s 40ms/step - loss: 0.3335 - binary_accuracy: 0.5333 - val_loss: 0.2685 - val_binary_accuracy: 0.5981\n",
            "Epoch 4/10\n",
            "1/1 [==============================] - 0s 38ms/step - loss: 0.3262 - binary_accuracy: 0.4675 - val_loss: 0.3919 - val_binary_accuracy: 0.4000\n",
            "Epoch 5/10\n",
            "1/1 [==============================] - 0s 37ms/step - loss: 0.3242 - binary_accuracy: 0.5333 - val_loss: 0.2460 - val_binary_accuracy: 0.5747\n",
            "Epoch 6/10\n",
            "1/1 [==============================] - 0s 37ms/step - loss: 0.2528 - binary_accuracy: 0.4695 - val_loss: 0.3195 - val_binary_accuracy: 0.4000\n",
            "Epoch 7/10\n",
            "1/1 [==============================] - 0s 40ms/step - loss: 0.2758 - binary_accuracy: 0.5333 - val_loss: 0.2564 - val_binary_accuracy: 0.5981\n",
            "Epoch 8/10\n",
            "1/1 [==============================] - 0s 38ms/step - loss: 0.3018 - binary_accuracy: 0.4675 - val_loss: 0.3493 - val_binary_accuracy: 0.4000\n",
            "Epoch 9/10\n",
            "1/1 [==============================] - 0s 36ms/step - loss: 0.2945 - binary_accuracy: 0.5333 - val_loss: 0.2434 - val_binary_accuracy: 0.5860\n",
            "Epoch 10/10\n",
            "1/1 [==============================] - 0s 35ms/step - loss: 0.2618 - binary_accuracy: 0.4678 - val_loss: 0.3258 - val_binary_accuracy: 0.4000\n",
            "1/1 [==============================] - 0s 31ms/step - loss: 0.3258 - binary_accuracy: 0.4000\n",
            "Epoch 1/10\n",
            "WARNING:tensorflow:Model was constructed with shape (None, 1) for input KerasTensor(type_spec=TensorSpec(shape=(None, 1), dtype=tf.float32, name='dense_80_input'), name='dense_80_input', description=\"created by layer 'dense_80_input'\"), but it was called on an input with incompatible shape (None, 25, 25, 1).\n"
          ]
        },
        {
          "name": "stderr",
          "output_type": "stream",
          "text": [
            "WARNING:tensorflow:Model was constructed with shape (None, 1) for input KerasTensor(type_spec=TensorSpec(shape=(None, 1), dtype=tf.float32, name='dense_80_input'), name='dense_80_input', description=\"created by layer 'dense_80_input'\"), but it was called on an input with incompatible shape (None, 25, 25, 1).\n"
          ]
        },
        {
          "name": "stdout",
          "output_type": "stream",
          "text": [
            "WARNING:tensorflow:Model was constructed with shape (None, 1) for input KerasTensor(type_spec=TensorSpec(shape=(None, 1), dtype=tf.float32, name='dense_80_input'), name='dense_80_input', description=\"created by layer 'dense_80_input'\"), but it was called on an input with incompatible shape (None, 25, 25, 1).\n"
          ]
        },
        {
          "name": "stderr",
          "output_type": "stream",
          "text": [
            "WARNING:tensorflow:Model was constructed with shape (None, 1) for input KerasTensor(type_spec=TensorSpec(shape=(None, 1), dtype=tf.float32, name='dense_80_input'), name='dense_80_input', description=\"created by layer 'dense_80_input'\"), but it was called on an input with incompatible shape (None, 25, 25, 1).\n"
          ]
        },
        {
          "name": "stdout",
          "output_type": "stream",
          "text": [
            "\r1/1 [==============================] - ETA: 0s - loss: 0.5211 - binary_accuracy: 0.4667WARNING:tensorflow:Model was constructed with shape (None, 1) for input KerasTensor(type_spec=TensorSpec(shape=(None, 1), dtype=tf.float32, name='dense_80_input'), name='dense_80_input', description=\"created by layer 'dense_80_input'\"), but it was called on an input with incompatible shape (None, 25, 25, 1).\n"
          ]
        },
        {
          "name": "stderr",
          "output_type": "stream",
          "text": [
            "WARNING:tensorflow:Model was constructed with shape (None, 1) for input KerasTensor(type_spec=TensorSpec(shape=(None, 1), dtype=tf.float32, name='dense_80_input'), name='dense_80_input', description=\"created by layer 'dense_80_input'\"), but it was called on an input with incompatible shape (None, 25, 25, 1).\n"
          ]
        },
        {
          "name": "stdout",
          "output_type": "stream",
          "text": [
            "1/1 [==============================] - 1s 835ms/step - loss: 0.5211 - binary_accuracy: 0.4667 - val_loss: 0.3744 - val_binary_accuracy: 0.5998\n",
            "Epoch 2/10\n",
            "1/1 [==============================] - 0s 42ms/step - loss: 0.5163 - binary_accuracy: 0.4674 - val_loss: 0.3675 - val_binary_accuracy: 0.5998\n",
            "Epoch 3/10\n",
            "1/1 [==============================] - 0s 43ms/step - loss: 0.5067 - binary_accuracy: 0.4674 - val_loss: 0.3518 - val_binary_accuracy: 0.5981\n",
            "Epoch 4/10\n",
            "1/1 [==============================] - 0s 42ms/step - loss: 0.4791 - binary_accuracy: 0.4675 - val_loss: 0.2805 - val_binary_accuracy: 0.5860\n",
            "Epoch 5/10\n",
            "1/1 [==============================] - 0s 43ms/step - loss: 0.3465 - binary_accuracy: 0.4678 - val_loss: 0.4490 - val_binary_accuracy: 0.4000\n",
            "Epoch 6/10\n",
            "1/1 [==============================] - 0s 46ms/step - loss: 0.3678 - binary_accuracy: 0.5333 - val_loss: 0.3074 - val_binary_accuracy: 0.4000\n",
            "Epoch 7/10\n",
            "1/1 [==============================] - 0s 38ms/step - loss: 0.2683 - binary_accuracy: 0.5333 - val_loss: 0.2900 - val_binary_accuracy: 0.5878\n",
            "Epoch 8/10\n",
            "1/1 [==============================] - 0s 40ms/step - loss: 0.3639 - binary_accuracy: 0.4677 - val_loss: 0.3098 - val_binary_accuracy: 0.4000\n",
            "Epoch 9/10\n",
            "1/1 [==============================] - 0s 41ms/step - loss: 0.2696 - binary_accuracy: 0.5333 - val_loss: 0.2697 - val_binary_accuracy: 0.5823\n",
            "Epoch 10/10\n",
            "1/1 [==============================] - 0s 43ms/step - loss: 0.3261 - binary_accuracy: 0.4682 - val_loss: 0.3510 - val_binary_accuracy: 0.4000\n",
            "1/1 [==============================] - 0s 21ms/step - loss: 0.3510 - binary_accuracy: 0.4000\n",
            "Epoch 1/10\n",
            "WARNING:tensorflow:Model was constructed with shape (None, 1) for input KerasTensor(type_spec=TensorSpec(shape=(None, 1), dtype=tf.float32, name='dense_82_input'), name='dense_82_input', description=\"created by layer 'dense_82_input'\"), but it was called on an input with incompatible shape (None, 10, 10, 1).\n"
          ]
        },
        {
          "name": "stderr",
          "output_type": "stream",
          "text": [
            "WARNING:tensorflow:Model was constructed with shape (None, 1) for input KerasTensor(type_spec=TensorSpec(shape=(None, 1), dtype=tf.float32, name='dense_82_input'), name='dense_82_input', description=\"created by layer 'dense_82_input'\"), but it was called on an input with incompatible shape (None, 10, 10, 1).\n"
          ]
        },
        {
          "name": "stdout",
          "output_type": "stream",
          "text": [
            "WARNING:tensorflow:Model was constructed with shape (None, 1) for input KerasTensor(type_spec=TensorSpec(shape=(None, 1), dtype=tf.float32, name='dense_82_input'), name='dense_82_input', description=\"created by layer 'dense_82_input'\"), but it was called on an input with incompatible shape (None, 10, 10, 1).\n"
          ]
        },
        {
          "name": "stderr",
          "output_type": "stream",
          "text": [
            "WARNING:tensorflow:Model was constructed with shape (None, 1) for input KerasTensor(type_spec=TensorSpec(shape=(None, 1), dtype=tf.float32, name='dense_82_input'), name='dense_82_input', description=\"created by layer 'dense_82_input'\"), but it was called on an input with incompatible shape (None, 10, 10, 1).\n"
          ]
        },
        {
          "name": "stdout",
          "output_type": "stream",
          "text": [
            "\r1/1 [==============================] - ETA: 0s - loss: 0.4658 - binary_accuracy: 0.5332WARNING:tensorflow:Model was constructed with shape (None, 1) for input KerasTensor(type_spec=TensorSpec(shape=(None, 1), dtype=tf.float32, name='dense_82_input'), name='dense_82_input', description=\"created by layer 'dense_82_input'\"), but it was called on an input with incompatible shape (None, 10, 10, 1).\n"
          ]
        },
        {
          "name": "stderr",
          "output_type": "stream",
          "text": [
            "WARNING:tensorflow:Model was constructed with shape (None, 1) for input KerasTensor(type_spec=TensorSpec(shape=(None, 1), dtype=tf.float32, name='dense_82_input'), name='dense_82_input', description=\"created by layer 'dense_82_input'\"), but it was called on an input with incompatible shape (None, 10, 10, 1).\n"
          ]
        },
        {
          "name": "stdout",
          "output_type": "stream",
          "text": [
            "1/1 [==============================] - 1s 784ms/step - loss: 0.4658 - binary_accuracy: 0.5332 - val_loss: 0.5885 - val_binary_accuracy: 0.4000\n",
            "Epoch 2/10\n",
            "1/1 [==============================] - 0s 36ms/step - loss: 0.4658 - binary_accuracy: 0.5332 - val_loss: 0.5882 - val_binary_accuracy: 0.4000\n",
            "Epoch 3/10\n",
            "1/1 [==============================] - 0s 34ms/step - loss: 0.4657 - binary_accuracy: 0.5332 - val_loss: 0.5879 - val_binary_accuracy: 0.4000\n",
            "Epoch 4/10\n",
            "1/1 [==============================] - 0s 35ms/step - loss: 0.4657 - binary_accuracy: 0.5332 - val_loss: 0.5877 - val_binary_accuracy: 0.4000\n",
            "Epoch 5/10\n",
            "1/1 [==============================] - 0s 35ms/step - loss: 0.4657 - binary_accuracy: 0.5332 - val_loss: 0.5874 - val_binary_accuracy: 0.4000\n",
            "Epoch 6/10\n",
            "1/1 [==============================] - 0s 50ms/step - loss: 0.4657 - binary_accuracy: 0.5332 - val_loss: 0.5872 - val_binary_accuracy: 0.4000\n",
            "Epoch 7/10\n",
            "1/1 [==============================] - 0s 34ms/step - loss: 0.4656 - binary_accuracy: 0.5332 - val_loss: 0.5870 - val_binary_accuracy: 0.4000\n",
            "Epoch 8/10\n",
            "1/1 [==============================] - 0s 40ms/step - loss: 0.4656 - binary_accuracy: 0.5332 - val_loss: 0.5867 - val_binary_accuracy: 0.4000\n",
            "Epoch 9/10\n",
            "1/1 [==============================] - 0s 33ms/step - loss: 0.4656 - binary_accuracy: 0.5332 - val_loss: 0.5865 - val_binary_accuracy: 0.4000\n",
            "Epoch 10/10\n",
            "1/1 [==============================] - 0s 36ms/step - loss: 0.4656 - binary_accuracy: 0.5332 - val_loss: 0.5863 - val_binary_accuracy: 0.4000\n",
            "1/1 [==============================] - 0s 20ms/step - loss: 0.5863 - binary_accuracy: 0.4000\n",
            "Epoch 1/10\n",
            "WARNING:tensorflow:Model was constructed with shape (None, 1) for input KerasTensor(type_spec=TensorSpec(shape=(None, 1), dtype=tf.float32, name='dense_84_input'), name='dense_84_input', description=\"created by layer 'dense_84_input'\"), but it was called on an input with incompatible shape (None, 10, 10, 1).\n"
          ]
        },
        {
          "name": "stderr",
          "output_type": "stream",
          "text": [
            "WARNING:tensorflow:Model was constructed with shape (None, 1) for input KerasTensor(type_spec=TensorSpec(shape=(None, 1), dtype=tf.float32, name='dense_84_input'), name='dense_84_input', description=\"created by layer 'dense_84_input'\"), but it was called on an input with incompatible shape (None, 10, 10, 1).\n"
          ]
        },
        {
          "name": "stdout",
          "output_type": "stream",
          "text": [
            "WARNING:tensorflow:Model was constructed with shape (None, 1) for input KerasTensor(type_spec=TensorSpec(shape=(None, 1), dtype=tf.float32, name='dense_84_input'), name='dense_84_input', description=\"created by layer 'dense_84_input'\"), but it was called on an input with incompatible shape (None, 10, 10, 1).\n"
          ]
        },
        {
          "name": "stderr",
          "output_type": "stream",
          "text": [
            "WARNING:tensorflow:Model was constructed with shape (None, 1) for input KerasTensor(type_spec=TensorSpec(shape=(None, 1), dtype=tf.float32, name='dense_84_input'), name='dense_84_input', description=\"created by layer 'dense_84_input'\"), but it was called on an input with incompatible shape (None, 10, 10, 1).\n"
          ]
        },
        {
          "name": "stdout",
          "output_type": "stream",
          "text": [
            "\r1/1 [==============================] - ETA: 0s - loss: 0.5296 - binary_accuracy: 0.4667WARNING:tensorflow:Model was constructed with shape (None, 1) for input KerasTensor(type_spec=TensorSpec(shape=(None, 1), dtype=tf.float32, name='dense_84_input'), name='dense_84_input', description=\"created by layer 'dense_84_input'\"), but it was called on an input with incompatible shape (None, 10, 10, 1).\n"
          ]
        },
        {
          "name": "stderr",
          "output_type": "stream",
          "text": [
            "WARNING:tensorflow:Model was constructed with shape (None, 1) for input KerasTensor(type_spec=TensorSpec(shape=(None, 1), dtype=tf.float32, name='dense_84_input'), name='dense_84_input', description=\"created by layer 'dense_84_input'\"), but it was called on an input with incompatible shape (None, 10, 10, 1).\n"
          ]
        },
        {
          "name": "stdout",
          "output_type": "stream",
          "text": [
            "1/1 [==============================] - 1s 801ms/step - loss: 0.5296 - binary_accuracy: 0.4667 - val_loss: 0.3851 - val_binary_accuracy: 0.6000\n",
            "Epoch 2/10\n",
            "1/1 [==============================] - 0s 32ms/step - loss: 0.5293 - binary_accuracy: 0.4668 - val_loss: 0.3847 - val_binary_accuracy: 0.6000\n",
            "Epoch 3/10\n",
            "1/1 [==============================] - 0s 34ms/step - loss: 0.5291 - binary_accuracy: 0.4668 - val_loss: 0.3842 - val_binary_accuracy: 0.6000\n",
            "Epoch 4/10\n",
            "1/1 [==============================] - 0s 39ms/step - loss: 0.5289 - binary_accuracy: 0.4668 - val_loss: 0.3838 - val_binary_accuracy: 0.6000\n",
            "Epoch 5/10\n",
            "1/1 [==============================] - 0s 38ms/step - loss: 0.5286 - binary_accuracy: 0.4668 - val_loss: 0.3835 - val_binary_accuracy: 0.6000\n",
            "Epoch 6/10\n",
            "1/1 [==============================] - 0s 32ms/step - loss: 0.5284 - binary_accuracy: 0.4668 - val_loss: 0.3831 - val_binary_accuracy: 0.6000\n",
            "Epoch 7/10\n",
            "1/1 [==============================] - 0s 37ms/step - loss: 0.5282 - binary_accuracy: 0.4668 - val_loss: 0.3827 - val_binary_accuracy: 0.6000\n",
            "Epoch 8/10\n",
            "1/1 [==============================] - 0s 39ms/step - loss: 0.5279 - binary_accuracy: 0.4668 - val_loss: 0.3823 - val_binary_accuracy: 0.6000\n",
            "Epoch 9/10\n",
            "1/1 [==============================] - 0s 36ms/step - loss: 0.5277 - binary_accuracy: 0.4668 - val_loss: 0.3820 - val_binary_accuracy: 0.6000\n",
            "Epoch 10/10\n",
            "1/1 [==============================] - 0s 37ms/step - loss: 0.5274 - binary_accuracy: 0.4668 - val_loss: 0.3816 - val_binary_accuracy: 0.6000\n",
            "1/1 [==============================] - 0s 20ms/step - loss: 0.3816 - binary_accuracy: 0.6000\n",
            "Epoch 1/10\n",
            "WARNING:tensorflow:Model was constructed with shape (None, 1) for input KerasTensor(type_spec=TensorSpec(shape=(None, 1), dtype=tf.float32, name='dense_86_input'), name='dense_86_input', description=\"created by layer 'dense_86_input'\"), but it was called on an input with incompatible shape (None, 10, 10, 1).\n"
          ]
        },
        {
          "name": "stderr",
          "output_type": "stream",
          "text": [
            "WARNING:tensorflow:Model was constructed with shape (None, 1) for input KerasTensor(type_spec=TensorSpec(shape=(None, 1), dtype=tf.float32, name='dense_86_input'), name='dense_86_input', description=\"created by layer 'dense_86_input'\"), but it was called on an input with incompatible shape (None, 10, 10, 1).\n"
          ]
        },
        {
          "name": "stdout",
          "output_type": "stream",
          "text": [
            "WARNING:tensorflow:Model was constructed with shape (None, 1) for input KerasTensor(type_spec=TensorSpec(shape=(None, 1), dtype=tf.float32, name='dense_86_input'), name='dense_86_input', description=\"created by layer 'dense_86_input'\"), but it was called on an input with incompatible shape (None, 10, 10, 1).\n"
          ]
        },
        {
          "name": "stderr",
          "output_type": "stream",
          "text": [
            "WARNING:tensorflow:Model was constructed with shape (None, 1) for input KerasTensor(type_spec=TensorSpec(shape=(None, 1), dtype=tf.float32, name='dense_86_input'), name='dense_86_input', description=\"created by layer 'dense_86_input'\"), but it was called on an input with incompatible shape (None, 10, 10, 1).\n"
          ]
        },
        {
          "name": "stdout",
          "output_type": "stream",
          "text": [
            "\r1/1 [==============================] - ETA: 0s - loss: 0.4647 - binary_accuracy: 0.5332WARNING:tensorflow:Model was constructed with shape (None, 1) for input KerasTensor(type_spec=TensorSpec(shape=(None, 1), dtype=tf.float32, name='dense_86_input'), name='dense_86_input', description=\"created by layer 'dense_86_input'\"), but it was called on an input with incompatible shape (None, 10, 10, 1).\n"
          ]
        },
        {
          "name": "stderr",
          "output_type": "stream",
          "text": [
            "WARNING:tensorflow:Model was constructed with shape (None, 1) for input KerasTensor(type_spec=TensorSpec(shape=(None, 1), dtype=tf.float32, name='dense_86_input'), name='dense_86_input', description=\"created by layer 'dense_86_input'\"), but it was called on an input with incompatible shape (None, 10, 10, 1).\n"
          ]
        },
        {
          "name": "stdout",
          "output_type": "stream",
          "text": [
            "1/1 [==============================] - 1s 755ms/step - loss: 0.4647 - binary_accuracy: 0.5332 - val_loss: 0.5799 - val_binary_accuracy: 0.4000\n",
            "Epoch 2/10\n",
            "1/1 [==============================] - 0s 33ms/step - loss: 0.4645 - binary_accuracy: 0.5332 - val_loss: 0.5789 - val_binary_accuracy: 0.4000\n",
            "Epoch 3/10\n",
            "1/1 [==============================] - 0s 37ms/step - loss: 0.4643 - binary_accuracy: 0.5332 - val_loss: 0.5779 - val_binary_accuracy: 0.4000\n",
            "Epoch 4/10\n",
            "1/1 [==============================] - 0s 34ms/step - loss: 0.4642 - binary_accuracy: 0.5332 - val_loss: 0.5769 - val_binary_accuracy: 0.4000\n",
            "Epoch 5/10\n",
            "1/1 [==============================] - 0s 35ms/step - loss: 0.4640 - binary_accuracy: 0.5332 - val_loss: 0.5760 - val_binary_accuracy: 0.4000\n",
            "Epoch 6/10\n",
            "1/1 [==============================] - 0s 34ms/step - loss: 0.4638 - binary_accuracy: 0.5332 - val_loss: 0.5751 - val_binary_accuracy: 0.4000\n",
            "Epoch 7/10\n",
            "1/1 [==============================] - 0s 38ms/step - loss: 0.4636 - binary_accuracy: 0.5332 - val_loss: 0.5742 - val_binary_accuracy: 0.4000\n",
            "Epoch 8/10\n",
            "1/1 [==============================] - 0s 34ms/step - loss: 0.4634 - binary_accuracy: 0.5332 - val_loss: 0.5732 - val_binary_accuracy: 0.4000\n",
            "Epoch 9/10\n",
            "1/1 [==============================] - 0s 38ms/step - loss: 0.4632 - binary_accuracy: 0.5332 - val_loss: 0.5723 - val_binary_accuracy: 0.4000\n",
            "Epoch 10/10\n",
            "1/1 [==============================] - 0s 35ms/step - loss: 0.4630 - binary_accuracy: 0.5332 - val_loss: 0.5713 - val_binary_accuracy: 0.4000\n",
            "1/1 [==============================] - 0s 19ms/step - loss: 0.5713 - binary_accuracy: 0.4000\n",
            "Epoch 1/10\n",
            "WARNING:tensorflow:Model was constructed with shape (None, 1) for input KerasTensor(type_spec=TensorSpec(shape=(None, 1), dtype=tf.float32, name='dense_88_input'), name='dense_88_input', description=\"created by layer 'dense_88_input'\"), but it was called on an input with incompatible shape (None, 10, 10, 1).\n"
          ]
        },
        {
          "name": "stderr",
          "output_type": "stream",
          "text": [
            "WARNING:tensorflow:Model was constructed with shape (None, 1) for input KerasTensor(type_spec=TensorSpec(shape=(None, 1), dtype=tf.float32, name='dense_88_input'), name='dense_88_input', description=\"created by layer 'dense_88_input'\"), but it was called on an input with incompatible shape (None, 10, 10, 1).\n"
          ]
        },
        {
          "name": "stdout",
          "output_type": "stream",
          "text": [
            "WARNING:tensorflow:Model was constructed with shape (None, 1) for input KerasTensor(type_spec=TensorSpec(shape=(None, 1), dtype=tf.float32, name='dense_88_input'), name='dense_88_input', description=\"created by layer 'dense_88_input'\"), but it was called on an input with incompatible shape (None, 10, 10, 1).\n"
          ]
        },
        {
          "name": "stderr",
          "output_type": "stream",
          "text": [
            "WARNING:tensorflow:Model was constructed with shape (None, 1) for input KerasTensor(type_spec=TensorSpec(shape=(None, 1), dtype=tf.float32, name='dense_88_input'), name='dense_88_input', description=\"created by layer 'dense_88_input'\"), but it was called on an input with incompatible shape (None, 10, 10, 1).\n"
          ]
        },
        {
          "name": "stdout",
          "output_type": "stream",
          "text": [
            "\r1/1 [==============================] - ETA: 0s - loss: 0.4608 - binary_accuracy: 0.5332WARNING:tensorflow:Model was constructed with shape (None, 1) for input KerasTensor(type_spec=TensorSpec(shape=(None, 1), dtype=tf.float32, name='dense_88_input'), name='dense_88_input', description=\"created by layer 'dense_88_input'\"), but it was called on an input with incompatible shape (None, 10, 10, 1).\n"
          ]
        },
        {
          "name": "stderr",
          "output_type": "stream",
          "text": [
            "WARNING:tensorflow:Model was constructed with shape (None, 1) for input KerasTensor(type_spec=TensorSpec(shape=(None, 1), dtype=tf.float32, name='dense_88_input'), name='dense_88_input', description=\"created by layer 'dense_88_input'\"), but it was called on an input with incompatible shape (None, 10, 10, 1).\n"
          ]
        },
        {
          "name": "stdout",
          "output_type": "stream",
          "text": [
            "1/1 [==============================] - 1s 754ms/step - loss: 0.4608 - binary_accuracy: 0.5332 - val_loss: 0.5600 - val_binary_accuracy: 0.4000\n",
            "Epoch 2/10\n",
            "1/1 [==============================] - 0s 31ms/step - loss: 0.4588 - binary_accuracy: 0.5332 - val_loss: 0.5539 - val_binary_accuracy: 0.4000\n",
            "Epoch 3/10\n",
            "1/1 [==============================] - 0s 32ms/step - loss: 0.4560 - binary_accuracy: 0.5332 - val_loss: 0.5456 - val_binary_accuracy: 0.4000\n",
            "Epoch 4/10\n",
            "1/1 [==============================] - 0s 31ms/step - loss: 0.4514 - binary_accuracy: 0.5332 - val_loss: 0.5321 - val_binary_accuracy: 0.4000\n",
            "Epoch 5/10\n",
            "1/1 [==============================] - 0s 33ms/step - loss: 0.4422 - binary_accuracy: 0.5332 - val_loss: 0.5039 - val_binary_accuracy: 0.4004\n",
            "Epoch 6/10\n",
            "1/1 [==============================] - 0s 34ms/step - loss: 0.4195 - binary_accuracy: 0.5332 - val_loss: 0.4076 - val_binary_accuracy: 0.4108\n",
            "Epoch 7/10\n",
            "1/1 [==============================] - 0s 53ms/step - loss: 0.3385 - binary_accuracy: 0.5330 - val_loss: 0.2771 - val_binary_accuracy: 0.6000\n",
            "Epoch 8/10\n",
            "1/1 [==============================] - 0s 37ms/step - loss: 0.3461 - binary_accuracy: 0.4667 - val_loss: 0.3802 - val_binary_accuracy: 0.4136\n",
            "Epoch 9/10\n",
            "1/1 [==============================] - 0s 35ms/step - loss: 0.3177 - binary_accuracy: 0.5328 - val_loss: 0.2418 - val_binary_accuracy: 0.6000\n",
            "Epoch 10/10\n",
            "1/1 [==============================] - 0s 32ms/step - loss: 0.2624 - binary_accuracy: 0.4667 - val_loss: 0.3622 - val_binary_accuracy: 0.4180\n",
            "1/1 [==============================] - 0s 23ms/step - loss: 0.3622 - binary_accuracy: 0.4180\n"
          ]
        },
        {
          "data": {
            "text/html": [
              "\n",
              "  <div id=\"df-14eb712c-cdb1-4120-ab1f-bd351a874e8b\">\n",
              "    <div class=\"colab-df-container\">\n",
              "      <div>\n",
              "<style scoped>\n",
              "    .dataframe tbody tr th:only-of-type {\n",
              "        vertical-align: middle;\n",
              "    }\n",
              "\n",
              "    .dataframe tbody tr th {\n",
              "        vertical-align: top;\n",
              "    }\n",
              "\n",
              "    .dataframe thead th {\n",
              "        text-align: right;\n",
              "    }\n",
              "</style>\n",
              "<table border=\"1\" class=\"dataframe\">\n",
              "  <thead>\n",
              "    <tr style=\"text-align: right;\">\n",
              "      <th></th>\n",
              "      <th>Img size</th>\n",
              "      <th>Nodes Number</th>\n",
              "      <th>Accuracy</th>\n",
              "      <th>Loss</th>\n",
              "      <th>Training time</th>\n",
              "    </tr>\n",
              "  </thead>\n",
              "  <tbody>\n",
              "    <tr>\n",
              "      <th>1</th>\n",
              "      <td>500.0</td>\n",
              "      <td>8.0</td>\n",
              "      <td>0.599853</td>\n",
              "      <td>0.392610</td>\n",
              "      <td>20.452094</td>\n",
              "    </tr>\n",
              "    <tr>\n",
              "      <th>1</th>\n",
              "      <td>500.0</td>\n",
              "      <td>16.0</td>\n",
              "      <td>0.599853</td>\n",
              "      <td>0.383785</td>\n",
              "      <td>23.211524</td>\n",
              "    </tr>\n",
              "    <tr>\n",
              "      <th>1</th>\n",
              "      <td>500.0</td>\n",
              "      <td>32.0</td>\n",
              "      <td>0.597961</td>\n",
              "      <td>0.364188</td>\n",
              "      <td>29.489140</td>\n",
              "    </tr>\n",
              "    <tr>\n",
              "      <th>1</th>\n",
              "      <td>500.0</td>\n",
              "      <td>64.0</td>\n",
              "      <td>0.409961</td>\n",
              "      <td>0.338206</td>\n",
              "      <td>42.463299</td>\n",
              "    </tr>\n",
              "    <tr>\n",
              "      <th>1</th>\n",
              "      <td>100.0</td>\n",
              "      <td>8.0</td>\n",
              "      <td>0.599871</td>\n",
              "      <td>0.374136</td>\n",
              "      <td>2.069713</td>\n",
              "    </tr>\n",
              "    <tr>\n",
              "      <th>1</th>\n",
              "      <td>100.0</td>\n",
              "      <td>16.0</td>\n",
              "      <td>0.400129</td>\n",
              "      <td>0.583329</td>\n",
              "      <td>2.359727</td>\n",
              "    </tr>\n",
              "    <tr>\n",
              "      <th>1</th>\n",
              "      <td>100.0</td>\n",
              "      <td>32.0</td>\n",
              "      <td>0.561459</td>\n",
              "      <td>0.244758</td>\n",
              "      <td>2.327040</td>\n",
              "    </tr>\n",
              "    <tr>\n",
              "      <th>1</th>\n",
              "      <td>100.0</td>\n",
              "      <td>64.0</td>\n",
              "      <td>0.423441</td>\n",
              "      <td>0.282214</td>\n",
              "      <td>2.830079</td>\n",
              "    </tr>\n",
              "    <tr>\n",
              "      <th>1</th>\n",
              "      <td>50.0</td>\n",
              "      <td>8.0</td>\n",
              "      <td>0.583887</td>\n",
              "      <td>0.303401</td>\n",
              "      <td>1.352696</td>\n",
              "    </tr>\n",
              "    <tr>\n",
              "      <th>1</th>\n",
              "      <td>50.0</td>\n",
              "      <td>16.0</td>\n",
              "      <td>0.417889</td>\n",
              "      <td>0.360985</td>\n",
              "      <td>1.417169</td>\n",
              "    </tr>\n",
              "    <tr>\n",
              "      <th>1</th>\n",
              "      <td>50.0</td>\n",
              "      <td>32.0</td>\n",
              "      <td>0.599871</td>\n",
              "      <td>0.388368</td>\n",
              "      <td>1.497604</td>\n",
              "    </tr>\n",
              "    <tr>\n",
              "      <th>1</th>\n",
              "      <td>50.0</td>\n",
              "      <td>64.0</td>\n",
              "      <td>0.400129</td>\n",
              "      <td>0.542853</td>\n",
              "      <td>2.055991</td>\n",
              "    </tr>\n",
              "    <tr>\n",
              "      <th>1</th>\n",
              "      <td>25.0</td>\n",
              "      <td>8.0</td>\n",
              "      <td>0.599808</td>\n",
              "      <td>0.390431</td>\n",
              "      <td>1.302210</td>\n",
              "    </tr>\n",
              "    <tr>\n",
              "      <th>1</th>\n",
              "      <td>25.0</td>\n",
              "      <td>16.0</td>\n",
              "      <td>0.400000</td>\n",
              "      <td>0.273406</td>\n",
              "      <td>1.239461</td>\n",
              "    </tr>\n",
              "    <tr>\n",
              "      <th>1</th>\n",
              "      <td>25.0</td>\n",
              "      <td>32.0</td>\n",
              "      <td>0.400000</td>\n",
              "      <td>0.325764</td>\n",
              "      <td>1.240447</td>\n",
              "    </tr>\n",
              "    <tr>\n",
              "      <th>1</th>\n",
              "      <td>25.0</td>\n",
              "      <td>64.0</td>\n",
              "      <td>0.400000</td>\n",
              "      <td>0.351035</td>\n",
              "      <td>1.349459</td>\n",
              "    </tr>\n",
              "    <tr>\n",
              "      <th>1</th>\n",
              "      <td>10.0</td>\n",
              "      <td>8.0</td>\n",
              "      <td>0.400000</td>\n",
              "      <td>0.586286</td>\n",
              "      <td>1.215099</td>\n",
              "    </tr>\n",
              "    <tr>\n",
              "      <th>1</th>\n",
              "      <td>10.0</td>\n",
              "      <td>16.0</td>\n",
              "      <td>0.600000</td>\n",
              "      <td>0.381572</td>\n",
              "      <td>1.201264</td>\n",
              "    </tr>\n",
              "    <tr>\n",
              "      <th>1</th>\n",
              "      <td>10.0</td>\n",
              "      <td>32.0</td>\n",
              "      <td>0.400000</td>\n",
              "      <td>0.571284</td>\n",
              "      <td>1.164240</td>\n",
              "    </tr>\n",
              "    <tr>\n",
              "      <th>1</th>\n",
              "      <td>10.0</td>\n",
              "      <td>64.0</td>\n",
              "      <td>0.418000</td>\n",
              "      <td>0.362159</td>\n",
              "      <td>1.154582</td>\n",
              "    </tr>\n",
              "  </tbody>\n",
              "</table>\n",
              "</div>\n",
              "      <button class=\"colab-df-convert\" onclick=\"convertToInteractive('df-14eb712c-cdb1-4120-ab1f-bd351a874e8b')\"\n",
              "              title=\"Convert this dataframe to an interactive table.\"\n",
              "              style=\"display:none;\">\n",
              "        \n",
              "  <svg xmlns=\"http://www.w3.org/2000/svg\" height=\"24px\"viewBox=\"0 0 24 24\"\n",
              "       width=\"24px\">\n",
              "    <path d=\"M0 0h24v24H0V0z\" fill=\"none\"/>\n",
              "    <path d=\"M18.56 5.44l.94 2.06.94-2.06 2.06-.94-2.06-.94-.94-2.06-.94 2.06-2.06.94zm-11 1L8.5 8.5l.94-2.06 2.06-.94-2.06-.94L8.5 2.5l-.94 2.06-2.06.94zm10 10l.94 2.06.94-2.06 2.06-.94-2.06-.94-.94-2.06-.94 2.06-2.06.94z\"/><path d=\"M17.41 7.96l-1.37-1.37c-.4-.4-.92-.59-1.43-.59-.52 0-1.04.2-1.43.59L10.3 9.45l-7.72 7.72c-.78.78-.78 2.05 0 2.83L4 21.41c.39.39.9.59 1.41.59.51 0 1.02-.2 1.41-.59l7.78-7.78 2.81-2.81c.8-.78.8-2.07 0-2.86zM5.41 20L4 18.59l7.72-7.72 1.47 1.35L5.41 20z\"/>\n",
              "  </svg>\n",
              "      </button>\n",
              "      \n",
              "  <style>\n",
              "    .colab-df-container {\n",
              "      display:flex;\n",
              "      flex-wrap:wrap;\n",
              "      gap: 12px;\n",
              "    }\n",
              "\n",
              "    .colab-df-convert {\n",
              "      background-color: #E8F0FE;\n",
              "      border: none;\n",
              "      border-radius: 50%;\n",
              "      cursor: pointer;\n",
              "      display: none;\n",
              "      fill: #1967D2;\n",
              "      height: 32px;\n",
              "      padding: 0 0 0 0;\n",
              "      width: 32px;\n",
              "    }\n",
              "\n",
              "    .colab-df-convert:hover {\n",
              "      background-color: #E2EBFA;\n",
              "      box-shadow: 0px 1px 2px rgba(60, 64, 67, 0.3), 0px 1px 3px 1px rgba(60, 64, 67, 0.15);\n",
              "      fill: #174EA6;\n",
              "    }\n",
              "\n",
              "    [theme=dark] .colab-df-convert {\n",
              "      background-color: #3B4455;\n",
              "      fill: #D2E3FC;\n",
              "    }\n",
              "\n",
              "    [theme=dark] .colab-df-convert:hover {\n",
              "      background-color: #434B5C;\n",
              "      box-shadow: 0px 1px 3px 1px rgba(0, 0, 0, 0.15);\n",
              "      filter: drop-shadow(0px 1px 2px rgba(0, 0, 0, 0.3));\n",
              "      fill: #FFFFFF;\n",
              "    }\n",
              "  </style>\n",
              "\n",
              "      <script>\n",
              "        const buttonEl =\n",
              "          document.querySelector('#df-14eb712c-cdb1-4120-ab1f-bd351a874e8b button.colab-df-convert');\n",
              "        buttonEl.style.display =\n",
              "          google.colab.kernel.accessAllowed ? 'block' : 'none';\n",
              "\n",
              "        async function convertToInteractive(key) {\n",
              "          const element = document.querySelector('#df-14eb712c-cdb1-4120-ab1f-bd351a874e8b');\n",
              "          const dataTable =\n",
              "            await google.colab.kernel.invokeFunction('convertToInteractive',\n",
              "                                                     [key], {});\n",
              "          if (!dataTable) return;\n",
              "\n",
              "          const docLinkHtml = 'Like what you see? Visit the ' +\n",
              "            '<a target=\"_blank\" href=https://colab.research.google.com/notebooks/data_table.ipynb>data table notebook</a>'\n",
              "            + ' to learn more about interactive tables.';\n",
              "          element.innerHTML = '';\n",
              "          dataTable['output_type'] = 'display_data';\n",
              "          await google.colab.output.renderOutput(dataTable, element);\n",
              "          const docLink = document.createElement('div');\n",
              "          docLink.innerHTML = docLinkHtml;\n",
              "          element.appendChild(docLink);\n",
              "        }\n",
              "      </script>\n",
              "    </div>\n",
              "  </div>\n",
              "  "
            ],
            "text/plain": [
              "   Img size  Nodes Number  Accuracy      Loss  Training time\n",
              "1     500.0           8.0  0.599853  0.392610      20.452094\n",
              "1     500.0          16.0  0.599853  0.383785      23.211524\n",
              "1     500.0          32.0  0.597961  0.364188      29.489140\n",
              "1     500.0          64.0  0.409961  0.338206      42.463299\n",
              "1     100.0           8.0  0.599871  0.374136       2.069713\n",
              "1     100.0          16.0  0.400129  0.583329       2.359727\n",
              "1     100.0          32.0  0.561459  0.244758       2.327040\n",
              "1     100.0          64.0  0.423441  0.282214       2.830079\n",
              "1      50.0           8.0  0.583887  0.303401       1.352696\n",
              "1      50.0          16.0  0.417889  0.360985       1.417169\n",
              "1      50.0          32.0  0.599871  0.388368       1.497604\n",
              "1      50.0          64.0  0.400129  0.542853       2.055991\n",
              "1      25.0           8.0  0.599808  0.390431       1.302210\n",
              "1      25.0          16.0  0.400000  0.273406       1.239461\n",
              "1      25.0          32.0  0.400000  0.325764       1.240447\n",
              "1      25.0          64.0  0.400000  0.351035       1.349459\n",
              "1      10.0           8.0  0.400000  0.586286       1.215099\n",
              "1      10.0          16.0  0.600000  0.381572       1.201264\n",
              "1      10.0          32.0  0.400000  0.571284       1.164240\n",
              "1      10.0          64.0  0.418000  0.362159       1.154582"
            ]
          },
          "execution_count": 49,
          "metadata": {},
          "output_type": "execute_result"
        }
      ],
      "source": [
        "evaluation()"
      ],
      "id": "FUf0D5tnj_PO"
    },
    {
      "cell_type": "markdown",
      "metadata": {
        "id": "38913d77"
      },
      "source": [
        "#### b. Multi layer neural network Performance Analysis"
      ],
      "id": "38913d77"
    },
    {
      "cell_type": "code",
      "execution_count": null,
      "metadata": {
        "colab": {
          "base_uri": "https://localhost:8080/"
        },
        "id": "b9d02df2",
        "outputId": "f23cff64-900d-4589-c45f-af2922132fce"
      },
      "outputs": [
        {
          "name": "stdout",
          "output_type": "stream",
          "text": [
            "Epoch 1/10\n",
            "WARNING:tensorflow:Model was constructed with shape (None, 1) for input KerasTensor(type_spec=TensorSpec(shape=(None, 1), dtype=tf.float32, name='dense_28_input'), name='dense_28_input', description=\"created by layer 'dense_28_input'\"), but it was called on an input with incompatible shape (None, 500, 500, 1).\n"
          ]
        },
        {
          "name": "stderr",
          "output_type": "stream",
          "text": [
            "WARNING:tensorflow:Model was constructed with shape (None, 1) for input KerasTensor(type_spec=TensorSpec(shape=(None, 1), dtype=tf.float32, name='dense_28_input'), name='dense_28_input', description=\"created by layer 'dense_28_input'\"), but it was called on an input with incompatible shape (None, 500, 500, 1).\n"
          ]
        },
        {
          "name": "stdout",
          "output_type": "stream",
          "text": [
            "WARNING:tensorflow:Model was constructed with shape (None, 1) for input KerasTensor(type_spec=TensorSpec(shape=(None, 1), dtype=tf.float32, name='dense_28_input'), name='dense_28_input', description=\"created by layer 'dense_28_input'\"), but it was called on an input with incompatible shape (None, 500, 500, 1).\n"
          ]
        },
        {
          "name": "stderr",
          "output_type": "stream",
          "text": [
            "WARNING:tensorflow:Model was constructed with shape (None, 1) for input KerasTensor(type_spec=TensorSpec(shape=(None, 1), dtype=tf.float32, name='dense_28_input'), name='dense_28_input', description=\"created by layer 'dense_28_input'\"), but it was called on an input with incompatible shape (None, 500, 500, 1).\n"
          ]
        },
        {
          "name": "stdout",
          "output_type": "stream",
          "text": [
            "WARNING:tensorflow:Model was constructed with shape (None, 1) for input KerasTensor(type_spec=TensorSpec(shape=(None, 1), dtype=tf.float32, name='dense_28_input'), name='dense_28_input', description=\"created by layer 'dense_28_input'\"), but it was called on an input with incompatible shape (None, 500, 500, 1).\n"
          ]
        },
        {
          "name": "stderr",
          "output_type": "stream",
          "text": [
            "WARNING:tensorflow:Model was constructed with shape (None, 1) for input KerasTensor(type_spec=TensorSpec(shape=(None, 1), dtype=tf.float32, name='dense_28_input'), name='dense_28_input', description=\"created by layer 'dense_28_input'\"), but it was called on an input with incompatible shape (None, 500, 500, 1).\n"
          ]
        },
        {
          "name": "stdout",
          "output_type": "stream",
          "text": [
            "2/2 - 3s - loss: 0.4520 - binary_accuracy: 0.5347 - val_loss: 0.5395 - val_binary_accuracy: 0.4001 - 3s/epoch - 2s/step\n",
            "Epoch 2/10\n",
            "2/2 - 3s - loss: 0.4413 - binary_accuracy: 0.5315 - val_loss: 0.5068 - val_binary_accuracy: 0.4001 - 3s/epoch - 1s/step\n",
            "Epoch 3/10\n",
            "2/2 - 3s - loss: 0.4055 - binary_accuracy: 0.5316 - val_loss: 0.3626 - val_binary_accuracy: 0.4100 - 3s/epoch - 1s/step\n",
            "Epoch 4/10\n",
            "2/2 - 3s - loss: 0.3089 - binary_accuracy: 0.4667 - val_loss: 0.2491 - val_binary_accuracy: 0.6000 - 3s/epoch - 1s/step\n",
            "Epoch 5/10\n",
            "2/2 - 3s - loss: 0.2854 - binary_accuracy: 0.4667 - val_loss: 0.2583 - val_binary_accuracy: 0.4378 - 3s/epoch - 1s/step\n",
            "Epoch 6/10\n",
            "2/2 - 3s - loss: 0.2599 - binary_accuracy: 0.5236 - val_loss: 0.2748 - val_binary_accuracy: 0.4249 - 3s/epoch - 1s/step\n",
            "Epoch 7/10\n",
            "2/2 - 3s - loss: 0.2800 - binary_accuracy: 0.3403 - val_loss: 0.2484 - val_binary_accuracy: 0.6000 - 3s/epoch - 1s/step\n",
            "Epoch 8/10\n",
            "2/2 - 3s - loss: 0.2499 - binary_accuracy: 0.5041 - val_loss: 0.2826 - val_binary_accuracy: 0.4220 - 3s/epoch - 1s/step\n",
            "Epoch 9/10\n",
            "2/2 - 3s - loss: 0.2587 - binary_accuracy: 0.5327 - val_loss: 0.3131 - val_binary_accuracy: 0.4163 - 3s/epoch - 1s/step\n",
            "Epoch 10/10\n",
            "2/2 - 3s - loss: 0.2765 - binary_accuracy: 0.5233 - val_loss: 0.2804 - val_binary_accuracy: 0.4220 - 3s/epoch - 1s/step\n"
          ]
        },
        {
          "data": {
            "text/plain": [
              "<keras.callbacks.History at 0x7f8d7e724b90>"
            ]
          },
          "execution_count": 40,
          "metadata": {},
          "output_type": "execute_result"
        }
      ],
      "source": [
        "#2 layer\n",
        "\n",
        "training_data = []\n",
        "img_size=500\n",
        "\n",
        "def create_training_data():\n",
        "    for category in categories:\n",
        "        path = os.path.join(datadir,category)\n",
        "        class_num = categories.index(category)\n",
        "        for img in os.listdir(path):\n",
        "            img_array = cv2.imread(os.path.join(path,img),cv2.IMREAD_GRAYSCALE)\n",
        "            num_array=cv2.resize(img_array,(img_size,img_size))\n",
        "            training_data.append([num_array,class_num])\n",
        "create_training_data()\n",
        "\n",
        "\n",
        "x=[]\n",
        "y=[]\n",
        "for features,label in training_data:\n",
        "    x.append(features)\n",
        "    y.append(label)\n",
        "x=np.asarray(x).reshape(-1,img_size,img_size,1)\n",
        "y=np.asarray(y)\n",
        "\n",
        "\n",
        "from sklearn.model_selection import train_test_split\n",
        "x_train,x_test,y_train,y_test = train_test_split(x,y,test_size=.25,random_state=42)\n",
        "\n",
        "model =Sequential()\n",
        "model.add(Dense(32,input_dim=1,activation='relu'))\n",
        "model.add(Dense(32,input_dim=1,activation='relu'))\n",
        "model.add(Dense(1,activation='sigmoid'))\n",
        "\n",
        "model.compile(loss='mean_squared_error',\n",
        "             optimizer='adam',\n",
        "             metrics=['binary_accuracy'])\n",
        "model.fit(x_train,y_train,validation_data=(x_test,y_test),epochs=10,batch_size=10,verbose=2)\n"
      ],
      "id": "b9d02df2"
    },
    {
      "cell_type": "code",
      "execution_count": null,
      "metadata": {
        "colab": {
          "base_uri": "https://localhost:8080/"
        },
        "id": "d020ca16",
        "outputId": "5eb348f3-a5b6-4bbe-ce95-e7ba94d35362"
      },
      "outputs": [
        {
          "name": "stdout",
          "output_type": "stream",
          "text": [
            "1/1 [==============================] - 0s 333ms/step - loss: 0.2804 - binary_accuracy: 0.4220\n"
          ]
        },
        {
          "data": {
            "text/plain": [
              "[0.28043484687805176, 0.42198750376701355]"
            ]
          },
          "execution_count": 41,
          "metadata": {},
          "output_type": "execute_result"
        }
      ],
      "source": [
        "model.evaluate(x_test,y_test)"
      ],
      "id": "d020ca16"
    },
    {
      "cell_type": "code",
      "execution_count": null,
      "metadata": {
        "colab": {
          "base_uri": "https://localhost:8080/"
        },
        "id": "viclDjyPkijK",
        "outputId": "16db310d-fe02-461e-f623-8b9357793393"
      },
      "outputs": [
        {
          "name": "stdout",
          "output_type": "stream",
          "text": [
            "Epoch 1/10\n",
            "WARNING:tensorflow:Model was constructed with shape (None, 1) for input KerasTensor(type_spec=TensorSpec(shape=(None, 1), dtype=tf.float32, name='dense_35_input'), name='dense_35_input', description=\"created by layer 'dense_35_input'\"), but it was called on an input with incompatible shape (None, 500, 500, 1).\n"
          ]
        },
        {
          "name": "stderr",
          "output_type": "stream",
          "text": [
            "WARNING:tensorflow:Model was constructed with shape (None, 1) for input KerasTensor(type_spec=TensorSpec(shape=(None, 1), dtype=tf.float32, name='dense_35_input'), name='dense_35_input', description=\"created by layer 'dense_35_input'\"), but it was called on an input with incompatible shape (None, 500, 500, 1).\n"
          ]
        },
        {
          "name": "stdout",
          "output_type": "stream",
          "text": [
            "WARNING:tensorflow:Model was constructed with shape (None, 1) for input KerasTensor(type_spec=TensorSpec(shape=(None, 1), dtype=tf.float32, name='dense_35_input'), name='dense_35_input', description=\"created by layer 'dense_35_input'\"), but it was called on an input with incompatible shape (None, 500, 500, 1).\n"
          ]
        },
        {
          "name": "stderr",
          "output_type": "stream",
          "text": [
            "WARNING:tensorflow:Model was constructed with shape (None, 1) for input KerasTensor(type_spec=TensorSpec(shape=(None, 1), dtype=tf.float32, name='dense_35_input'), name='dense_35_input', description=\"created by layer 'dense_35_input'\"), but it was called on an input with incompatible shape (None, 500, 500, 1).\n"
          ]
        },
        {
          "name": "stdout",
          "output_type": "stream",
          "text": [
            "WARNING:tensorflow:Model was constructed with shape (None, 1) for input KerasTensor(type_spec=TensorSpec(shape=(None, 1), dtype=tf.float32, name='dense_35_input'), name='dense_35_input', description=\"created by layer 'dense_35_input'\"), but it was called on an input with incompatible shape (None, 500, 500, 1).\n"
          ]
        },
        {
          "name": "stderr",
          "output_type": "stream",
          "text": [
            "WARNING:tensorflow:Model was constructed with shape (None, 1) for input KerasTensor(type_spec=TensorSpec(shape=(None, 1), dtype=tf.float32, name='dense_35_input'), name='dense_35_input', description=\"created by layer 'dense_35_input'\"), but it was called on an input with incompatible shape (None, 500, 500, 1).\n"
          ]
        },
        {
          "name": "stdout",
          "output_type": "stream",
          "text": [
            "2/2 - 6s - loss: 0.5215 - binary_accuracy: 0.4669 - val_loss: 0.3645 - val_binary_accuracy: 0.5999 - 6s/epoch - 3s/step\n",
            "Epoch 2/10\n",
            "2/2 - 4s - loss: 0.4721 - binary_accuracy: 0.4652 - val_loss: 0.4254 - val_binary_accuracy: 0.4000 - 4s/epoch - 2s/step\n",
            "Epoch 3/10\n",
            "2/2 - 4s - loss: 0.2493 - binary_accuracy: 0.5333 - val_loss: 0.3476 - val_binary_accuracy: 0.5980 - 4s/epoch - 2s/step\n",
            "Epoch 4/10\n",
            "2/2 - 4s - loss: 0.4649 - binary_accuracy: 0.4703 - val_loss: 0.3373 - val_binary_accuracy: 0.5980 - 4s/epoch - 2s/step\n",
            "Epoch 5/10\n",
            "2/2 - 4s - loss: 0.4413 - binary_accuracy: 0.4684 - val_loss: 0.2695 - val_binary_accuracy: 0.5837 - 4s/epoch - 2s/step\n",
            "Epoch 6/10\n",
            "2/2 - 4s - loss: 0.3802 - binary_accuracy: 0.4019 - val_loss: 0.2458 - val_binary_accuracy: 0.5526 - 4s/epoch - 2s/step\n",
            "Epoch 7/10\n",
            "2/2 - 5s - loss: 0.2496 - binary_accuracy: 0.5333 - val_loss: 0.2481 - val_binary_accuracy: 0.5308 - 5s/epoch - 2s/step\n",
            "Epoch 8/10\n",
            "2/2 - 4s - loss: 0.3019 - binary_accuracy: 0.4353 - val_loss: 0.2447 - val_binary_accuracy: 0.5694 - 4s/epoch - 2s/step\n",
            "Epoch 9/10\n",
            "2/2 - 4s - loss: 0.2610 - binary_accuracy: 0.5333 - val_loss: 0.2468 - val_binary_accuracy: 0.5440 - 4s/epoch - 2s/step\n",
            "Epoch 10/10\n",
            "2/2 - 4s - loss: 0.3028 - binary_accuracy: 0.4513 - val_loss: 0.4525 - val_binary_accuracy: 0.4000 - 4s/epoch - 2s/step\n"
          ]
        },
        {
          "data": {
            "text/plain": [
              "<keras.callbacks.History at 0x7f8d7e7839d0>"
            ]
          },
          "execution_count": 43,
          "metadata": {},
          "output_type": "execute_result"
        }
      ],
      "source": [
        "#3 layer\n",
        "\n",
        "training_data = []\n",
        "img_size=500\n",
        "\n",
        "def create_training_data():\n",
        "    for category in categories:\n",
        "        path = os.path.join(datadir,category)\n",
        "        class_num = categories.index(category)\n",
        "        for img in os.listdir(path):\n",
        "            img_array = cv2.imread(os.path.join(path,img),cv2.IMREAD_GRAYSCALE)\n",
        "            num_array=cv2.resize(img_array,(img_size,img_size))\n",
        "            training_data.append([num_array,class_num])\n",
        "create_training_data()\n",
        "\n",
        "\n",
        "x=[]\n",
        "y=[]\n",
        "for features,label in training_data:\n",
        "    x.append(features)\n",
        "    y.append(label)\n",
        "x=np.asarray(x).reshape(-1,img_size,img_size,1)\n",
        "y=np.asarray(y)\n",
        "\n",
        "\n",
        "from sklearn.model_selection import train_test_split\n",
        "x_train,x_test,y_train,y_test = train_test_split(x,y,test_size=.25,random_state=42)\n",
        "\n",
        "model =Sequential()\n",
        "model.add(Dense(32,input_dim=1,activation='relu'))\n",
        "model.add(Dense(32,input_dim=1,activation='relu'))\n",
        "model.add(Dense(32,input_dim=1,activation='relu'))\n",
        "model.add(Dense(1,activation='sigmoid'))\n",
        "\n",
        "\n",
        "model.compile(loss='mean_squared_error',\n",
        "             metrics=['binary_accuracy'])\n",
        "model.fit(x_train,y_train,validation_data=(x_test,y_test),epochs=10,batch_size=10,verbose=2)"
      ],
      "id": "viclDjyPkijK"
    },
    {
      "cell_type": "code",
      "execution_count": null,
      "metadata": {
        "colab": {
          "base_uri": "https://localhost:8080/"
        },
        "id": "69261628",
        "outputId": "ffee4881-88a5-4edb-e146-f6cd630a4024"
      },
      "outputs": [
        {
          "name": "stdout",
          "output_type": "stream",
          "text": [
            "1/1 [==============================] - 0s 439ms/step - loss: 0.4525 - binary_accuracy: 0.4000\n"
          ]
        },
        {
          "data": {
            "text/plain": [
              "[0.45253610610961914, 0.40000054240226746]"
            ]
          },
          "execution_count": 44,
          "metadata": {},
          "output_type": "execute_result"
        }
      ],
      "source": [
        "model.evaluate(x_test,y_test)"
      ],
      "id": "69261628"
    },
    {
      "cell_type": "code",
      "execution_count": null,
      "metadata": {
        "colab": {
          "base_uri": "https://localhost:8080/"
        },
        "id": "48fcc942",
        "outputId": "26ee948f-8833-4388-a5db-6f465a4ba8dc"
      },
      "outputs": [
        {
          "name": "stdout",
          "output_type": "stream",
          "text": [
            "Epoch 1/10\n",
            "WARNING:tensorflow:Model was constructed with shape (None, 1) for input KerasTensor(type_spec=TensorSpec(shape=(None, 1), dtype=tf.float32, name='dense_39_input'), name='dense_39_input', description=\"created by layer 'dense_39_input'\"), but it was called on an input with incompatible shape (None, 500, 500, 1).\n"
          ]
        },
        {
          "name": "stderr",
          "output_type": "stream",
          "text": [
            "WARNING:tensorflow:Model was constructed with shape (None, 1) for input KerasTensor(type_spec=TensorSpec(shape=(None, 1), dtype=tf.float32, name='dense_39_input'), name='dense_39_input', description=\"created by layer 'dense_39_input'\"), but it was called on an input with incompatible shape (None, 500, 500, 1).\n"
          ]
        },
        {
          "name": "stdout",
          "output_type": "stream",
          "text": [
            "WARNING:tensorflow:Model was constructed with shape (None, 1) for input KerasTensor(type_spec=TensorSpec(shape=(None, 1), dtype=tf.float32, name='dense_39_input'), name='dense_39_input', description=\"created by layer 'dense_39_input'\"), but it was called on an input with incompatible shape (None, 500, 500, 1).\n"
          ]
        },
        {
          "name": "stderr",
          "output_type": "stream",
          "text": [
            "WARNING:tensorflow:Model was constructed with shape (None, 1) for input KerasTensor(type_spec=TensorSpec(shape=(None, 1), dtype=tf.float32, name='dense_39_input'), name='dense_39_input', description=\"created by layer 'dense_39_input'\"), but it was called on an input with incompatible shape (None, 500, 500, 1).\n"
          ]
        },
        {
          "name": "stdout",
          "output_type": "stream",
          "text": [
            "WARNING:tensorflow:Model was constructed with shape (None, 1) for input KerasTensor(type_spec=TensorSpec(shape=(None, 1), dtype=tf.float32, name='dense_39_input'), name='dense_39_input', description=\"created by layer 'dense_39_input'\"), but it was called on an input with incompatible shape (None, 500, 500, 1).\n"
          ]
        },
        {
          "name": "stderr",
          "output_type": "stream",
          "text": [
            "WARNING:tensorflow:Model was constructed with shape (None, 1) for input KerasTensor(type_spec=TensorSpec(shape=(None, 1), dtype=tf.float32, name='dense_39_input'), name='dense_39_input', description=\"created by layer 'dense_39_input'\"), but it was called on an input with incompatible shape (None, 500, 500, 1).\n"
          ]
        },
        {
          "name": "stdout",
          "output_type": "stream",
          "text": [
            "2/2 - 6s - loss: 0.5128 - binary_accuracy: 0.4666 - val_loss: 0.3484 - val_binary_accuracy: 0.5999 - 6s/epoch - 3s/step\n",
            "Epoch 2/10\n",
            "2/2 - 6s - loss: 0.4407 - binary_accuracy: 0.4686 - val_loss: 0.3140 - val_binary_accuracy: 0.4000 - 6s/epoch - 3s/step\n",
            "Epoch 3/10\n",
            "2/2 - 5s - loss: 0.2656 - binary_accuracy: 0.5333 - val_loss: 0.3072 - val_binary_accuracy: 0.5930 - 5s/epoch - 2s/step\n",
            "Epoch 4/10\n",
            "2/2 - 5s - loss: 0.3742 - binary_accuracy: 0.4672 - val_loss: 0.2443 - val_binary_accuracy: 0.5685 - 5s/epoch - 2s/step\n",
            "Epoch 5/10\n",
            "2/2 - 5s - loss: 0.2529 - binary_accuracy: 0.5333 - val_loss: 0.2666 - val_binary_accuracy: 0.4000 - 5s/epoch - 2s/step\n",
            "Epoch 6/10\n",
            "2/2 - 5s - loss: 0.2975 - binary_accuracy: 0.5333 - val_loss: 0.2644 - val_binary_accuracy: 0.5874 - 5s/epoch - 2s/step\n",
            "Epoch 7/10\n",
            "2/2 - 5s - loss: 0.3653 - binary_accuracy: 0.2684 - val_loss: 0.2688 - val_binary_accuracy: 0.5874 - 5s/epoch - 2s/step\n",
            "Epoch 8/10\n",
            "2/2 - 5s - loss: 0.3205 - binary_accuracy: 0.4651 - val_loss: 0.3254 - val_binary_accuracy: 0.4000 - 5s/epoch - 2s/step\n",
            "Epoch 9/10\n",
            "2/2 - 5s - loss: 0.2660 - binary_accuracy: 0.5333 - val_loss: 0.2442 - val_binary_accuracy: 0.5685 - 5s/epoch - 2s/step\n",
            "Epoch 10/10\n",
            "2/2 - 5s - loss: 0.2709 - binary_accuracy: 0.4085 - val_loss: 0.2443 - val_binary_accuracy: 0.5737 - 5s/epoch - 2s/step\n"
          ]
        },
        {
          "data": {
            "text/plain": [
              "<keras.callbacks.History at 0x7f8d7e8b2bd0>"
            ]
          },
          "execution_count": 45,
          "metadata": {},
          "output_type": "execute_result"
        }
      ],
      "source": [
        "#4 layer\n",
        "\n",
        "training_data = []\n",
        "img_size=500\n",
        "\n",
        "def create_training_data():\n",
        "    for category in categories:\n",
        "        path = os.path.join(datadir,category)\n",
        "        class_num = categories.index(category)\n",
        "        for img in os.listdir(path):\n",
        "            img_array = cv2.imread(os.path.join(path,img),cv2.IMREAD_GRAYSCALE)\n",
        "            num_array=cv2.resize(img_array,(img_size,img_size))\n",
        "            training_data.append([num_array,class_num])\n",
        "create_training_data()\n",
        "\n",
        "\n",
        "x=[]\n",
        "y=[]\n",
        "for features,label in training_data:\n",
        "    x.append(features)\n",
        "    y.append(label)\n",
        "x=np.asarray(x).reshape(-1,img_size,img_size,1)\n",
        "y=np.asarray(y)\n",
        "\n",
        "\n",
        "from sklearn.model_selection import train_test_split\n",
        "x_train,x_test,y_train,y_test = train_test_split(x,y,test_size=.25,random_state=42)\n",
        "\n",
        "model =Sequential()\n",
        "model.add(Dense(32,input_dim=1,activation='relu'))\n",
        "model.add(Dense(32,input_dim=1,activation='relu'))\n",
        "model.add(Dense(32,input_dim=1,activation='relu'))\n",
        "model.add(Dense(32,input_dim=1,activation='relu'))\n",
        "\n",
        "model.add(Dense(1,activation='sigmoid'))\n",
        "\n",
        "model.compile(loss='mean_squared_error',\n",
        "             metrics=['binary_accuracy'])\n",
        "model.fit(x_train,y_train,validation_data=(x_test,y_test),epochs=10,batch_size=10,verbose=2)\n"
      ],
      "id": "48fcc942"
    },
    {
      "cell_type": "code",
      "execution_count": null,
      "metadata": {
        "colab": {
          "base_uri": "https://localhost:8080/"
        },
        "id": "cb220d6b",
        "outputId": "0dc68566-a0aa-4dae-c883-66b2754c1053"
      },
      "outputs": [
        {
          "name": "stdout",
          "output_type": "stream",
          "text": [
            "1/1 [==============================] - 1s 588ms/step - loss: 0.2443 - binary_accuracy: 0.5737\n"
          ]
        },
        {
          "data": {
            "text/plain": [
              "[0.24432513117790222, 0.5737060904502869]"
            ]
          },
          "execution_count": 46,
          "metadata": {},
          "output_type": "execute_result"
        }
      ],
      "source": [
        "model.evaluate(x_test,y_test)"
      ],
      "id": "cb220d6b"
    },
    {
      "cell_type": "code",
      "execution_count": null,
      "metadata": {
        "colab": {
          "base_uri": "https://localhost:8080/"
        },
        "id": "c9126f7a",
        "outputId": "9a745644-8d3a-4e8c-b8f1-06d157447355"
      },
      "outputs": [
        {
          "name": "stdout",
          "output_type": "stream",
          "text": [
            "Epoch 1/10\n",
            "WARNING:tensorflow:Model was constructed with shape (None, 1) for input KerasTensor(type_spec=TensorSpec(shape=(None, 1), dtype=tf.float32, name='dense_44_input'), name='dense_44_input', description=\"created by layer 'dense_44_input'\"), but it was called on an input with incompatible shape (None, 500, 500, 1).\n"
          ]
        },
        {
          "name": "stderr",
          "output_type": "stream",
          "text": [
            "WARNING:tensorflow:Model was constructed with shape (None, 1) for input KerasTensor(type_spec=TensorSpec(shape=(None, 1), dtype=tf.float32, name='dense_44_input'), name='dense_44_input', description=\"created by layer 'dense_44_input'\"), but it was called on an input with incompatible shape (None, 500, 500, 1).\n"
          ]
        },
        {
          "name": "stdout",
          "output_type": "stream",
          "text": [
            "WARNING:tensorflow:Model was constructed with shape (None, 1) for input KerasTensor(type_spec=TensorSpec(shape=(None, 1), dtype=tf.float32, name='dense_44_input'), name='dense_44_input', description=\"created by layer 'dense_44_input'\"), but it was called on an input with incompatible shape (None, 500, 500, 1).\n"
          ]
        },
        {
          "name": "stderr",
          "output_type": "stream",
          "text": [
            "WARNING:tensorflow:Model was constructed with shape (None, 1) for input KerasTensor(type_spec=TensorSpec(shape=(None, 1), dtype=tf.float32, name='dense_44_input'), name='dense_44_input', description=\"created by layer 'dense_44_input'\"), but it was called on an input with incompatible shape (None, 500, 500, 1).\n"
          ]
        },
        {
          "name": "stdout",
          "output_type": "stream",
          "text": [
            "WARNING:tensorflow:Model was constructed with shape (None, 1) for input KerasTensor(type_spec=TensorSpec(shape=(None, 1), dtype=tf.float32, name='dense_44_input'), name='dense_44_input', description=\"created by layer 'dense_44_input'\"), but it was called on an input with incompatible shape (None, 500, 500, 1).\n"
          ]
        },
        {
          "name": "stderr",
          "output_type": "stream",
          "text": [
            "WARNING:tensorflow:Model was constructed with shape (None, 1) for input KerasTensor(type_spec=TensorSpec(shape=(None, 1), dtype=tf.float32, name='dense_44_input'), name='dense_44_input', description=\"created by layer 'dense_44_input'\"), but it was called on an input with incompatible shape (None, 500, 500, 1).\n"
          ]
        },
        {
          "name": "stdout",
          "output_type": "stream",
          "text": [
            "2/2 - 7s - loss: 0.4012 - binary_accuracy: 0.4664 - val_loss: 0.2579 - val_binary_accuracy: 0.5980 - 7s/epoch - 4s/step\n",
            "Epoch 2/10\n",
            "2/2 - 6s - loss: 0.2793 - binary_accuracy: 0.5333 - val_loss: 0.2542 - val_binary_accuracy: 0.4000 - 6s/epoch - 3s/step\n",
            "Epoch 3/10\n",
            "2/2 - 6s - loss: 0.3030 - binary_accuracy: 0.3344 - val_loss: 0.3172 - val_binary_accuracy: 0.4000 - 6s/epoch - 3s/step\n",
            "Epoch 4/10\n",
            "2/2 - 6s - loss: 0.2725 - binary_accuracy: 0.5333 - val_loss: 0.2730 - val_binary_accuracy: 0.4000 - 6s/epoch - 3s/step\n",
            "Epoch 5/10\n",
            "2/2 - 6s - loss: 0.2561 - binary_accuracy: 0.4717 - val_loss: 0.2772 - val_binary_accuracy: 0.4000 - 6s/epoch - 3s/step\n",
            "Epoch 6/10\n",
            "2/2 - 6s - loss: 0.2519 - binary_accuracy: 0.5333 - val_loss: 0.2437 - val_binary_accuracy: 0.5874 - 6s/epoch - 3s/step\n",
            "Epoch 7/10\n",
            "2/2 - 7s - loss: 0.2782 - binary_accuracy: 0.4007 - val_loss: 0.2437 - val_binary_accuracy: 0.5837 - 7s/epoch - 3s/step\n",
            "Epoch 8/10\n",
            "2/2 - 7s - loss: 0.2687 - binary_accuracy: 0.4032 - val_loss: 0.2434 - val_binary_accuracy: 0.5855 - 7s/epoch - 3s/step\n",
            "Epoch 9/10\n",
            "2/2 - 6s - loss: 0.2713 - binary_accuracy: 0.4026 - val_loss: 0.2436 - val_binary_accuracy: 0.5837 - 6s/epoch - 3s/step\n",
            "Epoch 10/10\n",
            "2/2 - 6s - loss: 0.2535 - binary_accuracy: 0.4891 - val_loss: 0.2750 - val_binary_accuracy: 0.4000 - 6s/epoch - 3s/step\n"
          ]
        },
        {
          "data": {
            "text/plain": [
              "<keras.callbacks.History at 0x7f8d7b8c1750>"
            ]
          },
          "execution_count": 47,
          "metadata": {},
          "output_type": "execute_result"
        }
      ],
      "source": [
        "#5 layer\n",
        "\n",
        "training_data = []\n",
        "img_size=500\n",
        "\n",
        "def create_training_data():\n",
        "    for category in categories:\n",
        "        path = os.path.join(datadir,category)\n",
        "        class_num = categories.index(category)\n",
        "        for img in os.listdir(path):\n",
        "            img_array = cv2.imread(os.path.join(path,img),cv2.IMREAD_GRAYSCALE)\n",
        "            num_array=cv2.resize(img_array,(img_size,img_size))\n",
        "            training_data.append([num_array,class_num])\n",
        "create_training_data()\n",
        "\n",
        "\n",
        "x=[]\n",
        "y=[]\n",
        "for features,label in training_data:\n",
        "    x.append(features)\n",
        "    y.append(label)\n",
        "x=np.asarray(x).reshape(-1,img_size,img_size,1)\n",
        "y=np.asarray(y)\n",
        "\n",
        "\n",
        "from sklearn.model_selection import train_test_split\n",
        "x_train,x_test,y_train,y_test = train_test_split(x,y,test_size=.25,random_state=42)\n",
        "\n",
        "model =Sequential()\n",
        "model.add(Dense(32,input_dim=1,activation='relu'))\n",
        "model.add(Dense(32,input_dim=1,activation='relu'))\n",
        "model.add(Dense(32,input_dim=1,activation='relu'))\n",
        "model.add(Dense(32,input_dim=1,activation='relu'))\n",
        "model.add(Dense(32,input_dim=1,activation='relu'))\n",
        "model.add(Dense(1,activation='sigmoid'))\n",
        "\n",
        "model.compile(loss='mean_squared_error',\n",
        "             metrics=['binary_accuracy'])\n",
        "model.fit(x_train,y_train,validation_data=(x_test,y_test),epochs=10,batch_size=10,verbose=2)\n"
      ],
      "id": "c9126f7a"
    },
    {
      "cell_type": "code",
      "execution_count": null,
      "metadata": {
        "colab": {
          "base_uri": "https://localhost:8080/"
        },
        "id": "4610675a",
        "outputId": "4833e4c7-2306-4a19-bd67-fbe644180381"
      },
      "outputs": [
        {
          "name": "stdout",
          "output_type": "stream",
          "text": [
            "1/1 [==============================] - 1s 621ms/step - loss: 0.2750 - binary_accuracy: 0.4000\n"
          ]
        },
        {
          "data": {
            "text/plain": [
              "[0.2749819755554199, 0.40000054240226746]"
            ]
          },
          "execution_count": 48,
          "metadata": {},
          "output_type": "execute_result"
        }
      ],
      "source": [
        "model.evaluate(x_test,y_test)"
      ],
      "id": "4610675a"
    },
    {
      "cell_type": "code",
      "execution_count": null,
      "metadata": {
        "id": "OPjtTZ3Mlvcv"
      },
      "outputs": [],
      "source": [],
      "id": "OPjtTZ3Mlvcv"
    }
  ],
  "metadata": {
    "colab": {
      "provenance": []
    },
    "kernelspec": {
      "display_name": "Python 3 (ipykernel)",
      "language": "python",
      "name": "python3"
    },
    "language_info": {
      "codemirror_mode": {
        "name": "ipython",
        "version": 3
      },
      "file_extension": ".py",
      "mimetype": "text/x-python",
      "name": "python",
      "nbconvert_exporter": "python",
      "pygments_lexer": "ipython3",
      "version": "3.9.7"
    }
  },
  "nbformat": 4,
  "nbformat_minor": 5
}