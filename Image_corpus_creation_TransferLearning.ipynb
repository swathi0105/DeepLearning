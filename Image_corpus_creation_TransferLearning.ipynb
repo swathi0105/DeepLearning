{
  "cells": [
    {
      "cell_type": "markdown",
      "source": [
        "#Image corpus creation and Transfer Learning in CNN"
      ],
      "metadata": {
        "id": "-WotwHJsC1Wx"
      }
    },
    {
      "cell_type": "markdown",
      "metadata": {
        "id": "HXmsTfo-JwLe"
      },
      "source": [
        "1. Import the necessary libraries"
      ]
    },
    {
      "cell_type": "code",
      "execution_count": null,
      "metadata": {
        "id": "u9VGPKMcHNCM"
      },
      "outputs": [],
      "source": [
        "import datetime\n",
        "import keras\n",
        "from keras.datasets import mnist\n",
        "from keras.models import Sequential\n",
        "from keras.layers import Dense,Dropout,Activation,Flatten\n",
        "from keras.layers import Conv2D, MaxPooling2D"
      ]
    },
    {
      "cell_type": "markdown",
      "metadata": {
        "id": "1MbP0mSzJmYf"
      },
      "source": [
        "2. Initialize some parameters"
      ]
    },
    {
      "cell_type": "code",
      "execution_count": null,
      "metadata": {
        "id": "Cj-KzMD-IJd4"
      },
      "outputs": [],
      "source": [
        "now = datetime.datetime.now\n",
        "batch_size = 128\n",
        "num_classes = 5\n",
        "epochs = 5\n",
        "img_rows, img_cols = 28,28\n",
        "filters = 32\n",
        "pool_size = 2\n",
        "kernel_size = 3"
      ]
    },
    {
      "cell_type": "markdown",
      "metadata": {
        "id": "bzREUUgpKElW"
      },
      "source": [
        "3. Partition MNIST dataset"
      ]
    },
    {
      "cell_type": "code",
      "execution_count": null,
      "metadata": {
        "id": "L9yOv40wIlee"
      },
      "outputs": [],
      "source": [
        "(x_train,y_train),(x_test,y_test) = mnist.load_data()"
      ]
    },
    {
      "cell_type": "code",
      "execution_count": null,
      "metadata": {
        "id": "E_hXVnRZI2uP"
      },
      "outputs": [],
      "source": [
        "x_train_lt5 = x_train[y_train < 5]\n",
        "y_train_lt5 = y_train[y_train < 5]\n",
        "x_test_lt5 = x_test[y_test < 5]\n",
        "y_test_lt5 = y_test[y_test < 5]\n",
        "x_train_gte5 = x_train[y_train >= 5]\n",
        "y_train_gte5 = y_train[y_train >= 5]-5\n",
        "x_test_gte5 = x_test[y_test >= 5]\n",
        "y_test_gte5 = y_test[y_test >= 5]-5"
      ]
    },
    {
      "cell_type": "markdown",
      "metadata": {
        "id": "lVaIl2_vKLsN"
      },
      "source": [
        "4.Define the \"feature\" layers"
      ]
    },
    {
      "cell_type": "code",
      "execution_count": null,
      "metadata": {
        "id": "SxXMy06cLTTw"
      },
      "outputs": [],
      "source": [
        "input_shape = (img_rows,img_cols,1)"
      ]
    },
    {
      "cell_type": "code",
      "execution_count": null,
      "metadata": {
        "id": "6X9u67LBN_rv"
      },
      "outputs": [],
      "source": [
        "feature_layers=([Conv2D(filters=filters,kernel_size = kernel_size,activation='relu',input_shape=(img_rows,img_cols,1)),\n",
        "                Conv2D(filters=filters,kernel_size = kernel_size,activation='relu',input_shape=(img_rows,img_cols,1)),\n",
        "                MaxPooling2D(pool_size=pool_size),\n",
        "                Dropout(0.25),\n",
        "                Flatten()])"
      ]
    },
    {
      "cell_type": "markdown",
      "metadata": {
        "id": "LN4MqAv0MZV_"
      },
      "source": [
        "5. Define the \"classification\" layers"
      ]
    },
    {
      "cell_type": "code",
      "execution_count": null,
      "metadata": {
        "id": "t5_x5sMhL1l6"
      },
      "outputs": [],
      "source": [
        "classification_layers = [Dense(128,activation='relu'),\n",
        "Dropout(0.5),\n",
        "\n",
        "Dense(5,activation='softmax')]"
      ]
    },
    {
      "cell_type": "markdown",
      "metadata": {
        "id": "irMW5j9xPmUv"
      },
      "source": [
        "6.Define  a Sequential model"
      ]
    },
    {
      "cell_type": "code",
      "execution_count": null,
      "metadata": {
        "colab": {
          "base_uri": "https://localhost:8080/"
        },
        "id": "8EbEiKW6MPKP",
        "outputId": "7c1be4e3-4bcf-4464-e032-75b3251eaa21"
      },
      "outputs": [
        {
          "name": "stdout",
          "output_type": "stream",
          "text": [
            "Model: \"sequential_2\"\n",
            "_________________________________________________________________\n",
            " Layer (type)                Output Shape              Param #   \n",
            "=================================================================\n",
            " conv2d_8 (Conv2D)           (None, 26, 26, 32)        320       \n",
            "                                                                 \n",
            " conv2d_9 (Conv2D)           (None, 24, 24, 32)        9248      \n",
            "                                                                 \n",
            " max_pooling2d_2 (MaxPooling  (None, 12, 12, 32)       0         \n",
            " 2D)                                                             \n",
            "                                                                 \n",
            " dropout_4 (Dropout)         (None, 12, 12, 32)        0         \n",
            "                                                                 \n",
            " flatten_2 (Flatten)         (None, 4608)              0         \n",
            "                                                                 \n",
            " dense_4 (Dense)             (None, 128)               589952    \n",
            "                                                                 \n",
            " dropout_5 (Dropout)         (None, 128)               0         \n",
            "                                                                 \n",
            " dense_5 (Dense)             (None, 5)                 645       \n",
            "                                                                 \n",
            "=================================================================\n",
            "Total params: 600,165\n",
            "Trainable params: 600,165\n",
            "Non-trainable params: 0\n",
            "_________________________________________________________________\n"
          ]
        }
      ],
      "source": [
        "model1 = Sequential(feature_layers+classification_layers)\n",
        "model1.summary()"
      ]
    },
    {
      "cell_type": "markdown",
      "metadata": {
        "id": "tCAsamEpP3HX"
      },
      "source": [
        "7.Create a function train model()"
      ]
    },
    {
      "cell_type": "code",
      "execution_count": null,
      "metadata": {
        "id": "ciueRoPBO3Uv"
      },
      "outputs": [],
      "source": [
        "def train_model1(model1,train,test,num_classes):\n",
        "  train[0] = train[0].reshape(train[0].shape[0],img_rows,img_cols,1)\n",
        "  test[0] = test[0].reshape(test[0].shape[0],img_rows,img_cols,1)\n",
        "  train[0] = train[0].astype('float32')\n",
        "  test[0] = test[0].astype('float32')\n",
        "  train[0] /= 255\n",
        "  test[0] /= 255\n",
        "  print(train[0].shape)\n",
        "  print(test[0].shape)\n",
        "  s = pd.Series(train[1])\n",
        "  train[1] = pd.get_dummies(s)\n",
        "  train[1] = train[1].values\n",
        "  s = pd.Series(test[1])\n",
        "  test[1] = pd.get_dummies(s)\n",
        "  test[1] = test[1].values\n",
        "\n",
        "  model1.compile(optimizer='adadelta',loss='categorical_crossentropy',metrics=['accuracy']) \n",
        "\n",
        "  train_start_time=now()\n",
        "\n",
        "  model1.fit(train[0],train[1],epochs=epochs,verbose=2)\n",
        "\n",
        "  print('Training time: %s' % (now() - train_start_time))\n",
        "\n",
        "  score=model1.evaluate(test[0],test[1],verbose=0)\n",
        "\n",
        "  print('test loss ',score[0])\n",
        "  print('test accuracy ',score[1])"
      ]
    },
    {
      "cell_type": "markdown",
      "metadata": {
        "id": "DWDJuhLgRzQe"
      },
      "source": [
        "8.Training on digits 5 to 9"
      ]
    },
    {
      "cell_type": "code",
      "execution_count": null,
      "metadata": {
        "colab": {
          "base_uri": "https://localhost:8080/"
        },
        "id": "Fdmwir_uQjVP",
        "outputId": "2c69d7de-b932-4bbf-866b-76ae6f8522d3"
      },
      "outputs": [
        {
          "name": "stdout",
          "output_type": "stream",
          "text": [
            "(29404, 28, 28, 1)\n",
            "(4861, 28, 28, 1)\n",
            "Epoch 1/5\n",
            "919/919 - 50s - loss: 1.5781 - accuracy: 0.2779 - 50s/epoch - 54ms/step\n",
            "Epoch 2/5\n",
            "919/919 - 54s - loss: 1.5167 - accuracy: 0.4302 - 54s/epoch - 58ms/step\n",
            "Epoch 3/5\n",
            "919/919 - 49s - loss: 1.4374 - accuracy: 0.5566 - 49s/epoch - 53ms/step\n",
            "Epoch 4/5\n",
            "919/919 - 49s - loss: 1.3367 - accuracy: 0.6327 - 49s/epoch - 54ms/step\n",
            "Epoch 5/5\n",
            "919/919 - 50s - loss: 1.2131 - accuracy: 0.6890 - 50s/epoch - 54ms/step\n",
            "Training time: 0:04:11.735450\n",
            "test loss  1.0883747339248657\n",
            "test accuracy  0.8568195700645447\n"
          ]
        }
      ],
      "source": [
        "train_model1(model1,[x_train_gte5,y_train_gte5],\n",
        "             [x_test_gte5,y_test_gte5],num_classes)"
      ]
    },
    {
      "cell_type": "code",
      "execution_count": null,
      "metadata": {
        "id": "-byupuWfSN7c"
      },
      "outputs": [],
      "source": [
        "import pandas as pd"
      ]
    },
    {
      "cell_type": "markdown",
      "metadata": {
        "id": "hWb6r_e_Szb4"
      },
      "source": [
        "9.Freeze Feature Layers"
      ]
    },
    {
      "cell_type": "code",
      "execution_count": null,
      "metadata": {
        "id": "PnIjPS4nScOL"
      },
      "outputs": [],
      "source": [
        "for l in feature_layers:\n",
        "  l.trainable = False"
      ]
    },
    {
      "cell_type": "markdown",
      "metadata": {
        "id": "svfADjZjS5Kp"
      },
      "source": [
        "10. Print Summary"
      ]
    },
    {
      "cell_type": "code",
      "execution_count": null,
      "metadata": {
        "colab": {
          "base_uri": "https://localhost:8080/"
        },
        "id": "5KEe5kk3SiNj",
        "outputId": "9105dfb0-2a94-4ff5-c4af-01ee921b570b"
      },
      "outputs": [
        {
          "name": "stdout",
          "output_type": "stream",
          "text": [
            "Model: \"sequential_2\"\n",
            "_________________________________________________________________\n",
            " Layer (type)                Output Shape              Param #   \n",
            "=================================================================\n",
            " conv2d_8 (Conv2D)           (None, 26, 26, 32)        320       \n",
            "                                                                 \n",
            " conv2d_9 (Conv2D)           (None, 24, 24, 32)        9248      \n",
            "                                                                 \n",
            " max_pooling2d_2 (MaxPooling  (None, 12, 12, 32)       0         \n",
            " 2D)                                                             \n",
            "                                                                 \n",
            " dropout_4 (Dropout)         (None, 12, 12, 32)        0         \n",
            "                                                                 \n",
            " flatten_2 (Flatten)         (None, 4608)              0         \n",
            "                                                                 \n",
            " dense_4 (Dense)             (None, 128)               589952    \n",
            "                                                                 \n",
            " dropout_5 (Dropout)         (None, 128)               0         \n",
            "                                                                 \n",
            " dense_5 (Dense)             (None, 5)                 645       \n",
            "                                                                 \n",
            "=================================================================\n",
            "Total params: 600,165\n",
            "Trainable params: 590,597\n",
            "Non-trainable params: 9,568\n",
            "_________________________________________________________________\n"
          ]
        }
      ],
      "source": [
        "model1.summary()"
      ]
    },
    {
      "cell_type": "markdown",
      "metadata": {
        "id": "-areGuYVTfqB"
      },
      "source": [
        "11.Training for digits 0 to 4 based on digits 5 to 9"
      ]
    },
    {
      "cell_type": "code",
      "execution_count": null,
      "metadata": {
        "colab": {
          "base_uri": "https://localhost:8080/"
        },
        "id": "sF2m6cK6Sl3Z",
        "outputId": "7c6e2e32-e352-45d8-f70e-6bfbf010982a"
      },
      "outputs": [
        {
          "name": "stdout",
          "output_type": "stream",
          "text": [
            "(30596, 28, 28, 1)\n",
            "(5139, 28, 28, 1)\n",
            "Epoch 1/5\n",
            "957/957 - 15s - loss: 1.5009 - accuracy: 0.3676 - 15s/epoch - 16ms/step\n",
            "Epoch 2/5\n",
            "957/957 - 15s - loss: 1.3133 - accuracy: 0.5306 - 15s/epoch - 16ms/step\n",
            "Epoch 3/5\n",
            "957/957 - 17s - loss: 1.1583 - accuracy: 0.6772 - 17s/epoch - 18ms/step\n",
            "Epoch 4/5\n",
            "957/957 - 16s - loss: 1.0254 - accuracy: 0.7639 - 16s/epoch - 17ms/step\n",
            "Epoch 5/5\n",
            "957/957 - 16s - loss: 0.9110 - accuracy: 0.8132 - 16s/epoch - 16ms/step\n",
            "Training time: 0:01:19.022715\n",
            "test loss  0.7852197289466858\n",
            "test accuracy  0.9038723707199097\n"
          ]
        }
      ],
      "source": [
        "train_model1(model1,[x_train_lt5, y_train_lt5],[x_test_lt5, y_test_lt5], num_classes)"
      ]
    },
    {
      "cell_type": "markdown",
      "metadata": {
        "id": "WmjORw3cT2Ya"
      },
      "source": [
        "12. Reversing the training process"
      ]
    },
    {
      "cell_type": "code",
      "execution_count": null,
      "metadata": {
        "id": "jrhs2dKbT8X_"
      },
      "outputs": [],
      "source": [
        "feature_layers=([Conv2D(filters=filters,kernel_size = kernel_size,activation='relu',input_shape=(img_rows,img_cols,1)),\n",
        "                Conv2D(filters=filters,kernel_size = kernel_size,activation='relu',input_shape=(img_rows,img_cols,1)),\n",
        "                MaxPooling2D(pool_size=pool_size),\n",
        "                Dropout(0.25),\n",
        "                Flatten()])"
      ]
    },
    {
      "cell_type": "code",
      "execution_count": null,
      "metadata": {
        "colab": {
          "base_uri": "https://localhost:8080/"
        },
        "id": "1BsqDUReUE0R",
        "outputId": "87b46bb0-c648-469c-b7fd-14d42dfc9114"
      },
      "outputs": [
        {
          "name": "stdout",
          "output_type": "stream",
          "text": [
            "Model: \"sequential_3\"\n",
            "_________________________________________________________________\n",
            " Layer (type)                Output Shape              Param #   \n",
            "=================================================================\n",
            " conv2d_10 (Conv2D)          (None, 26, 26, 32)        320       \n",
            "                                                                 \n",
            " conv2d_11 (Conv2D)          (None, 24, 24, 32)        9248      \n",
            "                                                                 \n",
            " max_pooling2d_3 (MaxPooling  (None, 12, 12, 32)       0         \n",
            " 2D)                                                             \n",
            "                                                                 \n",
            " dropout_6 (Dropout)         (None, 12, 12, 32)        0         \n",
            "                                                                 \n",
            " flatten_3 (Flatten)         (None, 4608)              0         \n",
            "                                                                 \n",
            " dense_4 (Dense)             (None, 128)               589952    \n",
            "                                                                 \n",
            " dropout_5 (Dropout)         (None, 128)               0         \n",
            "                                                                 \n",
            " dense_5 (Dense)             (None, 5)                 645       \n",
            "                                                                 \n",
            "=================================================================\n",
            "Total params: 600,165\n",
            "Trainable params: 600,165\n",
            "Non-trainable params: 0\n",
            "_________________________________________________________________\n"
          ]
        }
      ],
      "source": [
        "modelReverse = Sequential(feature_layers+classification_layers)\n",
        "modelReverse.summary()"
      ]
    },
    {
      "cell_type": "code",
      "execution_count": null,
      "metadata": {
        "colab": {
          "base_uri": "https://localhost:8080/"
        },
        "id": "96uMC2RLUIBx",
        "outputId": "b5c963db-895e-44f5-fbfd-1b1a01ed60de"
      },
      "outputs": [
        {
          "name": "stdout",
          "output_type": "stream",
          "text": [
            "(30596, 28, 28, 1)\n",
            "(5139, 28, 28, 1)\n",
            "Epoch 1/5\n",
            "957/957 - 51s - loss: 1.2687 - accuracy: 0.7119 - 51s/epoch - 54ms/step\n",
            "Epoch 2/5\n",
            "957/957 - 50s - loss: 1.0312 - accuracy: 0.7904 - 50s/epoch - 53ms/step\n",
            "Epoch 3/5\n",
            "957/957 - 49s - loss: 0.7930 - accuracy: 0.8330 - 49s/epoch - 51ms/step\n",
            "Epoch 4/5\n",
            "957/957 - 49s - loss: 0.6092 - accuracy: 0.8597 - 49s/epoch - 51ms/step\n",
            "Epoch 5/5\n",
            "957/957 - 50s - loss: 0.4939 - accuracy: 0.8725 - 50s/epoch - 52ms/step\n",
            "Training time: 0:04:09.514456\n",
            "test loss  0.334087073802948\n",
            "test accuracy  0.9340338706970215\n"
          ]
        }
      ],
      "source": [
        "train_model1(modelReverse,[x_train_lt5,y_train_lt5],[x_test_lt5,y_test_lt5],num_classes)"
      ]
    },
    {
      "cell_type": "code",
      "execution_count": null,
      "metadata": {
        "id": "q1zqIlR0ULsh"
      },
      "outputs": [],
      "source": [
        "for l in feature_layers:\n",
        " l.trainable = False"
      ]
    },
    {
      "cell_type": "code",
      "execution_count": null,
      "metadata": {
        "colab": {
          "base_uri": "https://localhost:8080/"
        },
        "id": "l-Y1yWE0URAq",
        "outputId": "8f596477-e9ed-4861-a802-cbcae1c79cce"
      },
      "outputs": [
        {
          "name": "stdout",
          "output_type": "stream",
          "text": [
            "Model: \"sequential_3\"\n",
            "_________________________________________________________________\n",
            " Layer (type)                Output Shape              Param #   \n",
            "=================================================================\n",
            " conv2d_10 (Conv2D)          (None, 26, 26, 32)        320       \n",
            "                                                                 \n",
            " conv2d_11 (Conv2D)          (None, 24, 24, 32)        9248      \n",
            "                                                                 \n",
            " max_pooling2d_3 (MaxPooling  (None, 12, 12, 32)       0         \n",
            " 2D)                                                             \n",
            "                                                                 \n",
            " dropout_6 (Dropout)         (None, 12, 12, 32)        0         \n",
            "                                                                 \n",
            " flatten_3 (Flatten)         (None, 4608)              0         \n",
            "                                                                 \n",
            " dense_4 (Dense)             (None, 128)               589952    \n",
            "                                                                 \n",
            " dropout_5 (Dropout)         (None, 128)               0         \n",
            "                                                                 \n",
            " dense_5 (Dense)             (None, 5)                 645       \n",
            "                                                                 \n",
            "=================================================================\n",
            "Total params: 600,165\n",
            "Trainable params: 590,597\n",
            "Non-trainable params: 9,568\n",
            "_________________________________________________________________\n"
          ]
        }
      ],
      "source": [
        "modelReverse.summary()"
      ]
    },
    {
      "cell_type": "code",
      "execution_count": null,
      "metadata": {
        "colab": {
          "base_uri": "https://localhost:8080/"
        },
        "id": "vsxm3S3fUUGa",
        "outputId": "b72356ee-4fdb-4c42-886a-cac0a8e47839"
      },
      "outputs": [
        {
          "name": "stdout",
          "output_type": "stream",
          "text": [
            "(29404, 28, 28, 1)\n",
            "(4861, 28, 28, 1)\n",
            "Epoch 1/5\n",
            "919/919 - 14s - loss: 1.5530 - accuracy: 0.4166 - 14s/epoch - 15ms/step\n",
            "Epoch 2/5\n",
            "919/919 - 13s - loss: 1.2671 - accuracy: 0.5017 - 13s/epoch - 14ms/step\n",
            "Epoch 3/5\n",
            "919/919 - 14s - loss: 1.0741 - accuracy: 0.5941 - 14s/epoch - 15ms/step\n",
            "Epoch 4/5\n",
            "919/919 - 14s - loss: 0.9389 - accuracy: 0.6624 - 14s/epoch - 15ms/step\n",
            "Epoch 5/5\n",
            "919/919 - 17s - loss: 0.8408 - accuracy: 0.7110 - 17s/epoch - 18ms/step\n",
            "Training time: 0:01:11.992456\n",
            "test loss  0.6890597939491272\n",
            "test accuracy  0.7938695549964905\n"
          ]
        }
      ],
      "source": [
        "train_model1(modelReverse,[x_train_gte5,y_train_gte5],[x_test_gte5,y_test_gte5],num_classes)"
      ]
    },
    {
      "cell_type": "markdown",
      "metadata": {
        "id": "Varofe5SChiQ"
      },
      "source": [
        "CASE 1 : Digits 5-9 is trained then last layer of network trained on\n",
        "Digit 0-4"
      ]
    },
    {
      "cell_type": "markdown",
      "metadata": {
        "id": "yxrWZ5kmChiQ"
      },
      "source": [
        "Digit 5-9 :\n",
        "Training time: 0:04:11.735450  \n",
        "test loss  1.0883747339248657     \n",
        "test accuracy  0.8568195700645447   "
      ]
    },
    {
      "cell_type": "markdown",
      "metadata": {
        "id": "LfNcEFozChiS"
      },
      "source": [
        "Digit 0-4 :Training time: 0:01:19.022715       \n",
        "test loss  0.7852197289466858      \n",
        "test accuracy  0.9038723707199097     "
      ]
    },
    {
      "cell_type": "markdown",
      "metadata": {
        "id": "XZf0SuSqChiT"
      },
      "source": [
        "CASE 2 : Digits 0-4 is trained then last layer of network trained on\n",
        "Digit 5-9"
      ]
    },
    {
      "cell_type": "markdown",
      "metadata": {
        "id": "os1XvPs_ChiT"
      },
      "source": [
        "Digit 0-4: Training time: 0:04:09.514456      \n",
        "test loss  0.334087073802948       \n",
        "test accuracy  0.9340338706970215       "
      ]
    },
    {
      "cell_type": "markdown",
      "metadata": {
        "id": "jxyhN025ChiT"
      },
      "source": [
        "Digit 5-9:Training time: 0:01:11.992456     \n",
        "test loss  0.6890597939491272            \n",
        "test accuracy  0.7938695549964905      "
      ]
    }
  ],
  "metadata": {
    "colab": {
      "provenance": []
    },
    "kernelspec": {
      "display_name": "Python 3 (ipykernel)",
      "language": "python",
      "name": "python3"
    },
    "language_info": {
      "codemirror_mode": {
        "name": "ipython",
        "version": 3
      },
      "file_extension": ".py",
      "mimetype": "text/x-python",
      "name": "python",
      "nbconvert_exporter": "python",
      "pygments_lexer": "ipython3",
      "version": "3.9.12"
    }
  },
  "nbformat": 4,
  "nbformat_minor": 0
}