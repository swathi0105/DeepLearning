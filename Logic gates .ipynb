{
 "cells": [
  {
   "cell_type": "markdown",
   "metadata": {
    "id": "Je6KyMmNz1Zh"
   },
   "source": [
    "# Design of Logic Gates using Perceptron and Keras"
   ]
  },
  {
   "cell_type": "markdown",
   "metadata": {
    "id": "zpCEH1vGz1Zs"
   },
   "source": [
    "#### Part-I: Design OR gate using the concept of Perceptron"
   ]
  },
  {
   "cell_type": "markdown",
   "metadata": {
    "id": "cVxzF7T2z1Zt"
   },
   "source": [
    "Step1: Define helper functions\n",
    "You can implement gate operations by identifying the appropriate weights\n",
    "for w1 and w2 and bias b for the single neuron."
   ]
  },
  {
   "cell_type": "code",
   "execution_count": 59,
   "metadata": {
    "id": "YhqZFbuMz1Zu"
   },
   "outputs": [],
   "source": [
    "import numpy as np\n",
    "import math"
   ]
  },
  {
   "cell_type": "code",
   "execution_count": 60,
   "metadata": {
    "id": "aDHsgLI8z1Zw"
   },
   "outputs": [],
   "source": [
    "def sigmoid(X):\n",
    "    Z = np.exp(-X)\n",
    "    sig = 1/(1+Z)\n",
    "    return sig"
   ]
  },
  {
   "cell_type": "code",
   "execution_count": 61,
   "metadata": {
    "id": "2oWcdnBoz1Zw"
   },
   "outputs": [],
   "source": [
    "def logic_gate(w1, w2, b):\n",
    "    return lambda x1, x2: sigmoid (w1 * x1 + w2 * x2 + b)"
   ]
  },
  {
   "cell_type": "code",
   "execution_count": 62,
   "metadata": {
    "id": "P7AYX8c_z1Zy"
   },
   "outputs": [],
   "source": [
    "def test(gate):\n",
    "    for a, b in (0, 0), (0, 1), (1, 0), (1, 1):\n",
    "        print(\"{}, {}: {}\".format(a, b, np.round(gate(a,b))))"
   ]
  },
  {
   "cell_type": "markdown",
   "metadata": {
    "id": "KxGIOkLSz1Zz"
   },
   "source": [
    "Step2: Identify values for weights, w1 and w2 and bias, b, for OR gate.\n",
    "Then, call logic_gate() function first with the values of weights and bias and\n",
    "test the outputs. For example, do the following steps and verify OR gate\n",
    "operations."
   ]
  },
  {
   "cell_type": "code",
   "execution_count": 63,
   "metadata": {
    "id": "61W2MSLVz1Z0",
    "outputId": "134a0a3d-6195-4a25-a557-185e6b000e0a"
   },
   "outputs": [
    {
     "name": "stdout",
     "output_type": "stream",
     "text": [
      "0, 0: 0.0\n",
      "0, 1: 1.0\n",
      "1, 0: 1.0\n",
      "1, 1: 1.0\n"
     ]
    }
   ],
   "source": [
    "OR_gate = logic_gate(20, 20, -10)\n",
    "test(OR_gate)"
   ]
  },
  {
   "cell_type": "markdown",
   "metadata": {
    "id": "WiLkiZGTz1Z3"
   },
   "source": [
    "Part-II: Implement the operations of AND, NOR and NAND gates <br>\n",
    "Step1: Identify values for weights, w1 and w2 and bias, b, for AND gate.\n",
    "Then, call logic_gate() function first with the values of weights and bias and\n",
    "test the outputs. Draw manually using pen the diagram of OR gate.<br>"
   ]
  },
  {
   "cell_type": "code",
   "execution_count": 64,
   "metadata": {
    "id": "ofr14DfTz1Z3",
    "outputId": "a94921af-0e81-438c-8933-08bdfa40426c"
   },
   "outputs": [
    {
     "name": "stdout",
     "output_type": "stream",
     "text": [
      "0, 0: 0.0\n",
      "0, 1: 0.0\n",
      "1, 0: 0.0\n",
      "1, 1: 1.0\n"
     ]
    }
   ],
   "source": [
    "AND_gate = logic_gate(18, 18, -20)\n",
    "test(AND_gate)"
   ]
  },
  {
   "cell_type": "markdown",
   "metadata": {
    "id": "fflhHdkCz1Z4"
   },
   "source": [
    "Step2: Identify values for weights, w1 and w2 and bias, b, for NOR gate. Then, call logic_gate() function first with the values of weights and bias and test the outputs. Draw manually using pen the diagram of NOR gate.\n"
   ]
  },
  {
   "cell_type": "code",
   "execution_count": 73,
   "metadata": {
    "id": "G5IAzG64z1Z5",
    "outputId": "12ec6be3-c063-45e8-d075-fe286b2c6de8"
   },
   "outputs": [
    {
     "name": "stdout",
     "output_type": "stream",
     "text": [
      "0, 0: 0.0\n",
      "0, 1: 1.0\n",
      "1, 0: 1.0\n",
      "1, 1: 1.0\n"
     ]
    }
   ],
   "source": [
    "NOR_gate = logic_gate(41, 41, -20)\n",
    "test(NOR_gate) "
   ]
  },
  {
   "cell_type": "markdown",
   "metadata": {
    "id": "JHNAJUiSz1Z6"
   },
   "source": [
    "Step3: Identify values for weights, w1 and w2 and bias, b, for NAND gate. Then, call logic_gate() function first with the values of weights and bias and test the outputs. Draw manually using pen the diagram of NAND gate.\n",
    "Then, call logic_gate() function first with the values of weights and bias and\n",
    "test the outputs. Draw manually using pen the diagram of NAND gate."
   ]
  },
  {
   "cell_type": "code",
   "execution_count": 74,
   "metadata": {
    "id": "Z-JihZD9z1Z6",
    "outputId": "51d0c7fb-df25-48a4-def6-b016f1a5f9dd"
   },
   "outputs": [
    {
     "name": "stdout",
     "output_type": "stream",
     "text": [
      "0, 0: 0.0\n",
      "0, 1: 0.0\n",
      "1, 0: 0.0\n",
      "1, 1: 1.0\n"
     ]
    }
   ],
   "source": [
    "NAND_gate = logic_gate(15, 11, -20)\n",
    "test(NAND_gate)"
   ]
  },
  {
   "cell_type": "markdown",
   "metadata": {
    "id": "l2WWYp7Az1Z7"
   },
   "source": [
    "Part-III: Limitations of single neuron for XOR operation\n",
    "Can you identify a set of weights such that a single neuron can output the\n",
    "values for XOR gate?. Single neurons can't correlate inputs, so it's just\n",
    "confused. So individual neurons are out. Can we still use neurons to\n",
    "somehow form an XOR gate?."
   ]
  },
  {
   "cell_type": "code",
   "execution_count": 67,
   "metadata": {},
   "outputs": [
    {
     "name": "stdout",
     "output_type": "stream",
     "text": [
      "0, 0: 1.0\n",
      "0, 1: 1.0\n",
      "1, 0: 0.0\n",
      "1, 1: 0.0\n"
     ]
    }
   ],
   "source": [
    "NOT_gate= logic_gate(-1,0,0.5)\n",
    "test(NOT_gate)"
   ]
  }
 ],
 "metadata": {
  "colab": {
   "name": "DL_Lab2_42.ipynb",
   "provenance": []
  },
  "kernelspec": {
   "display_name": "Python 3 (ipykernel)",
   "language": "python",
   "name": "python3"
  },
  "language_info": {
   "codemirror_mode": {
    "name": "ipython",
    "version": 3
   },
   "file_extension": ".py",
   "mimetype": "text/x-python",
   "name": "python",
   "nbconvert_exporter": "python",
   "pygments_lexer": "ipython3",
   "version": "3.9.7"
  }
 },
 "nbformat": 4,
 "nbformat_minor": 1
}
