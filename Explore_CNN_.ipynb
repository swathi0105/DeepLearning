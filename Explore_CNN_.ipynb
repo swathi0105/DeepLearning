{
  "cells": [
    {
      "cell_type": "markdown",
      "metadata": {
        "id": "6NmvNXJOo0eV"
      },
      "source": [
        "#Exploration of Convolutional Neural Networks Design"
      ]
    },
    {
      "cell_type": "code",
      "execution_count": null,
      "metadata": {
        "id": "i5yTBZdYouDX"
      },
      "outputs": [],
      "source": [
        "from __future__ import print_function\n",
        "import keras\n",
        "from keras.datasets import cifar10\n",
        "from keras.preprocessing.image import ImageDataGenerator\n",
        "from keras.models import Sequential\n",
        "from keras.layers import Dense, Dropout, Activation, Flatten, Conv2D, MaxPooling2D\n",
        "from keras.utils import np_utils\n",
        "import tensorflow as tf\n",
        "from tensorflow.keras.optimizers import RMSprop\n",
        "import matplotlib.pyplot as plt\n",
        "%matplotlib inline"
      ]
    },
    {
      "cell_type": "code",
      "execution_count": null,
      "metadata": {
        "id": "rUBNEZnKqbJn"
      },
      "outputs": [],
      "source": [
        "(x_train,y_train),(x_test,y_test)=tf.keras.datasets.mnist.load_data()"
      ]
    },
    {
      "cell_type": "code",
      "execution_count": null,
      "metadata": {
        "colab": {
          "base_uri": "https://localhost:8080/",
          "height": 292
        },
        "id": "bQETrhyPrI2f",
        "outputId": "60bbeaae-990e-4bf0-8694-ce90752e0289"
      },
      "outputs": [
        {
          "data": {
            "text/plain": [
              "<matplotlib.image.AxesImage at 0x203a8a7e610>"
            ]
          },
          "execution_count": 7,
          "metadata": {},
          "output_type": "execute_result"
        },
        {
          "data": {
            "image/png": "[encoded data removed]",
            "text/plain": [
              "<Figure size 288x288 with 1 Axes>"
            ]
          },
          "metadata": {
            "needs_background": "light"
          },
          "output_type": "display_data"
        }
      ],
      "source": [
        "plt.matshow(x_train[7])"
      ]
    },
    {
      "cell_type": "code",
      "execution_count": null,
      "metadata": {
        "id": "tm1y9e3zrcVW"
      },
      "outputs": [],
      "source": [
        "X_train = x_train.astype('float32')/255\n",
        "X_test = x_test.astype('float32')/255"
      ]
    },
    {
      "cell_type": "code",
      "execution_count": null,
      "metadata": {
        "colab": {
          "base_uri": "https://localhost:8080/"
        },
        "id": "kzLNblvaryM_",
        "outputId": "959fc250-3262-47dd-fb53-6707e23be64e"
      },
      "outputs": [
        {
          "data": {
            "text/plain": [
              "(60000, 28, 28)"
            ]
          },
          "execution_count": 5,
          "metadata": {},
          "output_type": "execute_result"
        }
      ],
      "source": [
        "X_train.shape"
      ]
    },
    {
      "cell_type": "code",
      "execution_count": null,
      "metadata": {
        "colab": {
          "base_uri": "https://localhost:8080/"
        },
        "id": "baZ3bsBHyXBX",
        "outputId": "74e1a0f5-6281-4636-b879-9cf81d80027b"
      },
      "outputs": [
        {
          "data": {
            "text/plain": [
              "(60000,)"
            ]
          },
          "execution_count": 6,
          "metadata": {},
          "output_type": "execute_result"
        }
      ],
      "source": [
        "y_train.shape"
      ]
    },
    {
      "cell_type": "markdown",
      "metadata": {
        "id": "S8BJlGXR4eAb"
      },
      "source": [
        "### 1.Number of Filters:"
      ]
    },
    {
      "cell_type": "code",
      "execution_count": null,
      "metadata": {
        "id": "_f9VwHShBzJB"
      },
      "outputs": [],
      "source": [
        "def mod(n):\n",
        "    model = Sequential()\n",
        "    model.add(Conv2D(filters=n, kernel_size=(3, 3), activation='relu', input_shape=(28,28,1)))\n",
        "    model.add(Flatten())\n",
        "    model.add(Dense(10,activation = 'softmax'))\n",
        "    return model"
      ]
    },
    {
      "cell_type": "code",
      "execution_count": null,
      "metadata": {
        "colab": {
          "base_uri": "https://localhost:8080/"
        },
        "id": "rxXOprKM4d8L",
        "outputId": "e1e9bd1a-f3f1-4307-a0a7-dbed6d7222a9"
      },
      "outputs": [
        {
          "name": "stdout",
          "output_type": "stream",
          "text": [
            "Epoch 1/5\n",
            "1875/1875 [==============================] - 15s 8ms/step - loss: 27.3046 - accuracy: 0.0997\n",
            "Epoch 2/5\n",
            "1875/1875 [==============================] - 15s 8ms/step - loss: 27.3046 - accuracy: 0.0978\n",
            "Epoch 3/5\n",
            "1875/1875 [==============================] - 15s 8ms/step - loss: 27.3046 - accuracy: 0.0978\n",
            "Epoch 4/5\n",
            "1875/1875 [==============================] - 19s 10ms/step - loss: 27.3046 - accuracy: 0.0999\n",
            "Epoch 5/5\n",
            "1875/1875 [==============================] - 15s 8ms/step - loss: 27.3046 - accuracy: 0.0974\n"
          ]
        },
        {
          "data": {
            "text/plain": [
              "<keras.callbacks.History at 0x7f5eb49885d0>"
            ]
          },
          "execution_count": 14,
          "metadata": {},
          "output_type": "execute_result"
        }
      ],
      "source": [
        "model2=mod(4)\n",
        "model2.compile(optimizer='adam',loss='mean_squared_error',metrics=['accuracy'])\n",
        "\n",
        "model2.fit(X_train,y_train,epochs=5)"
      ]
    },
    {
      "cell_type": "code",
      "execution_count": null,
      "metadata": {
        "colab": {
          "base_uri": "https://localhost:8080/"
        },
        "id": "F4FFWbkB4yhF",
        "outputId": "6aed808a-e773-40cf-a8df-07b37090d462"
      },
      "outputs": [
        {
          "name": "stdout",
          "output_type": "stream",
          "text": [
            "Epoch 1/5\n",
            "1875/1875 [==============================] - 30s 16ms/step - loss: 27.3046 - accuracy: 0.0980\n",
            "Epoch 2/5\n",
            "1875/1875 [==============================] - 30s 16ms/step - loss: 27.3046 - accuracy: 0.1047\n",
            "Epoch 3/5\n",
            "1875/1875 [==============================] - 31s 16ms/step - loss: 27.3046 - accuracy: 0.1040\n",
            "Epoch 4/5\n",
            "1875/1875 [==============================] - 30s 16ms/step - loss: 27.3046 - accuracy: 0.1025\n",
            "Epoch 5/5\n",
            "1875/1875 [==============================] - 28s 15ms/step - loss: 27.3046 - accuracy: 0.1032\n"
          ]
        },
        {
          "data": {
            "text/plain": [
              "<keras.callbacks.History at 0x7f5eb1855f10>"
            ]
          },
          "execution_count": 15,
          "metadata": {},
          "output_type": "execute_result"
        }
      ],
      "source": [
        "model2=mod(32)\n",
        "model2.compile(optimizer='adam',loss='mean_squared_error',metrics=['accuracy'])\n",
        "\n",
        "model2.fit(X_train,y_train,epochs=5)"
      ]
    },
    {
      "cell_type": "code",
      "execution_count": null,
      "metadata": {
        "colab": {
          "base_uri": "https://localhost:8080/"
        },
        "id": "IH4xvzla5vrK",
        "outputId": "5a003ee3-d5f5-438c-aa76-37b45b9259b1"
      },
      "outputs": [
        {
          "name": "stdout",
          "output_type": "stream",
          "text": [
            "Epoch 1/5\n",
            "1875/1875 [==============================] - 69s 37ms/step - loss: 27.3046 - accuracy: 0.0997\n",
            "Epoch 2/5\n",
            "1875/1875 [==============================] - 72s 38ms/step - loss: 27.3046 - accuracy: 0.1009\n",
            "Epoch 3/5\n",
            "1875/1875 [==============================] - 62s 33ms/step - loss: 27.3046 - accuracy: 0.0999\n",
            "Epoch 4/5\n",
            "1875/1875 [==============================] - 76s 41ms/step - loss: 27.3046 - accuracy: 0.1048\n",
            "Epoch 5/5\n",
            "1875/1875 [==============================] - 62s 33ms/step - loss: 27.3046 - accuracy: 0.1053\n"
          ]
        },
        {
          "data": {
            "text/plain": [
              "<keras.callbacks.History at 0x7f5eb4861c50>"
            ]
          },
          "execution_count": 16,
          "metadata": {},
          "output_type": "execute_result"
        }
      ],
      "source": [
        "model2=mod(128)\n",
        "model2.compile(optimizer='adam',loss='mean_squared_error',metrics=['accuracy'])\n",
        "\n",
        "model2.fit(X_train,y_train,epochs=5)"
      ]
    },
    {
      "cell_type": "markdown",
      "metadata": {
        "id": "zKpJutrk5vgy"
      },
      "source": [
        "### 2. Number of layers:"
      ]
    },
    {
      "cell_type": "code",
      "execution_count": null,
      "metadata": {
        "id": "MXZs6oTF6ODE"
      },
      "outputs": [],
      "source": [
        "def mod(n):\n",
        "    model = Sequential()\n",
        "    for i in range(n):\n",
        "        model.add(Conv2D(filters=32, kernel_size=(3, 3), activation='relu', input_shape=(28,28,1)))\n",
        "        model.add(Flatten())\n",
        "        model.add(Dense(10,activation = 'softmax'))\n",
        "        return model"
      ]
    },
    {
      "cell_type": "code",
      "execution_count": null,
      "metadata": {
        "colab": {
          "base_uri": "https://localhost:8080/"
        },
        "id": "KTT8gsw16tNe",
        "outputId": "4be991ba-75af-422e-862f-de5cc7af7269"
      },
      "outputs": [
        {
          "name": "stdout",
          "output_type": "stream",
          "text": [
            "Epoch 1/5\n",
            "938/938 [==============================] - 106s 112ms/step - loss: 27.3045 - accuracy: 0.1092\n",
            "Epoch 2/5\n",
            "938/938 [==============================] - 91s 97ms/step - loss: 27.3045 - accuracy: 0.1009\n",
            "Epoch 3/5\n",
            "938/938 [==============================] - 92s 98ms/step - loss: 27.3045 - accuracy: 0.0976\n",
            "Epoch 4/5\n",
            "938/938 [==============================] - 90s 96ms/step - loss: 27.3045 - accuracy: 0.0975\n",
            "Epoch 5/5\n",
            "938/938 [==============================] - 98s 104ms/step - loss: 27.3045 - accuracy: 0.0971\n"
          ]
        },
        {
          "data": {
            "text/plain": [
              "<keras.callbacks.History at 0x7f5eb43e8550>"
            ]
          },
          "execution_count": 21,
          "metadata": {},
          "output_type": "execute_result"
        }
      ],
      "source": [
        "model2=mod(2)\n",
        "model2.compile(optimizer='adam',loss='mean_squared_error',metrics=['accuracy'])\n",
        "\n",
        "model2.fit(X_train,y_train,epochs=5,batch_size=64)"
      ]
    },
    {
      "cell_type": "code",
      "execution_count": null,
      "metadata": {
        "colab": {
          "base_uri": "https://localhost:8080/"
        },
        "id": "f_4eV5NV63SA",
        "outputId": "2848ace6-3b95-4584-f4eb-dd0928eff34b"
      },
      "outputs": [
        {
          "name": "stdout",
          "output_type": "stream",
          "text": [
            "Epoch 1/5\n",
            "938/938 [==============================] - 247s 167ms/step - loss: 27.3045 - accuracy: 0.1036\n",
            "Epoch 2/5\n",
            "938/938 [==============================] - 150s 160ms/step - loss: 27.3045 - accuracy: 0.1034\n",
            "Epoch 3/5\n",
            "938/938 [==============================] - 149s 159ms/step - loss: 27.3045 - accuracy: 0.1021\n",
            "Epoch 4/5\n",
            "938/938 [==============================] - 148s 158ms/step - loss: 27.3045 - accuracy: 0.1019\n",
            "Epoch 5/5\n",
            "938/938 [==============================] - 148s 158ms/step - loss: 27.3045 - accuracy: 0.1016\n"
          ]
        },
        {
          "data": {
            "text/plain": [
              "<keras.callbacks.History at 0x7f5eb42b0bd0>"
            ]
          },
          "execution_count": 22,
          "metadata": {},
          "output_type": "execute_result"
        }
      ],
      "source": [
        "model2=mod(3)\n",
        "model2.compile(optimizer='adam',loss='mean_squared_error',metrics=['accuracy'])\n",
        "\n",
        "model2.fit(X_train,y_train,epochs=5,batch_size=64)"
      ]
    },
    {
      "cell_type": "code",
      "execution_count": null,
      "metadata": {
        "colab": {
          "base_uri": "https://localhost:8080/"
        },
        "id": "jHYDqHjP63O-",
        "outputId": "ad38fe4a-47d4-4f2e-a6bd-fe5db2927141"
      },
      "outputs": [
        {
          "name": "stdout",
          "output_type": "stream",
          "text": [
            "Epoch 1/5\n",
            "938/938 [==============================] - 197s 209ms/step - loss: 27.3045 - accuracy: 0.1076\n",
            "Epoch 2/5\n",
            "938/938 [==============================] - 202s 215ms/step - loss: 27.3045 - accuracy: 0.1017\n",
            "Epoch 3/5\n",
            "938/938 [==============================] - 209s 223ms/step - loss: 27.3045 - accuracy: 0.0968\n",
            "Epoch 4/5\n",
            "938/938 [==============================] - 197s 210ms/step - loss: 27.3045 - accuracy: 0.0964\n",
            "Epoch 5/5\n",
            "938/938 [==============================] - 196s 209ms/step - loss: 27.3045 - accuracy: 0.0972\n"
          ]
        },
        {
          "data": {
            "text/plain": [
              "<keras.callbacks.History at 0x7f5eb462c290>"
            ]
          },
          "execution_count": 23,
          "metadata": {},
          "output_type": "execute_result"
        }
      ],
      "source": [
        "model2=mod(4)\n",
        "model2.compile(optimizer='adam',loss='mean_squared_error',metrics=['accuracy'])\n",
        "\n",
        "model2.fit(X_train,y_train,epochs=5,batch_size=64)"
      ]
    },
    {
      "cell_type": "markdown",
      "metadata": {
        "id": "r-UcnT4u63H-"
      },
      "source": [
        "### 3.Size of filters:"
      ]
    },
    {
      "cell_type": "code",
      "execution_count": null,
      "metadata": {
        "colab": {
          "background_save": true,
          "base_uri": "https://localhost:8080/"
        },
        "id": "mXtklFN663E_",
        "outputId": "32ce6f7f-eb47-4d9f-ecb7-adf54d91068f"
      },
      "outputs": [
        {
          "name": "stdout",
          "output_type": "stream",
          "text": [
            "Epoch 1/5\n",
            "1875/1875 [==============================] - 25s 13ms/step - loss: 27.3046 - accuracy: 0.0972\n",
            "Epoch 2/5\n",
            "1875/1875 [==============================] - 24s 13ms/step - loss: 27.3046 - accuracy: 0.0940\n",
            "Epoch 3/5\n",
            "1875/1875 [==============================] - 22s 12ms/step - loss: 27.3046 - accuracy: 0.0968\n",
            "Epoch 4/5\n",
            "1875/1875 [==============================] - 22s 12ms/step - loss: 27.3046 - accuracy: 0.0989\n",
            "Epoch 5/5\n",
            "1875/1875 [==============================] - 22s 12ms/step - loss: 27.3046 - accuracy: 0.0986\n"
          ]
        },
        {
          "data": {
            "text/plain": [
              "<keras.callbacks.History at 0x7f5eb46f3650>"
            ]
          },
          "execution_count": 26,
          "metadata": {},
          "output_type": "execute_result"
        }
      ],
      "source": [
        "model = Sequential()\n",
        "model.add(Conv2D(filters=16, kernel_size=(5,5), activation='relu', input_shape=(28,28,1)))\n",
        "model.add(Flatten())\n",
        "model.add(Dense(10,activation = 'softmax'))\n",
        "\n",
        "model.compile(optimizer='adam',loss='mean_squared_error',metrics=['accuracy'])\n",
        "\n",
        "model.fit(X_train,y_train,epochs=5)"
      ]
    },
    {
      "cell_type": "code",
      "execution_count": null,
      "metadata": {
        "colab": {
          "background_save": true
        },
        "id": "_RL3W1V263AP",
        "outputId": "553f99f5-b026-4765-ef67-e21f47923eb1"
      },
      "outputs": [
        {
          "name": "stdout",
          "output_type": "stream",
          "text": [
            "Epoch 1/5\n",
            "1875/1875 [==============================] - 25s 13ms/step - loss: 27.3046 - accuracy: 0.1009\n",
            "Epoch 2/5\n",
            "1875/1875 [==============================] - 24s 13ms/step - loss: 27.3046 - accuracy: 0.1000\n",
            "Epoch 3/5\n",
            "1875/1875 [==============================] - 24s 13ms/step - loss: 27.3046 - accuracy: 0.0965\n",
            "Epoch 4/5\n",
            "1875/1875 [==============================] - 24s 13ms/step - loss: 27.3046 - accuracy: 0.0975\n",
            "Epoch 5/5\n",
            "1875/1875 [==============================] - 24s 13ms/step - loss: 27.3046 - accuracy: 0.0993\n"
          ]
        },
        {
          "data": {
            "text/plain": [
              "<keras.callbacks.History at 0x7f5eb8dd5d50>"
            ]
          },
          "execution_count": 27,
          "metadata": {},
          "output_type": "execute_result"
        }
      ],
      "source": [
        "model = Sequential()\n",
        "model.add(Conv2D(filters=16, kernel_size=(7,7), activation='relu', input_shape=(28,28,1)))\n",
        "model.add(Flatten())\n",
        "model.add(Dense(10,activation = 'softmax'))\n",
        "\n",
        "model.compile(optimizer='adam',loss='mean_squared_error',metrics=['accuracy'])\n",
        "\n",
        "model.fit(X_train,y_train,epochs=5)"
      ]
    },
    {
      "cell_type": "markdown",
      "metadata": {
        "id": "PrORoitH629t"
      },
      "source": [
        "### 4. Activation Function:"
      ]
    },
    {
      "cell_type": "code",
      "execution_count": null,
      "metadata": {
        "id": "gQeKy5dh62ou"
      },
      "outputs": [],
      "source": [
        "def mod(n,act):\n",
        "    model = Sequential()\n",
        "    for i in range(n):\n",
        "        model.add(Conv2D(filters=16, kernel_size=(3, 3), activation=act, input_shape=(28,28,1)))\n",
        "        model.add(Flatten())\n",
        "        model.add(Dense(10,activation = 'softmax'))\n",
        "        return model"
      ]
    },
    {
      "cell_type": "code",
      "execution_count": null,
      "metadata": {
        "colab": {
          "base_uri": "https://localhost:8080/"
        },
        "id": "8Pg1oTvbEDof",
        "outputId": "b54af734-c0e0-4c82-d1cb-9d37a1d7782a"
      },
      "outputs": [
        {
          "name": "stdout",
          "output_type": "stream",
          "text": [
            "Epoch 1/5\n",
            "1875/1875 [==============================] - 57s 30ms/step - loss: 27.3046 - accuracy: 0.0969\n",
            "Epoch 2/5\n",
            "1875/1875 [==============================] - 69s 37ms/step - loss: 27.3046 - accuracy: 0.0965\n",
            "Epoch 3/5\n",
            "1875/1875 [==============================] - 59s 32ms/step - loss: 27.3046 - accuracy: 0.0954\n",
            "Epoch 4/5\n",
            "1875/1875 [==============================] - 57s 30ms/step - loss: 27.3046 - accuracy: 0.0974\n",
            "Epoch 5/5\n",
            "1875/1875 [==============================] - 58s 31ms/step - loss: 27.3046 - accuracy: 0.0969\n"
          ]
        },
        {
          "data": {
            "text/plain": [
              "<keras.callbacks.History at 0x7f751e26ebd0>"
            ]
          },
          "execution_count": 11,
          "metadata": {},
          "output_type": "execute_result"
        }
      ],
      "source": [
        "model=mod(2,'tanh')\n",
        "\n",
        "model.compile(optimizer='adam',loss='mean_squared_error',metrics=['accuracy'])\n",
        "\n",
        "model.fit(X_train,y_train,epochs=5)"
      ]
    },
    {
      "cell_type": "code",
      "execution_count": null,
      "metadata": {
        "colab": {
          "base_uri": "https://localhost:8080/"
        },
        "id": "DQrgXB7uEzlZ",
        "outputId": "39ec50ab-ad07-4c81-eb08-31e70a3444d8"
      },
      "outputs": [
        {
          "name": "stdout",
          "output_type": "stream",
          "text": [
            "Test loss: 27.251352310180664\n",
            "Test accuracy: 0.08269999921321869\n"
          ]
        }
      ],
      "source": [
        "score = model.evaluate(x_test, y_test, verbose=0)\n",
        "print('Test loss:', score[0])\n",
        "print('Test accuracy:', score[1])"
      ]
    },
    {
      "cell_type": "code",
      "execution_count": null,
      "metadata": {
        "colab": {
          "base_uri": "https://localhost:8080/"
        },
        "id": "MpAqpmmO62hW",
        "outputId": "40ede94b-8318-4725-9c82-77175fa027a0"
      },
      "outputs": [
        {
          "name": "stdout",
          "output_type": "stream",
          "text": [
            "Epoch 1/5\n",
            "1875/1875 [==============================] - 55s 29ms/step - loss: 27.3045 - accuracy: 0.1027\n",
            "Epoch 2/5\n",
            "1875/1875 [==============================] - 55s 29ms/step - loss: 27.3046 - accuracy: 0.1021\n",
            "Epoch 3/5\n",
            "1875/1875 [==============================] - 56s 30ms/step - loss: 27.3046 - accuracy: 0.1011\n",
            "Epoch 4/5\n",
            "1875/1875 [==============================] - 57s 30ms/step - loss: 27.3046 - accuracy: 0.1027\n",
            "Epoch 5/5\n",
            "1875/1875 [==============================] - 64s 34ms/step - loss: 27.3046 - accuracy: 0.1015\n"
          ]
        },
        {
          "data": {
            "text/plain": [
              "<keras.callbacks.History at 0x7f751c13d8d0>"
            ]
          },
          "execution_count": 13,
          "metadata": {},
          "output_type": "execute_result"
        }
      ],
      "source": [
        "model1=mod(2,'relu')\n",
        "\n",
        "model1.compile(optimizer='adam',loss='mean_squared_error',metrics=['accuracy'])\n",
        "\n",
        "model1.fit(X_train,y_train,epochs=5)"
      ]
    },
    {
      "cell_type": "code",
      "execution_count": null,
      "metadata": {
        "colab": {
          "base_uri": "https://localhost:8080/"
        },
        "id": "O8o0WwUVFE6n",
        "outputId": "83b403dd-0629-4663-df83-9a08d4660f5b"
      },
      "outputs": [
        {
          "name": "stdout",
          "output_type": "stream",
          "text": [
            "Test loss: 27.260662078857422\n",
            "Test accuracy: 0.10819999873638153\n"
          ]
        }
      ],
      "source": [
        "score = model1.evaluate(x_test, y_test, verbose=0)\n",
        "print('Test loss:', score[0])\n",
        "print('Test accuracy:', score[1])"
      ]
    },
    {
      "cell_type": "markdown",
      "metadata": {
        "id": "-mw8VT3t_L3I"
      },
      "source": [
        "### 5. Filter size combination:"
      ]
    },
    {
      "cell_type": "code",
      "execution_count": null,
      "metadata": {
        "colab": {
          "base_uri": "https://localhost:8080/"
        },
        "id": "z-mgaWJZ_M6x",
        "outputId": "58eec38b-034d-4810-c613-8df971c6f1ab"
      },
      "outputs": [
        {
          "name": "stdout",
          "output_type": "stream",
          "text": [
            "Epoch 1/5\n",
            "1875/1875 [==============================] - 107s 57ms/step - loss: 27.3046 - accuracy: 0.0980\n",
            "Epoch 2/5\n",
            "1875/1875 [==============================] - 108s 58ms/step - loss: 27.3046 - accuracy: 0.0992\n",
            "Epoch 3/5\n",
            "1875/1875 [==============================] - 114s 61ms/step - loss: 27.3046 - accuracy: 0.1013\n",
            "Epoch 4/5\n",
            "1875/1875 [==============================] - 105s 56ms/step - loss: 27.3046 - accuracy: 0.1000\n",
            "Epoch 5/5\n",
            "1875/1875 [==============================] - 117s 63ms/step - loss: 27.3046 - accuracy: 0.0993\n"
          ]
        },
        {
          "data": {
            "text/plain": [
              "<keras.callbacks.History at 0x7f7518430b90>"
            ]
          },
          "execution_count": 16,
          "metadata": {},
          "output_type": "execute_result"
        }
      ],
      "source": [
        "model2 = Sequential()\n",
        "model2.add(Conv2D(filters=16, kernel_size=(3, 3), activation='relu', input_shape=(28,28,1)))\n",
        "model2.add(Conv2D(filters=16, kernel_size=(5,5), activation='relu', input_shape=(28,28,1)))\n",
        "model2.add(Flatten())\n",
        "model2.add(Dense(10,activation = 'softmax'))\n",
        "\n",
        "model2.compile(optimizer='adam',loss='mean_squared_error',metrics=['accuracy'])\n",
        "\n",
        "model2.fit(X_train,y_train,epochs=5)\n"
      ]
    },
    {
      "cell_type": "code",
      "execution_count": null,
      "metadata": {
        "colab": {
          "base_uri": "https://localhost:8080/"
        },
        "id": "osO_T6ChFQau",
        "outputId": "0d541b36-b7cb-4d44-fd88-be5d2a21b0c6"
      },
      "outputs": [
        {
          "name": "stdout",
          "output_type": "stream",
          "text": [
            "Test loss: 27.255985260009766\n",
            "Test accuracy: 0.08250000327825546\n"
          ]
        }
      ],
      "source": [
        "score = model2.evaluate(x_test, y_test, verbose=0)\n",
        "print('Test loss:', score[0])\n",
        "print('Test accuracy:', score[1])"
      ]
    },
    {
      "cell_type": "code",
      "execution_count": null,
      "metadata": {
        "id": "pkFK6ZrLqltW",
        "outputId": "ccb065e8-5ec0-469f-f301-77d7d0a62743"
      },
      "outputs": [
        {
          "name": "stdout",
          "output_type": "stream",
          "text": [
            "Epoch 1/5\n",
            "1875/1875 [==============================] - 131s 69ms/step - loss: 27.3046 - accuracy: 0.0986\n",
            "Epoch 2/5\n",
            "1875/1875 [==============================] - 127s 68ms/step - loss: 27.3046 - accuracy: 0.0970\n",
            "Epoch 3/5\n",
            "1875/1875 [==============================] - 132s 71ms/step - loss: 27.3045 - accuracy: 0.0994\n",
            "Epoch 4/5\n",
            "1875/1875 [==============================] - 124s 66ms/step - loss: 27.3046 - accuracy: 0.0988\n",
            "Epoch 5/5\n",
            "1875/1875 [==============================] - 126s 67ms/step - loss: 27.3046 - accuracy: 0.1000\n",
            "313/313 [==============================] - 7s 20ms/step - loss: 27.2503 - accuracy: 0.0760\n"
          ]
        },
        {
          "data": {
            "text/plain": [
              "[27.25031280517578, 0.07599999755620956]"
            ]
          },
          "execution_count": 8,
          "metadata": {},
          "output_type": "execute_result"
        }
      ],
      "source": [
        "model = Sequential([\n",
        "    Conv2D(filters=16, kernel_size=(5, 5), activation='tanh', input_shape=(28,28,1)), \n",
        "    Conv2D(filters=16, kernel_size=(7, 7), activation='tanh'),\n",
        "    Flatten(),\n",
        "    Dense(10, activation='softmax')\n",
        "])\n",
        "\n",
        "model.compile(optimizer='adam', loss='mean_squared_error', metrics=['accuracy'])\n",
        "\n",
        "model.fit(X_train, y_train, epochs=5)\n",
        "\n",
        "model.evaluate(X_test, y_test)"
      ]
    },
    {
      "cell_type": "markdown",
      "metadata": {
        "id": "lUYkPoY5qltW"
      },
      "source": [
        "### 6. Layer Filter Combinations"
      ]
    },
    {
      "cell_type": "code",
      "execution_count": null,
      "metadata": {
        "id": "y8evkNPBqltW",
        "outputId": "634d92d3-f5bc-4479-95c8-947440dd97c8"
      },
      "outputs": [
        {
          "name": "stdout",
          "output_type": "stream",
          "text": [
            "Epoch 1/3\n",
            "1875/1875 [==============================] - 81s 42ms/step - loss: 27.3046 - accuracy: 0.1028\n",
            "Epoch 2/3\n",
            "1875/1875 [==============================] - 80s 43ms/step - loss: 27.3046 - accuracy: 0.1000\n",
            "Epoch 3/3\n",
            "1875/1875 [==============================] - 79s 42ms/step - loss: 27.3046 - accuracy: 0.1024\n",
            "313/313 [==============================] - 5s 16ms/step - loss: 27.2503 - accuracy: 0.0826\n"
          ]
        },
        {
          "data": {
            "text/plain": [
              "[27.25031280517578, 0.08259999752044678]"
            ]
          },
          "execution_count": 9,
          "metadata": {},
          "output_type": "execute_result"
        }
      ],
      "source": [
        "model = Sequential([\n",
        "    Conv2D(filters=16, kernel_size=(3, 3), activation='tanh', input_shape=(28,28,1)), \n",
        "    Conv2D(filters=32, kernel_size=(3, 3), activation='tanh'),\n",
        "    Flatten(),\n",
        "    Dense(10, activation='softmax')\n",
        "])\n",
        "\n",
        "model.compile(optimizer='adam', loss='mean_squared_error', metrics=['accuracy'])\n",
        "\n",
        "model.fit(X_train, y_train, epochs=3)\n",
        "\n",
        "model.evaluate(X_test, y_test)"
      ]
    },
    {
      "cell_type": "code",
      "execution_count": null,
      "metadata": {
        "id": "KrobxVvQqltX",
        "outputId": "660ba35a-64eb-4add-e8e6-d9bd44dcbf92"
      },
      "outputs": [
        {
          "name": "stdout",
          "output_type": "stream",
          "text": [
            "Epoch 1/3\n",
            "1875/1875 [==============================] - 106s 56ms/step - loss: 27.3046 - accuracy: 0.1098\n",
            "Epoch 2/3\n",
            "1875/1875 [==============================] - 105s 56ms/step - loss: 27.3046 - accuracy: 0.1127\n",
            "Epoch 3/3\n",
            "1875/1875 [==============================] - 106s 56ms/step - loss: 27.3046 - accuracy: 0.1073\n",
            "313/313 [==============================] - 6s 17ms/step - loss: 27.2503 - accuracy: 0.0940\n"
          ]
        },
        {
          "data": {
            "text/plain": [
              "[27.25031280517578, 0.09399999678134918]"
            ]
          },
          "execution_count": 10,
          "metadata": {},
          "output_type": "execute_result"
        }
      ],
      "source": [
        "model = Sequential([\n",
        "    Conv2D(filters=32, kernel_size=(3, 3), activation='tanh', input_shape=(28,28,1)), \n",
        "    Conv2D(filters=16, kernel_size=(3, 3), activation='tanh'),\n",
        "    Flatten(),\n",
        "    Dense(10, activation='softmax')\n",
        "])\n",
        "\n",
        "model.compile(optimizer='adam', loss='mean_squared_error', metrics=['accuracy'])\n",
        "\n",
        "model.fit(X_train, y_train, epochs=3)\n",
        "\n",
        "model.evaluate(X_test, y_test)"
      ]
    },
    {
      "cell_type": "code",
      "execution_count": null,
      "metadata": {
        "id": "Bp02K5SdqltX"
      },
      "outputs": [],
      "source": []
    },
    {
      "cell_type": "markdown",
      "metadata": {
        "id": "oDCNsCAb_M2K"
      },
      "source": [
        "### 7. Influence of Striding:"
      ]
    },
    {
      "cell_type": "code",
      "execution_count": null,
      "metadata": {
        "colab": {
          "base_uri": "https://localhost:8080/"
        },
        "id": "wsCILd5t_Mzi",
        "outputId": "cda41222-65a5-4d81-e5b4-c4142110c005"
      },
      "outputs": [
        {
          "name": "stdout",
          "output_type": "stream",
          "text": [
            "Epoch 1/5\n",
            "1875/1875 [==============================] - 26s 13ms/step - loss: 27.3046 - accuracy: 0.0943\n",
            "Epoch 2/5\n",
            "1875/1875 [==============================] - 27s 15ms/step - loss: 27.3046 - accuracy: 0.0966\n",
            "Epoch 3/5\n",
            "1875/1875 [==============================] - 27s 15ms/step - loss: 27.3046 - accuracy: 0.0984\n",
            "Epoch 4/5\n",
            "1875/1875 [==============================] - 27s 14ms/step - loss: 27.3046 - accuracy: 0.0999\n",
            "Epoch 5/5\n",
            "1875/1875 [==============================] - 29s 16ms/step - loss: 27.3046 - accuracy: 0.1013\n"
          ]
        },
        {
          "data": {
            "text/plain": [
              "<keras.callbacks.History at 0x7f75179e0e10>"
            ]
          },
          "execution_count": 23,
          "metadata": {},
          "output_type": "execute_result"
        }
      ],
      "source": [
        "model3 = Sequential()\n",
        "model3.add(Conv2D(filters=32, kernel_size=(3, 3),strides=(2,2), activation='relu', input_shape=(28,28,1)))\n",
        "model3.add(Conv2D(filters=32, kernel_size=(5,5),strides=(2,2), activation='relu', input_shape=(28,28,1)))\n",
        "model3.add(Flatten())\n",
        "model3.add(Dense(10,activation = 'softmax'))\n",
        "\n",
        "model3.compile(optimizer='adam',loss='mean_squared_error',metrics=['accuracy'])\n",
        "\n",
        "model3.fit(X_train,y_train,epochs=5)\n"
      ]
    },
    {
      "cell_type": "code",
      "execution_count": null,
      "metadata": {
        "colab": {
          "base_uri": "https://localhost:8080/"
        },
        "id": "FD_m5_yz_MxA",
        "outputId": "4668d47b-3e70-41eb-852e-8ec8f8d918fe"
      },
      "outputs": [
        {
          "name": "stdout",
          "output_type": "stream",
          "text": [
            "Test loss: 27.2541561126709\n",
            "Test accuracy: 0.10559999942779541\n"
          ]
        }
      ],
      "source": [
        "score = model3.evaluate(x_test, y_test, verbose=0)\n",
        "print('Test loss:', score[0])\n",
        "print('Test accuracy:', score[1])"
      ]
    },
    {
      "cell_type": "code",
      "execution_count": null,
      "metadata": {
        "colab": {
          "base_uri": "https://localhost:8080/"
        },
        "id": "5TYSxlrkD-yw",
        "outputId": "a1fc64cf-4b10-46d0-854c-87d2c848bd0b"
      },
      "outputs": [
        {
          "name": "stdout",
          "output_type": "stream",
          "text": [
            "Epoch 1/5\n",
            "1875/1875 [==============================] - 20s 10ms/step - loss: 27.3046 - accuracy: 0.0973\n",
            "Epoch 2/5\n",
            "1875/1875 [==============================] - 16s 9ms/step - loss: 27.3046 - accuracy: 0.1002\n",
            "Epoch 3/5\n",
            "1875/1875 [==============================] - 20s 11ms/step - loss: 27.3046 - accuracy: 0.1006\n",
            "Epoch 4/5\n",
            "1875/1875 [==============================] - 22s 12ms/step - loss: 27.3046 - accuracy: 0.0984\n",
            "Epoch 5/5\n",
            "1875/1875 [==============================] - 15s 8ms/step - loss: 27.3046 - accuracy: 0.0993\n"
          ]
        },
        {
          "data": {
            "text/plain": [
              "<keras.callbacks.History at 0x7f75140cdb90>"
            ]
          },
          "execution_count": 25,
          "metadata": {},
          "output_type": "execute_result"
        }
      ],
      "source": [
        "model4 = Sequential()\n",
        "model4.add(Conv2D(filters=32, kernel_size=(3, 3),strides=(3,3), activation='relu', input_shape=(28,28,1)))\n",
        "model4.add(Conv2D(filters=32, kernel_size=(5,5),strides=(3,3), activation='relu', input_shape=(28,28,1)))\n",
        "model4.add(Flatten())\n",
        "model4.add(Dense(10,activation = 'softmax'))\n",
        "\n",
        "model4.compile(optimizer='adam',loss='mean_squared_error',metrics=['accuracy'])\n",
        "\n",
        "model4.fit(X_train,y_train,epochs=5)"
      ]
    },
    {
      "cell_type": "code",
      "execution_count": null,
      "metadata": {
        "colab": {
          "base_uri": "https://localhost:8080/"
        },
        "id": "7gHCzryfD-wV",
        "outputId": "2340d33f-87d0-43d5-af7c-800fdc5fdd08"
      },
      "outputs": [
        {
          "name": "stdout",
          "output_type": "stream",
          "text": [
            "Test loss: 27.255359649658203\n",
            "Test accuracy: 0.10689999908208847\n"
          ]
        }
      ],
      "source": [
        "score = model4.evaluate(x_test, y_test, verbose=0)\n",
        "print('Test loss:', score[0])\n",
        "print('Test accuracy:', score[1])"
      ]
    },
    {
      "cell_type": "code",
      "execution_count": null,
      "metadata": {
        "colab": {
          "base_uri": "https://localhost:8080/"
        },
        "id": "rspsnGJFD-tt",
        "outputId": "ad9b3106-aaba-4508-d868-0c61ccf7838c"
      },
      "outputs": [
        {
          "name": "stdout",
          "output_type": "stream",
          "text": [
            "Epoch 1/5\n",
            "1875/1875 [==============================] - 19s 10ms/step - loss: 27.3046 - accuracy: 0.1021\n",
            "Epoch 2/5\n",
            "1875/1875 [==============================] - 19s 10ms/step - loss: 27.3046 - accuracy: 0.1006\n",
            "Epoch 3/5\n",
            "1875/1875 [==============================] - 18s 10ms/step - loss: 27.3046 - accuracy: 0.0995\n",
            "Epoch 4/5\n",
            "1875/1875 [==============================] - 18s 10ms/step - loss: 27.3046 - accuracy: 0.1004\n",
            "Epoch 5/5\n",
            "1875/1875 [==============================] - 18s 10ms/step - loss: 27.3046 - accuracy: 0.1015\n"
          ]
        },
        {
          "data": {
            "text/plain": [
              "<keras.callbacks.History at 0x7f751c17bc50>"
            ]
          },
          "execution_count": 27,
          "metadata": {},
          "output_type": "execute_result"
        }
      ],
      "source": [
        "model5 = Sequential()\n",
        "model5.add(Conv2D(filters=32, kernel_size=(5,5),strides=(2,2), activation='relu', input_shape=(28,28,1)))\n",
        "model5.add(Conv2D(filters=32, kernel_size=(5,5),strides=(2,2), activation='relu', input_shape=(28,28,1)))\n",
        "model5.add(Flatten())\n",
        "model5.add(Dense(10,activation = 'softmax'))\n",
        "\n",
        "model5.compile(optimizer='adam',loss='mean_squared_error',metrics=['accuracy'])\n",
        "\n",
        "model5.fit(X_train,y_train,epochs=5)"
      ]
    },
    {
      "cell_type": "code",
      "execution_count": null,
      "metadata": {
        "colab": {
          "base_uri": "https://localhost:8080/"
        },
        "id": "E-y5uuX-D-q2",
        "outputId": "73bc6d24-4373-4c19-c95f-cf56109eac2c"
      },
      "outputs": [
        {
          "name": "stdout",
          "output_type": "stream",
          "text": [
            "Test loss: 27.2515811920166\n",
            "Test accuracy: 0.09880000352859497\n"
          ]
        }
      ],
      "source": [
        "score = model5.evaluate(x_test, y_test, verbose=0)\n",
        "print('Test loss:', score[0])\n",
        "print('Test accuracy:', score[1])"
      ]
    },
    {
      "cell_type": "code",
      "execution_count": null,
      "metadata": {
        "colab": {
          "base_uri": "https://localhost:8080/"
        },
        "id": "SfTVpjwgHdVJ",
        "outputId": "4f1f7b6a-75d7-4e11-8d7d-6176909d821b"
      },
      "outputs": [
        {
          "name": "stdout",
          "output_type": "stream",
          "text": [
            "Epoch 1/5\n",
            "1875/1875 [==============================] - 23s 12ms/step - loss: 27.3046 - accuracy: 0.0993\n",
            "Epoch 2/5\n",
            "1875/1875 [==============================] - 22s 12ms/step - loss: 27.3046 - accuracy: 0.0990\n",
            "Epoch 3/5\n",
            "1875/1875 [==============================] - 22s 12ms/step - loss: 27.3046 - accuracy: 0.1002\n",
            "Epoch 4/5\n",
            "1875/1875 [==============================] - 22s 11ms/step - loss: 27.3046 - accuracy: 0.0984\n",
            "Epoch 5/5\n",
            "1875/1875 [==============================] - 22s 11ms/step - loss: 27.3046 - accuracy: 0.0998\n"
          ]
        },
        {
          "data": {
            "text/plain": [
              "<keras.callbacks.History at 0x7f75211e17d0>"
            ]
          },
          "execution_count": 29,
          "metadata": {},
          "output_type": "execute_result"
        }
      ],
      "source": [
        "model6 = Sequential()\n",
        "model6.add(Conv2D(filters=32, kernel_size=(7,7),strides=(2,2), activation='relu', input_shape=(28,28,1)))\n",
        "model6.add(Conv2D(filters=32, kernel_size=(7,7),strides=(2,2), activation='relu', input_shape=(28,28,1)))\n",
        "model6.add(Flatten())\n",
        "model6.add(Dense(10,activation = 'softmax'))\n",
        "\n",
        "model6.compile(optimizer='adam',loss='mean_squared_error',metrics=['accuracy'])\n",
        "\n",
        "model6.fit(X_train,y_train,epochs=5)"
      ]
    },
    {
      "cell_type": "code",
      "execution_count": null,
      "metadata": {
        "colab": {
          "base_uri": "https://localhost:8080/"
        },
        "id": "Nh38m-0FHdRj",
        "outputId": "de60605a-04cb-49d8-84fa-867908caf2c4"
      },
      "outputs": [
        {
          "name": "stdout",
          "output_type": "stream",
          "text": [
            "Test loss: 27.250402450561523\n",
            "Test accuracy: 0.11569999903440475\n"
          ]
        }
      ],
      "source": [
        "score = model6.evaluate(x_test, y_test, verbose=0)\n",
        "print('Test loss:', score[0])\n",
        "print('Test accuracy:', score[1])"
      ]
    },
    {
      "cell_type": "markdown",
      "metadata": {
        "id": "8hc2cZl7qltZ"
      },
      "source": [
        "### 8. Influence of Padding"
      ]
    },
    {
      "cell_type": "code",
      "execution_count": null,
      "metadata": {
        "colab": {
          "base_uri": "https://localhost:8080/"
        },
        "id": "zt5prFa0JaD4",
        "outputId": "f22d3de4-4128-45e7-c9df-e5b3aa9ad1d1"
      },
      "outputs": [
        {
          "name": "stdout",
          "output_type": "stream",
          "text": [
            "Epoch 1/5\n",
            "1875/1875 [==============================] - 304s 162ms/step - loss: 27.3046 - accuracy: 0.1017\n",
            "Epoch 2/5\n",
            "1875/1875 [==============================] - 304s 162ms/step - loss: 27.3046 - accuracy: 0.1006\n",
            "Epoch 3/5\n",
            "1875/1875 [==============================] - 302s 161ms/step - loss: 27.3046 - accuracy: 0.1005\n",
            "Epoch 4/5\n",
            "1875/1875 [==============================] - 306s 163ms/step - loss: 27.3046 - accuracy: 0.0988\n",
            "Epoch 5/5\n",
            "1875/1875 [==============================] - 303s 162ms/step - loss: 27.3046 - accuracy: 0.0989\n"
          ]
        },
        {
          "data": {
            "text/plain": [
              "<keras.callbacks.History at 0x7f751fe3a1d0>"
            ]
          },
          "execution_count": 37,
          "metadata": {},
          "output_type": "execute_result"
        }
      ],
      "source": [
        "model9 = Sequential()\n",
        "model9.add(Conv2D(filters=32, kernel_size=(5,5), activation='relu',padding='same', input_shape=(28,28,1)))\n",
        "model9.add(Conv2D(filters=32, kernel_size=(5,5), activation='relu',padding='same', input_shape=(28,28,1)))\n",
        "model9.add(Flatten())\n",
        "model9.add(Dense(10,activation = 'softmax'))\n",
        "\n",
        "model9.compile(optimizer='adam',loss='mean_squared_error',metrics=['accuracy'])\n",
        "\n",
        "model9.fit(X_train,y_train,epochs=5)"
      ]
    },
    {
      "cell_type": "code",
      "execution_count": null,
      "metadata": {
        "colab": {
          "base_uri": "https://localhost:8080/"
        },
        "id": "gnVjV3kHJnY9",
        "outputId": "6b23668d-acf5-4727-8b40-da7b16f41914"
      },
      "outputs": [
        {
          "name": "stdout",
          "output_type": "stream",
          "text": [
            "Test loss: 27.252286911010742\n",
            "Test accuracy: 0.11720000207424164\n"
          ]
        }
      ],
      "source": [
        "score = model9.evaluate(x_test, y_test, verbose=0)\n",
        "print('Test loss:', score[0])\n",
        "print('Test accuracy:', score[1])"
      ]
    },
    {
      "cell_type": "markdown",
      "metadata": {
        "id": "s_e3ojYsHdO5"
      },
      "source": [
        "### 9. Influence of Pooling:"
      ]
    },
    {
      "cell_type": "code",
      "execution_count": null,
      "metadata": {
        "colab": {
          "base_uri": "https://localhost:8080/"
        },
        "id": "JILhcGeHHdMP",
        "outputId": "d8725f3b-37e0-4f22-d1fa-893c70886eb5"
      },
      "outputs": [
        {
          "name": "stdout",
          "output_type": "stream",
          "text": [
            "Epoch 1/5\n",
            "1875/1875 [==============================] - 168s 89ms/step - loss: 27.3046 - accuracy: 0.0969\n",
            "Epoch 2/5\n",
            "1875/1875 [==============================] - 166s 89ms/step - loss: 27.3046 - accuracy: 0.1009\n",
            "Epoch 3/5\n",
            "1875/1875 [==============================] - 168s 90ms/step - loss: 27.3046 - accuracy: 0.1014\n",
            "Epoch 4/5\n",
            "1875/1875 [==============================] - 167s 89ms/step - loss: 27.3046 - accuracy: 0.1011\n",
            "Epoch 5/5\n",
            "1875/1875 [==============================] - 166s 89ms/step - loss: 27.3046 - accuracy: 0.1011\n"
          ]
        },
        {
          "data": {
            "text/plain": [
              "<keras.callbacks.History at 0x7f751f32fcd0>"
            ]
          },
          "execution_count": 32,
          "metadata": {},
          "output_type": "execute_result"
        }
      ],
      "source": [
        "model7 = Sequential()\n",
        "model7.add(Conv2D(filters=32, kernel_size=(5,5), activation='relu', input_shape=(28,28,1)))\n",
        "model7.add(Conv2D(filters=32, kernel_size=(5,5), activation='relu', input_shape=(28,28,1)))\n",
        "model7.add(MaxPooling2D(pool_size=(2,2)))\n",
        "model7.add(Flatten())\n",
        "model7.add(Dense(10,activation = 'softmax'))\n",
        "\n",
        "model7.compile(optimizer='adam',loss='mean_squared_error',metrics=['accuracy'])\n",
        "\n",
        "model7.fit(X_train,y_train,epochs=5)"
      ]
    },
    {
      "cell_type": "code",
      "execution_count": null,
      "metadata": {
        "colab": {
          "base_uri": "https://localhost:8080/"
        },
        "id": "m_rDia-rHdJ2",
        "outputId": "0b54f01c-1d15-4ead-ed6d-0f69c9966a33"
      },
      "outputs": [
        {
          "name": "stdout",
          "output_type": "stream",
          "text": [
            "Test loss: 27.2547664642334\n",
            "Test accuracy: 0.07010000199079514\n"
          ]
        }
      ],
      "source": [
        "score = model7.evaluate(x_test, y_test, verbose=0)\n",
        "print('Test loss:', score[0])\n",
        "print('Test accuracy:', score[1])"
      ]
    },
    {
      "cell_type": "code",
      "execution_count": null,
      "metadata": {
        "colab": {
          "base_uri": "https://localhost:8080/"
        },
        "id": "Wn52X5rLHdHM",
        "outputId": "32b95eb8-d93b-4960-81c1-71253c339b85"
      },
      "outputs": [
        {
          "name": "stdout",
          "output_type": "stream",
          "text": [
            "Epoch 1/5\n",
            "1875/1875 [==============================] - 218s 116ms/step - loss: 27.3045 - accuracy: 0.0899\n",
            "Epoch 2/5\n",
            "1875/1875 [==============================] - 216s 115ms/step - loss: 27.3046 - accuracy: 0.1009\n",
            "Epoch 3/5\n",
            "1875/1875 [==============================] - 214s 114ms/step - loss: 27.3046 - accuracy: 0.0999\n",
            "Epoch 4/5\n",
            "1875/1875 [==============================] - 214s 114ms/step - loss: 27.3046 - accuracy: 0.1007\n",
            "Epoch 5/5\n",
            "1875/1875 [==============================] - 214s 114ms/step - loss: 27.3046 - accuracy: 0.0974\n"
          ]
        },
        {
          "data": {
            "text/plain": [
              "<keras.callbacks.History at 0x7f75208601d0>"
            ]
          },
          "execution_count": 34,
          "metadata": {},
          "output_type": "execute_result"
        }
      ],
      "source": [
        "model8 = Sequential()\n",
        "model8.add(Conv2D(filters=32, kernel_size=(7,7), activation='relu', input_shape=(28,28,1)))\n",
        "model8.add(Conv2D(filters=32, kernel_size=(7,7), activation='relu', input_shape=(28,28,1)))\n",
        "model8.add(MaxPooling2D(pool_size=(3,3)))\n",
        "model8.add(Flatten())\n",
        "model8.add(Dense(10,activation = 'softmax'))\n",
        "\n",
        "model8.compile(optimizer='adam',loss='mean_squared_error',metrics=['accuracy'])\n",
        "\n",
        "model8.fit(X_train,y_train,epochs=5)"
      ]
    },
    {
      "cell_type": "code",
      "execution_count": null,
      "metadata": {
        "colab": {
          "base_uri": "https://localhost:8080/"
        },
        "id": "r4vmQlbpHdEb",
        "outputId": "91a463e1-008b-42a2-990c-0631fa19da26"
      },
      "outputs": [
        {
          "name": "stdout",
          "output_type": "stream",
          "text": [
            "Test loss: 27.25075340270996\n",
            "Test accuracy: 0.09130000323057175\n"
          ]
        }
      ],
      "source": [
        "score = model8.evaluate(x_test, y_test, verbose=0)\n",
        "print('Test loss:', score[0])\n",
        "print('Test accuracy:', score[1])"
      ]
    },
    {
      "cell_type": "code",
      "execution_count": null,
      "metadata": {
        "id": "8rq87wjsJnRK"
      },
      "outputs": [],
      "source": []
    }
  ],
  "metadata": {
    "colab": {
      "provenance": []
    },
    "kernelspec": {
      "display_name": "Python 3",
      "language": "python",
      "name": "python3"
    },
    "language_info": {
      "codemirror_mode": {
        "name": "ipython",
        "version": 3
      },
      "file_extension": ".py",
      "mimetype": "text/x-python",
      "name": "python",
      "nbconvert_exporter": "python",
      "pygments_lexer": "ipython3",
      "version": "3.8.8"
    }
  },
  "nbformat": 4,
  "nbformat_minor": 0
}