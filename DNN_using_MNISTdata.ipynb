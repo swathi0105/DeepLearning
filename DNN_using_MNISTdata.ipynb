{
  "nbformat": 4,
  "nbformat_minor": 0,
  "metadata": {
    "colab": {
      "provenance": []
    },
    "kernelspec": {
      "name": "python3",
      "display_name": "Python 3"
    },
    "language_info": {
      "name": "python"
    }
  },
  "cells": [
    {
      "cell_type": "code",
      "source": [
        "pip install keras"
      ],
      "metadata": {
        "colab": {
          "base_uri": "https://localhost:8080/"
        },
        "id": "G7cSdGhq1ui5",
        "outputId": "5e388a48-e913-4d5f-ff60-0205c4baee2b"
      },
      "execution_count": null,
      "outputs": [
        {
          "output_type": "stream",
          "name": "stdout",
          "text": [
            "Looking in indexes: https://pypi.org/simple, https://us-python.pkg.dev/colab-wheels/public/simple/\n",
            "Requirement already satisfied: keras in /usr/local/lib/python3.7/dist-packages (2.8.0)\n"
          ]
        }
      ]
    },
    {
      "cell_type": "code",
      "source": [
        "import keras"
      ],
      "metadata": {
        "id": "2px4NJh81ppq"
      },
      "execution_count": null,
      "outputs": []
    },
    {
      "cell_type": "code",
      "execution_count": null,
      "metadata": {
        "id": "SxW-DPe3rHfk"
      },
      "outputs": [],
      "source": [
        "import numpy as np # linear algebra\n",
        "import pandas as pd # data processing, CSV file I/O (e.g. pd.read_csv)\n",
        "import matplotlib.pyplot as plt # plotting library\n",
        "%matplotlib inline\n",
        "from keras.models import Sequential\n",
        "from keras.layers import Dense , Activation, Dropout\n",
        "from tensorflow.keras.optimizers import Adam ,RMSprop, SGD\n",
        "from keras import  backend as K"
      ]
    },
    {
      "cell_type": "markdown",
      "source": [
        "###MNIST dataset "
      ],
      "metadata": {
        "id": "2SXhQAyl4ekS"
      }
    },
    {
      "cell_type": "code",
      "source": [
        "from keras.datasets import mnist"
      ],
      "metadata": {
        "id": "DXE_YB1EsKb9"
      },
      "execution_count": null,
      "outputs": []
    },
    {
      "cell_type": "code",
      "source": [
        "batch_size = 128\n",
        "num_classes = 10\n",
        "epochs = 2\n",
        "(x_train, y_train), (x_test, y_test) = mnist.load_data()"
      ],
      "metadata": {
        "id": "kgXqYSGtAvIY"
      },
      "execution_count": null,
      "outputs": []
    },
    {
      "cell_type": "code",
      "source": [
        "print(x_train.shape, 'train samples')\n",
        "print(x_test.shape, 'test samples')\n"
      ],
      "metadata": {
        "colab": {
          "base_uri": "https://localhost:8080/"
        },
        "id": "fa0MlNhiA3te",
        "outputId": "6af72b63-1768-4ff9-9266-b5d28c9e8b9b"
      },
      "execution_count": null,
      "outputs": [
        {
          "output_type": "stream",
          "name": "stdout",
          "text": [
            "(60000, 28, 28) train samples\n",
            "(10000, 28, 28) test samples\n"
          ]
        }
      ]
    },
    {
      "cell_type": "code",
      "source": [
        "print(\"X_Train data size\",x_train.size)"
      ],
      "metadata": {
        "colab": {
          "base_uri": "https://localhost:8080/"
        },
        "id": "pW2nbVCa4qhS",
        "outputId": "711567d6-554a-409c-bb0e-c99833bda737"
      },
      "execution_count": null,
      "outputs": [
        {
          "output_type": "stream",
          "name": "stdout",
          "text": [
            "X_Train data size 47040000\n"
          ]
        }
      ]
    },
    {
      "cell_type": "code",
      "source": [
        "print(\"X_Test data size\",x_test.size)"
      ],
      "metadata": {
        "colab": {
          "base_uri": "https://localhost:8080/"
        },
        "id": "gwwg429J42Ea",
        "outputId": "94d07558-deb5-4313-a208-8a7ecc92292d"
      },
      "execution_count": null,
      "outputs": [
        {
          "output_type": "stream",
          "name": "stdout",
          "text": [
            "X_Test data size 7840000\n"
          ]
        }
      ]
    },
    {
      "cell_type": "code",
      "source": [
        "print(\"Y_Train data size\",y_train.size)"
      ],
      "metadata": {
        "colab": {
          "base_uri": "https://localhost:8080/"
        },
        "id": "InyIP6Tc42Hy",
        "outputId": "2ba2140b-6fb1-410f-db41-b820a9319a77"
      },
      "execution_count": null,
      "outputs": [
        {
          "output_type": "stream",
          "name": "stdout",
          "text": [
            "Y_Train data size 60000\n"
          ]
        }
      ]
    },
    {
      "cell_type": "code",
      "source": [
        "print(\"Y_Train data size\",y_train.size)"
      ],
      "metadata": {
        "colab": {
          "base_uri": "https://localhost:8080/"
        },
        "id": "hYPKsJKo42Oq",
        "outputId": "0e23afc1-4031-4fd1-caa2-6f19254b9480"
      },
      "execution_count": null,
      "outputs": [
        {
          "output_type": "stream",
          "name": "stdout",
          "text": [
            "Y_Train data size 60000\n"
          ]
        }
      ]
    },
    {
      "cell_type": "markdown",
      "source": [
        "###Data visualization "
      ],
      "metadata": {
        "id": "o6NGLX4E4ZVi"
      }
    },
    {
      "cell_type": "code",
      "source": [
        "plt.matshow(x_train[9])"
      ],
      "metadata": {
        "colab": {
          "base_uri": "https://localhost:8080/",
          "height": 293
        },
        "id": "PqgNtWgu5p17",
        "outputId": "2efa641a-263f-4a4a-b3a2-3eefd141849e"
      },
      "execution_count": null,
      "outputs": [
        {
          "output_type": "execute_result",
          "data": {
            "text/plain": [
              "<matplotlib.image.AxesImage at 0x7feb2ccd9e10>"
            ]
          },
          "metadata": {},
          "execution_count": 20
        },
        {
          "output_type": "display_data",
          "data": {
            "text/plain": [
              "<Figure size 288x288 with 1 Axes>"
            ],
            "image/png": "[encoded data removed]"
          },
          "metadata": {
            "needs_background": "light"
          }
        }
      ]
    },
    {
      "cell_type": "code",
      "source": [
        "x_train = x_train.reshape(60000, 784)\n",
        "x_test = x_test.reshape(10000, 784)\n",
        "x_train = x_train.astype('float32')\n",
        "x_test = x_test.astype('float32')\n",
        "# Normalize to 0 to 1 range\n",
        "x_train /= 255\n",
        "x_test /= 255"
      ],
      "metadata": {
        "id": "a1jsGmQt3coT"
      },
      "execution_count": null,
      "outputs": []
    },
    {
      "cell_type": "markdown",
      "source": [
        "#Designing model architecture using Keras"
      ],
      "metadata": {
        "id": "0B80pHf54UyK"
      }
    },
    {
      "cell_type": "markdown",
      "source": [
        "###Import Keras layers"
      ],
      "metadata": {
        "id": "v_dkcH174Kpi"
      }
    },
    {
      "cell_type": "code",
      "source": [
        "from keras.models import Sequential\n",
        "from keras.layers import Dense, Activation, Dropout\n",
        "from tensorflow.keras.utils import to_categorical, plot_model"
      ],
      "metadata": {
        "id": "faCoo6VJ1XBZ"
      },
      "execution_count": null,
      "outputs": []
    },
    {
      "cell_type": "markdown",
      "source": [
        "##Compute the number of labels"
      ],
      "metadata": {
        "id": "XOcirfnV3vkL"
      }
    },
    {
      "cell_type": "code",
      "source": [
        "# compute the number of labels\n",
        "num_labels = len(np.unique(y_train))"
      ],
      "metadata": {
        "id": "v9Ym3bQT3C4M"
      },
      "execution_count": null,
      "outputs": []
    },
    {
      "cell_type": "markdown",
      "source": [
        "###**One** **Hot** **Encoding**"
      ],
      "metadata": {
        "id": "9IZTa5LH3pWa"
      }
    },
    {
      "cell_type": "code",
      "source": [
        "# convert to one-hot vector\n",
        "y_train = to_categorical(y_train)\n",
        "y_test = to_categorical(y_test)"
      ],
      "metadata": {
        "id": "494G595g3ZOL"
      },
      "execution_count": null,
      "outputs": []
    },
    {
      "cell_type": "markdown",
      "source": [
        "Building Models"
      ],
      "metadata": {
        "id": "TP7w9Rho91rQ"
      }
    },
    {
      "cell_type": "code",
      "source": [
        "first_layer_size = 32\n",
        "model = Sequential()\n",
        "model.add(Dense(first_layer_size, activation='sigmoid', input_shape=(784,)))\n",
        "model.add(Dense(32, activation='sigmoid'))\n",
        "model.add(Dense(32, activation='sigmoid'))\n",
        "model.add(Dense(num_classes, activation='softmax'))\n",
        "model.summary()\n"
      ],
      "metadata": {
        "colab": {
          "base_uri": "https://localhost:8080/"
        },
        "id": "2x1QuzJ1-qYP",
        "outputId": "90eb7b8d-9bc8-478c-c1c1-485a925e23a6"
      },
      "execution_count": null,
      "outputs": [
        {
          "output_type": "stream",
          "name": "stdout",
          "text": [
            "Model: \"sequential_1\"\n",
            "_________________________________________________________________\n",
            " Layer (type)                Output Shape              Param #   \n",
            "=================================================================\n",
            " dense_3 (Dense)             (None, 32)                25120     \n",
            "                                                                 \n",
            " dense_4 (Dense)             (None, 32)                1056      \n",
            "                                                                 \n",
            " dense_5 (Dense)             (None, 32)                1056      \n",
            "                                                                 \n",
            " dense_6 (Dense)             (None, 10)                330       \n",
            "                                                                 \n",
            "=================================================================\n",
            "Total params: 27,562\n",
            "Trainable params: 27,562\n",
            "Non-trainable params: 0\n",
            "_________________________________________________________________\n"
          ]
        }
      ]
    },
    {
      "cell_type": "code",
      "source": [
        "model.compile(loss='categorical_crossentropy',\n",
        "optimizer=RMSprop(),\n",
        "metrics=['accuracy'])"
      ],
      "metadata": {
        "id": "K-jFVZfV-qbe"
      },
      "execution_count": null,
      "outputs": []
    },
    {
      "cell_type": "code",
      "source": [
        "history = model.fit(x_train,y_train,\n",
        "batch_size=batch_size,epochs=epochs,verbose=1)\n"
      ],
      "metadata": {
        "id": "PR__zldG-qeW",
        "colab": {
          "base_uri": "https://localhost:8080/"
        },
        "outputId": "078d06e5-4854-4fd9-99c8-1805c0438af0"
      },
      "execution_count": null,
      "outputs": [
        {
          "output_type": "stream",
          "name": "stdout",
          "text": [
            "Epoch 1/2\n",
            "469/469 [==============================] - 3s 6ms/step - loss: 1.6638 - accuracy: 0.5126\n",
            "Epoch 2/2\n",
            "469/469 [==============================] - 2s 4ms/step - loss: 0.6888 - accuracy: 0.8266\n"
          ]
        }
      ]
    },
    {
      "cell_type": "code",
      "source": [
        "# Print the predicted values and the corresponding digit\n",
        "prediction = model.predict(x_test[10:11])\n",
        "prediction = prediction[0]\n",
        "print('Prediction\\n',prediction)\n",
        "print('\\nThresholded output\\n',(prediction>0.5)*1)"
      ],
      "metadata": {
        "id": "nFswm7v9-qsH",
        "colab": {
          "base_uri": "https://localhost:8080/"
        },
        "outputId": "2bc206ac-f07b-4efa-eedf-b5a1ec7a84bc"
      },
      "execution_count": null,
      "outputs": [
        {
          "output_type": "stream",
          "name": "stdout",
          "text": [
            "Prediction\n",
            " [8.56680453e-01 3.33969510e-04 3.48634049e-02 1.61327776e-02\n",
            " 1.33603535e-04 7.41994753e-02 4.61042998e-03 2.16243701e-04\n",
            " 1.27205821e-02 1.09170345e-04]\n",
            "\n",
            "Thresholded output\n",
            " [1 0 0 0 0 0 0 0 0 0]\n"
          ]
        }
      ]
    },
    {
      "cell_type": "code",
      "source": [
        "plot_model(model, to_file='mlp-mnist.png', show_shapes=True)"
      ],
      "metadata": {
        "id": "BA0YVwDmFUT6",
        "colab": {
          "base_uri": "https://localhost:8080/",
          "height": 533
        },
        "outputId": "55e6d322-794f-43c0-8018-928f96f87924"
      },
      "execution_count": null,
      "outputs": [
        {
          "output_type": "execute_result",
          "data": {
            "image/png": "[encoded data removed]",
            "text/plain": [
              "<IPython.core.display.Image object>"
            ]
          },
          "metadata": {},
          "execution_count": 29
        }
      ]
    },
    {
      "cell_type": "markdown",
      "source": [
        "#Explore\n",
        "\n",
        "*   Number of Layers\n",
        "*   Activation function\n",
        "*   Layer-node configurations\n",
        "*   optimizers\n",
        "*   L1, L2 Regularization\n",
        "*   Dropout Regularization\n",
        "*   Different input sizes of the image\n",
        "*   Dataset split"
      ],
      "metadata": {
        "id": "RUknVMGPD5e_"
      }
    },
    {
      "cell_type": "markdown",
      "source": [
        "##Exploration by 1.Number of nodes"
      ],
      "metadata": {
        "id": "rJs-LpEltScW"
      }
    },
    {
      "cell_type": "markdown",
      "source": [
        "####Single hidden layer"
      ],
      "metadata": {
        "id": "qTnoO0RRImi2"
      }
    },
    {
      "cell_type": "code",
      "source": [
        "import keras.models"
      ],
      "metadata": {
        "id": "Dx9rj8B8unKn"
      },
      "execution_count": null,
      "outputs": []
    },
    {
      "cell_type": "code",
      "source": [
        "modell = Sequential()\n",
        "modell.add(Dense(32, activation='relu', input_shape=(784,)))\n",
        "modell.add(Dense(32, activation='relu'))\n",
        "modell.add(Dense(num_classes, activation='softmax'))\n",
        "modell.summary()\n",
        "print(\"----------------------------------------------------------------------------\")\n",
        "modell.compile(loss='categorical_crossentropy',optimizer='adam',metrics=['accuracy'])\n",
        "print(\"----------------------------------------------------------------------------\")\n",
        "history = modell.fit(x_train,y_train,\n",
        "batch_size=128,\n",
        "epochs=10,\n",
        "verbose=2)\n",
        "print(\"----------------------------------------------------------------------------\")\n",
        "score = modell.evaluate(x_test, y_test, verbose=0)\n",
        "print('Test loss:', score[0])\n",
        "print('Test accuracy:', score[1])\n",
        "print(\"----------------------------------------------------------------------------\")\n",
        "prediction = modell.predict(x_test[10:11])\n",
        "prediction = prediction[0]\n",
        "print('Prediction\\n',prediction)\n",
        "print('\\nThresholded output\\n',(prediction>0.5)*1)"
      ],
      "metadata": {
        "id": "AdnTWcRVD5su",
        "colab": {
          "base_uri": "https://localhost:8080/"
        },
        "outputId": "a0cdc3e0-352a-42b1-dfe0-e8b872ec8bb5"
      },
      "execution_count": null,
      "outputs": [
        {
          "output_type": "stream",
          "name": "stdout",
          "text": [
            "Model: \"sequential_2\"\n",
            "_________________________________________________________________\n",
            " Layer (type)                Output Shape              Param #   \n",
            "=================================================================\n",
            " dense_7 (Dense)             (None, 32)                25120     \n",
            "                                                                 \n",
            " dense_8 (Dense)             (None, 32)                1056      \n",
            "                                                                 \n",
            " dense_9 (Dense)             (None, 10)                330       \n",
            "                                                                 \n",
            "=================================================================\n",
            "Total params: 26,506\n",
            "Trainable params: 26,506\n",
            "Non-trainable params: 0\n",
            "_________________________________________________________________\n",
            "----------------------------------------------------------------------------\n",
            "----------------------------------------------------------------------------\n",
            "Epoch 1/10\n",
            "469/469 - 2s - loss: 0.4864 - accuracy: 0.8597 - 2s/epoch - 4ms/step\n",
            "Epoch 2/10\n",
            "469/469 - 1s - loss: 0.2183 - accuracy: 0.9374 - 1s/epoch - 3ms/step\n",
            "Epoch 3/10\n",
            "469/469 - 1s - loss: 0.1784 - accuracy: 0.9491 - 1s/epoch - 3ms/step\n",
            "Epoch 4/10\n",
            "469/469 - 1s - loss: 0.1534 - accuracy: 0.9555 - 1s/epoch - 3ms/step\n",
            "Epoch 5/10\n",
            "469/469 - 1s - loss: 0.1337 - accuracy: 0.9609 - 1s/epoch - 2ms/step\n",
            "Epoch 6/10\n",
            "469/469 - 1s - loss: 0.1187 - accuracy: 0.9652 - 1s/epoch - 3ms/step\n",
            "Epoch 7/10\n",
            "469/469 - 1s - loss: 0.1076 - accuracy: 0.9686 - 1s/epoch - 3ms/step\n",
            "Epoch 8/10\n",
            "469/469 - 3s - loss: 0.0979 - accuracy: 0.9710 - 3s/epoch - 6ms/step\n",
            "Epoch 9/10\n",
            "469/469 - 2s - loss: 0.0894 - accuracy: 0.9735 - 2s/epoch - 4ms/step\n",
            "Epoch 10/10\n",
            "469/469 - 1s - loss: 0.0826 - accuracy: 0.9758 - 1s/epoch - 3ms/step\n",
            "----------------------------------------------------------------------------\n",
            "Test loss: 0.11426660418510437\n",
            "Test accuracy: 0.9629999995231628\n",
            "----------------------------------------------------------------------------\n",
            "Prediction\n",
            " [9.9975127e-01 2.6901560e-06 2.4226223e-04 1.0168322e-08 3.7335793e-10\n",
            " 1.5279782e-06 2.2150820e-07 2.9209710e-07 1.0780530e-07 1.5767024e-06]\n",
            "\n",
            "Thresholded output\n",
            " [1 0 0 0 0 0 0 0 0 0]\n"
          ]
        }
      ]
    },
    {
      "cell_type": "code",
      "source": [
        "model1 = Sequential()\n",
        "model1.add(Dense(2056, activation='relu', input_shape=(784,)))\n",
        "model1.add(Dense(1028, activation='relu'))\n",
        "model1.add(Dense(512, activation='relu'))\n",
        "model1.add(Dense(128, activation='relu'))\n",
        "model1.add(Dense(32, activation='relu'))\n",
        "model1.add(Dense(4, activation='relu'))\n",
        "model1.add(Dense(num_classes, activation='softmax'))\n",
        "model1.summary()\n",
        "print(\"------------------------------------------------------------------------------\")\n",
        "model1.compile(loss='categorical_crossentropy',optimizer='adam',metrics=['accuracy'])\n",
        "print(\"------------------------------------------------------------------------------\")\n",
        "6\n",
        "history = model1.fit(x_train,y_train,\n",
        "batch_size=batch_size,\n",
        "epochs=10,\n",
        "verbose=2)\n",
        "print(\"---------------------------Training and Testing Accuracy---------------------------------------------------\")\n",
        "score = model1.evaluate(x_test, y_test, verbose=2)\n",
        "print('Test loss:', score[0])\n",
        "print('Test accuracy:', score[1])\n",
        "print(\"------------------------------------------------------------------------------\")\n",
        "prediction = model1.predict(x_test[10:11])\n",
        "prediction = prediction[0]\n",
        "print('Prediction\\n',prediction)\n",
        "print('\\nThresholded output\\n',(prediction>0.5)*1)"
      ],
      "metadata": {
        "id": "l6STwRtuD5xu",
        "colab": {
          "base_uri": "https://localhost:8080/"
        },
        "outputId": "ac40a7be-575c-4c6a-8a5a-2313ffd7f27d"
      },
      "execution_count": null,
      "outputs": [
        {
          "output_type": "stream",
          "name": "stdout",
          "text": [
            "Model: \"sequential_3\"\n",
            "_________________________________________________________________\n",
            " Layer (type)                Output Shape              Param #   \n",
            "=================================================================\n",
            " dense_10 (Dense)            (None, 2056)              1613960   \n",
            "                                                                 \n",
            " dense_11 (Dense)            (None, 1028)              2114596   \n",
            "                                                                 \n",
            " dense_12 (Dense)            (None, 512)               526848    \n",
            "                                                                 \n",
            " dense_13 (Dense)            (None, 128)               65664     \n",
            "                                                                 \n",
            " dense_14 (Dense)            (None, 32)                4128      \n",
            "                                                                 \n",
            " dense_15 (Dense)            (None, 4)                 132       \n",
            "                                                                 \n",
            " dense_16 (Dense)            (None, 10)                50        \n",
            "                                                                 \n",
            "=================================================================\n",
            "Total params: 4,325,378\n",
            "Trainable params: 4,325,378\n",
            "Non-trainable params: 0\n",
            "_________________________________________________________________\n",
            "------------------------------------------------------------------------------\n",
            "------------------------------------------------------------------------------\n",
            "Epoch 1/10\n",
            "469/469 - 45s - loss: 0.9213 - accuracy: 0.7023 - 45s/epoch - 96ms/step\n",
            "Epoch 2/10\n",
            "469/469 - 46s - loss: 0.4156 - accuracy: 0.8856 - 46s/epoch - 97ms/step\n",
            "Epoch 3/10\n",
            "469/469 - 59s - loss: 0.1396 - accuracy: 0.9708 - 59s/epoch - 126ms/step\n",
            "Epoch 4/10\n",
            "469/469 - 51s - loss: 0.0821 - accuracy: 0.9804 - 51s/epoch - 109ms/step\n",
            "Epoch 5/10\n",
            "469/469 - 47s - loss: 0.0648 - accuracy: 0.9837 - 47s/epoch - 99ms/step\n",
            "Epoch 6/10\n",
            "469/469 - 48s - loss: 0.0511 - accuracy: 0.9871 - 48s/epoch - 101ms/step\n",
            "Epoch 7/10\n",
            "469/469 - 51s - loss: 0.0400 - accuracy: 0.9901 - 51s/epoch - 109ms/step\n",
            "Epoch 8/10\n",
            "469/469 - 44s - loss: 0.0430 - accuracy: 0.9897 - 44s/epoch - 94ms/step\n",
            "Epoch 9/10\n",
            "469/469 - 47s - loss: 0.0350 - accuracy: 0.9920 - 47s/epoch - 100ms/step\n",
            "Epoch 10/10\n",
            "469/469 - 43s - loss: 0.0280 - accuracy: 0.9934 - 43s/epoch - 93ms/step\n",
            "---------------------------Training and Testing Accuracy---------------------------------------------------\n",
            "313/313 - 5s - loss: 0.1337 - accuracy: 0.9784 - 5s/epoch - 16ms/step\n",
            "Test loss: 0.1337321251630783\n",
            "Test accuracy: 0.9783999919891357\n",
            "------------------------------------------------------------------------------\n",
            "Prediction\n",
            " [1.0000000e+00 4.4862543e-12 4.9368101e-12 2.2082946e-16 0.0000000e+00\n",
            " 8.0900791e-20 2.7598354e-15 2.9717636e-18 1.0756956e-15 7.2490471e-36]\n",
            "\n",
            "Thresholded output\n",
            " [1 0 0 0 0 0 0 0 0 0]\n"
          ]
        }
      ]
    },
    {
      "cell_type": "markdown",
      "source": [
        "##2.Number of layers"
      ],
      "metadata": {
        "id": "x--QRJCTv7dS"
      }
    },
    {
      "cell_type": "markdown",
      "source": [
        "####Model2 with  3 Hidden Layers with10 epochs"
      ],
      "metadata": {
        "id": "ae7XrGi7yYgI"
      }
    },
    {
      "cell_type": "code",
      "source": [
        "model2 = Sequential()\n",
        "model2.add(Dense(32, activation='relu', input_shape=(784,)))\n",
        "model2.add(Dense(16, activation='relu'))\n",
        "model2.add(Dense(8, activation='relu'))\n",
        "model2.add(Dense(6, activation='relu'))\n",
        "model2.add(Dense(4, activation='relu'))\n",
        "model2.add(Dense(num_classes, activation='softmax'))\n",
        "model2.summary()\n",
        "print(\"------------------------------------------------------------------------------\")\n",
        "model2.compile(loss='categorical_crossentropy',optimizer='adam',metrics=['accuracy'])\n",
        "print(\"------------------------------------------------------------------------------\")\n",
        "history=model2.fit(x_train,y_train,\n",
        "batch_size=batch_size,\n",
        "epochs=10,\n",
        "verbose=2)\n",
        "\n",
        "print(\"------------------------------------------------------------------------------\")\n",
        "score = model2.evaluate(x_test, y_test, verbose=0)\n",
        "print('Test loss:', score[0])\n",
        "print('Test accuracy:', score[1])\n",
        "print(\"------------------------------------------------------------------------------\")\n",
        "prediction = model2.predict(x_test[10:11])\n",
        "prediction = prediction[0]\n",
        "print('Prediction\\n',prediction)\n",
        "print('\\nThresholded output\\n',(prediction>0.5)*1)"
      ],
      "metadata": {
        "id": "cAiSvf35D50d"
      },
      "execution_count": null,
      "outputs": []
    },
    {
      "cell_type": "markdown",
      "source": [
        "model2 with \\4 hidden layers with 16, 8, 6 and 4 nodes, 30 epochs"
      ],
      "metadata": {
        "id": "wuPo0DeTzcxf"
      }
    },
    {
      "cell_type": "code",
      "source": [
        "model2 = Sequential()\n",
        "model2.add(Dense(32, activation='relu', input_shape=(784,)))\n",
        "model2.add(Dense(16, activation='relu'))\n",
        "model2.add(Dense(8, activation='relu'))\n",
        "model2.add(Dense(6, activation='relu'))\n",
        "model2.add(Dense(4, activation='relu'))\n",
        "model2.add(Dense(num_classes, activation='softmax'))\n",
        "model2.summary()\n",
        "print(\"------------------------------------------------------------------------------\")\n",
        "model2.compile(loss='categorical_crossentropy',optimizer='adam',metrics=['accuracy'])\n",
        "print(\"------------------------------------------------------------------------------\")\n",
        "history=model2.fit(x_train,y_train,\n",
        "batch_size=batch_size,\n",
        "epochs=30,\n",
        "verbose=2) #epoch=30\n",
        "\n",
        "print(\"------------------------------------------------------------------------------\")\n",
        "score = model2.evaluate(x_test, y_test, verbose=0)\n",
        "print('Test loss:', score[0])\n",
        "print('Test accuracy:', score[1])\n",
        "print(\"------------------------------------------------------------------------------\")\n",
        "prediction = model2.predict(x_test[10:11])\n",
        "prediction = prediction[0]\n",
        "print('Prediction\\n',prediction)\n",
        "print('\\nThresholded output\\n',(prediction>0.5)*1)"
      ],
      "metadata": {
        "id": "ijlpn-61D521"
      },
      "execution_count": null,
      "outputs": []
    },
    {
      "cell_type": "markdown",
      "source": [
        "Model2 with 4 hidden layers with 16, 8, 6 and 4 nodes , 30 epochs"
      ],
      "metadata": {
        "id": "EYL8_TLBzv6p"
      }
    },
    {
      "cell_type": "code",
      "source": [
        "model2 = Sequential()\n",
        "model2.add(Dense(32, activation='relu', input_shape=(784,)))\n",
        "model2.add(Dense(16, activation='relu'))\n",
        "model2.add(Dense(8, activation='relu'))\n",
        "model2.add(Dense(6, activation='relu'))\n",
        "model2.add(Dense(4, activation='relu'))\n",
        "model2.add(Dense(num_classes, activation='softmax'))\n",
        "model2.summary()\n",
        "print(\"------------------------------------------------------------------------------\")\n",
        "model2.compile(loss='categorical_crossentropy',optimizer='adam',metrics=['accuracy'])\n",
        "print(\"------------------------------------------------------------------------------\")\n",
        "history=model2.fit(x_train,y_train,\n",
        "batch_size=batch_size,\n",
        "epochs=30,\n",
        "verbose=2) #epoch=30\n",
        "\n",
        "print(\"------------------------------------------------------------------------------\")\n",
        "score = model2.evaluate(x_test, y_test, verbose=0)\n",
        "print('Test loss:', score[0])\n",
        "print('Test accuracy:', score[1])\n",
        "print(\"------------------------------------------------------------------------------\")\n",
        "prediction = model2.predict(x_test[10:11])\n",
        "prediction = prediction[0]\n",
        "print('Prediction\\n',prediction)\n",
        "print('\\nThresholded output\\n',(prediction>0.5)*1)\n"
      ],
      "metadata": {
        "id": "kPcYRp7pzYVA"
      },
      "execution_count": null,
      "outputs": []
    },
    {
      "cell_type": "markdown",
      "source": [
        "####3.Activation function"
      ],
      "metadata": {
        "id": "Q7D4q5F_wjXQ"
      }
    },
    {
      "cell_type": "markdown",
      "source": [
        "####model3 with 3 hidden layers with each 32 nodes , epochs 10"
      ],
      "metadata": {
        "id": "JN-Yz-jX1OZp"
      }
    },
    {
      "cell_type": "code",
      "source": [
        "model3 = Sequential()\n",
        "model3.add(Dense(32, activation='sigmoid', input_shape=(784,)))\n",
        "model3.add(Dense(32, activation='sigmoid'))\n",
        "model3.add(Dense(32, activation='sigmoid'))\n",
        "model3.add(Dense(32, activation='sigmoid'))\n",
        "model3.add(Dense(num_classes, activation='softmax'))\n",
        "model3.summary()\n",
        "print(\"----------------------------------------------------------------------------\")\n",
        "model3.compile(loss='categorical_crossentropy',optimizer='adam',metrics=['accuracy'])\n",
        "print(\"----------------------------------------------------------------------------\")\n",
        "history=model3.fit(x_train,y_train,batch_size=batch_size, epochs=10,verbose=2)\n",
        "print(\"----------------------------------------------------------------------------\")\n",
        "score = model3.evaluate(x_test, y_test, verbose=0)\n",
        "print('Test loss:', score[0])\n",
        "print('Test accuracy:', score[1])\n",
        "print(\"----------------------------------------------------------------------------\")\n",
        "prediction = model3.predict(x_test[10:11])\n",
        "prediction = prediction[0]\n",
        "print('Prediction\\n',prediction)\n",
        "print('\\nThresholded output\\n',(prediction>0.5)*1)"
      ],
      "metadata": {
        "id": "cimoyVT_D55t"
      },
      "execution_count": null,
      "outputs": []
    },
    {
      "cell_type": "markdown",
      "source": [
        "####model3 with 3 hidden layers with relu, tanh activations, epochs 30"
      ],
      "metadata": {
        "id": "GsDgrvFH1hUv"
      }
    },
    {
      "cell_type": "code",
      "source": [
        "model3 = Sequential()\n",
        "model3.add(Dense(32, activation='sigmoid', input_shape=(784,)))\n",
        "model3.add(Dense(32, activation='tanh'))\n",
        "model3.add(Dense(32, activation='relu'))\n",
        "model3.add(Dense(32, activation='tanh'))\n",
        "model3.add(Dense(num_classes, activation='softmax'))\n",
        "model3.summary()\n",
        "print(\"----------------------------------------------------------------------------\")\n",
        "model3.compile(loss='categorical_crossentropy',optimizer='adam',metrics=['accuracy'])\n",
        "print(\"----------------------------------------------------------------------------\")\n",
        "history1=model3.fit(x_train,y_train,batch_size=batch_size, epochs=30,verbose=2)␣\n",
        "\n",
        "##epoch=30\n",
        "print(\"----------------------------------------------------------------------------\")\n",
        "score = model3.evaluate(x_test, y_test, verbose=0)\n",
        "print('Test loss:', score[0])\n",
        "print('Test accuracy:', score[1])\n",
        "print(\"----------------------------------------------------------------------------\")\n",
        "prediction = model3.predict(x_test[10:11])\n",
        "prediction = prediction[0]\n",
        "print('Prediction\\n',prediction)\n",
        "print('\\nThresholded output\\n',(prediction>0.5)*1)"
      ],
      "metadata": {
        "id": "BFceJEyH4VDf"
      },
      "execution_count": null,
      "outputs": []
    },
    {
      "cell_type": "markdown",
      "source": [
        "##4.Activation function combinations"
      ],
      "metadata": {
        "id": "GELVmdG56_PW"
      }
    },
    {
      "cell_type": "markdown",
      "source": [
        "####**model4** with 3 hidden layers with sigmoid and with 10 epochs"
      ],
      "metadata": {
        "id": "MyPp12ON1xY6"
      }
    },
    {
      "cell_type": "code",
      "source": [
        "model4 = Sequential()\n",
        "model4.add(Dense(32, activation='sigmoid', input_shape=(784,)))\n",
        "model4.add(Dense(32, activation='sigmoid'))\n",
        "model4.add(Dense(32, activation='relu'))\n",
        "model4.add(Dense(32, activation='tanh'))\n",
        "model4.add(Dense(num_classes, activation='softmax'))\n",
        "model4.summary()\n",
        "print(\"----------------------------------------------------------------------------\")\n",
        "model4.compile(loss='categorical_crossentropy',optimizer='adam',metrics=['accuracy'])\n",
        "print(\"----------------------------------------------------------------------------\")\n",
        "history=model4.fit(x_train,y_train,batch_size=batch_size, epochs=10,verbose=2)\n",
        "print(\"----------------------------------------------------------------------------\")\n",
        "score = model4.evaluate(x_test, y_test, verbose=0)\n",
        "print('Test loss:', score[0])\n",
        "print('Test accuracy:', score[1])\n",
        "print(\"----------------------------------------------------------------------------\")\n",
        "prediction = model4.predict(x_test[10:11])\n",
        "prediction = prediction[0]\n",
        "print('Prediction\\n',prediction)\n",
        "print('\\nThresholded output\\n',(prediction>0.5)*1)"
      ],
      "metadata": {
        "id": "neplSvJ7D5-5",
        "colab": {
          "base_uri": "https://localhost:8080/"
        },
        "outputId": "c8a33890-bacb-48dc-8165-493161f25917"
      },
      "execution_count": null,
      "outputs": [
        {
          "output_type": "stream",
          "name": "stdout",
          "text": [
            "Model: \"sequential_4\"\n",
            "_________________________________________________________________\n",
            " Layer (type)                Output Shape              Param #   \n",
            "=================================================================\n",
            " dense_17 (Dense)            (None, 32)                25120     \n",
            "                                                                 \n",
            " dense_18 (Dense)            (None, 32)                1056      \n",
            "                                                                 \n",
            " dense_19 (Dense)            (None, 32)                1056      \n",
            "                                                                 \n",
            " dense_20 (Dense)            (None, 32)                1056      \n",
            "                                                                 \n",
            " dense_21 (Dense)            (None, 10)                330       \n",
            "                                                                 \n",
            "=================================================================\n",
            "Total params: 28,618\n",
            "Trainable params: 28,618\n",
            "Non-trainable params: 0\n",
            "_________________________________________________________________\n",
            "----------------------------------------------------------------------------\n",
            "----------------------------------------------------------------------------\n",
            "Epoch 1/10\n",
            "469/469 - 3s - loss: 0.9473 - accuracy: 0.7244 - 3s/epoch - 6ms/step\n",
            "Epoch 2/10\n",
            "469/469 - 2s - loss: 0.3185 - accuracy: 0.9114 - 2s/epoch - 4ms/step\n",
            "Epoch 3/10\n",
            "469/469 - 2s - loss: 0.2351 - accuracy: 0.9337 - 2s/epoch - 5ms/step\n",
            "Epoch 4/10\n",
            "469/469 - 2s - loss: 0.1937 - accuracy: 0.9444 - 2s/epoch - 5ms/step\n",
            "Epoch 5/10\n",
            "469/469 - 2s - loss: 0.1673 - accuracy: 0.9517 - 2s/epoch - 5ms/step\n",
            "Epoch 6/10\n",
            "469/469 - 2s - loss: 0.1457 - accuracy: 0.9570 - 2s/epoch - 5ms/step\n",
            "Epoch 7/10\n",
            "469/469 - 2s - loss: 0.1306 - accuracy: 0.9616 - 2s/epoch - 4ms/step\n",
            "Epoch 8/10\n",
            "469/469 - 3s - loss: 0.1189 - accuracy: 0.9646 - 3s/epoch - 6ms/step\n",
            "Epoch 9/10\n",
            "469/469 - 3s - loss: 0.1110 - accuracy: 0.9669 - 3s/epoch - 6ms/step\n",
            "Epoch 10/10\n",
            "469/469 - 2s - loss: 0.1013 - accuracy: 0.9701 - 2s/epoch - 4ms/step\n",
            "----------------------------------------------------------------------------\n",
            "Test loss: 0.12923333048820496\n",
            "Test accuracy: 0.963100016117096\n",
            "----------------------------------------------------------------------------\n",
            "Prediction\n",
            " [9.9712247e-01 7.4996292e-06 4.1277026e-06 9.3872092e-07 2.2331296e-06\n",
            " 5.5338314e-04 2.3055039e-03 3.0074025e-07 3.4108330e-06 5.9322026e-08]\n",
            "\n",
            "Thresholded output\n",
            " [1 0 0 0 0 0 0 0 0 0]\n"
          ]
        }
      ]
    },
    {
      "cell_type": "code",
      "source": [],
      "metadata": {
        "id": "dVE145-4D6BV"
      },
      "execution_count": null,
      "outputs": []
    },
    {
      "cell_type": "code",
      "source": [
        "from google.colab import drive\n",
        "drive.mount('/content/drive')"
      ],
      "metadata": {
        "id": "BybA3iqO17im"
      },
      "execution_count": null,
      "outputs": []
    },
    {
      "cell_type": "code",
      "source": [],
      "metadata": {
        "id": "WRfwXY1WD6Dt"
      },
      "execution_count": null,
      "outputs": []
    },
    {
      "cell_type": "code",
      "source": [
        "import tensorflow as tf\n",
        "# Model a simple 3-layer neural network\n",
        "model_3 = keras.Sequential([\n",
        "    keras.layers.Flatten(input_shape=(28,28)),\n",
        "    keras.layers.Dense(128, activation=tf.nn.relu),\n",
        "    keras.layers.Dense(10, activation=tf.nn.softmax)\n",
        "])\n",
        "model_3.summary()"
      ],
      "metadata": {
        "colab": {
          "base_uri": "https://localhost:8080/"
        },
        "id": "X3-PTRQf92V6",
        "outputId": "59d24868-efcc-47ec-c2a1-f66e9a071cf8"
      },
      "execution_count": null,
      "outputs": [
        {
          "output_type": "stream",
          "name": "stdout",
          "text": [
            "Model: \"sequential_1\"\n",
            "_________________________________________________________________\n",
            " Layer (type)                Output Shape              Param #   \n",
            "=================================================================\n",
            " flatten_1 (Flatten)         (None, 784)               0         \n",
            "                                                                 \n",
            " dense (Dense)               (None, 128)               100480    \n",
            "                                                                 \n",
            " dense_1 (Dense)             (None, 10)                1290      \n",
            "                                                                 \n",
            "=================================================================\n",
            "Total params: 101,770\n",
            "Trainable params: 101,770\n",
            "Non-trainable params: 0\n",
            "_________________________________________________________________\n"
          ]
        }
      ]
    },
    {
      "cell_type": "code",
      "source": [
        "model_3.compile(optimizer='adam',\n",
        "              loss='sparse_categorical_crossentropy',\n",
        "              metrics=['accuracy'])"
      ],
      "metadata": {
        "id": "gwe6Wegu-BUZ"
      },
      "execution_count": null,
      "outputs": []
    },
    {
      "cell_type": "code",
      "source": [
        "model_3.fit(train_images, train_labels, epochs=5, validation_split=0.2)"
      ],
      "metadata": {
        "id": "rx7yL2Wx-YQB"
      },
      "execution_count": null,
      "outputs": []
    },
    {
      "cell_type": "code",
      "source": [],
      "metadata": {
        "id": "zCzHDsbR-YTI"
      },
      "execution_count": null,
      "outputs": []
    }
  ]
}