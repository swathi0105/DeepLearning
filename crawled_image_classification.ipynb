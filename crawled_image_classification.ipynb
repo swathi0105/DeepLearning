{
  "cells": [
    {
      "cell_type": "markdown",
      "metadata": {
        "id": "a8d1c5bb"
      },
      "source": [
        "#Image Corpus Creation and Binary Classification using DNN"
      ],
      "id": "a8d1c5bb"
    },
    {
      "cell_type": "markdown",
      "metadata": {
        "id": "99c46cf5"
      },
      "source": [
        "### Steps 1- Dataset Creation:"
      ],
      "id": "99c46cf5"
    },
    {
      "cell_type": "markdown",
      "metadata": {
        "id": "7a333721"
      },
      "source": [
        "Our classification samples are\n",
        "\n",
        "1. Peacock\n",
        "\n",
        "2. White Peacock"
      ],
      "id": "7a333721"
    },
    {
      "cell_type": "code",
      "execution_count": null,
      "metadata": {
        "colab": {
          "base_uri": "https://localhost:8080/"
        },
        "id": "Wy9uKRoRdXMd",
        "outputId": "caad4837-d9b6-4a45-fae1-ae82499af05c"
      },
      "outputs": [
        {
          "output_type": "stream",
          "name": "stdout",
          "text": [
            "Looking in indexes: https://pypi.org/simple, https://us-python.pkg.dev/colab-wheels/public/simple/\n",
            "Collecting bing-image-downloader\n",
            "  Downloading bing_image_downloader-1.1.2-py3-none-any.whl (5.9 kB)\n",
            "Installing collected packages: bing-image-downloader\n",
            "Successfully installed bing-image-downloader-1.1.2\n"
          ]
        }
      ],
      "source": [
        "!pip install bing-image-downloader"
      ],
      "id": "Wy9uKRoRdXMd"
    },
    {
      "cell_type": "code",
      "execution_count": null,
      "metadata": {
        "id": "_r5_wfY-dXPL"
      },
      "outputs": [],
      "source": [
        "!mkdir images"
      ],
      "id": "_r5_wfY-dXPL"
    },
    {
      "cell_type": "code",
      "execution_count": null,
      "metadata": {
        "colab": {
          "base_uri": "https://localhost:8080/"
        },
        "id": "kJbs8NLxdXSS",
        "outputId": "bb636c8c-a26b-4187-d86a-c51de22be7ab"
      },
      "outputs": [
        {
          "output_type": "stream",
          "name": "stdout",
          "text": [
            "[%] Downloading Images to /content/images/peacock\n",
            "\n",
            "\n",
            "[!!]Indexing page: 1\n",
            "\n",
            "[%] Indexed 10 Images on Page 1.\n",
            "\n",
            "===============================================\n",
            "\n",
            "[%] Downloading Image #1 from http://ftexploring.com/~ftexplor/animals/peacock/peacock3 - 70b.jpg\n",
            "[!] Issue getting: http://ftexploring.com/~ftexplor/animals/peacock/peacock3 - 70b.jpg\n",
            "[!] Error:: URL can't contain control characters. '/~ftexplor/animals/peacock/peacock3 - 70b.jpg' (found at least ' ')\n",
            "[%] Downloading Image #1 from https://wallpapershome.com/images/wallpapers/peacock-1080x1920-feathers-4747.jpg\n",
            "[%] File Downloaded !\n",
            "\n",
            "[%] Downloading Image #2 from http://farm8.staticflickr.com/7241/7004847680_f9077b667f_z.jpg\n",
            "[%] File Downloaded !\n",
            "\n",
            "[%] Downloading Image #3 from https://picturejournals.com/wp-content/uploads/2012/09/peacock-2-1024x682.jpg\n",
            "[%] File Downloaded !\n",
            "\n",
            "[%] Downloading Image #4 from http://www.pxleyes.com/images/contests/peacock/fullsize/peacock_4c04e3ceea27d_hires.jpg\n",
            "[%] File Downloaded !\n",
            "\n",
            "[%] Downloading Image #5 from https://upload.wikimedia.org/wikipedia/commons/thumb/7/72/Peacock_00782.jpg/1024px-Peacock_00782.jpg\n",
            "[%] File Downloaded !\n",
            "\n",
            "[%] Downloading Image #6 from https://photographyblogger.net/wp-content/uploads/2012/12/peacock2.jpg\n",
            "[!] Issue getting: https://photographyblogger.net/wp-content/uploads/2012/12/peacock2.jpg\n",
            "[!] Error:: <urlopen error [SSL: CERTIFICATE_VERIFY_FAILED] certificate verify failed: self signed certificate (_ssl.c:1091)>\n",
            "[%] Downloading Image #6 from http://www.photographyblogger.net/wp-content/uploads/2012/12/peacock19.jpg\n",
            "[%] File Downloaded !\n",
            "\n",
            "[%] Downloading Image #7 from https://1.bp.blogspot.com/-iWVSs2rBi6A/TbTtINiRbRI/AAAAAAAADOU/XSvsoAHzOCg/s400/Peacock+%252896%2529.jpg\n",
            "[%] File Downloaded !\n",
            "\n",
            "[%] Downloading Image #8 from http://thumbs.dreamstime.com/x/peacock-4717692.jpg\n",
            "[%] File Downloaded !\n",
            "\n",
            "\n",
            "\n",
            "[!!]Indexing page: 2\n",
            "\n",
            "[%] Indexed 16 Images on Page 2.\n",
            "\n",
            "===============================================\n",
            "\n",
            "[%] Downloading Image #9 from http://2.bp.blogspot.com/-ORPjXaNfadA/UcLcYeKOvVI/AAAAAAAAatc/9HqoE6AaOHc/s1600/Peacock+Pictures.jpg\n",
            "[%] File Downloaded !\n",
            "\n",
            "[%] Downloading Image #10 from https://lh5.googleusercontent.com/-qB_J9TDPOUs/TXtGIQF8_zI/AAAAAAAABmk/oCNPl4OxJPI/s1600/peacock.jpg\n",
            "[%] File Downloaded !\n",
            "\n",
            "\n",
            "\n",
            "[%] Done. Downloaded 10 images.\n"
          ]
        }
      ],
      "source": [
        "from bing_image_downloader import downloader\n",
        "downloader.download(\"peacock\", limit=10,  output_dir='images', adult_filter_off=True, force_replace=False, timeout=60, verbose=True)"
      ],
      "id": "kJbs8NLxdXSS"
    },
    {
      "cell_type": "code",
      "execution_count": null,
      "metadata": {
        "colab": {
          "base_uri": "https://localhost:8080/"
        },
        "id": "ySvCuIUSdXVZ",
        "outputId": "2022750d-bd1d-4ce7-a42d-edcb992bbec2"
      },
      "outputs": [
        {
          "output_type": "stream",
          "name": "stdout",
          "text": [
            "[%] Downloading Images to /content/images/whitepeacock\n",
            "\n",
            "\n",
            "[!!]Indexing page: 1\n",
            "\n",
            "[%] Indexed 8 Images on Page 1.\n",
            "\n",
            "===============================================\n",
            "\n",
            "[%] Downloading Image #1 from http://www.indiamike.com/files/images/27/56/09/dancing-white-peacock--once-more.jpg\n",
            "[%] File Downloaded !\n",
            "\n",
            "[%] Downloading Image #2 from https://usercontent1.hubstatic.com/14152116_f1024.jpg\n",
            "[%] File Downloaded !\n",
            "\n",
            "[%] Downloading Image #3 from http://1.bp.blogspot.com/-YZi85M2VnQk/U0GDyNs1-MI/AAAAAAAABKk/pFFN0RnVFWs/s1600/funadress+white+pec+3.JPG\n",
            "[%] File Downloaded !\n",
            "\n",
            "[%] Downloading Image #4 from https://cdn.pixabay.com/photo/2017/07/18/17/07/peahen-2516396_640.jpg\n",
            "[%] File Downloaded !\n",
            "\n",
            "[%] Downloading Image #5 from http://3.bp.blogspot.com/-08UebwaZqT0/Ub7Cr8spSTI/AAAAAAAADQ0/BZ30qeh98GU/s1600/White-Peacock.jpg\n",
            "[%] File Downloaded !\n",
            "\n",
            "[%] Downloading Image #6 from http://wallpapercave.com/wp/GSn6VaC.jpg\n",
            "[%] File Downloaded !\n",
            "\n",
            "[%] Downloading Image #7 from http://images.clipartpanda.com/peacock-clipart-yioo6jRiE.png\n",
            "[%] File Downloaded !\n",
            "\n",
            "[%] Downloading Image #8 from https://i.pinimg.com/736x/e0/08/22/e00822ef42f75dfc004d8cbd6d6c06dc--oval-frame-green-art.jpg\n",
            "[%] File Downloaded !\n",
            "\n",
            "\n",
            "\n",
            "[!!]Indexing page: 2\n",
            "\n",
            "[%] Indexed 8 Images on Page 2.\n",
            "\n",
            "===============================================\n",
            "\n",
            "\n",
            "\n",
            "[!!]Indexing page: 3\n",
            "\n",
            "[%] Indexed 7 Images on Page 3.\n",
            "\n",
            "===============================================\n",
            "\n",
            "\n",
            "\n",
            "[!!]Indexing page: 4\n",
            "\n",
            "[%] Indexed 6 Images on Page 4.\n",
            "\n",
            "===============================================\n",
            "\n",
            "[%] Downloading Image #9 from https://www.indiamike.com/files/images/85/31/08/dancing-white-peacock.jpg\n",
            "[%] File Downloaded !\n",
            "\n",
            "[%] Downloading Image #10 from http://1.bp.blogspot.com/-x5Gtdsi322s/UGa51X6B3SI/AAAAAAAAHKs/j0AodMHLY2g/s1600/White_peacock_Keukenhof_back.jpg\n",
            "[%] File Downloaded !\n",
            "\n",
            "\n",
            "\n",
            "[%] Done. Downloaded 10 images.\n"
          ]
        }
      ],
      "source": [
        "downloader.download(\"whitepeacock\", limit=10,  output_dir='images', adult_filter_off=True, force_replace=False, timeout=60, verbose=True)"
      ],
      "id": "ySvCuIUSdXVZ"
    },
    {
      "cell_type": "markdown",
      "metadata": {
        "id": "73e950da"
      },
      "source": [
        "### Steps 2- Pre-Processing:"
      ],
      "id": "73e950da"
    },
    {
      "cell_type": "code",
      "execution_count": null,
      "metadata": {
        "id": "1925c6c4"
      },
      "outputs": [],
      "source": [
        "import warnings\n",
        "warnings.filterwarnings(\"ignore\")\n",
        "\n",
        "import time\n",
        "from time import process_time \n",
        "\n",
        "import numpy as np\n",
        "import pandas as pd\n",
        "\n",
        "import matplotlib.pyplot as plt\n",
        "%matplotlib inline\n",
        "\n",
        "import cv2\n",
        "import os\n",
        "\n",
        "from sklearn.model_selection import train_test_split\n",
        "from keras.models import Sequential\n",
        "from keras.layers.core import Dense"
      ],
      "id": "1925c6c4"
    },
    {
      "cell_type": "code",
      "execution_count": null,
      "metadata": {
        "colab": {
          "base_uri": "https://localhost:8080/",
          "height": 269
        },
        "id": "c0d898f4",
        "outputId": "99d83aba-4889-4694-8069-7f9415e9e1b7"
      },
      "outputs": [
        {
          "output_type": "display_data",
          "data": {
            "text/plain": [
              "<Figure size 432x288 with 1 Axes>"
            ],
            "image/png": "[encoded data removed]"
          },
          "metadata": {
            "needs_background": "light"
          }
        }
      ],
      "source": [
        "datadir =\"images\"\n",
        "categories =['peacock']\n",
        "\n",
        "for category in categories:\n",
        "    path = os.path.join(datadir, category)\n",
        "    for img in os.listdir(path):\n",
        "        img_array = cv2.imread(os.path.join(path,img), cv2.IMREAD_GRAYSCALE)\n",
        "        plt.imshow(img_array, cmap='gray')\n",
        "        plt.show()\n",
        "        break\n",
        "    break"
      ],
      "id": "c0d898f4"
    },
    {
      "cell_type": "code",
      "execution_count": null,
      "metadata": {
        "colab": {
          "base_uri": "https://localhost:8080/",
          "height": 269
        },
        "id": "f95e1c9d",
        "outputId": "a7468124-88db-41e6-c4fb-d3019a33d166"
      },
      "outputs": [
        {
          "output_type": "display_data",
          "data": {
            "text/plain": [
              "<Figure size 432x288 with 1 Axes>"
            ],
            "image/png": "[encoded data removed]"
          },
          "metadata": {
            "needs_background": "light"
          }
        }
      ],
      "source": [
        "datadir =\"images\"\n",
        "categories =['whitepeacock']\n",
        "\n",
        "for category in categories:\n",
        "    path = os.path.join(datadir, category)\n",
        "    for img in os.listdir(path):\n",
        "        img_array = cv2.imread(os.path.join(path,img), cv2.IMREAD_GRAYSCALE)\n",
        "        plt.imshow(img_array, cmap='gray')\n",
        "        plt.show()\n",
        "        break\n",
        "    break"
      ],
      "id": "f95e1c9d"
    },
    {
      "cell_type": "code",
      "execution_count": null,
      "metadata": {
        "id": "ccdc0c0e"
      },
      "outputs": [],
      "source": [
        "datadir = \"images\"\n",
        "categories = ['peacock', 'whitepeacock']"
      ],
      "id": "ccdc0c0e"
    },
    {
      "cell_type": "code",
      "execution_count": null,
      "metadata": {
        "id": "ef87f3ec"
      },
      "outputs": [],
      "source": [
        "data = []\n",
        "img_size=500\n",
        "\n",
        "def preprocess():\n",
        "    for category in categories:\n",
        "        path = os.path.join(datadir, category)\n",
        "        class_num = categories.index(category)\n",
        "        \n",
        "        for img in os.listdir(path):\n",
        "            img_array = cv2.imread(os.path.join(path,img), cv2.IMREAD_GRAYSCALE)\n",
        "            num_array = cv2.resize(img_array,(img_size, img_size))\n",
        "            \n",
        "            data.append([num_array, class_num])\n",
        "            \n",
        "preprocess()"
      ],
      "id": "ef87f3ec"
    },
    {
      "cell_type": "code",
      "execution_count": null,
      "metadata": {
        "colab": {
          "base_uri": "https://localhost:8080/"
        },
        "id": "6f5d87ec",
        "outputId": "704307c9-a36a-482c-c593-ad128e739781"
      },
      "outputs": [
        {
          "output_type": "stream",
          "name": "stdout",
          "text": [
            "20\n"
          ]
        }
      ],
      "source": [
        "print(len(data))"
      ],
      "id": "6f5d87ec"
    },
    {
      "cell_type": "markdown",
      "metadata": {
        "id": "76cf85cd"
      },
      "source": [
        "### Steps 3- Dataset Preparation:"
      ],
      "id": "76cf85cd"
    },
    {
      "cell_type": "code",
      "execution_count": null,
      "metadata": {
        "id": "983588c9"
      },
      "outputs": [],
      "source": [
        "X = []\n",
        "y = []\n",
        "\n",
        "for features,label in data:\n",
        "    X.append(features)\n",
        "    y.append(label)\n",
        "\n",
        "X = np.asarray(X).reshape(-1,img_size,img_size,1)\n",
        "y = np.asarray(y)"
      ],
      "id": "983588c9"
    },
    {
      "cell_type": "code",
      "execution_count": null,
      "metadata": {
        "id": "76646f8c"
      },
      "outputs": [],
      "source": [
        "X_train, X_test, y_train, y_test = train_test_split(X, y, test_size=0.25, random_state=42)"
      ],
      "id": "76646f8c"
    },
    {
      "cell_type": "code",
      "execution_count": null,
      "metadata": {
        "colab": {
          "base_uri": "https://localhost:8080/"
        },
        "id": "0e3c248b",
        "outputId": "a1ad8377-46e1-4bf6-9986-6709edc3e045"
      },
      "outputs": [
        {
          "output_type": "stream",
          "name": "stdout",
          "text": [
            "Shape of the following:\n",
            "X_train = (15, 500, 500, 1) \n",
            "X_test = (5, 500, 500, 1) \n",
            "y_train = (15,) \n",
            "y_test = (5,)\n"
          ]
        }
      ],
      "source": [
        "print(\"Shape of the following:\")\n",
        "print(\"X_train =\", X_train.shape, \"\\nX_test =\", X_test.shape, \"\\ny_train =\", y_train.shape, \"\\ny_test =\", y_test.shape)"
      ],
      "id": "0e3c248b"
    },
    {
      "cell_type": "markdown",
      "metadata": {
        "id": "b7ca1d73"
      },
      "source": [
        "### Step 4 - Model Creation:"
      ],
      "id": "b7ca1d73"
    },
    {
      "cell_type": "code",
      "execution_count": null,
      "metadata": {
        "id": "ae20e5e3"
      },
      "outputs": [],
      "source": [
        "model = Sequential()\n",
        "model.add(Dense(8, input_dim=1, activation='relu'))\n",
        "model.add(Dense(1, activation='sigmoid'))"
      ],
      "id": "ae20e5e3"
    },
    {
      "cell_type": "code",
      "execution_count": null,
      "metadata": {
        "id": "df210c78"
      },
      "outputs": [],
      "source": [
        "model.compile(loss='mean_squared_error', metrics=['binary_accuracy'])"
      ],
      "id": "df210c78"
    },
    {
      "cell_type": "code",
      "execution_count": null,
      "metadata": {
        "colab": {
          "base_uri": "https://localhost:8080/"
        },
        "id": "d1be5c6f",
        "outputId": "e33ff18d-3f8e-4e2e-b047-864f897a650e",
        "scrolled": true
      },
      "outputs": [
        {
          "output_type": "stream",
          "name": "stdout",
          "text": [
            "Epoch 1/100\n",
            "WARNING:tensorflow:Model was constructed with shape (None, 1) for input KerasTensor(type_spec=TensorSpec(shape=(None, 1), dtype=tf.float32, name='dense_input'), name='dense_input', description=\"created by layer 'dense_input'\"), but it was called on an input with incompatible shape (None, 500, 500, 1).\n",
            "WARNING:tensorflow:Model was constructed with shape (None, 1) for input KerasTensor(type_spec=TensorSpec(shape=(None, 1), dtype=tf.float32, name='dense_input'), name='dense_input', description=\"created by layer 'dense_input'\"), but it was called on an input with incompatible shape (None, 500, 500, 1).\n",
            "1/1 [==============================] - ETA: 0s - loss: 0.4881 - binary_accuracy: 0.4667WARNING:tensorflow:Model was constructed with shape (None, 1) for input KerasTensor(type_spec=TensorSpec(shape=(None, 1), dtype=tf.float32, name='dense_input'), name='dense_input', description=\"created by layer 'dense_input'\"), but it was called on an input with incompatible shape (None, 500, 500, 1).\n",
            "1/1 [==============================] - 2s 2s/step - loss: 0.4881 - binary_accuracy: 0.4667 - val_loss: 0.3722 - val_binary_accuracy: 0.5999\n",
            "Epoch 2/100\n",
            "1/1 [==============================] - 1s 1s/step - loss: 0.4768 - binary_accuracy: 0.4678 - val_loss: 0.3631 - val_binary_accuracy: 0.5999\n",
            "Epoch 3/100\n",
            "1/1 [==============================] - 1s 1s/step - loss: 0.4630 - binary_accuracy: 0.4678 - val_loss: 0.3503 - val_binary_accuracy: 0.5999\n",
            "Epoch 4/100\n",
            "1/1 [==============================] - 1s 1s/step - loss: 0.4447 - binary_accuracy: 0.4678 - val_loss: 0.3300 - val_binary_accuracy: 0.5999\n",
            "Epoch 5/100\n",
            "1/1 [==============================] - 1s 1s/step - loss: 0.4174 - binary_accuracy: 0.4678 - val_loss: 0.2969 - val_binary_accuracy: 0.5996\n",
            "Epoch 6/100\n",
            "1/1 [==============================] - 1s 1s/step - loss: 0.3726 - binary_accuracy: 0.4681 - val_loss: 0.2525 - val_binary_accuracy: 0.5990\n",
            "Epoch 7/100\n",
            "1/1 [==============================] - 1s 1s/step - loss: 0.2992 - binary_accuracy: 0.4686 - val_loss: 0.2565 - val_binary_accuracy: 0.4000\n",
            "Epoch 8/100\n",
            "1/1 [==============================] - 1s 1s/step - loss: 0.2491 - binary_accuracy: 0.5333 - val_loss: 0.2556 - val_binary_accuracy: 0.4000\n",
            "Epoch 9/100\n",
            "1/1 [==============================] - 1s 1s/step - loss: 0.2491 - binary_accuracy: 0.5333 - val_loss: 0.2562 - val_binary_accuracy: 0.4000\n",
            "Epoch 10/100\n",
            "1/1 [==============================] - 1s 1s/step - loss: 0.2491 - binary_accuracy: 0.5333 - val_loss: 0.2558 - val_binary_accuracy: 0.4000\n",
            "Epoch 11/100\n",
            "1/1 [==============================] - 1s 1s/step - loss: 0.2491 - binary_accuracy: 0.5333 - val_loss: 0.2562 - val_binary_accuracy: 0.4000\n",
            "Epoch 12/100\n",
            "1/1 [==============================] - 1s 1s/step - loss: 0.2491 - binary_accuracy: 0.5333 - val_loss: 0.2558 - val_binary_accuracy: 0.4000\n",
            "Epoch 13/100\n",
            "1/1 [==============================] - 1s 1s/step - loss: 0.2491 - binary_accuracy: 0.5333 - val_loss: 0.2563 - val_binary_accuracy: 0.4000\n",
            "Epoch 14/100\n",
            "1/1 [==============================] - 1s 1s/step - loss: 0.2491 - binary_accuracy: 0.5333 - val_loss: 0.2557 - val_binary_accuracy: 0.4000\n",
            "Epoch 15/100\n",
            "1/1 [==============================] - 1s 1s/step - loss: 0.2491 - binary_accuracy: 0.5333 - val_loss: 0.2565 - val_binary_accuracy: 0.4000\n",
            "Epoch 16/100\n",
            "1/1 [==============================] - 1s 1s/step - loss: 0.2491 - binary_accuracy: 0.5333 - val_loss: 0.2552 - val_binary_accuracy: 0.4000\n",
            "Epoch 17/100\n",
            "1/1 [==============================] - 1s 1s/step - loss: 0.2491 - binary_accuracy: 0.5333 - val_loss: 0.2574 - val_binary_accuracy: 0.4000\n",
            "Epoch 18/100\n",
            "1/1 [==============================] - 1s 1s/step - loss: 0.2491 - binary_accuracy: 0.5333 - val_loss: 0.2537 - val_binary_accuracy: 0.4000\n",
            "Epoch 19/100\n",
            "1/1 [==============================] - 1s 1s/step - loss: 0.2492 - binary_accuracy: 0.5333 - val_loss: 0.2612 - val_binary_accuracy: 0.4000\n",
            "Epoch 20/100\n",
            "1/1 [==============================] - 1s 1s/step - loss: 0.2495 - binary_accuracy: 0.5333 - val_loss: 0.2482 - val_binary_accuracy: 0.5665\n",
            "Epoch 21/100\n",
            "1/1 [==============================] - 1s 1s/step - loss: 0.2509 - binary_accuracy: 0.4834 - val_loss: 0.2810 - val_binary_accuracy: 0.4000\n",
            "Epoch 22/100\n",
            "1/1 [==============================] - 1s 1s/step - loss: 0.2558 - binary_accuracy: 0.5333 - val_loss: 0.2428 - val_binary_accuracy: 0.5942\n",
            "Epoch 23/100\n",
            "1/1 [==============================] - 1s 1s/step - loss: 0.2597 - binary_accuracy: 0.4703 - val_loss: 0.2869 - val_binary_accuracy: 0.4000\n",
            "Epoch 24/100\n",
            "1/1 [==============================] - 1s 1s/step - loss: 0.2584 - binary_accuracy: 0.5333 - val_loss: 0.2460 - val_binary_accuracy: 0.5837\n",
            "Epoch 25/100\n",
            "1/1 [==============================] - 1s 1s/step - loss: 0.2526 - binary_accuracy: 0.4754 - val_loss: 0.2702 - val_binary_accuracy: 0.4000\n",
            "Epoch 26/100\n",
            "1/1 [==============================] - 1s 1s/step - loss: 0.2517 - binary_accuracy: 0.5333 - val_loss: 0.2484 - val_binary_accuracy: 0.5598\n",
            "Epoch 27/100\n",
            "1/1 [==============================] - 1s 1s/step - loss: 0.2508 - binary_accuracy: 0.4858 - val_loss: 0.2662 - val_binary_accuracy: 0.4000\n",
            "Epoch 28/100\n",
            "1/1 [==============================] - 1s 1s/step - loss: 0.2506 - binary_accuracy: 0.5333 - val_loss: 0.2493 - val_binary_accuracy: 0.5351\n",
            "Epoch 29/100\n",
            "1/1 [==============================] - 1s 1s/step - loss: 0.2503 - binary_accuracy: 0.4933 - val_loss: 0.2658 - val_binary_accuracy: 0.4000\n",
            "Epoch 30/100\n",
            "1/1 [==============================] - 2s 2s/step - loss: 0.2505 - binary_accuracy: 0.5333 - val_loss: 0.2489 - val_binary_accuracy: 0.5494\n",
            "Epoch 31/100\n",
            "1/1 [==============================] - 2s 2s/step - loss: 0.2505 - binary_accuracy: 0.4892 - val_loss: 0.2677 - val_binary_accuracy: 0.4000\n",
            "Epoch 32/100\n",
            "1/1 [==============================] - 1s 1s/step - loss: 0.2510 - binary_accuracy: 0.5333 - val_loss: 0.2477 - val_binary_accuracy: 0.5709\n",
            "Epoch 33/100\n",
            "1/1 [==============================] - 1s 1s/step - loss: 0.2512 - binary_accuracy: 0.4817 - val_loss: 0.2710 - val_binary_accuracy: 0.4000\n",
            "Epoch 34/100\n",
            "1/1 [==============================] - 1s 1s/step - loss: 0.2520 - binary_accuracy: 0.5333 - val_loss: 0.2466 - val_binary_accuracy: 0.5791\n",
            "Epoch 35/100\n",
            "1/1 [==============================] - 1s 1s/step - loss: 0.2521 - binary_accuracy: 0.4779 - val_loss: 0.2730 - val_binary_accuracy: 0.4000\n",
            "Epoch 36/100\n",
            "1/1 [==============================] - 1s 1s/step - loss: 0.2527 - binary_accuracy: 0.5333 - val_loss: 0.2465 - val_binary_accuracy: 0.5798\n",
            "Epoch 37/100\n",
            "1/1 [==============================] - 1s 1s/step - loss: 0.2522 - binary_accuracy: 0.4775 - val_loss: 0.2722 - val_binary_accuracy: 0.4000\n",
            "Epoch 38/100\n",
            "1/1 [==============================] - 1s 1s/step - loss: 0.2524 - binary_accuracy: 0.5333 - val_loss: 0.2470 - val_binary_accuracy: 0.5763\n",
            "Epoch 39/100\n",
            "1/1 [==============================] - 1s 1s/step - loss: 0.2517 - binary_accuracy: 0.4793 - val_loss: 0.2705 - val_binary_accuracy: 0.4000\n",
            "Epoch 40/100\n",
            "1/1 [==============================] - 1s 1s/step - loss: 0.2518 - binary_accuracy: 0.5333 - val_loss: 0.2475 - val_binary_accuracy: 0.5709\n",
            "Epoch 41/100\n",
            "1/1 [==============================] - 1s 1s/step - loss: 0.2514 - binary_accuracy: 0.4817 - val_loss: 0.2695 - val_binary_accuracy: 0.4000\n",
            "Epoch 42/100\n",
            "1/1 [==============================] - 1s 1s/step - loss: 0.2515 - binary_accuracy: 0.5333 - val_loss: 0.2477 - val_binary_accuracy: 0.5692\n",
            "Epoch 43/100\n",
            "1/1 [==============================] - 1s 1s/step - loss: 0.2512 - binary_accuracy: 0.4824 - val_loss: 0.2695 - val_binary_accuracy: 0.4000\n",
            "Epoch 44/100\n",
            "1/1 [==============================] - 1s 1s/step - loss: 0.2515 - binary_accuracy: 0.5333 - val_loss: 0.2476 - val_binary_accuracy: 0.5700\n",
            "Epoch 45/100\n",
            "1/1 [==============================] - 1s 1s/step - loss: 0.2513 - binary_accuracy: 0.4820 - val_loss: 0.2702 - val_binary_accuracy: 0.4000\n",
            "Epoch 46/100\n",
            "1/1 [==============================] - 1s 1s/step - loss: 0.2517 - binary_accuracy: 0.5333 - val_loss: 0.2473 - val_binary_accuracy: 0.5725\n",
            "Epoch 47/100\n",
            "1/1 [==============================] - 1s 1s/step - loss: 0.2515 - binary_accuracy: 0.4810 - val_loss: 0.2708 - val_binary_accuracy: 0.4000\n",
            "Epoch 48/100\n",
            "1/1 [==============================] - 1s 1s/step - loss: 0.2519 - binary_accuracy: 0.5333 - val_loss: 0.2472 - val_binary_accuracy: 0.5733\n",
            "Epoch 49/100\n",
            "1/1 [==============================] - 1s 1s/step - loss: 0.2516 - binary_accuracy: 0.4806 - val_loss: 0.2710 - val_binary_accuracy: 0.4000\n",
            "Epoch 50/100\n",
            "1/1 [==============================] - 1s 1s/step - loss: 0.2519 - binary_accuracy: 0.5333 - val_loss: 0.2472 - val_binary_accuracy: 0.5725\n",
            "Epoch 51/100\n",
            "1/1 [==============================] - 1s 1s/step - loss: 0.2516 - binary_accuracy: 0.4810 - val_loss: 0.2708 - val_binary_accuracy: 0.4000\n",
            "Epoch 52/100\n",
            "1/1 [==============================] - 1s 1s/step - loss: 0.2519 - binary_accuracy: 0.5333 - val_loss: 0.2473 - val_binary_accuracy: 0.5717\n",
            "Epoch 53/100\n",
            "1/1 [==============================] - 1s 1s/step - loss: 0.2515 - binary_accuracy: 0.4813 - val_loss: 0.2705 - val_binary_accuracy: 0.4000\n",
            "Epoch 54/100\n",
            "1/1 [==============================] - 1s 1s/step - loss: 0.2518 - binary_accuracy: 0.5333 - val_loss: 0.2474 - val_binary_accuracy: 0.5700\n",
            "Epoch 55/100\n",
            "1/1 [==============================] - 1s 1s/step - loss: 0.2515 - binary_accuracy: 0.4820 - val_loss: 0.2703 - val_binary_accuracy: 0.4000\n",
            "Epoch 56/100\n",
            "1/1 [==============================] - 1s 1s/step - loss: 0.2517 - binary_accuracy: 0.5333 - val_loss: 0.2474 - val_binary_accuracy: 0.5700\n",
            "Epoch 57/100\n",
            "1/1 [==============================] - 1s 1s/step - loss: 0.2515 - binary_accuracy: 0.4820 - val_loss: 0.2704 - val_binary_accuracy: 0.4000\n",
            "Epoch 58/100\n",
            "1/1 [==============================] - 1s 1s/step - loss: 0.2517 - binary_accuracy: 0.5333 - val_loss: 0.2474 - val_binary_accuracy: 0.5700\n",
            "Epoch 59/100\n",
            "1/1 [==============================] - 1s 1s/step - loss: 0.2515 - binary_accuracy: 0.4820 - val_loss: 0.2705 - val_binary_accuracy: 0.4000\n",
            "Epoch 60/100\n",
            "1/1 [==============================] - 1s 1s/step - loss: 0.2518 - binary_accuracy: 0.5333 - val_loss: 0.2474 - val_binary_accuracy: 0.5700\n",
            "Epoch 61/100\n",
            "1/1 [==============================] - 1s 1s/step - loss: 0.2515 - binary_accuracy: 0.4820 - val_loss: 0.2706 - val_binary_accuracy: 0.4000\n",
            "Epoch 62/100\n",
            "1/1 [==============================] - 1s 1s/step - loss: 0.2518 - binary_accuracy: 0.5333 - val_loss: 0.2474 - val_binary_accuracy: 0.5700\n",
            "Epoch 63/100\n",
            "1/1 [==============================] - 1s 1s/step - loss: 0.2515 - binary_accuracy: 0.4820 - val_loss: 0.2706 - val_binary_accuracy: 0.4000\n",
            "Epoch 64/100\n",
            "1/1 [==============================] - 1s 1s/step - loss: 0.2518 - binary_accuracy: 0.5333 - val_loss: 0.2474 - val_binary_accuracy: 0.5692\n",
            "Epoch 65/100\n",
            "1/1 [==============================] - 1s 1s/step - loss: 0.2515 - binary_accuracy: 0.4824 - val_loss: 0.2706 - val_binary_accuracy: 0.4000\n",
            "Epoch 66/100\n",
            "1/1 [==============================] - 1s 1s/step - loss: 0.2518 - binary_accuracy: 0.5333 - val_loss: 0.2474 - val_binary_accuracy: 0.5683\n",
            "Epoch 67/100\n",
            "1/1 [==============================] - 1s 1s/step - loss: 0.2515 - binary_accuracy: 0.4827 - val_loss: 0.2706 - val_binary_accuracy: 0.4000\n",
            "Epoch 68/100\n",
            "1/1 [==============================] - 1s 1s/step - loss: 0.2518 - binary_accuracy: 0.5333 - val_loss: 0.2474 - val_binary_accuracy: 0.5683\n",
            "Epoch 69/100\n",
            "1/1 [==============================] - 1s 1s/step - loss: 0.2515 - binary_accuracy: 0.4827 - val_loss: 0.2706 - val_binary_accuracy: 0.4000\n",
            "Epoch 70/100\n",
            "1/1 [==============================] - 1s 1s/step - loss: 0.2517 - binary_accuracy: 0.5333 - val_loss: 0.2474 - val_binary_accuracy: 0.5683\n",
            "Epoch 71/100\n",
            "1/1 [==============================] - 1s 1s/step - loss: 0.2515 - binary_accuracy: 0.4827 - val_loss: 0.2706 - val_binary_accuracy: 0.4000\n",
            "Epoch 72/100\n",
            "1/1 [==============================] - 1s 1s/step - loss: 0.2517 - binary_accuracy: 0.5333 - val_loss: 0.2474 - val_binary_accuracy: 0.5674\n",
            "Epoch 73/100\n",
            "1/1 [==============================] - 1s 1s/step - loss: 0.2515 - binary_accuracy: 0.4831 - val_loss: 0.2706 - val_binary_accuracy: 0.4000\n",
            "Epoch 74/100\n",
            "1/1 [==============================] - 1s 1s/step - loss: 0.2518 - binary_accuracy: 0.5333 - val_loss: 0.2474 - val_binary_accuracy: 0.5674\n",
            "Epoch 75/100\n",
            "1/1 [==============================] - 1s 1s/step - loss: 0.2515 - binary_accuracy: 0.4831 - val_loss: 0.2706 - val_binary_accuracy: 0.4000\n",
            "Epoch 76/100\n",
            "1/1 [==============================] - 1s 1s/step - loss: 0.2518 - binary_accuracy: 0.5333 - val_loss: 0.2474 - val_binary_accuracy: 0.5674\n",
            "Epoch 77/100\n",
            "1/1 [==============================] - 1s 1s/step - loss: 0.2515 - binary_accuracy: 0.4831 - val_loss: 0.2706 - val_binary_accuracy: 0.4000\n",
            "Epoch 78/100\n",
            "1/1 [==============================] - 1s 1s/step - loss: 0.2518 - binary_accuracy: 0.5333 - val_loss: 0.2475 - val_binary_accuracy: 0.5665\n",
            "Epoch 79/100\n",
            "1/1 [==============================] - 1s 1s/step - loss: 0.2515 - binary_accuracy: 0.4834 - val_loss: 0.2706 - val_binary_accuracy: 0.4000\n",
            "Epoch 80/100\n",
            "1/1 [==============================] - 1s 1s/step - loss: 0.2517 - binary_accuracy: 0.5333 - val_loss: 0.2475 - val_binary_accuracy: 0.5665\n",
            "Epoch 81/100\n",
            "1/1 [==============================] - 1s 1s/step - loss: 0.2515 - binary_accuracy: 0.4834 - val_loss: 0.2706 - val_binary_accuracy: 0.4000\n",
            "Epoch 82/100\n",
            "1/1 [==============================] - 1s 1s/step - loss: 0.2517 - binary_accuracy: 0.5333 - val_loss: 0.2475 - val_binary_accuracy: 0.5656\n",
            "Epoch 83/100\n",
            "1/1 [==============================] - 1s 1s/step - loss: 0.2515 - binary_accuracy: 0.4837 - val_loss: 0.2706 - val_binary_accuracy: 0.4000\n",
            "Epoch 84/100\n",
            "1/1 [==============================] - 1s 1s/step - loss: 0.2517 - binary_accuracy: 0.5333 - val_loss: 0.2475 - val_binary_accuracy: 0.5656\n",
            "Epoch 85/100\n",
            "1/1 [==============================] - 1s 1s/step - loss: 0.2515 - binary_accuracy: 0.4837 - val_loss: 0.2707 - val_binary_accuracy: 0.4000\n",
            "Epoch 86/100\n",
            "1/1 [==============================] - 1s 1s/step - loss: 0.2517 - binary_accuracy: 0.5333 - val_loss: 0.2475 - val_binary_accuracy: 0.5656\n",
            "Epoch 87/100\n",
            "1/1 [==============================] - 1s 1s/step - loss: 0.2515 - binary_accuracy: 0.4837 - val_loss: 0.2707 - val_binary_accuracy: 0.4000\n",
            "Epoch 88/100\n",
            "1/1 [==============================] - 1s 1s/step - loss: 0.2517 - binary_accuracy: 0.5333 - val_loss: 0.2475 - val_binary_accuracy: 0.5647\n",
            "Epoch 89/100\n",
            "1/1 [==============================] - 1s 1s/step - loss: 0.2515 - binary_accuracy: 0.4841 - val_loss: 0.2707 - val_binary_accuracy: 0.4000\n",
            "Epoch 90/100\n",
            "1/1 [==============================] - 1s 1s/step - loss: 0.2517 - binary_accuracy: 0.5333 - val_loss: 0.2475 - val_binary_accuracy: 0.5647\n",
            "Epoch 91/100\n",
            "1/1 [==============================] - 1s 1s/step - loss: 0.2515 - binary_accuracy: 0.4841 - val_loss: 0.2707 - val_binary_accuracy: 0.4000\n",
            "Epoch 92/100\n",
            "1/1 [==============================] - 1s 1s/step - loss: 0.2517 - binary_accuracy: 0.5333 - val_loss: 0.2475 - val_binary_accuracy: 0.5647\n",
            "Epoch 93/100\n",
            "1/1 [==============================] - 1s 1s/step - loss: 0.2515 - binary_accuracy: 0.4841 - val_loss: 0.2707 - val_binary_accuracy: 0.4000\n",
            "Epoch 94/100\n",
            "1/1 [==============================] - 1s 1s/step - loss: 0.2517 - binary_accuracy: 0.5333 - val_loss: 0.2475 - val_binary_accuracy: 0.5638\n",
            "Epoch 95/100\n",
            "1/1 [==============================] - 1s 1s/step - loss: 0.2515 - binary_accuracy: 0.4844 - val_loss: 0.2707 - val_binary_accuracy: 0.4000\n",
            "Epoch 96/100\n",
            "1/1 [==============================] - 1s 1s/step - loss: 0.2517 - binary_accuracy: 0.5333 - val_loss: 0.2475 - val_binary_accuracy: 0.5638\n",
            "Epoch 97/100\n",
            "1/1 [==============================] - 1s 1s/step - loss: 0.2515 - binary_accuracy: 0.4844 - val_loss: 0.2707 - val_binary_accuracy: 0.4000\n",
            "Epoch 98/100\n",
            "1/1 [==============================] - 1s 1s/step - loss: 0.2517 - binary_accuracy: 0.5333 - val_loss: 0.2475 - val_binary_accuracy: 0.5638\n",
            "Epoch 99/100\n",
            "1/1 [==============================] - 1s 1s/step - loss: 0.2515 - binary_accuracy: 0.4844 - val_loss: 0.2707 - val_binary_accuracy: 0.4000\n",
            "Epoch 100/100\n",
            "1/1 [==============================] - 1s 1s/step - loss: 0.2517 - binary_accuracy: 0.5333 - val_loss: 0.2475 - val_binary_accuracy: 0.5628\n"
          ]
        },
        {
          "output_type": "execute_result",
          "data": {
            "text/plain": [
              "<keras.callbacks.History at 0x7f9a76d3ded0>"
            ]
          },
          "metadata": {},
          "execution_count": 16
        }
      ],
      "source": [
        "model.fit(X_train,y_train,validation_data=(X_test,y_test),epochs=100)"
      ],
      "id": "d1be5c6f"
    },
    {
      "cell_type": "code",
      "execution_count": null,
      "metadata": {
        "colab": {
          "base_uri": "https://localhost:8080/"
        },
        "id": "80c9fbfe",
        "outputId": "ce76ad34-5b14-4adc-91c0-117911eade7b"
      },
      "outputs": [
        {
          "output_type": "stream",
          "name": "stdout",
          "text": [
            "1/1 [==============================] - 1s 1s/step - loss: 0.2515 - binary_accuracy: 0.4848\n"
          ]
        },
        {
          "output_type": "execute_result",
          "data": {
            "text/plain": [
              "[0.25147557258605957, 0.4847829043865204]"
            ]
          },
          "metadata": {},
          "execution_count": 18
        }
      ],
      "source": [
        "model.evaluate(X_train, y_train)"
      ],
      "id": "80c9fbfe"
    },
    {
      "cell_type": "code",
      "source": [
        "model.summary()"
      ],
      "metadata": {
        "colab": {
          "base_uri": "https://localhost:8080/"
        },
        "id": "9nxL7bwdobs8",
        "outputId": "0c358a56-f4ed-44d1-d2eb-5014ea78f55e"
      },
      "id": "9nxL7bwdobs8",
      "execution_count": null,
      "outputs": [
        {
          "output_type": "stream",
          "name": "stdout",
          "text": [
            "Model: \"sequential\"\n",
            "_________________________________________________________________\n",
            " Layer (type)                Output Shape              Param #   \n",
            "=================================================================\n",
            " dense (Dense)               (None, 8)                 16        \n",
            "                                                                 \n",
            " dense_1 (Dense)             (None, 1)                 9         \n",
            "                                                                 \n",
            "=================================================================\n",
            "Total params: 25\n",
            "Trainable params: 25\n",
            "Non-trainable params: 0\n",
            "_________________________________________________________________\n"
          ]
        }
      ]
    },
    {
      "cell_type": "markdown",
      "metadata": {
        "id": "c26131c0"
      },
      "source": [
        "### Step 5 - Performance Analysis:"
      ],
      "id": "c26131c0"
    },
    {
      "cell_type": "markdown",
      "metadata": {
        "id": "e8b6c762"
      },
      "source": [
        "#### a. Single layer neural network Performance Analysis"
      ],
      "id": "e8b6c762"
    },
    {
      "cell_type": "code",
      "execution_count": null,
      "metadata": {
        "id": "37c47a05"
      },
      "outputs": [],
      "source": [
        "def performance_analysis(datadir, categories, img_size, nodes):\n",
        "    \n",
        "    df_results = pd.DataFrame(data=np.zeros(shape=(0, 5)), \n",
        "                              columns = ['Img size','Nodes Number','Accuracy','Loss','Training time'])\n",
        " \n",
        "    training_data = []\n",
        "    \n",
        "    for category in categories:\n",
        "        path = os.path.join(datadir,category)\n",
        "        class_num = categories.index(category)\n",
        "        \n",
        "        for img in os.listdir(path):\n",
        "            img_array = cv2.imread(os.path.join(path,img),cv2.IMREAD_GRAYSCALE)\n",
        "            num_array=cv2.resize(img_array,(img_size,img_size))\n",
        "            training_data.append([num_array,class_num])\n",
        "\n",
        "    X=[]\n",
        "    y=[]\n",
        "    \n",
        "    for features,label in training_data:\n",
        "        X.append(features)\n",
        "        y.append(label)\n",
        "        \n",
        "    X=np.asarray(X).reshape(-1,img_size,img_size,1)\n",
        "    y=np.asarray(y)\n",
        "\n",
        "    X_train,X_test,y_train,y_test = train_test_split(X,y,test_size=.25,random_state=42)\n",
        "\n",
        "    count = 0\n",
        "    t_start = process_time() \n",
        "    \n",
        "    model = Sequential()\n",
        "    model.add(Dense(nodes, input_dim=1, activation='relu'))\n",
        "    model.add(Dense(1,activation='sigmoid'))\n",
        "    model.compile(loss='mean_squared_error', metrics=['binary_accuracy'])\n",
        "    model.fit(X_train,y_train,validation_data=(X_test,y_test),epochs=10)\n",
        "    \n",
        "    t_stop = process_time() \n",
        "    t_elapsed = t_stop - t_start\n",
        "    \n",
        "    score = model.evaluate(X_test,y_test)\n",
        "    \n",
        "    count+=1\n",
        "\n",
        "    df_results.loc[count,'Img size'] = img_size\n",
        "    df_results.loc[count,'Nodes Number'] = nodes\n",
        "    df_results.loc[count,'Accuracy'] = score[1]\n",
        "    df_results.loc[count,'Loss'] = score[0]\n",
        "    df_results.loc[count,'Training time'] = t_elapsed\n",
        "        \n",
        "    return df_results"
      ],
      "id": "37c47a05"
    },
    {
      "cell_type": "code",
      "execution_count": null,
      "metadata": {
        "id": "859fda5a"
      },
      "outputs": [],
      "source": [
        "def evaluation():\n",
        "    m1 = performance_analysis(\"images\", ['peacock', 'whitepeacock'], 500, 8)\n",
        "    m2 = performance_analysis(\"images\", ['peacock', 'whitepeacock'], 500, 16)\n",
        "    m3 = performance_analysis(\"images\", ['peacock', 'whitepeacock'],500, 32)\n",
        "    m4 = performance_analysis(\"images\", ['peacock', 'whitepeacock'],500, 64)\n",
        "    m5 = performance_analysis(\"images\", ['peacock', 'whitepeacock'], 100, 8)\n",
        "    m6 = performance_analysis(\"images\", ['peacock', 'whitepeacock'],100, 16)\n",
        "    m7 = performance_analysis(\"images\", ['peacock', 'whitepeacock'], 100, 32)\n",
        "    m8 = performance_analysis(\"images\", ['peacock', 'whitepeacock'],100, 64)\n",
        "    m9 = performance_analysis(\"images\", ['peacock', 'whitepeacock'], 50, 8)\n",
        "    m10 = performance_analysis(\"images\", ['peacock', 'whitepeacock'],50, 16)\n",
        "    m11 = performance_analysis(\"images\", ['peacock', 'whitepeacock'],50, 32)\n",
        "    m12 = performance_analysis(\"images\", ['peacock', 'whitepeacock'], 50, 64)\n",
        "    m13 = performance_analysis(\"images\", ['peacock', 'whitepeacock'],25, 8)\n",
        "    m14 = performance_analysis(\"images\", ['peacock', 'whitepeacock'],25, 16)\n",
        "    m15 = performance_analysis(\"images\", ['peacock', 'whitepeacock'],25, 32)\n",
        "    m16 = performance_analysis(\"images\", ['peacock', 'whitepeacock'],25, 64)\n",
        "    m17 = performance_analysis(\"images\", ['peacock', 'whitepeacock'], 10, 8)\n",
        "    m18 = performance_analysis(\"images\", ['peacock', 'whitepeacock'],10, 16)\n",
        "    m19 = performance_analysis(\"images\", ['peacock', 'whitepeacock'], 10, 32)\n",
        "    m20 = performance_analysis(\"images\", ['peacock', 'whitepeacock'],10, 64)\n",
        "    \n",
        "    df = pd.concat([m1,m2,m3,m4,m5,m6,m7,m8,m9,m10,m11,m12,m13,m14,m15,m16,m17,m18,m19,m20], axis=0)\n",
        "\n",
        "    for i in range(1):\n",
        "      return df \n",
        "    "
      ],
      "id": "859fda5a"
    },
    {
      "cell_type": "code",
      "execution_count": null,
      "metadata": {
        "colab": {
          "base_uri": "https://localhost:8080/",
          "height": 1000
        },
        "id": "FUf0D5tnj_PO",
        "outputId": "16c6687e-9178-42ab-c0de-cad0d1277a7b"
      },
      "outputs": [
        {
          "output_type": "stream",
          "name": "stdout",
          "text": [
            "Epoch 1/10\n",
            "WARNING:tensorflow:Model was constructed with shape (None, 1) for input KerasTensor(type_spec=TensorSpec(shape=(None, 1), dtype=tf.float32, name='dense_2_input'), name='dense_2_input', description=\"created by layer 'dense_2_input'\"), but it was called on an input with incompatible shape (None, 500, 500, 1).\n"
          ]
        },
        {
          "output_type": "stream",
          "name": "stderr",
          "text": [
            "WARNING:tensorflow:Model was constructed with shape (None, 1) for input KerasTensor(type_spec=TensorSpec(shape=(None, 1), dtype=tf.float32, name='dense_2_input'), name='dense_2_input', description=\"created by layer 'dense_2_input'\"), but it was called on an input with incompatible shape (None, 500, 500, 1).\n"
          ]
        },
        {
          "output_type": "stream",
          "name": "stdout",
          "text": [
            "WARNING:tensorflow:Model was constructed with shape (None, 1) for input KerasTensor(type_spec=TensorSpec(shape=(None, 1), dtype=tf.float32, name='dense_2_input'), name='dense_2_input', description=\"created by layer 'dense_2_input'\"), but it was called on an input with incompatible shape (None, 500, 500, 1).\n"
          ]
        },
        {
          "output_type": "stream",
          "name": "stderr",
          "text": [
            "WARNING:tensorflow:Model was constructed with shape (None, 1) for input KerasTensor(type_spec=TensorSpec(shape=(None, 1), dtype=tf.float32, name='dense_2_input'), name='dense_2_input', description=\"created by layer 'dense_2_input'\"), but it was called on an input with incompatible shape (None, 500, 500, 1).\n"
          ]
        },
        {
          "output_type": "stream",
          "name": "stdout",
          "text": [
            "\r1/1 [==============================] - ETA: 0s - loss: 0.5237 - binary_accuracy: 0.4667WARNING:tensorflow:Model was constructed with shape (None, 1) for input KerasTensor(type_spec=TensorSpec(shape=(None, 1), dtype=tf.float32, name='dense_2_input'), name='dense_2_input', description=\"created by layer 'dense_2_input'\"), but it was called on an input with incompatible shape (None, 500, 500, 1).\n"
          ]
        },
        {
          "output_type": "stream",
          "name": "stderr",
          "text": [
            "WARNING:tensorflow:Model was constructed with shape (None, 1) for input KerasTensor(type_spec=TensorSpec(shape=(None, 1), dtype=tf.float32, name='dense_2_input'), name='dense_2_input', description=\"created by layer 'dense_2_input'\"), but it was called on an input with incompatible shape (None, 500, 500, 1).\n"
          ]
        },
        {
          "output_type": "stream",
          "name": "stdout",
          "text": [
            "\b\b\b\b\b\b\b\b\b\b\b\b\b\b\b\b\b\b\b\b\b\b\b\b\b\b\b\b\b\b\b\b\b\b\b\b\b\b\b\b\b\b\b\b\b\b\b\b\b\b\b\b\b\b\b\b\b\b\b\b\b\b\b\b\b\b\b\b\b\b\b\b\b\b\b\b\b\b\b\b\b\b\b\b\b\b\b\r1/1 [==============================] - 2s 2s/step - loss: 0.5237 - binary_accuracy: 0.4667 - val_loss: 0.3981 - val_binary_accuracy: 0.5999\n",
            "Epoch 2/10\n",
            "1/1 [==============================] - 1s 1s/step - loss: 0.5236 - binary_accuracy: 0.4678 - val_loss: 0.3981 - val_binary_accuracy: 0.5999\n",
            "Epoch 3/10\n",
            "1/1 [==============================] - 2s 2s/step - loss: 0.5235 - binary_accuracy: 0.4678 - val_loss: 0.3980 - val_binary_accuracy: 0.5999\n",
            "Epoch 4/10\n",
            "1/1 [==============================] - 1s 1s/step - loss: 0.5235 - binary_accuracy: 0.4678 - val_loss: 0.3980 - val_binary_accuracy: 0.5999\n",
            "Epoch 5/10\n",
            "1/1 [==============================] - 1s 1s/step - loss: 0.5234 - binary_accuracy: 0.4678 - val_loss: 0.3980 - val_binary_accuracy: 0.5999\n",
            "Epoch 6/10\n",
            "1/1 [==============================] - 1s 1s/step - loss: 0.5233 - binary_accuracy: 0.4678 - val_loss: 0.3979 - val_binary_accuracy: 0.5999\n",
            "Epoch 7/10\n",
            "1/1 [==============================] - 2s 2s/step - loss: 0.5233 - binary_accuracy: 0.4678 - val_loss: 0.3979 - val_binary_accuracy: 0.5999\n",
            "Epoch 8/10\n",
            "1/1 [==============================] - 1s 1s/step - loss: 0.5232 - binary_accuracy: 0.4678 - val_loss: 0.3979 - val_binary_accuracy: 0.5999\n",
            "Epoch 9/10\n",
            "1/1 [==============================] - 2s 2s/step - loss: 0.5232 - binary_accuracy: 0.4678 - val_loss: 0.3978 - val_binary_accuracy: 0.5999\n",
            "Epoch 10/10\n",
            "1/1 [==============================] - 1s 1s/step - loss: 0.5231 - binary_accuracy: 0.4678 - val_loss: 0.3978 - val_binary_accuracy: 0.5999\n",
            "1/1 [==============================] - 0s 145ms/step - loss: 0.3978 - binary_accuracy: 0.5999\n",
            "Epoch 1/10\n",
            "WARNING:tensorflow:Model was constructed with shape (None, 1) for input KerasTensor(type_spec=TensorSpec(shape=(None, 1), dtype=tf.float32, name='dense_4_input'), name='dense_4_input', description=\"created by layer 'dense_4_input'\"), but it was called on an input with incompatible shape (None, 500, 500, 1).\n"
          ]
        },
        {
          "output_type": "stream",
          "name": "stderr",
          "text": [
            "WARNING:tensorflow:Model was constructed with shape (None, 1) for input KerasTensor(type_spec=TensorSpec(shape=(None, 1), dtype=tf.float32, name='dense_4_input'), name='dense_4_input', description=\"created by layer 'dense_4_input'\"), but it was called on an input with incompatible shape (None, 500, 500, 1).\n"
          ]
        },
        {
          "output_type": "stream",
          "name": "stdout",
          "text": [
            "WARNING:tensorflow:Model was constructed with shape (None, 1) for input KerasTensor(type_spec=TensorSpec(shape=(None, 1), dtype=tf.float32, name='dense_4_input'), name='dense_4_input', description=\"created by layer 'dense_4_input'\"), but it was called on an input with incompatible shape (None, 500, 500, 1).\n"
          ]
        },
        {
          "output_type": "stream",
          "name": "stderr",
          "text": [
            "WARNING:tensorflow:Model was constructed with shape (None, 1) for input KerasTensor(type_spec=TensorSpec(shape=(None, 1), dtype=tf.float32, name='dense_4_input'), name='dense_4_input', description=\"created by layer 'dense_4_input'\"), but it was called on an input with incompatible shape (None, 500, 500, 1).\n"
          ]
        },
        {
          "output_type": "stream",
          "name": "stdout",
          "text": [
            "\r1/1 [==============================] - ETA: 0s - loss: 0.5270 - binary_accuracy: 0.4667WARNING:tensorflow:Model was constructed with shape (None, 1) for input KerasTensor(type_spec=TensorSpec(shape=(None, 1), dtype=tf.float32, name='dense_4_input'), name='dense_4_input', description=\"created by layer 'dense_4_input'\"), but it was called on an input with incompatible shape (None, 500, 500, 1).\n"
          ]
        },
        {
          "output_type": "stream",
          "name": "stderr",
          "text": [
            "WARNING:tensorflow:Model was constructed with shape (None, 1) for input KerasTensor(type_spec=TensorSpec(shape=(None, 1), dtype=tf.float32, name='dense_4_input'), name='dense_4_input', description=\"created by layer 'dense_4_input'\"), but it was called on an input with incompatible shape (None, 500, 500, 1).\n"
          ]
        },
        {
          "output_type": "stream",
          "name": "stdout",
          "text": [
            "\b\b\b\b\b\b\b\b\b\b\b\b\b\b\b\b\b\b\b\b\b\b\b\b\b\b\b\b\b\b\b\b\b\b\b\b\b\b\b\b\b\b\b\b\b\b\b\b\b\b\b\b\b\b\b\b\b\b\b\b\b\b\b\b\b\b\b\b\b\b\b\b\b\b\b\b\b\b\b\b\b\b\b\b\b\b\b\r1/1 [==============================] - 2s 2s/step - loss: 0.5270 - binary_accuracy: 0.4667 - val_loss: 0.3996 - val_binary_accuracy: 0.5999\n",
            "Epoch 2/10\n",
            "1/1 [==============================] - 1s 1s/step - loss: 0.5269 - binary_accuracy: 0.4678 - val_loss: 0.3996 - val_binary_accuracy: 0.5999\n",
            "Epoch 3/10\n",
            "1/1 [==============================] - 1s 1s/step - loss: 0.5269 - binary_accuracy: 0.4678 - val_loss: 0.3996 - val_binary_accuracy: 0.5999\n",
            "Epoch 4/10\n",
            "1/1 [==============================] - 1s 1s/step - loss: 0.5269 - binary_accuracy: 0.4678 - val_loss: 0.3996 - val_binary_accuracy: 0.5999\n",
            "Epoch 5/10\n",
            "1/1 [==============================] - 1s 1s/step - loss: 0.5268 - binary_accuracy: 0.4678 - val_loss: 0.3995 - val_binary_accuracy: 0.5999\n",
            "Epoch 6/10\n",
            "1/1 [==============================] - 2s 2s/step - loss: 0.5268 - binary_accuracy: 0.4678 - val_loss: 0.3995 - val_binary_accuracy: 0.5999\n",
            "Epoch 7/10\n",
            "1/1 [==============================] - 2s 2s/step - loss: 0.5268 - binary_accuracy: 0.4678 - val_loss: 0.3995 - val_binary_accuracy: 0.5999\n",
            "Epoch 8/10\n",
            "1/1 [==============================] - 2s 2s/step - loss: 0.5268 - binary_accuracy: 0.4678 - val_loss: 0.3995 - val_binary_accuracy: 0.5999\n",
            "Epoch 9/10\n",
            "1/1 [==============================] - 1s 1s/step - loss: 0.5267 - binary_accuracy: 0.4678 - val_loss: 0.3995 - val_binary_accuracy: 0.5999\n",
            "Epoch 10/10\n",
            "1/1 [==============================] - 1s 1s/step - loss: 0.5267 - binary_accuracy: 0.4678 - val_loss: 0.3995 - val_binary_accuracy: 0.5999\n",
            "1/1 [==============================] - 0s 169ms/step - loss: 0.3995 - binary_accuracy: 0.5999\n",
            "Epoch 1/10\n",
            "WARNING:tensorflow:Model was constructed with shape (None, 1) for input KerasTensor(type_spec=TensorSpec(shape=(None, 1), dtype=tf.float32, name='dense_6_input'), name='dense_6_input', description=\"created by layer 'dense_6_input'\"), but it was called on an input with incompatible shape (None, 500, 500, 1).\n"
          ]
        },
        {
          "output_type": "stream",
          "name": "stderr",
          "text": [
            "WARNING:tensorflow:Model was constructed with shape (None, 1) for input KerasTensor(type_spec=TensorSpec(shape=(None, 1), dtype=tf.float32, name='dense_6_input'), name='dense_6_input', description=\"created by layer 'dense_6_input'\"), but it was called on an input with incompatible shape (None, 500, 500, 1).\n"
          ]
        },
        {
          "output_type": "stream",
          "name": "stdout",
          "text": [
            "WARNING:tensorflow:Model was constructed with shape (None, 1) for input KerasTensor(type_spec=TensorSpec(shape=(None, 1), dtype=tf.float32, name='dense_6_input'), name='dense_6_input', description=\"created by layer 'dense_6_input'\"), but it was called on an input with incompatible shape (None, 500, 500, 1).\n"
          ]
        },
        {
          "output_type": "stream",
          "name": "stderr",
          "text": [
            "WARNING:tensorflow:Model was constructed with shape (None, 1) for input KerasTensor(type_spec=TensorSpec(shape=(None, 1), dtype=tf.float32, name='dense_6_input'), name='dense_6_input', description=\"created by layer 'dense_6_input'\"), but it was called on an input with incompatible shape (None, 500, 500, 1).\n"
          ]
        },
        {
          "output_type": "stream",
          "name": "stdout",
          "text": [
            "\r1/1 [==============================] - ETA: 0s - loss: 0.4287 - binary_accuracy: 0.5322WARNING:tensorflow:Model was constructed with shape (None, 1) for input KerasTensor(type_spec=TensorSpec(shape=(None, 1), dtype=tf.float32, name='dense_6_input'), name='dense_6_input', description=\"created by layer 'dense_6_input'\"), but it was called on an input with incompatible shape (None, 500, 500, 1).\n"
          ]
        },
        {
          "output_type": "stream",
          "name": "stderr",
          "text": [
            "WARNING:tensorflow:Model was constructed with shape (None, 1) for input KerasTensor(type_spec=TensorSpec(shape=(None, 1), dtype=tf.float32, name='dense_6_input'), name='dense_6_input', description=\"created by layer 'dense_6_input'\"), but it was called on an input with incompatible shape (None, 500, 500, 1).\n"
          ]
        },
        {
          "output_type": "stream",
          "name": "stdout",
          "text": [
            "\b\b\b\b\b\b\b\b\b\b\b\b\b\b\b\b\b\b\b\b\b\b\b\b\b\b\b\b\b\b\b\b\b\b\b\b\b\b\b\b\b\b\b\b\b\b\b\b\b\b\b\b\b\b\b\b\b\b\b\b\b\b\b\b\b\b\b\b\b\b\b\b\b\b\b\b\b\b\b\b\b\b\b\b\b\b\b\r1/1 [==============================] - 3s 3s/step - loss: 0.4287 - binary_accuracy: 0.5322 - val_loss: 0.5319 - val_binary_accuracy: 0.4001\n",
            "Epoch 2/10\n",
            "1/1 [==============================] - 2s 2s/step - loss: 0.4042 - binary_accuracy: 0.5322 - val_loss: 0.4335 - val_binary_accuracy: 0.4004\n",
            "Epoch 3/10\n",
            "1/1 [==============================] - 2s 2s/step - loss: 0.3426 - binary_accuracy: 0.5319 - val_loss: 0.2422 - val_binary_accuracy: 0.6000\n",
            "Epoch 4/10\n",
            "1/1 [==============================] - 2s 2s/step - loss: 0.2694 - binary_accuracy: 0.4667 - val_loss: 0.4117 - val_binary_accuracy: 0.4004\n",
            "Epoch 5/10\n",
            "1/1 [==============================] - 2s 2s/step - loss: 0.3298 - binary_accuracy: 0.5319 - val_loss: 0.2701 - val_binary_accuracy: 0.4036\n",
            "Epoch 6/10\n",
            "1/1 [==============================] - 2s 2s/step - loss: 0.2524 - binary_accuracy: 0.5304 - val_loss: 0.2424 - val_binary_accuracy: 0.6000\n",
            "Epoch 7/10\n",
            "1/1 [==============================] - 2s 2s/step - loss: 0.2707 - binary_accuracy: 0.4667 - val_loss: 0.3567 - val_binary_accuracy: 0.4006\n",
            "Epoch 8/10\n",
            "1/1 [==============================] - 2s 2s/step - loss: 0.2975 - binary_accuracy: 0.5317 - val_loss: 0.2442 - val_binary_accuracy: 0.6000\n",
            "Epoch 9/10\n",
            "1/1 [==============================] - 2s 2s/step - loss: 0.2541 - binary_accuracy: 0.4667 - val_loss: 0.2983 - val_binary_accuracy: 0.4012\n",
            "Epoch 10/10\n",
            "1/1 [==============================] - 2s 2s/step - loss: 0.2648 - binary_accuracy: 0.5313 - val_loss: 0.2425 - val_binary_accuracy: 0.6000\n",
            "1/1 [==============================] - 0s 217ms/step - loss: 0.2425 - binary_accuracy: 0.6000\n",
            "Epoch 1/10\n",
            "WARNING:tensorflow:Model was constructed with shape (None, 1) for input KerasTensor(type_spec=TensorSpec(shape=(None, 1), dtype=tf.float32, name='dense_8_input'), name='dense_8_input', description=\"created by layer 'dense_8_input'\"), but it was called on an input with incompatible shape (None, 500, 500, 1).\n"
          ]
        },
        {
          "output_type": "stream",
          "name": "stderr",
          "text": [
            "WARNING:tensorflow:Model was constructed with shape (None, 1) for input KerasTensor(type_spec=TensorSpec(shape=(None, 1), dtype=tf.float32, name='dense_8_input'), name='dense_8_input', description=\"created by layer 'dense_8_input'\"), but it was called on an input with incompatible shape (None, 500, 500, 1).\n"
          ]
        },
        {
          "output_type": "stream",
          "name": "stdout",
          "text": [
            "WARNING:tensorflow:Model was constructed with shape (None, 1) for input KerasTensor(type_spec=TensorSpec(shape=(None, 1), dtype=tf.float32, name='dense_8_input'), name='dense_8_input', description=\"created by layer 'dense_8_input'\"), but it was called on an input with incompatible shape (None, 500, 500, 1).\n"
          ]
        },
        {
          "output_type": "stream",
          "name": "stderr",
          "text": [
            "WARNING:tensorflow:Model was constructed with shape (None, 1) for input KerasTensor(type_spec=TensorSpec(shape=(None, 1), dtype=tf.float32, name='dense_8_input'), name='dense_8_input', description=\"created by layer 'dense_8_input'\"), but it was called on an input with incompatible shape (None, 500, 500, 1).\n"
          ]
        },
        {
          "output_type": "stream",
          "name": "stdout",
          "text": [
            "\r1/1 [==============================] - ETA: 0s - loss: 0.4852 - binary_accuracy: 0.4667WARNING:tensorflow:Model was constructed with shape (None, 1) for input KerasTensor(type_spec=TensorSpec(shape=(None, 1), dtype=tf.float32, name='dense_8_input'), name='dense_8_input', description=\"created by layer 'dense_8_input'\"), but it was called on an input with incompatible shape (None, 500, 500, 1).\n"
          ]
        },
        {
          "output_type": "stream",
          "name": "stderr",
          "text": [
            "WARNING:tensorflow:Model was constructed with shape (None, 1) for input KerasTensor(type_spec=TensorSpec(shape=(None, 1), dtype=tf.float32, name='dense_8_input'), name='dense_8_input', description=\"created by layer 'dense_8_input'\"), but it was called on an input with incompatible shape (None, 500, 500, 1).\n"
          ]
        },
        {
          "output_type": "stream",
          "name": "stdout",
          "text": [
            "\b\b\b\b\b\b\b\b\b\b\b\b\b\b\b\b\b\b\b\b\b\b\b\b\b\b\b\b\b\b\b\b\b\b\b\b\b\b\b\b\b\b\b\b\b\b\b\b\b\b\b\b\b\b\b\b\b\b\b\b\b\b\b\b\b\b\b\b\b\b\b\b\b\b\b\b\b\b\b\b\b\b\b\b\b\b\b\r1/1 [==============================] - 4s 4s/step - loss: 0.4852 - binary_accuracy: 0.4667 - val_loss: 0.3553 - val_binary_accuracy: 0.5999\n",
            "Epoch 2/10\n",
            "1/1 [==============================] - 3s 3s/step - loss: 0.4518 - binary_accuracy: 0.4678 - val_loss: 0.2880 - val_binary_accuracy: 0.5996\n",
            "Epoch 3/10\n",
            "1/1 [==============================] - 3s 3s/step - loss: 0.3598 - binary_accuracy: 0.4681 - val_loss: 0.3240 - val_binary_accuracy: 0.4000\n",
            "Epoch 4/10\n",
            "1/1 [==============================] - 3s 3s/step - loss: 0.2779 - binary_accuracy: 0.5333 - val_loss: 0.2568 - val_binary_accuracy: 0.5992\n",
            "Epoch 5/10\n",
            "1/1 [==============================] - 3s 3s/step - loss: 0.3081 - binary_accuracy: 0.4685 - val_loss: 0.3254 - val_binary_accuracy: 0.4000\n",
            "Epoch 6/10\n",
            "1/1 [==============================] - 3s 3s/step - loss: 0.2787 - binary_accuracy: 0.5333 - val_loss: 0.2425 - val_binary_accuracy: 0.5970\n",
            "Epoch 7/10\n",
            "1/1 [==============================] - 3s 3s/step - loss: 0.2656 - binary_accuracy: 0.4695 - val_loss: 0.3170 - val_binary_accuracy: 0.4000\n",
            "Epoch 8/10\n",
            "1/1 [==============================] - 3s 3s/step - loss: 0.2740 - binary_accuracy: 0.5333 - val_loss: 0.2426 - val_binary_accuracy: 0.5957\n",
            "Epoch 9/10\n",
            "1/1 [==============================] - 3s 3s/step - loss: 0.2607 - binary_accuracy: 0.4698 - val_loss: 0.3023 - val_binary_accuracy: 0.4000\n",
            "Epoch 10/10\n",
            "1/1 [==============================] - 3s 3s/step - loss: 0.2660 - binary_accuracy: 0.5333 - val_loss: 0.2427 - val_binary_accuracy: 0.5950\n",
            "1/1 [==============================] - 0s 339ms/step - loss: 0.2427 - binary_accuracy: 0.5950\n",
            "Epoch 1/10\n",
            "WARNING:tensorflow:Model was constructed with shape (None, 1) for input KerasTensor(type_spec=TensorSpec(shape=(None, 1), dtype=tf.float32, name='dense_10_input'), name='dense_10_input', description=\"created by layer 'dense_10_input'\"), but it was called on an input with incompatible shape (None, 100, 100, 1).\n"
          ]
        },
        {
          "output_type": "stream",
          "name": "stderr",
          "text": [
            "WARNING:tensorflow:Model was constructed with shape (None, 1) for input KerasTensor(type_spec=TensorSpec(shape=(None, 1), dtype=tf.float32, name='dense_10_input'), name='dense_10_input', description=\"created by layer 'dense_10_input'\"), but it was called on an input with incompatible shape (None, 100, 100, 1).\n"
          ]
        },
        {
          "output_type": "stream",
          "name": "stdout",
          "text": [
            "WARNING:tensorflow:Model was constructed with shape (None, 1) for input KerasTensor(type_spec=TensorSpec(shape=(None, 1), dtype=tf.float32, name='dense_10_input'), name='dense_10_input', description=\"created by layer 'dense_10_input'\"), but it was called on an input with incompatible shape (None, 100, 100, 1).\n"
          ]
        },
        {
          "output_type": "stream",
          "name": "stderr",
          "text": [
            "WARNING:tensorflow:Model was constructed with shape (None, 1) for input KerasTensor(type_spec=TensorSpec(shape=(None, 1), dtype=tf.float32, name='dense_10_input'), name='dense_10_input', description=\"created by layer 'dense_10_input'\"), but it was called on an input with incompatible shape (None, 100, 100, 1).\n"
          ]
        },
        {
          "output_type": "stream",
          "name": "stdout",
          "text": [
            "\r1/1 [==============================] - ETA: 0s - loss: 0.4605 - binary_accuracy: 0.5322WARNING:tensorflow:Model was constructed with shape (None, 1) for input KerasTensor(type_spec=TensorSpec(shape=(None, 1), dtype=tf.float32, name='dense_10_input'), name='dense_10_input', description=\"created by layer 'dense_10_input'\"), but it was called on an input with incompatible shape (None, 100, 100, 1).\n"
          ]
        },
        {
          "output_type": "stream",
          "name": "stderr",
          "text": [
            "WARNING:tensorflow:Model was constructed with shape (None, 1) for input KerasTensor(type_spec=TensorSpec(shape=(None, 1), dtype=tf.float32, name='dense_10_input'), name='dense_10_input', description=\"created by layer 'dense_10_input'\"), but it was called on an input with incompatible shape (None, 100, 100, 1).\n"
          ]
        },
        {
          "output_type": "stream",
          "name": "stdout",
          "text": [
            "\b\b\b\b\b\b\b\b\b\b\b\b\b\b\b\b\b\b\b\b\b\b\b\b\b\b\b\b\b\b\b\b\b\b\b\b\b\b\b\b\b\b\b\b\b\b\b\b\b\b\b\b\b\b\b\b\b\b\b\b\b\b\b\b\b\b\b\b\b\b\b\b\b\b\b\b\b\b\b\b\b\b\b\b\b\b\b\r1/1 [==============================] - 1s 777ms/step - loss: 0.4605 - binary_accuracy: 0.5322 - val_loss: 0.5984 - val_binary_accuracy: 0.4001\n",
            "Epoch 2/10\n",
            "1/1 [==============================] - 0s 71ms/step - loss: 0.4605 - binary_accuracy: 0.5322 - val_loss: 0.5984 - val_binary_accuracy: 0.4001\n",
            "Epoch 3/10\n",
            "1/1 [==============================] - 0s 72ms/step - loss: 0.4605 - binary_accuracy: 0.5322 - val_loss: 0.5984 - val_binary_accuracy: 0.4001\n",
            "Epoch 4/10\n",
            "1/1 [==============================] - 0s 71ms/step - loss: 0.4604 - binary_accuracy: 0.5322 - val_loss: 0.5983 - val_binary_accuracy: 0.4001\n",
            "Epoch 5/10\n",
            "1/1 [==============================] - 0s 85ms/step - loss: 0.4604 - binary_accuracy: 0.5322 - val_loss: 0.5983 - val_binary_accuracy: 0.4001\n",
            "Epoch 6/10\n",
            "1/1 [==============================] - 0s 72ms/step - loss: 0.4604 - binary_accuracy: 0.5322 - val_loss: 0.5983 - val_binary_accuracy: 0.4001\n",
            "Epoch 7/10\n",
            "1/1 [==============================] - 0s 72ms/step - loss: 0.4603 - binary_accuracy: 0.5322 - val_loss: 0.5983 - val_binary_accuracy: 0.4001\n",
            "Epoch 8/10\n",
            "1/1 [==============================] - 0s 76ms/step - loss: 0.4603 - binary_accuracy: 0.5322 - val_loss: 0.5982 - val_binary_accuracy: 0.4001\n",
            "Epoch 9/10\n",
            "1/1 [==============================] - 0s 77ms/step - loss: 0.4603 - binary_accuracy: 0.5322 - val_loss: 0.5982 - val_binary_accuracy: 0.4001\n",
            "Epoch 10/10\n",
            "1/1 [==============================] - 0s 74ms/step - loss: 0.4603 - binary_accuracy: 0.5322 - val_loss: 0.5982 - val_binary_accuracy: 0.4001\n",
            "1/1 [==============================] - 0s 23ms/step - loss: 0.5982 - binary_accuracy: 0.4001\n",
            "Epoch 1/10\n",
            "WARNING:tensorflow:Model was constructed with shape (None, 1) for input KerasTensor(type_spec=TensorSpec(shape=(None, 1), dtype=tf.float32, name='dense_12_input'), name='dense_12_input', description=\"created by layer 'dense_12_input'\"), but it was called on an input with incompatible shape (None, 100, 100, 1).\n"
          ]
        },
        {
          "output_type": "stream",
          "name": "stderr",
          "text": [
            "WARNING:tensorflow:Model was constructed with shape (None, 1) for input KerasTensor(type_spec=TensorSpec(shape=(None, 1), dtype=tf.float32, name='dense_12_input'), name='dense_12_input', description=\"created by layer 'dense_12_input'\"), but it was called on an input with incompatible shape (None, 100, 100, 1).\n"
          ]
        },
        {
          "output_type": "stream",
          "name": "stdout",
          "text": [
            "WARNING:tensorflow:Model was constructed with shape (None, 1) for input KerasTensor(type_spec=TensorSpec(shape=(None, 1), dtype=tf.float32, name='dense_12_input'), name='dense_12_input', description=\"created by layer 'dense_12_input'\"), but it was called on an input with incompatible shape (None, 100, 100, 1).\n"
          ]
        },
        {
          "output_type": "stream",
          "name": "stderr",
          "text": [
            "WARNING:tensorflow:Model was constructed with shape (None, 1) for input KerasTensor(type_spec=TensorSpec(shape=(None, 1), dtype=tf.float32, name='dense_12_input'), name='dense_12_input', description=\"created by layer 'dense_12_input'\"), but it was called on an input with incompatible shape (None, 100, 100, 1).\n"
          ]
        },
        {
          "output_type": "stream",
          "name": "stdout",
          "text": [
            "\r1/1 [==============================] - ETA: 0s - loss: 0.5218 - binary_accuracy: 0.4667WARNING:tensorflow:Model was constructed with shape (None, 1) for input KerasTensor(type_spec=TensorSpec(shape=(None, 1), dtype=tf.float32, name='dense_12_input'), name='dense_12_input', description=\"created by layer 'dense_12_input'\"), but it was called on an input with incompatible shape (None, 100, 100, 1).\n"
          ]
        },
        {
          "output_type": "stream",
          "name": "stderr",
          "text": [
            "WARNING:tensorflow:Model was constructed with shape (None, 1) for input KerasTensor(type_spec=TensorSpec(shape=(None, 1), dtype=tf.float32, name='dense_12_input'), name='dense_12_input', description=\"created by layer 'dense_12_input'\"), but it was called on an input with incompatible shape (None, 100, 100, 1).\n"
          ]
        },
        {
          "output_type": "stream",
          "name": "stdout",
          "text": [
            "\b\b\b\b\b\b\b\b\b\b\b\b\b\b\b\b\b\b\b\b\b\b\b\b\b\b\b\b\b\b\b\b\b\b\b\b\b\b\b\b\b\b\b\b\b\b\b\b\b\b\b\b\b\b\b\b\b\b\b\b\b\b\b\b\b\b\b\b\b\b\b\b\b\b\b\b\b\b\b\b\b\b\b\b\b\b\b\r1/1 [==============================] - 1s 806ms/step - loss: 0.5218 - binary_accuracy: 0.4667 - val_loss: 0.3967 - val_binary_accuracy: 0.5999\n",
            "Epoch 2/10\n",
            "1/1 [==============================] - 0s 84ms/step - loss: 0.5212 - binary_accuracy: 0.4678 - val_loss: 0.3963 - val_binary_accuracy: 0.5999\n",
            "Epoch 3/10\n",
            "1/1 [==============================] - 0s 81ms/step - loss: 0.5206 - binary_accuracy: 0.4678 - val_loss: 0.3960 - val_binary_accuracy: 0.5999\n",
            "Epoch 4/10\n",
            "1/1 [==============================] - 0s 87ms/step - loss: 0.5200 - binary_accuracy: 0.4678 - val_loss: 0.3957 - val_binary_accuracy: 0.5999\n",
            "Epoch 5/10\n",
            "1/1 [==============================] - 0s 81ms/step - loss: 0.5193 - binary_accuracy: 0.4678 - val_loss: 0.3953 - val_binary_accuracy: 0.5999\n",
            "Epoch 6/10\n",
            "1/1 [==============================] - 0s 82ms/step - loss: 0.5187 - binary_accuracy: 0.4678 - val_loss: 0.3949 - val_binary_accuracy: 0.5999\n",
            "Epoch 7/10\n",
            "1/1 [==============================] - 0s 81ms/step - loss: 0.5179 - binary_accuracy: 0.4678 - val_loss: 0.3944 - val_binary_accuracy: 0.5999\n",
            "Epoch 8/10\n",
            "1/1 [==============================] - 0s 84ms/step - loss: 0.5170 - binary_accuracy: 0.4678 - val_loss: 0.3939 - val_binary_accuracy: 0.5999\n",
            "Epoch 9/10\n",
            "1/1 [==============================] - 0s 83ms/step - loss: 0.5161 - binary_accuracy: 0.4678 - val_loss: 0.3934 - val_binary_accuracy: 0.5999\n",
            "Epoch 10/10\n",
            "1/1 [==============================] - 0s 85ms/step - loss: 0.5150 - binary_accuracy: 0.4678 - val_loss: 0.3927 - val_binary_accuracy: 0.5999\n",
            "1/1 [==============================] - 0s 25ms/step - loss: 0.3927 - binary_accuracy: 0.5999\n",
            "Epoch 1/10\n",
            "WARNING:tensorflow:Model was constructed with shape (None, 1) for input KerasTensor(type_spec=TensorSpec(shape=(None, 1), dtype=tf.float32, name='dense_14_input'), name='dense_14_input', description=\"created by layer 'dense_14_input'\"), but it was called on an input with incompatible shape (None, 100, 100, 1).\n"
          ]
        },
        {
          "output_type": "stream",
          "name": "stderr",
          "text": [
            "WARNING:tensorflow:Model was constructed with shape (None, 1) for input KerasTensor(type_spec=TensorSpec(shape=(None, 1), dtype=tf.float32, name='dense_14_input'), name='dense_14_input', description=\"created by layer 'dense_14_input'\"), but it was called on an input with incompatible shape (None, 100, 100, 1).\n"
          ]
        },
        {
          "output_type": "stream",
          "name": "stdout",
          "text": [
            "WARNING:tensorflow:Model was constructed with shape (None, 1) for input KerasTensor(type_spec=TensorSpec(shape=(None, 1), dtype=tf.float32, name='dense_14_input'), name='dense_14_input', description=\"created by layer 'dense_14_input'\"), but it was called on an input with incompatible shape (None, 100, 100, 1).\n"
          ]
        },
        {
          "output_type": "stream",
          "name": "stderr",
          "text": [
            "WARNING:tensorflow:Model was constructed with shape (None, 1) for input KerasTensor(type_spec=TensorSpec(shape=(None, 1), dtype=tf.float32, name='dense_14_input'), name='dense_14_input', description=\"created by layer 'dense_14_input'\"), but it was called on an input with incompatible shape (None, 100, 100, 1).\n"
          ]
        },
        {
          "output_type": "stream",
          "name": "stdout",
          "text": [
            "\r1/1 [==============================] - ETA: 0s - loss: 0.4586 - binary_accuracy: 0.5322WARNING:tensorflow:Model was constructed with shape (None, 1) for input KerasTensor(type_spec=TensorSpec(shape=(None, 1), dtype=tf.float32, name='dense_14_input'), name='dense_14_input', description=\"created by layer 'dense_14_input'\"), but it was called on an input with incompatible shape (None, 100, 100, 1).\n"
          ]
        },
        {
          "output_type": "stream",
          "name": "stderr",
          "text": [
            "WARNING:tensorflow:Model was constructed with shape (None, 1) for input KerasTensor(type_spec=TensorSpec(shape=(None, 1), dtype=tf.float32, name='dense_14_input'), name='dense_14_input', description=\"created by layer 'dense_14_input'\"), but it was called on an input with incompatible shape (None, 100, 100, 1).\n"
          ]
        },
        {
          "output_type": "stream",
          "name": "stdout",
          "text": [
            "\b\b\b\b\b\b\b\b\b\b\b\b\b\b\b\b\b\b\b\b\b\b\b\b\b\b\b\b\b\b\b\b\b\b\b\b\b\b\b\b\b\b\b\b\b\b\b\b\b\b\b\b\b\b\b\b\b\b\b\b\b\b\b\b\b\b\b\b\b\b\b\b\b\b\b\b\b\b\b\b\b\b\b\b\b\b\b\r1/1 [==============================] - 1s 799ms/step - loss: 0.4586 - binary_accuracy: 0.5322 - val_loss: 0.5958 - val_binary_accuracy: 0.4001\n",
            "Epoch 2/10\n",
            "1/1 [==============================] - 0s 97ms/step - loss: 0.4581 - binary_accuracy: 0.5322 - val_loss: 0.5952 - val_binary_accuracy: 0.4001\n",
            "Epoch 3/10\n",
            "1/1 [==============================] - 0s 100ms/step - loss: 0.4576 - binary_accuracy: 0.5322 - val_loss: 0.5946 - val_binary_accuracy: 0.4001\n",
            "Epoch 4/10\n",
            "1/1 [==============================] - 0s 109ms/step - loss: 0.4570 - binary_accuracy: 0.5322 - val_loss: 0.5939 - val_binary_accuracy: 0.4001\n",
            "Epoch 5/10\n",
            "1/1 [==============================] - 0s 97ms/step - loss: 0.4564 - binary_accuracy: 0.5322 - val_loss: 0.5930 - val_binary_accuracy: 0.4001\n",
            "Epoch 6/10\n",
            "1/1 [==============================] - 0s 107ms/step - loss: 0.4556 - binary_accuracy: 0.5322 - val_loss: 0.5919 - val_binary_accuracy: 0.4001\n",
            "Epoch 7/10\n",
            "1/1 [==============================] - 0s 100ms/step - loss: 0.4547 - binary_accuracy: 0.5322 - val_loss: 0.5906 - val_binary_accuracy: 0.4001\n",
            "Epoch 8/10\n",
            "1/1 [==============================] - 0s 95ms/step - loss: 0.4535 - binary_accuracy: 0.5322 - val_loss: 0.5890 - val_binary_accuracy: 0.4001\n",
            "Epoch 9/10\n",
            "1/1 [==============================] - 0s 93ms/step - loss: 0.4519 - binary_accuracy: 0.5322 - val_loss: 0.5868 - val_binary_accuracy: 0.4001\n",
            "Epoch 10/10\n",
            "1/1 [==============================] - 0s 96ms/step - loss: 0.4498 - binary_accuracy: 0.5322 - val_loss: 0.5839 - val_binary_accuracy: 0.4001\n",
            "1/1 [==============================] - 0s 27ms/step - loss: 0.5839 - binary_accuracy: 0.4001\n",
            "Epoch 1/10\n",
            "WARNING:tensorflow:Model was constructed with shape (None, 1) for input KerasTensor(type_spec=TensorSpec(shape=(None, 1), dtype=tf.float32, name='dense_16_input'), name='dense_16_input', description=\"created by layer 'dense_16_input'\"), but it was called on an input with incompatible shape (None, 100, 100, 1).\n"
          ]
        },
        {
          "output_type": "stream",
          "name": "stderr",
          "text": [
            "WARNING:tensorflow:Model was constructed with shape (None, 1) for input KerasTensor(type_spec=TensorSpec(shape=(None, 1), dtype=tf.float32, name='dense_16_input'), name='dense_16_input', description=\"created by layer 'dense_16_input'\"), but it was called on an input with incompatible shape (None, 100, 100, 1).\n"
          ]
        },
        {
          "output_type": "stream",
          "name": "stdout",
          "text": [
            "WARNING:tensorflow:Model was constructed with shape (None, 1) for input KerasTensor(type_spec=TensorSpec(shape=(None, 1), dtype=tf.float32, name='dense_16_input'), name='dense_16_input', description=\"created by layer 'dense_16_input'\"), but it was called on an input with incompatible shape (None, 100, 100, 1).\n"
          ]
        },
        {
          "output_type": "stream",
          "name": "stderr",
          "text": [
            "WARNING:tensorflow:Model was constructed with shape (None, 1) for input KerasTensor(type_spec=TensorSpec(shape=(None, 1), dtype=tf.float32, name='dense_16_input'), name='dense_16_input', description=\"created by layer 'dense_16_input'\"), but it was called on an input with incompatible shape (None, 100, 100, 1).\n"
          ]
        },
        {
          "output_type": "stream",
          "name": "stdout",
          "text": [
            "\r1/1 [==============================] - ETA: 0s - loss: 0.5145 - binary_accuracy: 0.4667WARNING:tensorflow:Model was constructed with shape (None, 1) for input KerasTensor(type_spec=TensorSpec(shape=(None, 1), dtype=tf.float32, name='dense_16_input'), name='dense_16_input', description=\"created by layer 'dense_16_input'\"), but it was called on an input with incompatible shape (None, 100, 100, 1).\n"
          ]
        },
        {
          "output_type": "stream",
          "name": "stderr",
          "text": [
            "WARNING:tensorflow:Model was constructed with shape (None, 1) for input KerasTensor(type_spec=TensorSpec(shape=(None, 1), dtype=tf.float32, name='dense_16_input'), name='dense_16_input', description=\"created by layer 'dense_16_input'\"), but it was called on an input with incompatible shape (None, 100, 100, 1).\n"
          ]
        },
        {
          "output_type": "stream",
          "name": "stdout",
          "text": [
            "\b\b\b\b\b\b\b\b\b\b\b\b\b\b\b\b\b\b\b\b\b\b\b\b\b\b\b\b\b\b\b\b\b\b\b\b\b\b\b\b\b\b\b\b\b\b\b\b\b\b\b\b\b\b\b\b\b\b\b\b\b\b\b\b\b\b\b\b\b\b\b\b\b\b\b\b\b\b\b\b\b\b\b\b\b\b\b\r1/1 [==============================] - 1s 853ms/step - loss: 0.5145 - binary_accuracy: 0.4667 - val_loss: 0.3895 - val_binary_accuracy: 0.5999\n",
            "Epoch 2/10\n",
            "1/1 [==============================] - 0s 131ms/step - loss: 0.5073 - binary_accuracy: 0.4678 - val_loss: 0.3824 - val_binary_accuracy: 0.5999\n",
            "Epoch 3/10\n",
            "1/1 [==============================] - 0s 133ms/step - loss: 0.4938 - binary_accuracy: 0.4678 - val_loss: 0.3596 - val_binary_accuracy: 0.5997\n",
            "Epoch 4/10\n",
            "1/1 [==============================] - 0s 139ms/step - loss: 0.4576 - binary_accuracy: 0.4681 - val_loss: 0.2466 - val_binary_accuracy: 0.5952\n",
            "Epoch 5/10\n",
            "1/1 [==============================] - 0s 135ms/step - loss: 0.2832 - binary_accuracy: 0.4700 - val_loss: 0.5032 - val_binary_accuracy: 0.4000\n",
            "Epoch 6/10\n",
            "1/1 [==============================] - 0s 128ms/step - loss: 0.3853 - binary_accuracy: 0.5333 - val_loss: 0.4421 - val_binary_accuracy: 0.4000\n",
            "Epoch 7/10\n",
            "1/1 [==============================] - 0s 131ms/step - loss: 0.3477 - binary_accuracy: 0.5333 - val_loss: 0.2576 - val_binary_accuracy: 0.4000\n",
            "Epoch 8/10\n",
            "1/1 [==============================] - 0s 133ms/step - loss: 0.2490 - binary_accuracy: 0.5333 - val_loss: 0.2516 - val_binary_accuracy: 0.4186\n",
            "Epoch 9/10\n",
            "1/1 [==============================] - 0s 133ms/step - loss: 0.2496 - binary_accuracy: 0.5230 - val_loss: 0.3068 - val_binary_accuracy: 0.4000\n",
            "Epoch 10/10\n",
            "1/1 [==============================] - 0s 132ms/step - loss: 0.2681 - binary_accuracy: 0.5333 - val_loss: 0.2930 - val_binary_accuracy: 0.5991\n",
            "1/1 [==============================] - 0s 49ms/step - loss: 0.2930 - binary_accuracy: 0.5991\n",
            "Epoch 1/10\n",
            "WARNING:tensorflow:Model was constructed with shape (None, 1) for input KerasTensor(type_spec=TensorSpec(shape=(None, 1), dtype=tf.float32, name='dense_18_input'), name='dense_18_input', description=\"created by layer 'dense_18_input'\"), but it was called on an input with incompatible shape (None, 50, 50, 1).\n"
          ]
        },
        {
          "output_type": "stream",
          "name": "stderr",
          "text": [
            "WARNING:tensorflow:Model was constructed with shape (None, 1) for input KerasTensor(type_spec=TensorSpec(shape=(None, 1), dtype=tf.float32, name='dense_18_input'), name='dense_18_input', description=\"created by layer 'dense_18_input'\"), but it was called on an input with incompatible shape (None, 50, 50, 1).\n"
          ]
        },
        {
          "output_type": "stream",
          "name": "stdout",
          "text": [
            "WARNING:tensorflow:Model was constructed with shape (None, 1) for input KerasTensor(type_spec=TensorSpec(shape=(None, 1), dtype=tf.float32, name='dense_18_input'), name='dense_18_input', description=\"created by layer 'dense_18_input'\"), but it was called on an input with incompatible shape (None, 50, 50, 1).\n"
          ]
        },
        {
          "output_type": "stream",
          "name": "stderr",
          "text": [
            "WARNING:tensorflow:Model was constructed with shape (None, 1) for input KerasTensor(type_spec=TensorSpec(shape=(None, 1), dtype=tf.float32, name='dense_18_input'), name='dense_18_input', description=\"created by layer 'dense_18_input'\"), but it was called on an input with incompatible shape (None, 50, 50, 1).\n"
          ]
        },
        {
          "output_type": "stream",
          "name": "stdout",
          "text": [
            "\r1/1 [==============================] - ETA: 0s - loss: 0.4609 - binary_accuracy: 0.5322WARNING:tensorflow:Model was constructed with shape (None, 1) for input KerasTensor(type_spec=TensorSpec(shape=(None, 1), dtype=tf.float32, name='dense_18_input'), name='dense_18_input', description=\"created by layer 'dense_18_input'\"), but it was called on an input with incompatible shape (None, 50, 50, 1).\n"
          ]
        },
        {
          "output_type": "stream",
          "name": "stderr",
          "text": [
            "WARNING:tensorflow:Model was constructed with shape (None, 1) for input KerasTensor(type_spec=TensorSpec(shape=(None, 1), dtype=tf.float32, name='dense_18_input'), name='dense_18_input', description=\"created by layer 'dense_18_input'\"), but it was called on an input with incompatible shape (None, 50, 50, 1).\n"
          ]
        },
        {
          "output_type": "stream",
          "name": "stdout",
          "text": [
            "\b\b\b\b\b\b\b\b\b\b\b\b\b\b\b\b\b\b\b\b\b\b\b\b\b\b\b\b\b\b\b\b\b\b\b\b\b\b\b\b\b\b\b\b\b\b\b\b\b\b\b\b\b\b\b\b\b\b\b\b\b\b\b\b\b\b\b\b\b\b\b\b\b\b\b\b\b\b\b\b\b\b\b\b\b\b\b\r1/1 [==============================] - 1s 1s/step - loss: 0.4609 - binary_accuracy: 0.5322 - val_loss: 0.5990 - val_binary_accuracy: 0.4001\n",
            "Epoch 2/10\n",
            "1/1 [==============================] - 0s 45ms/step - loss: 0.4609 - binary_accuracy: 0.5322 - val_loss: 0.5990 - val_binary_accuracy: 0.4001\n",
            "Epoch 3/10\n",
            "1/1 [==============================] - 0s 40ms/step - loss: 0.4609 - binary_accuracy: 0.5322 - val_loss: 0.5989 - val_binary_accuracy: 0.4001\n",
            "Epoch 4/10\n",
            "1/1 [==============================] - 0s 51ms/step - loss: 0.4608 - binary_accuracy: 0.5322 - val_loss: 0.5989 - val_binary_accuracy: 0.4001\n",
            "Epoch 5/10\n",
            "1/1 [==============================] - 0s 41ms/step - loss: 0.4608 - binary_accuracy: 0.5322 - val_loss: 0.5989 - val_binary_accuracy: 0.4001\n",
            "Epoch 6/10\n",
            "1/1 [==============================] - 0s 43ms/step - loss: 0.4608 - binary_accuracy: 0.5322 - val_loss: 0.5989 - val_binary_accuracy: 0.4001\n",
            "Epoch 7/10\n",
            "1/1 [==============================] - 0s 44ms/step - loss: 0.4608 - binary_accuracy: 0.5322 - val_loss: 0.5989 - val_binary_accuracy: 0.4001\n",
            "Epoch 8/10\n",
            "1/1 [==============================] - 0s 46ms/step - loss: 0.4607 - binary_accuracy: 0.5322 - val_loss: 0.5989 - val_binary_accuracy: 0.4001\n",
            "Epoch 9/10\n",
            "1/1 [==============================] - 0s 42ms/step - loss: 0.4607 - binary_accuracy: 0.5322 - val_loss: 0.5988 - val_binary_accuracy: 0.4001\n",
            "Epoch 10/10\n",
            "1/1 [==============================] - 0s 45ms/step - loss: 0.4607 - binary_accuracy: 0.5322 - val_loss: 0.5988 - val_binary_accuracy: 0.4001\n",
            "1/1 [==============================] - 0s 19ms/step - loss: 0.5988 - binary_accuracy: 0.4001\n",
            "Epoch 1/10\n",
            "WARNING:tensorflow:Model was constructed with shape (None, 1) for input KerasTensor(type_spec=TensorSpec(shape=(None, 1), dtype=tf.float32, name='dense_20_input'), name='dense_20_input', description=\"created by layer 'dense_20_input'\"), but it was called on an input with incompatible shape (None, 50, 50, 1).\n"
          ]
        },
        {
          "output_type": "stream",
          "name": "stderr",
          "text": [
            "WARNING:tensorflow:Model was constructed with shape (None, 1) for input KerasTensor(type_spec=TensorSpec(shape=(None, 1), dtype=tf.float32, name='dense_20_input'), name='dense_20_input', description=\"created by layer 'dense_20_input'\"), but it was called on an input with incompatible shape (None, 50, 50, 1).\n"
          ]
        },
        {
          "output_type": "stream",
          "name": "stdout",
          "text": [
            "WARNING:tensorflow:Model was constructed with shape (None, 1) for input KerasTensor(type_spec=TensorSpec(shape=(None, 1), dtype=tf.float32, name='dense_20_input'), name='dense_20_input', description=\"created by layer 'dense_20_input'\"), but it was called on an input with incompatible shape (None, 50, 50, 1).\n"
          ]
        },
        {
          "output_type": "stream",
          "name": "stderr",
          "text": [
            "WARNING:tensorflow:Model was constructed with shape (None, 1) for input KerasTensor(type_spec=TensorSpec(shape=(None, 1), dtype=tf.float32, name='dense_20_input'), name='dense_20_input', description=\"created by layer 'dense_20_input'\"), but it was called on an input with incompatible shape (None, 50, 50, 1).\n"
          ]
        },
        {
          "output_type": "stream",
          "name": "stdout",
          "text": [
            "\r1/1 [==============================] - ETA: 0s - loss: 0.5252 - binary_accuracy: 0.4667WARNING:tensorflow:Model was constructed with shape (None, 1) for input KerasTensor(type_spec=TensorSpec(shape=(None, 1), dtype=tf.float32, name='dense_20_input'), name='dense_20_input', description=\"created by layer 'dense_20_input'\"), but it was called on an input with incompatible shape (None, 50, 50, 1).\n"
          ]
        },
        {
          "output_type": "stream",
          "name": "stderr",
          "text": [
            "WARNING:tensorflow:Model was constructed with shape (None, 1) for input KerasTensor(type_spec=TensorSpec(shape=(None, 1), dtype=tf.float32, name='dense_20_input'), name='dense_20_input', description=\"created by layer 'dense_20_input'\"), but it was called on an input with incompatible shape (None, 50, 50, 1).\n"
          ]
        },
        {
          "output_type": "stream",
          "name": "stdout",
          "text": [
            "\b\b\b\b\b\b\b\b\b\b\b\b\b\b\b\b\b\b\b\b\b\b\b\b\b\b\b\b\b\b\b\b\b\b\b\b\b\b\b\b\b\b\b\b\b\b\b\b\b\b\b\b\b\b\b\b\b\b\b\b\b\b\b\b\b\b\b\b\b\b\b\b\b\b\b\b\b\b\b\b\b\b\b\b\b\b\b\r1/1 [==============================] - 1s 758ms/step - loss: 0.5252 - binary_accuracy: 0.4667 - val_loss: 0.3990 - val_binary_accuracy: 0.5999\n",
            "Epoch 2/10\n",
            "1/1 [==============================] - 0s 45ms/step - loss: 0.5251 - binary_accuracy: 0.4678 - val_loss: 0.3990 - val_binary_accuracy: 0.5999\n",
            "Epoch 3/10\n",
            "1/1 [==============================] - 0s 41ms/step - loss: 0.5250 - binary_accuracy: 0.4678 - val_loss: 0.3990 - val_binary_accuracy: 0.5999\n",
            "Epoch 4/10\n",
            "1/1 [==============================] - 0s 55ms/step - loss: 0.5249 - binary_accuracy: 0.4678 - val_loss: 0.3989 - val_binary_accuracy: 0.5999\n",
            "Epoch 5/10\n",
            "1/1 [==============================] - 0s 50ms/step - loss: 0.5249 - binary_accuracy: 0.4678 - val_loss: 0.3989 - val_binary_accuracy: 0.5999\n",
            "Epoch 6/10\n",
            "1/1 [==============================] - 0s 46ms/step - loss: 0.5248 - binary_accuracy: 0.4678 - val_loss: 0.3989 - val_binary_accuracy: 0.5999\n",
            "Epoch 7/10\n",
            "1/1 [==============================] - 0s 48ms/step - loss: 0.5248 - binary_accuracy: 0.4678 - val_loss: 0.3989 - val_binary_accuracy: 0.5999\n",
            "Epoch 8/10\n",
            "1/1 [==============================] - 0s 46ms/step - loss: 0.5247 - binary_accuracy: 0.4678 - val_loss: 0.3988 - val_binary_accuracy: 0.5999\n",
            "Epoch 9/10\n",
            "1/1 [==============================] - 0s 46ms/step - loss: 0.5247 - binary_accuracy: 0.4678 - val_loss: 0.3988 - val_binary_accuracy: 0.5999\n",
            "Epoch 10/10\n",
            "1/1 [==============================] - 0s 46ms/step - loss: 0.5246 - binary_accuracy: 0.4678 - val_loss: 0.3988 - val_binary_accuracy: 0.5999\n",
            "1/1 [==============================] - 0s 21ms/step - loss: 0.3988 - binary_accuracy: 0.5999\n",
            "Epoch 1/10\n",
            "WARNING:tensorflow:Model was constructed with shape (None, 1) for input KerasTensor(type_spec=TensorSpec(shape=(None, 1), dtype=tf.float32, name='dense_22_input'), name='dense_22_input', description=\"created by layer 'dense_22_input'\"), but it was called on an input with incompatible shape (None, 50, 50, 1).\n"
          ]
        },
        {
          "output_type": "stream",
          "name": "stderr",
          "text": [
            "WARNING:tensorflow:Model was constructed with shape (None, 1) for input KerasTensor(type_spec=TensorSpec(shape=(None, 1), dtype=tf.float32, name='dense_22_input'), name='dense_22_input', description=\"created by layer 'dense_22_input'\"), but it was called on an input with incompatible shape (None, 50, 50, 1).\n"
          ]
        },
        {
          "output_type": "stream",
          "name": "stdout",
          "text": [
            "WARNING:tensorflow:Model was constructed with shape (None, 1) for input KerasTensor(type_spec=TensorSpec(shape=(None, 1), dtype=tf.float32, name='dense_22_input'), name='dense_22_input', description=\"created by layer 'dense_22_input'\"), but it was called on an input with incompatible shape (None, 50, 50, 1).\n"
          ]
        },
        {
          "output_type": "stream",
          "name": "stderr",
          "text": [
            "WARNING:tensorflow:Model was constructed with shape (None, 1) for input KerasTensor(type_spec=TensorSpec(shape=(None, 1), dtype=tf.float32, name='dense_22_input'), name='dense_22_input', description=\"created by layer 'dense_22_input'\"), but it was called on an input with incompatible shape (None, 50, 50, 1).\n"
          ]
        },
        {
          "output_type": "stream",
          "name": "stdout",
          "text": [
            "\r1/1 [==============================] - ETA: 0s - loss: 0.5150 - binary_accuracy: 0.4667WARNING:tensorflow:Model was constructed with shape (None, 1) for input KerasTensor(type_spec=TensorSpec(shape=(None, 1), dtype=tf.float32, name='dense_22_input'), name='dense_22_input', description=\"created by layer 'dense_22_input'\"), but it was called on an input with incompatible shape (None, 50, 50, 1).\n"
          ]
        },
        {
          "output_type": "stream",
          "name": "stderr",
          "text": [
            "WARNING:tensorflow:Model was constructed with shape (None, 1) for input KerasTensor(type_spec=TensorSpec(shape=(None, 1), dtype=tf.float32, name='dense_22_input'), name='dense_22_input', description=\"created by layer 'dense_22_input'\"), but it was called on an input with incompatible shape (None, 50, 50, 1).\n"
          ]
        },
        {
          "output_type": "stream",
          "name": "stdout",
          "text": [
            "\b\b\b\b\b\b\b\b\b\b\b\b\b\b\b\b\b\b\b\b\b\b\b\b\b\b\b\b\b\b\b\b\b\b\b\b\b\b\b\b\b\b\b\b\b\b\b\b\b\b\b\b\b\b\b\b\b\b\b\b\b\b\b\b\b\b\b\b\b\b\b\b\b\b\b\b\b\b\b\b\b\b\b\b\b\b\b\r1/1 [==============================] - 1s 1s/step - loss: 0.5150 - binary_accuracy: 0.4667 - val_loss: 0.3919 - val_binary_accuracy: 0.5999\n",
            "Epoch 2/10\n",
            "1/1 [==============================] - 0s 49ms/step - loss: 0.5111 - binary_accuracy: 0.4678 - val_loss: 0.3893 - val_binary_accuracy: 0.5999\n",
            "Epoch 3/10\n",
            "1/1 [==============================] - 0s 51ms/step - loss: 0.5059 - binary_accuracy: 0.4678 - val_loss: 0.3854 - val_binary_accuracy: 0.5999\n",
            "Epoch 4/10\n",
            "1/1 [==============================] - 0s 51ms/step - loss: 0.4980 - binary_accuracy: 0.4678 - val_loss: 0.3779 - val_binary_accuracy: 0.5999\n",
            "Epoch 5/10\n",
            "1/1 [==============================] - 0s 49ms/step - loss: 0.4847 - binary_accuracy: 0.4678 - val_loss: 0.3600 - val_binary_accuracy: 0.5998\n",
            "Epoch 6/10\n",
            "1/1 [==============================] - 0s 53ms/step - loss: 0.4572 - binary_accuracy: 0.4681 - val_loss: 0.3029 - val_binary_accuracy: 0.5992\n",
            "Epoch 7/10\n",
            "1/1 [==============================] - 0s 53ms/step - loss: 0.3806 - binary_accuracy: 0.4686 - val_loss: 0.2978 - val_binary_accuracy: 0.4000\n",
            "Epoch 8/10\n",
            "1/1 [==============================] - 0s 51ms/step - loss: 0.2633 - binary_accuracy: 0.5333 - val_loss: 0.2726 - val_binary_accuracy: 0.5987\n",
            "Epoch 9/10\n",
            "1/1 [==============================] - 0s 54ms/step - loss: 0.3361 - binary_accuracy: 0.4688 - val_loss: 0.3066 - val_binary_accuracy: 0.4000\n",
            "Epoch 10/10\n",
            "1/1 [==============================] - 0s 48ms/step - loss: 0.2679 - binary_accuracy: 0.5333 - val_loss: 0.2478 - val_binary_accuracy: 0.5963\n",
            "1/1 [==============================] - 0s 24ms/step - loss: 0.2478 - binary_accuracy: 0.5963\n",
            "Epoch 1/10\n",
            "WARNING:tensorflow:Model was constructed with shape (None, 1) for input KerasTensor(type_spec=TensorSpec(shape=(None, 1), dtype=tf.float32, name='dense_24_input'), name='dense_24_input', description=\"created by layer 'dense_24_input'\"), but it was called on an input with incompatible shape (None, 50, 50, 1).\n"
          ]
        },
        {
          "output_type": "stream",
          "name": "stderr",
          "text": [
            "WARNING:tensorflow:Model was constructed with shape (None, 1) for input KerasTensor(type_spec=TensorSpec(shape=(None, 1), dtype=tf.float32, name='dense_24_input'), name='dense_24_input', description=\"created by layer 'dense_24_input'\"), but it was called on an input with incompatible shape (None, 50, 50, 1).\n"
          ]
        },
        {
          "output_type": "stream",
          "name": "stdout",
          "text": [
            "WARNING:tensorflow:Model was constructed with shape (None, 1) for input KerasTensor(type_spec=TensorSpec(shape=(None, 1), dtype=tf.float32, name='dense_24_input'), name='dense_24_input', description=\"created by layer 'dense_24_input'\"), but it was called on an input with incompatible shape (None, 50, 50, 1).\n"
          ]
        },
        {
          "output_type": "stream",
          "name": "stderr",
          "text": [
            "WARNING:tensorflow:Model was constructed with shape (None, 1) for input KerasTensor(type_spec=TensorSpec(shape=(None, 1), dtype=tf.float32, name='dense_24_input'), name='dense_24_input', description=\"created by layer 'dense_24_input'\"), but it was called on an input with incompatible shape (None, 50, 50, 1).\n"
          ]
        },
        {
          "output_type": "stream",
          "name": "stdout",
          "text": [
            "\r1/1 [==============================] - ETA: 0s - loss: 0.4553 - binary_accuracy: 0.5322WARNING:tensorflow:Model was constructed with shape (None, 1) for input KerasTensor(type_spec=TensorSpec(shape=(None, 1), dtype=tf.float32, name='dense_24_input'), name='dense_24_input', description=\"created by layer 'dense_24_input'\"), but it was called on an input with incompatible shape (None, 50, 50, 1).\n"
          ]
        },
        {
          "output_type": "stream",
          "name": "stderr",
          "text": [
            "WARNING:tensorflow:Model was constructed with shape (None, 1) for input KerasTensor(type_spec=TensorSpec(shape=(None, 1), dtype=tf.float32, name='dense_24_input'), name='dense_24_input', description=\"created by layer 'dense_24_input'\"), but it was called on an input with incompatible shape (None, 50, 50, 1).\n"
          ]
        },
        {
          "output_type": "stream",
          "name": "stdout",
          "text": [
            "\b\b\b\b\b\b\b\b\b\b\b\b\b\b\b\b\b\b\b\b\b\b\b\b\b\b\b\b\b\b\b\b\b\b\b\b\b\b\b\b\b\b\b\b\b\b\b\b\b\b\b\b\b\b\b\b\b\b\b\b\b\b\b\b\b\b\b\b\b\b\b\b\b\b\b\b\b\b\b\b\b\b\b\b\b\b\b\r1/1 [==============================] - 1s 783ms/step - loss: 0.4553 - binary_accuracy: 0.5322 - val_loss: 0.5907 - val_binary_accuracy: 0.4001\n",
            "Epoch 2/10\n",
            "1/1 [==============================] - 0s 57ms/step - loss: 0.4527 - binary_accuracy: 0.5322 - val_loss: 0.5870 - val_binary_accuracy: 0.4001\n",
            "Epoch 3/10\n",
            "1/1 [==============================] - 0s 57ms/step - loss: 0.4490 - binary_accuracy: 0.5322 - val_loss: 0.5807 - val_binary_accuracy: 0.4001\n",
            "Epoch 4/10\n",
            "1/1 [==============================] - 0s 63ms/step - loss: 0.4427 - binary_accuracy: 0.5322 - val_loss: 0.5667 - val_binary_accuracy: 0.4002\n",
            "Epoch 5/10\n",
            "1/1 [==============================] - 0s 56ms/step - loss: 0.4298 - binary_accuracy: 0.5319 - val_loss: 0.5156 - val_binary_accuracy: 0.4004\n",
            "Epoch 6/10\n",
            "1/1 [==============================] - 0s 59ms/step - loss: 0.3922 - binary_accuracy: 0.5317 - val_loss: 0.2468 - val_binary_accuracy: 0.6000\n",
            "Epoch 7/10\n",
            "1/1 [==============================] - 0s 59ms/step - loss: 0.2515 - binary_accuracy: 0.4667 - val_loss: 0.4880 - val_binary_accuracy: 0.4006\n",
            "Epoch 8/10\n",
            "1/1 [==============================] - 0s 57ms/step - loss: 0.3748 - binary_accuracy: 0.5315 - val_loss: 0.2610 - val_binary_accuracy: 0.4210\n",
            "Epoch 9/10\n",
            "1/1 [==============================] - 0s 62ms/step - loss: 0.2505 - binary_accuracy: 0.5215 - val_loss: 0.2703 - val_binary_accuracy: 0.6000\n",
            "Epoch 10/10\n",
            "1/1 [==============================] - 0s 54ms/step - loss: 0.3345 - binary_accuracy: 0.4667 - val_loss: 0.4573 - val_binary_accuracy: 0.4006\n",
            "1/1 [==============================] - 0s 36ms/step - loss: 0.4573 - binary_accuracy: 0.4006\n",
            "Epoch 1/10\n",
            "WARNING:tensorflow:Model was constructed with shape (None, 1) for input KerasTensor(type_spec=TensorSpec(shape=(None, 1), dtype=tf.float32, name='dense_26_input'), name='dense_26_input', description=\"created by layer 'dense_26_input'\"), but it was called on an input with incompatible shape (None, 25, 25, 1).\n"
          ]
        },
        {
          "output_type": "stream",
          "name": "stderr",
          "text": [
            "WARNING:tensorflow:Model was constructed with shape (None, 1) for input KerasTensor(type_spec=TensorSpec(shape=(None, 1), dtype=tf.float32, name='dense_26_input'), name='dense_26_input', description=\"created by layer 'dense_26_input'\"), but it was called on an input with incompatible shape (None, 25, 25, 1).\n"
          ]
        },
        {
          "output_type": "stream",
          "name": "stdout",
          "text": [
            "WARNING:tensorflow:Model was constructed with shape (None, 1) for input KerasTensor(type_spec=TensorSpec(shape=(None, 1), dtype=tf.float32, name='dense_26_input'), name='dense_26_input', description=\"created by layer 'dense_26_input'\"), but it was called on an input with incompatible shape (None, 25, 25, 1).\n"
          ]
        },
        {
          "output_type": "stream",
          "name": "stderr",
          "text": [
            "WARNING:tensorflow:Model was constructed with shape (None, 1) for input KerasTensor(type_spec=TensorSpec(shape=(None, 1), dtype=tf.float32, name='dense_26_input'), name='dense_26_input', description=\"created by layer 'dense_26_input'\"), but it was called on an input with incompatible shape (None, 25, 25, 1).\n"
          ]
        },
        {
          "output_type": "stream",
          "name": "stdout",
          "text": [
            "\r1/1 [==============================] - ETA: 0s - loss: 0.4612 - binary_accuracy: 0.5321WARNING:tensorflow:Model was constructed with shape (None, 1) for input KerasTensor(type_spec=TensorSpec(shape=(None, 1), dtype=tf.float32, name='dense_26_input'), name='dense_26_input', description=\"created by layer 'dense_26_input'\"), but it was called on an input with incompatible shape (None, 25, 25, 1).\n"
          ]
        },
        {
          "output_type": "stream",
          "name": "stderr",
          "text": [
            "WARNING:tensorflow:Model was constructed with shape (None, 1) for input KerasTensor(type_spec=TensorSpec(shape=(None, 1), dtype=tf.float32, name='dense_26_input'), name='dense_26_input', description=\"created by layer 'dense_26_input'\"), but it was called on an input with incompatible shape (None, 25, 25, 1).\n"
          ]
        },
        {
          "output_type": "stream",
          "name": "stdout",
          "text": [
            "\b\b\b\b\b\b\b\b\b\b\b\b\b\b\b\b\b\b\b\b\b\b\b\b\b\b\b\b\b\b\b\b\b\b\b\b\b\b\b\b\b\b\b\b\b\b\b\b\b\b\b\b\b\b\b\b\b\b\b\b\b\b\b\b\b\b\b\b\b\b\b\b\b\b\b\b\b\b\b\b\b\b\b\b\b\b\b\r1/1 [==============================] - 1s 775ms/step - loss: 0.4612 - binary_accuracy: 0.5321 - val_loss: 0.5996 - val_binary_accuracy: 0.4001\n",
            "Epoch 2/10\n",
            "1/1 [==============================] - 0s 37ms/step - loss: 0.4612 - binary_accuracy: 0.5321 - val_loss: 0.5996 - val_binary_accuracy: 0.4001\n",
            "Epoch 3/10\n",
            "1/1 [==============================] - 0s 36ms/step - loss: 0.4612 - binary_accuracy: 0.5321 - val_loss: 0.5996 - val_binary_accuracy: 0.4001\n",
            "Epoch 4/10\n",
            "1/1 [==============================] - 0s 40ms/step - loss: 0.4611 - binary_accuracy: 0.5321 - val_loss: 0.5996 - val_binary_accuracy: 0.4001\n",
            "Epoch 5/10\n",
            "1/1 [==============================] - 0s 52ms/step - loss: 0.4611 - binary_accuracy: 0.5321 - val_loss: 0.5996 - val_binary_accuracy: 0.4001\n",
            "Epoch 6/10\n",
            "1/1 [==============================] - 0s 42ms/step - loss: 0.4611 - binary_accuracy: 0.5321 - val_loss: 0.5996 - val_binary_accuracy: 0.4001\n",
            "Epoch 7/10\n",
            "1/1 [==============================] - 0s 35ms/step - loss: 0.4611 - binary_accuracy: 0.5321 - val_loss: 0.5996 - val_binary_accuracy: 0.4001\n",
            "Epoch 8/10\n",
            "1/1 [==============================] - 0s 61ms/step - loss: 0.4611 - binary_accuracy: 0.5321 - val_loss: 0.5996 - val_binary_accuracy: 0.4001\n",
            "Epoch 9/10\n",
            "1/1 [==============================] - 0s 35ms/step - loss: 0.4610 - binary_accuracy: 0.5321 - val_loss: 0.5996 - val_binary_accuracy: 0.4001\n",
            "Epoch 10/10\n",
            "1/1 [==============================] - 0s 38ms/step - loss: 0.4610 - binary_accuracy: 0.5321 - val_loss: 0.5996 - val_binary_accuracy: 0.4001\n",
            "1/1 [==============================] - 0s 23ms/step - loss: 0.5996 - binary_accuracy: 0.4001\n",
            "Epoch 1/10\n",
            "WARNING:tensorflow:Model was constructed with shape (None, 1) for input KerasTensor(type_spec=TensorSpec(shape=(None, 1), dtype=tf.float32, name='dense_28_input'), name='dense_28_input', description=\"created by layer 'dense_28_input'\"), but it was called on an input with incompatible shape (None, 25, 25, 1).\n"
          ]
        },
        {
          "output_type": "stream",
          "name": "stderr",
          "text": [
            "WARNING:tensorflow:Model was constructed with shape (None, 1) for input KerasTensor(type_spec=TensorSpec(shape=(None, 1), dtype=tf.float32, name='dense_28_input'), name='dense_28_input', description=\"created by layer 'dense_28_input'\"), but it was called on an input with incompatible shape (None, 25, 25, 1).\n"
          ]
        },
        {
          "output_type": "stream",
          "name": "stdout",
          "text": [
            "WARNING:tensorflow:Model was constructed with shape (None, 1) for input KerasTensor(type_spec=TensorSpec(shape=(None, 1), dtype=tf.float32, name='dense_28_input'), name='dense_28_input', description=\"created by layer 'dense_28_input'\"), but it was called on an input with incompatible shape (None, 25, 25, 1).\n"
          ]
        },
        {
          "output_type": "stream",
          "name": "stderr",
          "text": [
            "WARNING:tensorflow:Model was constructed with shape (None, 1) for input KerasTensor(type_spec=TensorSpec(shape=(None, 1), dtype=tf.float32, name='dense_28_input'), name='dense_28_input', description=\"created by layer 'dense_28_input'\"), but it was called on an input with incompatible shape (None, 25, 25, 1).\n"
          ]
        },
        {
          "output_type": "stream",
          "name": "stdout",
          "text": [
            "\r1/1 [==============================] - ETA: 0s - loss: 0.5250 - binary_accuracy: 0.4667WARNING:tensorflow:Model was constructed with shape (None, 1) for input KerasTensor(type_spec=TensorSpec(shape=(None, 1), dtype=tf.float32, name='dense_28_input'), name='dense_28_input', description=\"created by layer 'dense_28_input'\"), but it was called on an input with incompatible shape (None, 25, 25, 1).\n"
          ]
        },
        {
          "output_type": "stream",
          "name": "stderr",
          "text": [
            "WARNING:tensorflow:Model was constructed with shape (None, 1) for input KerasTensor(type_spec=TensorSpec(shape=(None, 1), dtype=tf.float32, name='dense_28_input'), name='dense_28_input', description=\"created by layer 'dense_28_input'\"), but it was called on an input with incompatible shape (None, 25, 25, 1).\n"
          ]
        },
        {
          "output_type": "stream",
          "name": "stdout",
          "text": [
            "\b\b\b\b\b\b\b\b\b\b\b\b\b\b\b\b\b\b\b\b\b\b\b\b\b\b\b\b\b\b\b\b\b\b\b\b\b\b\b\b\b\b\b\b\b\b\b\b\b\b\b\b\b\b\b\b\b\b\b\b\b\b\b\b\b\b\b\b\b\b\b\b\b\b\b\b\b\b\b\b\b\b\b\b\b\b\b\r1/1 [==============================] - 1s 774ms/step - loss: 0.5250 - binary_accuracy: 0.4667 - val_loss: 0.3994 - val_binary_accuracy: 0.5999\n",
            "Epoch 2/10\n",
            "1/1 [==============================] - 0s 43ms/step - loss: 0.5249 - binary_accuracy: 0.4679 - val_loss: 0.3994 - val_binary_accuracy: 0.5999\n",
            "Epoch 3/10\n",
            "1/1 [==============================] - 0s 47ms/step - loss: 0.5248 - binary_accuracy: 0.4679 - val_loss: 0.3993 - val_binary_accuracy: 0.5999\n",
            "Epoch 4/10\n",
            "1/1 [==============================] - 0s 38ms/step - loss: 0.5247 - binary_accuracy: 0.4679 - val_loss: 0.3993 - val_binary_accuracy: 0.5999\n",
            "Epoch 5/10\n",
            "1/1 [==============================] - 0s 34ms/step - loss: 0.5247 - binary_accuracy: 0.4679 - val_loss: 0.3993 - val_binary_accuracy: 0.5999\n",
            "Epoch 6/10\n",
            "1/1 [==============================] - 0s 42ms/step - loss: 0.5246 - binary_accuracy: 0.4679 - val_loss: 0.3993 - val_binary_accuracy: 0.5999\n",
            "Epoch 7/10\n",
            "1/1 [==============================] - 0s 55ms/step - loss: 0.5246 - binary_accuracy: 0.4679 - val_loss: 0.3993 - val_binary_accuracy: 0.5999\n",
            "Epoch 8/10\n",
            "1/1 [==============================] - 0s 34ms/step - loss: 0.5245 - binary_accuracy: 0.4679 - val_loss: 0.3992 - val_binary_accuracy: 0.5999\n",
            "Epoch 9/10\n",
            "1/1 [==============================] - 0s 40ms/step - loss: 0.5244 - binary_accuracy: 0.4679 - val_loss: 0.3992 - val_binary_accuracy: 0.5999\n",
            "Epoch 10/10\n",
            "1/1 [==============================] - 0s 32ms/step - loss: 0.5244 - binary_accuracy: 0.4679 - val_loss: 0.3992 - val_binary_accuracy: 0.5999\n",
            "1/1 [==============================] - 0s 23ms/step - loss: 0.3992 - binary_accuracy: 0.5999\n",
            "Epoch 1/10\n",
            "WARNING:tensorflow:Model was constructed with shape (None, 1) for input KerasTensor(type_spec=TensorSpec(shape=(None, 1), dtype=tf.float32, name='dense_30_input'), name='dense_30_input', description=\"created by layer 'dense_30_input'\"), but it was called on an input with incompatible shape (None, 25, 25, 1).\n"
          ]
        },
        {
          "output_type": "stream",
          "name": "stderr",
          "text": [
            "WARNING:tensorflow:Model was constructed with shape (None, 1) for input KerasTensor(type_spec=TensorSpec(shape=(None, 1), dtype=tf.float32, name='dense_30_input'), name='dense_30_input', description=\"created by layer 'dense_30_input'\"), but it was called on an input with incompatible shape (None, 25, 25, 1).\n"
          ]
        },
        {
          "output_type": "stream",
          "name": "stdout",
          "text": [
            "WARNING:tensorflow:Model was constructed with shape (None, 1) for input KerasTensor(type_spec=TensorSpec(shape=(None, 1), dtype=tf.float32, name='dense_30_input'), name='dense_30_input', description=\"created by layer 'dense_30_input'\"), but it was called on an input with incompatible shape (None, 25, 25, 1).\n"
          ]
        },
        {
          "output_type": "stream",
          "name": "stderr",
          "text": [
            "WARNING:tensorflow:Model was constructed with shape (None, 1) for input KerasTensor(type_spec=TensorSpec(shape=(None, 1), dtype=tf.float32, name='dense_30_input'), name='dense_30_input', description=\"created by layer 'dense_30_input'\"), but it was called on an input with incompatible shape (None, 25, 25, 1).\n"
          ]
        },
        {
          "output_type": "stream",
          "name": "stdout",
          "text": [
            "\r1/1 [==============================] - ETA: 0s - loss: 0.4577 - binary_accuracy: 0.5321WARNING:tensorflow:Model was constructed with shape (None, 1) for input KerasTensor(type_spec=TensorSpec(shape=(None, 1), dtype=tf.float32, name='dense_30_input'), name='dense_30_input', description=\"created by layer 'dense_30_input'\"), but it was called on an input with incompatible shape (None, 25, 25, 1).\n"
          ]
        },
        {
          "output_type": "stream",
          "name": "stderr",
          "text": [
            "WARNING:tensorflow:Model was constructed with shape (None, 1) for input KerasTensor(type_spec=TensorSpec(shape=(None, 1), dtype=tf.float32, name='dense_30_input'), name='dense_30_input', description=\"created by layer 'dense_30_input'\"), but it was called on an input with incompatible shape (None, 25, 25, 1).\n"
          ]
        },
        {
          "output_type": "stream",
          "name": "stdout",
          "text": [
            "\b\b\b\b\b\b\b\b\b\b\b\b\b\b\b\b\b\b\b\b\b\b\b\b\b\b\b\b\b\b\b\b\b\b\b\b\b\b\b\b\b\b\b\b\b\b\b\b\b\b\b\b\b\b\b\b\b\b\b\b\b\b\b\b\b\b\b\b\b\b\b\b\b\b\b\b\b\b\b\b\b\b\b\b\b\b\b\r1/1 [==============================] - 1s 771ms/step - loss: 0.4577 - binary_accuracy: 0.5321 - val_loss: 0.5963 - val_binary_accuracy: 0.4001\n",
            "Epoch 2/10\n",
            "1/1 [==============================] - 0s 44ms/step - loss: 0.4572 - binary_accuracy: 0.5321 - val_loss: 0.5958 - val_binary_accuracy: 0.4001\n",
            "Epoch 3/10\n",
            "1/1 [==============================] - 0s 40ms/step - loss: 0.4568 - binary_accuracy: 0.5321 - val_loss: 0.5953 - val_binary_accuracy: 0.4001\n",
            "Epoch 4/10\n",
            "1/1 [==============================] - 0s 38ms/step - loss: 0.4563 - binary_accuracy: 0.5321 - val_loss: 0.5947 - val_binary_accuracy: 0.4001\n",
            "Epoch 5/10\n",
            "1/1 [==============================] - 0s 37ms/step - loss: 0.4558 - binary_accuracy: 0.5321 - val_loss: 0.5941 - val_binary_accuracy: 0.4001\n",
            "Epoch 6/10\n",
            "1/1 [==============================] - 0s 44ms/step - loss: 0.4553 - binary_accuracy: 0.5321 - val_loss: 0.5934 - val_binary_accuracy: 0.4001\n",
            "Epoch 7/10\n",
            "1/1 [==============================] - 0s 40ms/step - loss: 0.4546 - binary_accuracy: 0.5321 - val_loss: 0.5926 - val_binary_accuracy: 0.4001\n",
            "Epoch 8/10\n",
            "1/1 [==============================] - 0s 36ms/step - loss: 0.4539 - binary_accuracy: 0.5321 - val_loss: 0.5916 - val_binary_accuracy: 0.4001\n",
            "Epoch 9/10\n",
            "1/1 [==============================] - 0s 46ms/step - loss: 0.4530 - binary_accuracy: 0.5321 - val_loss: 0.5905 - val_binary_accuracy: 0.4001\n",
            "Epoch 10/10\n",
            "1/1 [==============================] - 0s 38ms/step - loss: 0.4519 - binary_accuracy: 0.5321 - val_loss: 0.5891 - val_binary_accuracy: 0.4001\n",
            "1/1 [==============================] - 0s 22ms/step - loss: 0.5891 - binary_accuracy: 0.4001\n",
            "Epoch 1/10\n",
            "WARNING:tensorflow:Model was constructed with shape (None, 1) for input KerasTensor(type_spec=TensorSpec(shape=(None, 1), dtype=tf.float32, name='dense_32_input'), name='dense_32_input', description=\"created by layer 'dense_32_input'\"), but it was called on an input with incompatible shape (None, 25, 25, 1).\n"
          ]
        },
        {
          "output_type": "stream",
          "name": "stderr",
          "text": [
            "WARNING:tensorflow:Model was constructed with shape (None, 1) for input KerasTensor(type_spec=TensorSpec(shape=(None, 1), dtype=tf.float32, name='dense_32_input'), name='dense_32_input', description=\"created by layer 'dense_32_input'\"), but it was called on an input with incompatible shape (None, 25, 25, 1).\n"
          ]
        },
        {
          "output_type": "stream",
          "name": "stdout",
          "text": [
            "WARNING:tensorflow:Model was constructed with shape (None, 1) for input KerasTensor(type_spec=TensorSpec(shape=(None, 1), dtype=tf.float32, name='dense_32_input'), name='dense_32_input', description=\"created by layer 'dense_32_input'\"), but it was called on an input with incompatible shape (None, 25, 25, 1).\n"
          ]
        },
        {
          "output_type": "stream",
          "name": "stderr",
          "text": [
            "WARNING:tensorflow:Model was constructed with shape (None, 1) for input KerasTensor(type_spec=TensorSpec(shape=(None, 1), dtype=tf.float32, name='dense_32_input'), name='dense_32_input', description=\"created by layer 'dense_32_input'\"), but it was called on an input with incompatible shape (None, 25, 25, 1).\n"
          ]
        },
        {
          "output_type": "stream",
          "name": "stdout",
          "text": [
            "\r1/1 [==============================] - ETA: 0s - loss: 0.4408 - binary_accuracy: 0.5321WARNING:tensorflow:Model was constructed with shape (None, 1) for input KerasTensor(type_spec=TensorSpec(shape=(None, 1), dtype=tf.float32, name='dense_32_input'), name='dense_32_input', description=\"created by layer 'dense_32_input'\"), but it was called on an input with incompatible shape (None, 25, 25, 1).\n"
          ]
        },
        {
          "output_type": "stream",
          "name": "stderr",
          "text": [
            "WARNING:tensorflow:Model was constructed with shape (None, 1) for input KerasTensor(type_spec=TensorSpec(shape=(None, 1), dtype=tf.float32, name='dense_32_input'), name='dense_32_input', description=\"created by layer 'dense_32_input'\"), but it was called on an input with incompatible shape (None, 25, 25, 1).\n"
          ]
        },
        {
          "output_type": "stream",
          "name": "stdout",
          "text": [
            "\b\b\b\b\b\b\b\b\b\b\b\b\b\b\b\b\b\b\b\b\b\b\b\b\b\b\b\b\b\b\b\b\b\b\b\b\b\b\b\b\b\b\b\b\b\b\b\b\b\b\b\b\b\b\b\b\b\b\b\b\b\b\b\b\b\b\b\b\b\b\b\b\b\b\b\b\b\b\b\b\b\b\b\b\b\b\b\r1/1 [==============================] - 1s 769ms/step - loss: 0.4408 - binary_accuracy: 0.5321 - val_loss: 0.5569 - val_binary_accuracy: 0.4001\n",
            "Epoch 2/10\n",
            "1/1 [==============================] - 0s 38ms/step - loss: 0.4216 - binary_accuracy: 0.5321 - val_loss: 0.4570 - val_binary_accuracy: 0.4001\n",
            "Epoch 3/10\n",
            "1/1 [==============================] - 0s 36ms/step - loss: 0.3560 - binary_accuracy: 0.5319 - val_loss: 0.2807 - val_binary_accuracy: 0.6000\n",
            "Epoch 4/10\n",
            "1/1 [==============================] - 0s 41ms/step - loss: 0.3499 - binary_accuracy: 0.4667 - val_loss: 0.4372 - val_binary_accuracy: 0.4002\n",
            "Epoch 5/10\n",
            "1/1 [==============================] - 0s 56ms/step - loss: 0.3443 - binary_accuracy: 0.5316 - val_loss: 0.2593 - val_binary_accuracy: 0.4135\n",
            "Epoch 6/10\n",
            "1/1 [==============================] - 0s 43ms/step - loss: 0.2498 - binary_accuracy: 0.5256 - val_loss: 0.2420 - val_binary_accuracy: 0.6000\n",
            "Epoch 7/10\n",
            "1/1 [==============================] - 0s 38ms/step - loss: 0.2594 - binary_accuracy: 0.4667 - val_loss: 0.4202 - val_binary_accuracy: 0.4002\n",
            "Epoch 8/10\n",
            "1/1 [==============================] - 0s 38ms/step - loss: 0.3344 - binary_accuracy: 0.5316 - val_loss: 0.2501 - val_binary_accuracy: 0.5016\n",
            "Epoch 9/10\n",
            "1/1 [==============================] - 0s 39ms/step - loss: 0.2500 - binary_accuracy: 0.4964 - val_loss: 0.2884 - val_binary_accuracy: 0.4022\n",
            "Epoch 10/10\n",
            "1/1 [==============================] - 0s 37ms/step - loss: 0.2601 - binary_accuracy: 0.5304 - val_loss: 0.2704 - val_binary_accuracy: 0.6000\n",
            "1/1 [==============================] - 0s 19ms/step - loss: 0.2704 - binary_accuracy: 0.6000\n",
            "Epoch 1/10\n",
            "WARNING:tensorflow:Model was constructed with shape (None, 1) for input KerasTensor(type_spec=TensorSpec(shape=(None, 1), dtype=tf.float32, name='dense_34_input'), name='dense_34_input', description=\"created by layer 'dense_34_input'\"), but it was called on an input with incompatible shape (None, 10, 10, 1).\n"
          ]
        },
        {
          "output_type": "stream",
          "name": "stderr",
          "text": [
            "WARNING:tensorflow:Model was constructed with shape (None, 1) for input KerasTensor(type_spec=TensorSpec(shape=(None, 1), dtype=tf.float32, name='dense_34_input'), name='dense_34_input', description=\"created by layer 'dense_34_input'\"), but it was called on an input with incompatible shape (None, 10, 10, 1).\n"
          ]
        },
        {
          "output_type": "stream",
          "name": "stdout",
          "text": [
            "WARNING:tensorflow:Model was constructed with shape (None, 1) for input KerasTensor(type_spec=TensorSpec(shape=(None, 1), dtype=tf.float32, name='dense_34_input'), name='dense_34_input', description=\"created by layer 'dense_34_input'\"), but it was called on an input with incompatible shape (None, 10, 10, 1).\n"
          ]
        },
        {
          "output_type": "stream",
          "name": "stderr",
          "text": [
            "WARNING:tensorflow:Model was constructed with shape (None, 1) for input KerasTensor(type_spec=TensorSpec(shape=(None, 1), dtype=tf.float32, name='dense_34_input'), name='dense_34_input', description=\"created by layer 'dense_34_input'\"), but it was called on an input with incompatible shape (None, 10, 10, 1).\n"
          ]
        },
        {
          "output_type": "stream",
          "name": "stdout",
          "text": [
            "\r1/1 [==============================] - ETA: 0s - loss: 0.4597 - binary_accuracy: 0.5325WARNING:tensorflow:Model was constructed with shape (None, 1) for input KerasTensor(type_spec=TensorSpec(shape=(None, 1), dtype=tf.float32, name='dense_34_input'), name='dense_34_input', description=\"created by layer 'dense_34_input'\"), but it was called on an input with incompatible shape (None, 10, 10, 1).\n"
          ]
        },
        {
          "output_type": "stream",
          "name": "stderr",
          "text": [
            "WARNING:tensorflow:Model was constructed with shape (None, 1) for input KerasTensor(type_spec=TensorSpec(shape=(None, 1), dtype=tf.float32, name='dense_34_input'), name='dense_34_input', description=\"created by layer 'dense_34_input'\"), but it was called on an input with incompatible shape (None, 10, 10, 1).\n"
          ]
        },
        {
          "output_type": "stream",
          "name": "stdout",
          "text": [
            "\b\b\b\b\b\b\b\b\b\b\b\b\b\b\b\b\b\b\b\b\b\b\b\b\b\b\b\b\b\b\b\b\b\b\b\b\b\b\b\b\b\b\b\b\b\b\b\b\b\b\b\b\b\b\b\b\b\b\b\b\b\b\b\b\b\b\b\b\b\b\b\b\b\b\b\b\b\b\b\b\b\b\b\b\b\b\b\r1/1 [==============================] - 1s 773ms/step - loss: 0.4597 - binary_accuracy: 0.5325 - val_loss: 0.5967 - val_binary_accuracy: 0.4000\n",
            "Epoch 2/10\n",
            "1/1 [==============================] - 0s 36ms/step - loss: 0.4595 - binary_accuracy: 0.5325 - val_loss: 0.5965 - val_binary_accuracy: 0.4000\n",
            "Epoch 3/10\n",
            "1/1 [==============================] - 0s 34ms/step - loss: 0.4593 - binary_accuracy: 0.5325 - val_loss: 0.5963 - val_binary_accuracy: 0.4000\n",
            "Epoch 4/10\n",
            "1/1 [==============================] - 0s 34ms/step - loss: 0.4591 - binary_accuracy: 0.5325 - val_loss: 0.5961 - val_binary_accuracy: 0.4000\n",
            "Epoch 5/10\n",
            "1/1 [==============================] - 0s 33ms/step - loss: 0.4589 - binary_accuracy: 0.5325 - val_loss: 0.5958 - val_binary_accuracy: 0.4000\n",
            "Epoch 6/10\n",
            "1/1 [==============================] - 0s 32ms/step - loss: 0.4588 - binary_accuracy: 0.5325 - val_loss: 0.5956 - val_binary_accuracy: 0.4000\n",
            "Epoch 7/10\n",
            "1/1 [==============================] - 0s 33ms/step - loss: 0.4586 - binary_accuracy: 0.5325 - val_loss: 0.5954 - val_binary_accuracy: 0.4000\n",
            "Epoch 8/10\n",
            "1/1 [==============================] - 0s 30ms/step - loss: 0.4584 - binary_accuracy: 0.5325 - val_loss: 0.5951 - val_binary_accuracy: 0.4000\n",
            "Epoch 9/10\n",
            "1/1 [==============================] - 0s 30ms/step - loss: 0.4581 - binary_accuracy: 0.5325 - val_loss: 0.5948 - val_binary_accuracy: 0.4000\n",
            "Epoch 10/10\n",
            "1/1 [==============================] - 0s 35ms/step - loss: 0.4579 - binary_accuracy: 0.5325 - val_loss: 0.5945 - val_binary_accuracy: 0.4000\n",
            "1/1 [==============================] - 0s 21ms/step - loss: 0.5945 - binary_accuracy: 0.4000\n",
            "Epoch 1/10\n",
            "WARNING:tensorflow:Model was constructed with shape (None, 1) for input KerasTensor(type_spec=TensorSpec(shape=(None, 1), dtype=tf.float32, name='dense_36_input'), name='dense_36_input', description=\"created by layer 'dense_36_input'\"), but it was called on an input with incompatible shape (None, 10, 10, 1).\n"
          ]
        },
        {
          "output_type": "stream",
          "name": "stderr",
          "text": [
            "WARNING:tensorflow:Model was constructed with shape (None, 1) for input KerasTensor(type_spec=TensorSpec(shape=(None, 1), dtype=tf.float32, name='dense_36_input'), name='dense_36_input', description=\"created by layer 'dense_36_input'\"), but it was called on an input with incompatible shape (None, 10, 10, 1).\n"
          ]
        },
        {
          "output_type": "stream",
          "name": "stdout",
          "text": [
            "WARNING:tensorflow:Model was constructed with shape (None, 1) for input KerasTensor(type_spec=TensorSpec(shape=(None, 1), dtype=tf.float32, name='dense_36_input'), name='dense_36_input', description=\"created by layer 'dense_36_input'\"), but it was called on an input with incompatible shape (None, 10, 10, 1).\n"
          ]
        },
        {
          "output_type": "stream",
          "name": "stderr",
          "text": [
            "WARNING:tensorflow:Model was constructed with shape (None, 1) for input KerasTensor(type_spec=TensorSpec(shape=(None, 1), dtype=tf.float32, name='dense_36_input'), name='dense_36_input', description=\"created by layer 'dense_36_input'\"), but it was called on an input with incompatible shape (None, 10, 10, 1).\n"
          ]
        },
        {
          "output_type": "stream",
          "name": "stdout",
          "text": [
            "\r1/1 [==============================] - ETA: 0s - loss: 0.5168 - binary_accuracy: 0.4667WARNING:tensorflow:Model was constructed with shape (None, 1) for input KerasTensor(type_spec=TensorSpec(shape=(None, 1), dtype=tf.float32, name='dense_36_input'), name='dense_36_input', description=\"created by layer 'dense_36_input'\"), but it was called on an input with incompatible shape (None, 10, 10, 1).\n"
          ]
        },
        {
          "output_type": "stream",
          "name": "stderr",
          "text": [
            "WARNING:tensorflow:Model was constructed with shape (None, 1) for input KerasTensor(type_spec=TensorSpec(shape=(None, 1), dtype=tf.float32, name='dense_36_input'), name='dense_36_input', description=\"created by layer 'dense_36_input'\"), but it was called on an input with incompatible shape (None, 10, 10, 1).\n"
          ]
        },
        {
          "output_type": "stream",
          "name": "stdout",
          "text": [
            "\b\b\b\b\b\b\b\b\b\b\b\b\b\b\b\b\b\b\b\b\b\b\b\b\b\b\b\b\b\b\b\b\b\b\b\b\b\b\b\b\b\b\b\b\b\b\b\b\b\b\b\b\b\b\b\b\b\b\b\b\b\b\b\b\b\b\b\b\b\b\b\b\b\b\b\b\b\b\b\b\b\b\b\b\b\b\b\r1/1 [==============================] - 1s 752ms/step - loss: 0.5168 - binary_accuracy: 0.4667 - val_loss: 0.3922 - val_binary_accuracy: 0.6000\n",
            "Epoch 2/10\n",
            "1/1 [==============================] - 0s 37ms/step - loss: 0.5125 - binary_accuracy: 0.4675 - val_loss: 0.3894 - val_binary_accuracy: 0.6000\n",
            "Epoch 3/10\n",
            "1/1 [==============================] - 0s 36ms/step - loss: 0.5062 - binary_accuracy: 0.4675 - val_loss: 0.3843 - val_binary_accuracy: 0.6000\n",
            "Epoch 4/10\n",
            "1/1 [==============================] - 0s 34ms/step - loss: 0.4956 - binary_accuracy: 0.4675 - val_loss: 0.3722 - val_binary_accuracy: 0.6000\n",
            "Epoch 5/10\n",
            "1/1 [==============================] - 0s 37ms/step - loss: 0.4740 - binary_accuracy: 0.4678 - val_loss: 0.3301 - val_binary_accuracy: 0.6000\n",
            "Epoch 6/10\n",
            "1/1 [==============================] - 0s 35ms/step - loss: 0.4148 - binary_accuracy: 0.4681 - val_loss: 0.2626 - val_binary_accuracy: 0.4000\n",
            "Epoch 7/10\n",
            "1/1 [==============================] - 0s 36ms/step - loss: 0.2495 - binary_accuracy: 0.5333 - val_loss: 0.2506 - val_binary_accuracy: 0.5964\n",
            "Epoch 8/10\n",
            "1/1 [==============================] - 0s 31ms/step - loss: 0.2938 - binary_accuracy: 0.4693 - val_loss: 0.4434 - val_binary_accuracy: 0.4000\n",
            "Epoch 9/10\n",
            "1/1 [==============================] - 0s 34ms/step - loss: 0.3463 - binary_accuracy: 0.5333 - val_loss: 0.3031 - val_binary_accuracy: 0.4000\n",
            "Epoch 10/10\n",
            "1/1 [==============================] - 0s 33ms/step - loss: 0.2656 - binary_accuracy: 0.5333 - val_loss: 0.2583 - val_binary_accuracy: 0.5976\n",
            "1/1 [==============================] - 0s 19ms/step - loss: 0.2583 - binary_accuracy: 0.5976\n",
            "Epoch 1/10\n",
            "WARNING:tensorflow:Model was constructed with shape (None, 1) for input KerasTensor(type_spec=TensorSpec(shape=(None, 1), dtype=tf.float32, name='dense_38_input'), name='dense_38_input', description=\"created by layer 'dense_38_input'\"), but it was called on an input with incompatible shape (None, 10, 10, 1).\n"
          ]
        },
        {
          "output_type": "stream",
          "name": "stderr",
          "text": [
            "WARNING:tensorflow:Model was constructed with shape (None, 1) for input KerasTensor(type_spec=TensorSpec(shape=(None, 1), dtype=tf.float32, name='dense_38_input'), name='dense_38_input', description=\"created by layer 'dense_38_input'\"), but it was called on an input with incompatible shape (None, 10, 10, 1).\n"
          ]
        },
        {
          "output_type": "stream",
          "name": "stdout",
          "text": [
            "WARNING:tensorflow:Model was constructed with shape (None, 1) for input KerasTensor(type_spec=TensorSpec(shape=(None, 1), dtype=tf.float32, name='dense_38_input'), name='dense_38_input', description=\"created by layer 'dense_38_input'\"), but it was called on an input with incompatible shape (None, 10, 10, 1).\n"
          ]
        },
        {
          "output_type": "stream",
          "name": "stderr",
          "text": [
            "WARNING:tensorflow:Model was constructed with shape (None, 1) for input KerasTensor(type_spec=TensorSpec(shape=(None, 1), dtype=tf.float32, name='dense_38_input'), name='dense_38_input', description=\"created by layer 'dense_38_input'\"), but it was called on an input with incompatible shape (None, 10, 10, 1).\n"
          ]
        },
        {
          "output_type": "stream",
          "name": "stdout",
          "text": [
            "\r1/1 [==============================] - ETA: 0s - loss: 0.5269 - binary_accuracy: 0.4667WARNING:tensorflow:Model was constructed with shape (None, 1) for input KerasTensor(type_spec=TensorSpec(shape=(None, 1), dtype=tf.float32, name='dense_38_input'), name='dense_38_input', description=\"created by layer 'dense_38_input'\"), but it was called on an input with incompatible shape (None, 10, 10, 1).\n"
          ]
        },
        {
          "output_type": "stream",
          "name": "stderr",
          "text": [
            "WARNING:tensorflow:Model was constructed with shape (None, 1) for input KerasTensor(type_spec=TensorSpec(shape=(None, 1), dtype=tf.float32, name='dense_38_input'), name='dense_38_input', description=\"created by layer 'dense_38_input'\"), but it was called on an input with incompatible shape (None, 10, 10, 1).\n"
          ]
        },
        {
          "output_type": "stream",
          "name": "stdout",
          "text": [
            "\b\b\b\b\b\b\b\b\b\b\b\b\b\b\b\b\b\b\b\b\b\b\b\b\b\b\b\b\b\b\b\b\b\b\b\b\b\b\b\b\b\b\b\b\b\b\b\b\b\b\b\b\b\b\b\b\b\b\b\b\b\b\b\b\b\b\b\b\b\b\b\b\b\b\b\b\b\b\b\b\b\b\b\b\b\b\b\r1/1 [==============================] - 1s 771ms/step - loss: 0.5269 - binary_accuracy: 0.4667 - val_loss: 0.3995 - val_binary_accuracy: 0.6000\n",
            "Epoch 2/10\n",
            "1/1 [==============================] - 0s 31ms/step - loss: 0.5268 - binary_accuracy: 0.4675 - val_loss: 0.3994 - val_binary_accuracy: 0.6000\n",
            "Epoch 3/10\n",
            "1/1 [==============================] - 0s 33ms/step - loss: 0.5267 - binary_accuracy: 0.4675 - val_loss: 0.3994 - val_binary_accuracy: 0.6000\n",
            "Epoch 4/10\n",
            "1/1 [==============================] - 0s 40ms/step - loss: 0.5267 - binary_accuracy: 0.4675 - val_loss: 0.3994 - val_binary_accuracy: 0.6000\n",
            "Epoch 5/10\n",
            "1/1 [==============================] - 0s 34ms/step - loss: 0.5266 - binary_accuracy: 0.4675 - val_loss: 0.3993 - val_binary_accuracy: 0.6000\n",
            "Epoch 6/10\n",
            "1/1 [==============================] - 0s 34ms/step - loss: 0.5265 - binary_accuracy: 0.4675 - val_loss: 0.3993 - val_binary_accuracy: 0.6000\n",
            "Epoch 7/10\n",
            "1/1 [==============================] - 0s 37ms/step - loss: 0.5265 - binary_accuracy: 0.4675 - val_loss: 0.3993 - val_binary_accuracy: 0.6000\n",
            "Epoch 8/10\n",
            "1/1 [==============================] - 0s 33ms/step - loss: 0.5264 - binary_accuracy: 0.4675 - val_loss: 0.3992 - val_binary_accuracy: 0.6000\n",
            "Epoch 9/10\n",
            "1/1 [==============================] - 0s 35ms/step - loss: 0.5263 - binary_accuracy: 0.4675 - val_loss: 0.3992 - val_binary_accuracy: 0.6000\n",
            "Epoch 10/10\n",
            "1/1 [==============================] - 0s 33ms/step - loss: 0.5263 - binary_accuracy: 0.4675 - val_loss: 0.3992 - val_binary_accuracy: 0.6000\n",
            "1/1 [==============================] - 0s 24ms/step - loss: 0.3992 - binary_accuracy: 0.6000\n",
            "Epoch 1/10\n",
            "WARNING:tensorflow:Model was constructed with shape (None, 1) for input KerasTensor(type_spec=TensorSpec(shape=(None, 1), dtype=tf.float32, name='dense_40_input'), name='dense_40_input', description=\"created by layer 'dense_40_input'\"), but it was called on an input with incompatible shape (None, 10, 10, 1).\n"
          ]
        },
        {
          "output_type": "stream",
          "name": "stderr",
          "text": [
            "WARNING:tensorflow:Model was constructed with shape (None, 1) for input KerasTensor(type_spec=TensorSpec(shape=(None, 1), dtype=tf.float32, name='dense_40_input'), name='dense_40_input', description=\"created by layer 'dense_40_input'\"), but it was called on an input with incompatible shape (None, 10, 10, 1).\n"
          ]
        },
        {
          "output_type": "stream",
          "name": "stdout",
          "text": [
            "WARNING:tensorflow:Model was constructed with shape (None, 1) for input KerasTensor(type_spec=TensorSpec(shape=(None, 1), dtype=tf.float32, name='dense_40_input'), name='dense_40_input', description=\"created by layer 'dense_40_input'\"), but it was called on an input with incompatible shape (None, 10, 10, 1).\n"
          ]
        },
        {
          "output_type": "stream",
          "name": "stderr",
          "text": [
            "WARNING:tensorflow:Model was constructed with shape (None, 1) for input KerasTensor(type_spec=TensorSpec(shape=(None, 1), dtype=tf.float32, name='dense_40_input'), name='dense_40_input', description=\"created by layer 'dense_40_input'\"), but it was called on an input with incompatible shape (None, 10, 10, 1).\n"
          ]
        },
        {
          "output_type": "stream",
          "name": "stdout",
          "text": [
            "\r1/1 [==============================] - ETA: 0s - loss: 0.4583 - binary_accuracy: 0.5325WARNING:tensorflow:Model was constructed with shape (None, 1) for input KerasTensor(type_spec=TensorSpec(shape=(None, 1), dtype=tf.float32, name='dense_40_input'), name='dense_40_input', description=\"created by layer 'dense_40_input'\"), but it was called on an input with incompatible shape (None, 10, 10, 1).\n"
          ]
        },
        {
          "output_type": "stream",
          "name": "stderr",
          "text": [
            "WARNING:tensorflow:Model was constructed with shape (None, 1) for input KerasTensor(type_spec=TensorSpec(shape=(None, 1), dtype=tf.float32, name='dense_40_input'), name='dense_40_input', description=\"created by layer 'dense_40_input'\"), but it was called on an input with incompatible shape (None, 10, 10, 1).\n"
          ]
        },
        {
          "output_type": "stream",
          "name": "stdout",
          "text": [
            "\b\b\b\b\b\b\b\b\b\b\b\b\b\b\b\b\b\b\b\b\b\b\b\b\b\b\b\b\b\b\b\b\b\b\b\b\b\b\b\b\b\b\b\b\b\b\b\b\b\b\b\b\b\b\b\b\b\b\b\b\b\b\b\b\b\b\b\b\b\b\b\b\b\b\b\b\b\b\b\b\b\b\b\b\b\b\b\r1/1 [==============================] - 1s 737ms/step - loss: 0.4583 - binary_accuracy: 0.5325 - val_loss: 0.5938 - val_binary_accuracy: 0.4000\n",
            "Epoch 2/10\n",
            "1/1 [==============================] - 0s 41ms/step - loss: 0.4569 - binary_accuracy: 0.5325 - val_loss: 0.5918 - val_binary_accuracy: 0.4000\n",
            "Epoch 3/10\n",
            "1/1 [==============================] - 0s 32ms/step - loss: 0.4550 - binary_accuracy: 0.5325 - val_loss: 0.5890 - val_binary_accuracy: 0.4000\n",
            "Epoch 4/10\n",
            "1/1 [==============================] - 0s 32ms/step - loss: 0.4520 - binary_accuracy: 0.5325 - val_loss: 0.5839 - val_binary_accuracy: 0.4000\n",
            "Epoch 5/10\n",
            "1/1 [==============================] - 0s 37ms/step - loss: 0.4464 - binary_accuracy: 0.5325 - val_loss: 0.5721 - val_binary_accuracy: 0.4000\n",
            "Epoch 6/10\n",
            "1/1 [==============================] - 0s 37ms/step - loss: 0.4340 - binary_accuracy: 0.5322 - val_loss: 0.5228 - val_binary_accuracy: 0.4004\n",
            "Epoch 7/10\n",
            "1/1 [==============================] - 0s 38ms/step - loss: 0.3953 - binary_accuracy: 0.5317 - val_loss: 0.2411 - val_binary_accuracy: 0.6000\n",
            "Epoch 8/10\n",
            "1/1 [==============================] - 0s 35ms/step - loss: 0.2665 - binary_accuracy: 0.4667 - val_loss: 0.5228 - val_binary_accuracy: 0.4004\n",
            "Epoch 9/10\n",
            "1/1 [==============================] - 0s 36ms/step - loss: 0.3953 - binary_accuracy: 0.5317 - val_loss: 0.4763 - val_binary_accuracy: 0.4008\n",
            "Epoch 10/10\n",
            "1/1 [==============================] - 0s 34ms/step - loss: 0.3659 - binary_accuracy: 0.5315 - val_loss: 0.3038 - val_binary_accuracy: 0.4084\n",
            "1/1 [==============================] - 0s 22ms/step - loss: 0.3038 - binary_accuracy: 0.4084\n"
          ]
        },
        {
          "output_type": "execute_result",
          "data": {
            "text/plain": [
              "   Img size  Nodes Number  Accuracy      Loss  Training time\n",
              "1     500.0           8.0  0.599858  0.397790      19.650902\n",
              "1     500.0          16.0  0.599858  0.399520      22.699632\n",
              "1     500.0          32.0  0.599999  0.242472      29.198589\n",
              "1     500.0          64.0  0.595008  0.242673      42.093062\n",
              "1     100.0           8.0  0.400109  0.598186       1.887751\n",
              "1     100.0          16.0  0.599891  0.392706       2.038220\n",
              "1     100.0          32.0  0.400109  0.583867       2.211783\n",
              "1     100.0          64.0  0.599063  0.292958       2.771289\n",
              "1      50.0           8.0  0.400065  0.598817       1.634735\n",
              "1      50.0          16.0  0.599935  0.398800       1.365255\n",
              "1      50.0          32.0  0.596319  0.247799       1.756274\n",
              "1      50.0          64.0  0.400593  0.457258       1.543748\n",
              "1      25.0           8.0  0.400064  0.599581       1.224158\n",
              "1      25.0          16.0  0.599935  0.399191       1.240630\n",
              "1      25.0          32.0  0.400064  0.589064       1.243768\n",
              "1      25.0          64.0  0.599999  0.270428       1.260009\n",
              "1      10.0           8.0  0.400000  0.594547       1.159742\n",
              "1      10.0          16.0  0.597600  0.258330       1.159218\n",
              "1      10.0          32.0  0.600000  0.399164       1.186861\n",
              "1      10.0          64.0  0.408400  0.303781       1.130952"
            ],
            "text/html": [
              "\n",
              "  <div id=\"df-91221f11-0fb0-4d2c-958c-f22e794b9e6d\">\n",
              "    <div class=\"colab-df-container\">\n",
              "      <div>\n",
              "<style scoped>\n",
              "    .dataframe tbody tr th:only-of-type {\n",
              "        vertical-align: middle;\n",
              "    }\n",
              "\n",
              "    .dataframe tbody tr th {\n",
              "        vertical-align: top;\n",
              "    }\n",
              "\n",
              "    .dataframe thead th {\n",
              "        text-align: right;\n",
              "    }\n",
              "</style>\n",
              "<table border=\"1\" class=\"dataframe\">\n",
              "  <thead>\n",
              "    <tr style=\"text-align: right;\">\n",
              "      <th></th>\n",
              "      <th>Img size</th>\n",
              "      <th>Nodes Number</th>\n",
              "      <th>Accuracy</th>\n",
              "      <th>Loss</th>\n",
              "      <th>Training time</th>\n",
              "    </tr>\n",
              "  </thead>\n",
              "  <tbody>\n",
              "    <tr>\n",
              "      <th>1</th>\n",
              "      <td>500.0</td>\n",
              "      <td>8.0</td>\n",
              "      <td>0.599858</td>\n",
              "      <td>0.397790</td>\n",
              "      <td>19.650902</td>\n",
              "    </tr>\n",
              "    <tr>\n",
              "      <th>1</th>\n",
              "      <td>500.0</td>\n",
              "      <td>16.0</td>\n",
              "      <td>0.599858</td>\n",
              "      <td>0.399520</td>\n",
              "      <td>22.699632</td>\n",
              "    </tr>\n",
              "    <tr>\n",
              "      <th>1</th>\n",
              "      <td>500.0</td>\n",
              "      <td>32.0</td>\n",
              "      <td>0.599999</td>\n",
              "      <td>0.242472</td>\n",
              "      <td>29.198589</td>\n",
              "    </tr>\n",
              "    <tr>\n",
              "      <th>1</th>\n",
              "      <td>500.0</td>\n",
              "      <td>64.0</td>\n",
              "      <td>0.595008</td>\n",
              "      <td>0.242673</td>\n",
              "      <td>42.093062</td>\n",
              "    </tr>\n",
              "    <tr>\n",
              "      <th>1</th>\n",
              "      <td>100.0</td>\n",
              "      <td>8.0</td>\n",
              "      <td>0.400109</td>\n",
              "      <td>0.598186</td>\n",
              "      <td>1.887751</td>\n",
              "    </tr>\n",
              "    <tr>\n",
              "      <th>1</th>\n",
              "      <td>100.0</td>\n",
              "      <td>16.0</td>\n",
              "      <td>0.599891</td>\n",
              "      <td>0.392706</td>\n",
              "      <td>2.038220</td>\n",
              "    </tr>\n",
              "    <tr>\n",
              "      <th>1</th>\n",
              "      <td>100.0</td>\n",
              "      <td>32.0</td>\n",
              "      <td>0.400109</td>\n",
              "      <td>0.583867</td>\n",
              "      <td>2.211783</td>\n",
              "    </tr>\n",
              "    <tr>\n",
              "      <th>1</th>\n",
              "      <td>100.0</td>\n",
              "      <td>64.0</td>\n",
              "      <td>0.599063</td>\n",
              "      <td>0.292958</td>\n",
              "      <td>2.771289</td>\n",
              "    </tr>\n",
              "    <tr>\n",
              "      <th>1</th>\n",
              "      <td>50.0</td>\n",
              "      <td>8.0</td>\n",
              "      <td>0.400065</td>\n",
              "      <td>0.598817</td>\n",
              "      <td>1.634735</td>\n",
              "    </tr>\n",
              "    <tr>\n",
              "      <th>1</th>\n",
              "      <td>50.0</td>\n",
              "      <td>16.0</td>\n",
              "      <td>0.599935</td>\n",
              "      <td>0.398800</td>\n",
              "      <td>1.365255</td>\n",
              "    </tr>\n",
              "    <tr>\n",
              "      <th>1</th>\n",
              "      <td>50.0</td>\n",
              "      <td>32.0</td>\n",
              "      <td>0.596319</td>\n",
              "      <td>0.247799</td>\n",
              "      <td>1.756274</td>\n",
              "    </tr>\n",
              "    <tr>\n",
              "      <th>1</th>\n",
              "      <td>50.0</td>\n",
              "      <td>64.0</td>\n",
              "      <td>0.400593</td>\n",
              "      <td>0.457258</td>\n",
              "      <td>1.543748</td>\n",
              "    </tr>\n",
              "    <tr>\n",
              "      <th>1</th>\n",
              "      <td>25.0</td>\n",
              "      <td>8.0</td>\n",
              "      <td>0.400064</td>\n",
              "      <td>0.599581</td>\n",
              "      <td>1.224158</td>\n",
              "    </tr>\n",
              "    <tr>\n",
              "      <th>1</th>\n",
              "      <td>25.0</td>\n",
              "      <td>16.0</td>\n",
              "      <td>0.599935</td>\n",
              "      <td>0.399191</td>\n",
              "      <td>1.240630</td>\n",
              "    </tr>\n",
              "    <tr>\n",
              "      <th>1</th>\n",
              "      <td>25.0</td>\n",
              "      <td>32.0</td>\n",
              "      <td>0.400064</td>\n",
              "      <td>0.589064</td>\n",
              "      <td>1.243768</td>\n",
              "    </tr>\n",
              "    <tr>\n",
              "      <th>1</th>\n",
              "      <td>25.0</td>\n",
              "      <td>64.0</td>\n",
              "      <td>0.599999</td>\n",
              "      <td>0.270428</td>\n",
              "      <td>1.260009</td>\n",
              "    </tr>\n",
              "    <tr>\n",
              "      <th>1</th>\n",
              "      <td>10.0</td>\n",
              "      <td>8.0</td>\n",
              "      <td>0.400000</td>\n",
              "      <td>0.594547</td>\n",
              "      <td>1.159742</td>\n",
              "    </tr>\n",
              "    <tr>\n",
              "      <th>1</th>\n",
              "      <td>10.0</td>\n",
              "      <td>16.0</td>\n",
              "      <td>0.597600</td>\n",
              "      <td>0.258330</td>\n",
              "      <td>1.159218</td>\n",
              "    </tr>\n",
              "    <tr>\n",
              "      <th>1</th>\n",
              "      <td>10.0</td>\n",
              "      <td>32.0</td>\n",
              "      <td>0.600000</td>\n",
              "      <td>0.399164</td>\n",
              "      <td>1.186861</td>\n",
              "    </tr>\n",
              "    <tr>\n",
              "      <th>1</th>\n",
              "      <td>10.0</td>\n",
              "      <td>64.0</td>\n",
              "      <td>0.408400</td>\n",
              "      <td>0.303781</td>\n",
              "      <td>1.130952</td>\n",
              "    </tr>\n",
              "  </tbody>\n",
              "</table>\n",
              "</div>\n",
              "      <button class=\"colab-df-convert\" onclick=\"convertToInteractive('df-91221f11-0fb0-4d2c-958c-f22e794b9e6d')\"\n",
              "              title=\"Convert this dataframe to an interactive table.\"\n",
              "              style=\"display:none;\">\n",
              "        \n",
              "  <svg xmlns=\"http://www.w3.org/2000/svg\" height=\"24px\"viewBox=\"0 0 24 24\"\n",
              "       width=\"24px\">\n",
              "    <path d=\"M0 0h24v24H0V0z\" fill=\"none\"/>\n",
              "    <path d=\"M18.56 5.44l.94 2.06.94-2.06 2.06-.94-2.06-.94-.94-2.06-.94 2.06-2.06.94zm-11 1L8.5 8.5l.94-2.06 2.06-.94-2.06-.94L8.5 2.5l-.94 2.06-2.06.94zm10 10l.94 2.06.94-2.06 2.06-.94-2.06-.94-.94-2.06-.94 2.06-2.06.94z\"/><path d=\"M17.41 7.96l-1.37-1.37c-.4-.4-.92-.59-1.43-.59-.52 0-1.04.2-1.43.59L10.3 9.45l-7.72 7.72c-.78.78-.78 2.05 0 2.83L4 21.41c.39.39.9.59 1.41.59.51 0 1.02-.2 1.41-.59l7.78-7.78 2.81-2.81c.8-.78.8-2.07 0-2.86zM5.41 20L4 18.59l7.72-7.72 1.47 1.35L5.41 20z\"/>\n",
              "  </svg>\n",
              "      </button>\n",
              "      \n",
              "  <style>\n",
              "    .colab-df-container {\n",
              "      display:flex;\n",
              "      flex-wrap:wrap;\n",
              "      gap: 12px;\n",
              "    }\n",
              "\n",
              "    .colab-df-convert {\n",
              "      background-color: #E8F0FE;\n",
              "      border: none;\n",
              "      border-radius: 50%;\n",
              "      cursor: pointer;\n",
              "      display: none;\n",
              "      fill: #1967D2;\n",
              "      height: 32px;\n",
              "      padding: 0 0 0 0;\n",
              "      width: 32px;\n",
              "    }\n",
              "\n",
              "    .colab-df-convert:hover {\n",
              "      background-color: #E2EBFA;\n",
              "      box-shadow: 0px 1px 2px rgba(60, 64, 67, 0.3), 0px 1px 3px 1px rgba(60, 64, 67, 0.15);\n",
              "      fill: #174EA6;\n",
              "    }\n",
              "\n",
              "    [theme=dark] .colab-df-convert {\n",
              "      background-color: #3B4455;\n",
              "      fill: #D2E3FC;\n",
              "    }\n",
              "\n",
              "    [theme=dark] .colab-df-convert:hover {\n",
              "      background-color: #434B5C;\n",
              "      box-shadow: 0px 1px 3px 1px rgba(0, 0, 0, 0.15);\n",
              "      filter: drop-shadow(0px 1px 2px rgba(0, 0, 0, 0.3));\n",
              "      fill: #FFFFFF;\n",
              "    }\n",
              "  </style>\n",
              "\n",
              "      <script>\n",
              "        const buttonEl =\n",
              "          document.querySelector('#df-91221f11-0fb0-4d2c-958c-f22e794b9e6d button.colab-df-convert');\n",
              "        buttonEl.style.display =\n",
              "          google.colab.kernel.accessAllowed ? 'block' : 'none';\n",
              "\n",
              "        async function convertToInteractive(key) {\n",
              "          const element = document.querySelector('#df-91221f11-0fb0-4d2c-958c-f22e794b9e6d');\n",
              "          const dataTable =\n",
              "            await google.colab.kernel.invokeFunction('convertToInteractive',\n",
              "                                                     [key], {});\n",
              "          if (!dataTable) return;\n",
              "\n",
              "          const docLinkHtml = 'Like what you see? Visit the ' +\n",
              "            '<a target=\"_blank\" href=https://colab.research.google.com/notebooks/data_table.ipynb>data table notebook</a>'\n",
              "            + ' to learn more about interactive tables.';\n",
              "          element.innerHTML = '';\n",
              "          dataTable['output_type'] = 'display_data';\n",
              "          await google.colab.output.renderOutput(dataTable, element);\n",
              "          const docLink = document.createElement('div');\n",
              "          docLink.innerHTML = docLinkHtml;\n",
              "          element.appendChild(docLink);\n",
              "        }\n",
              "      </script>\n",
              "    </div>\n",
              "  </div>\n",
              "  "
            ]
          },
          "metadata": {},
          "execution_count": 35
        }
      ],
      "source": [
        "evaluation()"
      ],
      "id": "FUf0D5tnj_PO"
    },
    {
      "cell_type": "markdown",
      "metadata": {
        "id": "38913d77"
      },
      "source": [
        "#### b. Multi layer neural network Performance Analysis"
      ],
      "id": "38913d77"
    },
    {
      "cell_type": "code",
      "execution_count": null,
      "metadata": {
        "colab": {
          "base_uri": "https://localhost:8080/"
        },
        "id": "b9d02df2",
        "outputId": "b8538ce8-71e2-4c56-e82b-36d601d43d65"
      },
      "outputs": [
        {
          "output_type": "stream",
          "name": "stdout",
          "text": [
            "Epoch 1/10\n",
            "WARNING:tensorflow:Model was constructed with shape (None, 1) for input KerasTensor(type_spec=TensorSpec(shape=(None, 1), dtype=tf.float32, name='dense_42_input'), name='dense_42_input', description=\"created by layer 'dense_42_input'\"), but it was called on an input with incompatible shape (None, 500, 500, 1).\n"
          ]
        },
        {
          "output_type": "stream",
          "name": "stderr",
          "text": [
            "WARNING:tensorflow:Model was constructed with shape (None, 1) for input KerasTensor(type_spec=TensorSpec(shape=(None, 1), dtype=tf.float32, name='dense_42_input'), name='dense_42_input', description=\"created by layer 'dense_42_input'\"), but it was called on an input with incompatible shape (None, 500, 500, 1).\n"
          ]
        },
        {
          "output_type": "stream",
          "name": "stdout",
          "text": [
            "WARNING:tensorflow:Model was constructed with shape (None, 1) for input KerasTensor(type_spec=TensorSpec(shape=(None, 1), dtype=tf.float32, name='dense_42_input'), name='dense_42_input', description=\"created by layer 'dense_42_input'\"), but it was called on an input with incompatible shape (None, 500, 500, 1).\n"
          ]
        },
        {
          "output_type": "stream",
          "name": "stderr",
          "text": [
            "WARNING:tensorflow:Model was constructed with shape (None, 1) for input KerasTensor(type_spec=TensorSpec(shape=(None, 1), dtype=tf.float32, name='dense_42_input'), name='dense_42_input', description=\"created by layer 'dense_42_input'\"), but it was called on an input with incompatible shape (None, 500, 500, 1).\n"
          ]
        },
        {
          "output_type": "stream",
          "name": "stdout",
          "text": [
            "WARNING:tensorflow:Model was constructed with shape (None, 1) for input KerasTensor(type_spec=TensorSpec(shape=(None, 1), dtype=tf.float32, name='dense_42_input'), name='dense_42_input', description=\"created by layer 'dense_42_input'\"), but it was called on an input with incompatible shape (None, 500, 500, 1).\n"
          ]
        },
        {
          "output_type": "stream",
          "name": "stderr",
          "text": [
            "WARNING:tensorflow:Model was constructed with shape (None, 1) for input KerasTensor(type_spec=TensorSpec(shape=(None, 1), dtype=tf.float32, name='dense_42_input'), name='dense_42_input', description=\"created by layer 'dense_42_input'\"), but it was called on an input with incompatible shape (None, 500, 500, 1).\n"
          ]
        },
        {
          "output_type": "stream",
          "name": "stdout",
          "text": [
            "2/2 - 4s - loss: 0.5137 - binary_accuracy: 0.4679 - val_loss: 0.3903 - val_binary_accuracy: 0.5999 - 4s/epoch - 2s/step\n",
            "Epoch 2/10\n",
            "2/2 - 3s - loss: 0.5080 - binary_accuracy: 0.4732 - val_loss: 0.3854 - val_binary_accuracy: 0.5999 - 3s/epoch - 1s/step\n",
            "Epoch 3/10\n",
            "2/2 - 3s - loss: 0.4987 - binary_accuracy: 0.4657 - val_loss: 0.3739 - val_binary_accuracy: 0.5999 - 3s/epoch - 1s/step\n",
            "Epoch 4/10\n",
            "2/2 - 3s - loss: 0.4776 - binary_accuracy: 0.4679 - val_loss: 0.3379 - val_binary_accuracy: 0.5996 - 3s/epoch - 1s/step\n",
            "Epoch 5/10\n",
            "2/2 - 3s - loss: 0.4000 - binary_accuracy: 0.4699 - val_loss: 0.2426 - val_binary_accuracy: 0.5935 - 3s/epoch - 1s/step\n",
            "Epoch 6/10\n",
            "2/2 - 3s - loss: 0.2921 - binary_accuracy: 0.4099 - val_loss: 0.4071 - val_binary_accuracy: 0.4000 - 3s/epoch - 1s/step\n",
            "Epoch 7/10\n",
            "2/2 - 3s - loss: 0.3317 - binary_accuracy: 0.5333 - val_loss: 0.4217 - val_binary_accuracy: 0.4000 - 3s/epoch - 1s/step\n",
            "Epoch 8/10\n",
            "2/2 - 3s - loss: 0.3383 - binary_accuracy: 0.5333 - val_loss: 0.3599 - val_binary_accuracy: 0.4000 - 3s/epoch - 1s/step\n",
            "Epoch 9/10\n",
            "2/2 - 3s - loss: 0.2693 - binary_accuracy: 0.5333 - val_loss: 0.2506 - val_binary_accuracy: 0.4573 - 3s/epoch - 1s/step\n",
            "Epoch 10/10\n",
            "2/2 - 3s - loss: 0.3065 - binary_accuracy: 0.3752 - val_loss: 0.2542 - val_binary_accuracy: 0.5985 - 3s/epoch - 1s/step\n"
          ]
        },
        {
          "output_type": "execute_result",
          "data": {
            "text/plain": [
              "<keras.callbacks.History at 0x7f9a69d11510>"
            ]
          },
          "metadata": {},
          "execution_count": 36
        }
      ],
      "source": [
        "#2 layer\n",
        "\n",
        "training_data = []\n",
        "img_size=500\n",
        "\n",
        "def create_training_data():\n",
        "    for category in categories:\n",
        "        path = os.path.join(datadir,category)\n",
        "        class_num = categories.index(category)\n",
        "        for img in os.listdir(path):\n",
        "            img_array = cv2.imread(os.path.join(path,img),cv2.IMREAD_GRAYSCALE)\n",
        "            num_array=cv2.resize(img_array,(img_size,img_size))\n",
        "            training_data.append([num_array,class_num])\n",
        "create_training_data()\n",
        "\n",
        "\n",
        "x=[]\n",
        "y=[]\n",
        "for features,label in training_data:\n",
        "    x.append(features)\n",
        "    y.append(label)\n",
        "x=np.asarray(x).reshape(-1,img_size,img_size,1)\n",
        "y=np.asarray(y)\n",
        "\n",
        "\n",
        "from sklearn.model_selection import train_test_split\n",
        "x_train,x_test,y_train,y_test = train_test_split(x,y,test_size=.25,random_state=42)\n",
        "\n",
        "model =Sequential()\n",
        "model.add(Dense(32,input_dim=1,activation='relu'))\n",
        "model.add(Dense(32,input_dim=1,activation='relu'))\n",
        "model.add(Dense(1,activation='sigmoid'))\n",
        "\n",
        "model.compile(loss='mean_squared_error',\n",
        "             optimizer='adam',\n",
        "             metrics=['binary_accuracy'])\n",
        "model.fit(x_train,y_train,validation_data=(x_test,y_test),epochs=10,batch_size=10,verbose=2)\n"
      ],
      "id": "b9d02df2"
    },
    {
      "cell_type": "code",
      "execution_count": null,
      "metadata": {
        "colab": {
          "base_uri": "https://localhost:8080/"
        },
        "id": "d020ca16",
        "outputId": "26c243a9-2f47-4002-82a8-b147605e18e0"
      },
      "outputs": [
        {
          "output_type": "stream",
          "name": "stdout",
          "text": [
            "1/1 [==============================] - 0s 326ms/step - loss: 0.2542 - binary_accuracy: 0.5985\n"
          ]
        },
        {
          "output_type": "execute_result",
          "data": {
            "text/plain": [
              "[0.25422579050064087, 0.5985313057899475]"
            ]
          },
          "metadata": {},
          "execution_count": 37
        }
      ],
      "source": [
        "model.evaluate(x_test,y_test)"
      ],
      "id": "d020ca16"
    },
    {
      "cell_type": "code",
      "execution_count": null,
      "metadata": {
        "colab": {
          "base_uri": "https://localhost:8080/"
        },
        "id": "viclDjyPkijK",
        "outputId": "d486df4f-91c5-4651-e21b-96f4f25ec206"
      },
      "outputs": [
        {
          "output_type": "stream",
          "name": "stdout",
          "text": [
            "Epoch 1/10\n",
            "WARNING:tensorflow:Model was constructed with shape (None, 1) for input KerasTensor(type_spec=TensorSpec(shape=(None, 1), dtype=tf.float32, name='dense_45_input'), name='dense_45_input', description=\"created by layer 'dense_45_input'\"), but it was called on an input with incompatible shape (None, 500, 500, 1).\n"
          ]
        },
        {
          "output_type": "stream",
          "name": "stderr",
          "text": [
            "WARNING:tensorflow:Model was constructed with shape (None, 1) for input KerasTensor(type_spec=TensorSpec(shape=(None, 1), dtype=tf.float32, name='dense_45_input'), name='dense_45_input', description=\"created by layer 'dense_45_input'\"), but it was called on an input with incompatible shape (None, 500, 500, 1).\n"
          ]
        },
        {
          "output_type": "stream",
          "name": "stdout",
          "text": [
            "WARNING:tensorflow:Model was constructed with shape (None, 1) for input KerasTensor(type_spec=TensorSpec(shape=(None, 1), dtype=tf.float32, name='dense_45_input'), name='dense_45_input', description=\"created by layer 'dense_45_input'\"), but it was called on an input with incompatible shape (None, 500, 500, 1).\n"
          ]
        },
        {
          "output_type": "stream",
          "name": "stderr",
          "text": [
            "WARNING:tensorflow:Model was constructed with shape (None, 1) for input KerasTensor(type_spec=TensorSpec(shape=(None, 1), dtype=tf.float32, name='dense_45_input'), name='dense_45_input', description=\"created by layer 'dense_45_input'\"), but it was called on an input with incompatible shape (None, 500, 500, 1).\n"
          ]
        },
        {
          "output_type": "stream",
          "name": "stdout",
          "text": [
            "WARNING:tensorflow:Model was constructed with shape (None, 1) for input KerasTensor(type_spec=TensorSpec(shape=(None, 1), dtype=tf.float32, name='dense_45_input'), name='dense_45_input', description=\"created by layer 'dense_45_input'\"), but it was called on an input with incompatible shape (None, 500, 500, 1).\n"
          ]
        },
        {
          "output_type": "stream",
          "name": "stderr",
          "text": [
            "WARNING:tensorflow:Model was constructed with shape (None, 1) for input KerasTensor(type_spec=TensorSpec(shape=(None, 1), dtype=tf.float32, name='dense_45_input'), name='dense_45_input', description=\"created by layer 'dense_45_input'\"), but it was called on an input with incompatible shape (None, 500, 500, 1).\n"
          ]
        },
        {
          "output_type": "stream",
          "name": "stdout",
          "text": [
            "2/2 - 5s - loss: 0.5197 - binary_accuracy: 0.4678 - val_loss: 0.3883 - val_binary_accuracy: 0.5999 - 5s/epoch - 2s/step\n",
            "Epoch 2/10\n",
            "2/2 - 4s - loss: 0.4925 - binary_accuracy: 0.4700 - val_loss: 0.2855 - val_binary_accuracy: 0.4000 - 4s/epoch - 2s/step\n",
            "Epoch 3/10\n",
            "2/2 - 4s - loss: 0.3491 - binary_accuracy: 0.4688 - val_loss: 0.3389 - val_binary_accuracy: 0.5996 - 4s/epoch - 2s/step\n",
            "Epoch 4/10\n",
            "2/2 - 4s - loss: 0.3780 - binary_accuracy: 0.4681 - val_loss: 0.5106 - val_binary_accuracy: 0.4000 - 4s/epoch - 2s/step\n",
            "Epoch 5/10\n",
            "2/2 - 4s - loss: 0.3830 - binary_accuracy: 0.5333 - val_loss: 0.4026 - val_binary_accuracy: 0.4000 - 4s/epoch - 2s/step\n",
            "Epoch 6/10\n",
            "2/2 - 4s - loss: 0.3335 - binary_accuracy: 0.4715 - val_loss: 0.4440 - val_binary_accuracy: 0.4000 - 4s/epoch - 2s/step\n",
            "Epoch 7/10\n",
            "2/2 - 4s - loss: 0.3332 - binary_accuracy: 0.5333 - val_loss: 0.2426 - val_binary_accuracy: 0.5970 - 4s/epoch - 2s/step\n",
            "Epoch 8/10\n",
            "2/2 - 4s - loss: 0.3272 - binary_accuracy: 0.4053 - val_loss: 0.2531 - val_binary_accuracy: 0.4000 - 4s/epoch - 2s/step\n",
            "Epoch 9/10\n",
            "2/2 - 4s - loss: 0.2519 - binary_accuracy: 0.4699 - val_loss: 0.4316 - val_binary_accuracy: 0.4000 - 4s/epoch - 2s/step\n",
            "Epoch 10/10\n",
            "2/2 - 4s - loss: 0.3354 - binary_accuracy: 0.5333 - val_loss: 0.4395 - val_binary_accuracy: 0.4000 - 4s/epoch - 2s/step\n"
          ]
        },
        {
          "output_type": "execute_result",
          "data": {
            "text/plain": [
              "<keras.callbacks.History at 0x7f9a73cda510>"
            ]
          },
          "metadata": {},
          "execution_count": 38
        }
      ],
      "source": [
        "#3 layer\n",
        "\n",
        "training_data = []\n",
        "img_size=500\n",
        "\n",
        "def create_training_data():\n",
        "    for category in categories:\n",
        "        path = os.path.join(datadir,category)\n",
        "        class_num = categories.index(category)\n",
        "        for img in os.listdir(path):\n",
        "            img_array = cv2.imread(os.path.join(path,img),cv2.IMREAD_GRAYSCALE)\n",
        "            num_array=cv2.resize(img_array,(img_size,img_size))\n",
        "            training_data.append([num_array,class_num])\n",
        "create_training_data()\n",
        "\n",
        "\n",
        "x=[]\n",
        "y=[]\n",
        "for features,label in training_data:\n",
        "    x.append(features)\n",
        "    y.append(label)\n",
        "x=np.asarray(x).reshape(-1,img_size,img_size,1)\n",
        "y=np.asarray(y)\n",
        "\n",
        "\n",
        "from sklearn.model_selection import train_test_split\n",
        "x_train,x_test,y_train,y_test = train_test_split(x,y,test_size=.25,random_state=42)\n",
        "\n",
        "model =Sequential()\n",
        "model.add(Dense(32,input_dim=1,activation='relu'))\n",
        "model.add(Dense(32,input_dim=1,activation='relu'))\n",
        "model.add(Dense(32,input_dim=1,activation='relu'))\n",
        "model.add(Dense(1,activation='sigmoid'))\n",
        "\n",
        "\n",
        "model.compile(loss='mean_squared_error',\n",
        "             metrics=['binary_accuracy'])\n",
        "model.fit(x_train,y_train,validation_data=(x_test,y_test),epochs=10,batch_size=10,verbose=2)"
      ],
      "id": "viclDjyPkijK"
    },
    {
      "cell_type": "code",
      "execution_count": null,
      "metadata": {
        "colab": {
          "base_uri": "https://localhost:8080/"
        },
        "id": "69261628",
        "outputId": "e1252292-807a-4b9a-cc90-75f0442df509"
      },
      "outputs": [
        {
          "output_type": "stream",
          "name": "stdout",
          "text": [
            "1/1 [==============================] - 0s 434ms/step - loss: 0.4395 - binary_accuracy: 0.4000\n"
          ]
        },
        {
          "output_type": "execute_result",
          "data": {
            "text/plain": [
              "[0.4394981265068054, 0.40000054240226746]"
            ]
          },
          "metadata": {},
          "execution_count": 39
        }
      ],
      "source": [
        "model.evaluate(x_test,y_test)"
      ],
      "id": "69261628"
    },
    {
      "cell_type": "code",
      "execution_count": null,
      "metadata": {
        "colab": {
          "base_uri": "https://localhost:8080/"
        },
        "id": "48fcc942",
        "outputId": "1d44a67a-96b1-45f0-be46-6df36fb42a1b"
      },
      "outputs": [
        {
          "output_type": "stream",
          "name": "stdout",
          "text": [
            "Epoch 1/10\n",
            "WARNING:tensorflow:Model was constructed with shape (None, 1) for input KerasTensor(type_spec=TensorSpec(shape=(None, 1), dtype=tf.float32, name='dense_49_input'), name='dense_49_input', description=\"created by layer 'dense_49_input'\"), but it was called on an input with incompatible shape (None, 500, 500, 1).\n"
          ]
        },
        {
          "output_type": "stream",
          "name": "stderr",
          "text": [
            "WARNING:tensorflow:Model was constructed with shape (None, 1) for input KerasTensor(type_spec=TensorSpec(shape=(None, 1), dtype=tf.float32, name='dense_49_input'), name='dense_49_input', description=\"created by layer 'dense_49_input'\"), but it was called on an input with incompatible shape (None, 500, 500, 1).\n"
          ]
        },
        {
          "output_type": "stream",
          "name": "stdout",
          "text": [
            "WARNING:tensorflow:Model was constructed with shape (None, 1) for input KerasTensor(type_spec=TensorSpec(shape=(None, 1), dtype=tf.float32, name='dense_49_input'), name='dense_49_input', description=\"created by layer 'dense_49_input'\"), but it was called on an input with incompatible shape (None, 500, 500, 1).\n"
          ]
        },
        {
          "output_type": "stream",
          "name": "stderr",
          "text": [
            "WARNING:tensorflow:Model was constructed with shape (None, 1) for input KerasTensor(type_spec=TensorSpec(shape=(None, 1), dtype=tf.float32, name='dense_49_input'), name='dense_49_input', description=\"created by layer 'dense_49_input'\"), but it was called on an input with incompatible shape (None, 500, 500, 1).\n"
          ]
        },
        {
          "output_type": "stream",
          "name": "stdout",
          "text": [
            "WARNING:tensorflow:Model was constructed with shape (None, 1) for input KerasTensor(type_spec=TensorSpec(shape=(None, 1), dtype=tf.float32, name='dense_49_input'), name='dense_49_input', description=\"created by layer 'dense_49_input'\"), but it was called on an input with incompatible shape (None, 500, 500, 1).\n"
          ]
        },
        {
          "output_type": "stream",
          "name": "stderr",
          "text": [
            "WARNING:tensorflow:Model was constructed with shape (None, 1) for input KerasTensor(type_spec=TensorSpec(shape=(None, 1), dtype=tf.float32, name='dense_49_input'), name='dense_49_input', description=\"created by layer 'dense_49_input'\"), but it was called on an input with incompatible shape (None, 500, 500, 1).\n"
          ]
        },
        {
          "output_type": "stream",
          "name": "stdout",
          "text": [
            "2/2 - 6s - loss: 0.4098 - binary_accuracy: 0.5333 - val_loss: 0.2673 - val_binary_accuracy: 0.4000 - 6s/epoch - 3s/step\n",
            "Epoch 2/10\n",
            "2/2 - 5s - loss: 0.3553 - binary_accuracy: 0.4667 - val_loss: 0.3689 - val_binary_accuracy: 0.5999 - 5s/epoch - 3s/step\n",
            "Epoch 3/10\n",
            "2/2 - 5s - loss: 0.4561 - binary_accuracy: 0.4652 - val_loss: 0.4727 - val_binary_accuracy: 0.4000 - 5s/epoch - 2s/step\n",
            "Epoch 4/10\n",
            "2/2 - 5s - loss: 0.3058 - binary_accuracy: 0.5992 - val_loss: 0.5017 - val_binary_accuracy: 0.4000 - 5s/epoch - 2s/step\n",
            "Epoch 5/10\n",
            "2/2 - 5s - loss: 0.4386 - binary_accuracy: 0.3336 - val_loss: 0.5632 - val_binary_accuracy: 0.4000 - 5s/epoch - 2s/step\n",
            "Epoch 6/10\n",
            "2/2 - 5s - loss: 0.4208 - binary_accuracy: 0.5333 - val_loss: 0.5595 - val_binary_accuracy: 0.4000 - 5s/epoch - 3s/step\n",
            "Epoch 7/10\n",
            "2/2 - 5s - loss: 0.4269 - binary_accuracy: 0.5333 - val_loss: 0.5549 - val_binary_accuracy: 0.4000 - 5s/epoch - 2s/step\n",
            "Epoch 8/10\n",
            "2/2 - 6s - loss: 0.4241 - binary_accuracy: 0.5333 - val_loss: 0.5450 - val_binary_accuracy: 0.4000 - 6s/epoch - 3s/step\n",
            "Epoch 9/10\n",
            "2/2 - 5s - loss: 0.4106 - binary_accuracy: 0.5333 - val_loss: 0.5215 - val_binary_accuracy: 0.4000 - 5s/epoch - 2s/step\n",
            "Epoch 10/10\n",
            "2/2 - 5s - loss: 0.3991 - binary_accuracy: 0.5333 - val_loss: 0.3400 - val_binary_accuracy: 0.4000 - 5s/epoch - 2s/step\n"
          ]
        },
        {
          "output_type": "execute_result",
          "data": {
            "text/plain": [
              "<keras.callbacks.History at 0x7f9a72983e10>"
            ]
          },
          "metadata": {},
          "execution_count": 40
        }
      ],
      "source": [
        "#4 layer\n",
        "\n",
        "training_data = []\n",
        "img_size=500\n",
        "\n",
        "def create_training_data():\n",
        "    for category in categories:\n",
        "        path = os.path.join(datadir,category)\n",
        "        class_num = categories.index(category)\n",
        "        for img in os.listdir(path):\n",
        "            img_array = cv2.imread(os.path.join(path,img),cv2.IMREAD_GRAYSCALE)\n",
        "            num_array=cv2.resize(img_array,(img_size,img_size))\n",
        "            training_data.append([num_array,class_num])\n",
        "create_training_data()\n",
        "\n",
        "\n",
        "x=[]\n",
        "y=[]\n",
        "for features,label in training_data:\n",
        "    x.append(features)\n",
        "    y.append(label)\n",
        "x=np.asarray(x).reshape(-1,img_size,img_size,1)\n",
        "y=np.asarray(y)\n",
        "\n",
        "\n",
        "from sklearn.model_selection import train_test_split\n",
        "x_train,x_test,y_train,y_test = train_test_split(x,y,test_size=.25,random_state=42)\n",
        "\n",
        "model =Sequential()\n",
        "model.add(Dense(32,input_dim=1,activation='relu'))\n",
        "model.add(Dense(32,input_dim=1,activation='relu'))\n",
        "model.add(Dense(32,input_dim=1,activation='relu'))\n",
        "model.add(Dense(32,input_dim=1,activation='relu'))\n",
        "\n",
        "model.add(Dense(1,activation='sigmoid'))\n",
        "\n",
        "model.compile(loss='mean_squared_error',\n",
        "             metrics=['binary_accuracy'])\n",
        "model.fit(x_train,y_train,validation_data=(x_test,y_test),epochs=10,batch_size=10,verbose=2)\n"
      ],
      "id": "48fcc942"
    },
    {
      "cell_type": "code",
      "execution_count": null,
      "metadata": {
        "colab": {
          "base_uri": "https://localhost:8080/"
        },
        "id": "cb220d6b",
        "outputId": "ffd145c4-9410-4c86-c2f5-80048fbc860f"
      },
      "outputs": [
        {
          "output_type": "stream",
          "name": "stdout",
          "text": [
            "1/1 [==============================] - 1s 526ms/step - loss: 0.3400 - binary_accuracy: 0.4000\n"
          ]
        },
        {
          "output_type": "execute_result",
          "data": {
            "text/plain": [
              "[0.34002864360809326, 0.40000054240226746]"
            ]
          },
          "metadata": {},
          "execution_count": 41
        }
      ],
      "source": [
        "model.evaluate(x_test,y_test)"
      ],
      "id": "cb220d6b"
    },
    {
      "cell_type": "code",
      "execution_count": null,
      "metadata": {
        "colab": {
          "base_uri": "https://localhost:8080/"
        },
        "id": "c9126f7a",
        "outputId": "05cfbcf5-7dc0-4c9c-e7c6-ac12aa7bf739"
      },
      "outputs": [
        {
          "output_type": "stream",
          "name": "stdout",
          "text": [
            "Epoch 1/10\n",
            "WARNING:tensorflow:Model was constructed with shape (None, 1) for input KerasTensor(type_spec=TensorSpec(shape=(None, 1), dtype=tf.float32, name='dense_54_input'), name='dense_54_input', description=\"created by layer 'dense_54_input'\"), but it was called on an input with incompatible shape (None, 500, 500, 1).\n"
          ]
        },
        {
          "output_type": "stream",
          "name": "stderr",
          "text": [
            "WARNING:tensorflow:Model was constructed with shape (None, 1) for input KerasTensor(type_spec=TensorSpec(shape=(None, 1), dtype=tf.float32, name='dense_54_input'), name='dense_54_input', description=\"created by layer 'dense_54_input'\"), but it was called on an input with incompatible shape (None, 500, 500, 1).\n"
          ]
        },
        {
          "output_type": "stream",
          "name": "stdout",
          "text": [
            "WARNING:tensorflow:Model was constructed with shape (None, 1) for input KerasTensor(type_spec=TensorSpec(shape=(None, 1), dtype=tf.float32, name='dense_54_input'), name='dense_54_input', description=\"created by layer 'dense_54_input'\"), but it was called on an input with incompatible shape (None, 500, 500, 1).\n"
          ]
        },
        {
          "output_type": "stream",
          "name": "stderr",
          "text": [
            "WARNING:tensorflow:Model was constructed with shape (None, 1) for input KerasTensor(type_spec=TensorSpec(shape=(None, 1), dtype=tf.float32, name='dense_54_input'), name='dense_54_input', description=\"created by layer 'dense_54_input'\"), but it was called on an input with incompatible shape (None, 500, 500, 1).\n"
          ]
        },
        {
          "output_type": "stream",
          "name": "stdout",
          "text": [
            "WARNING:tensorflow:Model was constructed with shape (None, 1) for input KerasTensor(type_spec=TensorSpec(shape=(None, 1), dtype=tf.float32, name='dense_54_input'), name='dense_54_input', description=\"created by layer 'dense_54_input'\"), but it was called on an input with incompatible shape (None, 500, 500, 1).\n"
          ]
        },
        {
          "output_type": "stream",
          "name": "stderr",
          "text": [
            "WARNING:tensorflow:Model was constructed with shape (None, 1) for input KerasTensor(type_spec=TensorSpec(shape=(None, 1), dtype=tf.float32, name='dense_54_input'), name='dense_54_input', description=\"created by layer 'dense_54_input'\"), but it was called on an input with incompatible shape (None, 500, 500, 1).\n"
          ]
        },
        {
          "output_type": "stream",
          "name": "stdout",
          "text": [
            "2/2 - 7s - loss: 0.4058 - binary_accuracy: 0.3367 - val_loss: 0.2845 - val_binary_accuracy: 0.4000 - 7s/epoch - 4s/step\n",
            "Epoch 2/10\n",
            "2/2 - 6s - loss: 0.2602 - binary_accuracy: 0.4667 - val_loss: 0.3169 - val_binary_accuracy: 0.4000 - 6s/epoch - 3s/step\n",
            "Epoch 3/10\n",
            "2/2 - 6s - loss: 0.2855 - binary_accuracy: 0.5333 - val_loss: 0.2432 - val_binary_accuracy: 0.6000 - 6s/epoch - 3s/step\n",
            "Epoch 4/10\n",
            "2/2 - 6s - loss: 0.2600 - binary_accuracy: 0.5306 - val_loss: 0.2812 - val_binary_accuracy: 0.4000 - 6s/epoch - 3s/step\n",
            "Epoch 5/10\n",
            "2/2 - 6s - loss: 0.2583 - binary_accuracy: 0.4688 - val_loss: 0.2986 - val_binary_accuracy: 0.4000 - 6s/epoch - 3s/step\n",
            "Epoch 6/10\n",
            "2/2 - 6s - loss: 0.2656 - binary_accuracy: 0.4688 - val_loss: 0.2831 - val_binary_accuracy: 0.4000 - 6s/epoch - 3s/step\n",
            "Epoch 7/10\n",
            "2/2 - 6s - loss: 0.3417 - binary_accuracy: 0.2000 - val_loss: 0.3556 - val_binary_accuracy: 0.4000 - 6s/epoch - 3s/step\n",
            "Epoch 8/10\n",
            "2/2 - 6s - loss: 0.2853 - binary_accuracy: 0.5333 - val_loss: 0.3296 - val_binary_accuracy: 0.4000 - 6s/epoch - 3s/step\n",
            "Epoch 9/10\n",
            "2/2 - 6s - loss: 0.2701 - binary_accuracy: 0.5333 - val_loss: 0.2481 - val_binary_accuracy: 0.5999 - 6s/epoch - 3s/step\n",
            "Epoch 10/10\n",
            "2/2 - 6s - loss: 0.2575 - binary_accuracy: 0.4033 - val_loss: 0.2485 - val_binary_accuracy: 0.5999 - 6s/epoch - 3s/step\n"
          ]
        },
        {
          "output_type": "execute_result",
          "data": {
            "text/plain": [
              "<keras.callbacks.History at 0x7f9a73eaf4d0>"
            ]
          },
          "metadata": {},
          "execution_count": 42
        }
      ],
      "source": [
        "#5 layer\n",
        "\n",
        "training_data = []\n",
        "img_size=500\n",
        "\n",
        "def create_training_data():\n",
        "    for category in categories:\n",
        "        path = os.path.join(datadir,category)\n",
        "        class_num = categories.index(category)\n",
        "        for img in os.listdir(path):\n",
        "            img_array = cv2.imread(os.path.join(path,img),cv2.IMREAD_GRAYSCALE)\n",
        "            num_array=cv2.resize(img_array,(img_size,img_size))\n",
        "            training_data.append([num_array,class_num])\n",
        "create_training_data()\n",
        "\n",
        "\n",
        "x=[]\n",
        "y=[]\n",
        "for features,label in training_data:\n",
        "    x.append(features)\n",
        "    y.append(label)\n",
        "x=np.asarray(x).reshape(-1,img_size,img_size,1)\n",
        "y=np.asarray(y)\n",
        "\n",
        "\n",
        "from sklearn.model_selection import train_test_split\n",
        "x_train,x_test,y_train,y_test = train_test_split(x,y,test_size=.25,random_state=42)\n",
        "\n",
        "model =Sequential()\n",
        "model.add(Dense(32,input_dim=1,activation='relu'))\n",
        "model.add(Dense(32,input_dim=1,activation='relu'))\n",
        "model.add(Dense(32,input_dim=1,activation='relu'))\n",
        "model.add(Dense(32,input_dim=1,activation='relu'))\n",
        "model.add(Dense(32,input_dim=1,activation='relu'))\n",
        "model.add(Dense(1,activation='sigmoid'))\n",
        "\n",
        "model.compile(loss='mean_squared_error',\n",
        "             metrics=['binary_accuracy'])\n",
        "model.fit(x_train,y_train,validation_data=(x_test,y_test),epochs=10,batch_size=10,verbose=2)\n"
      ],
      "id": "c9126f7a"
    },
    {
      "cell_type": "code",
      "execution_count": null,
      "metadata": {
        "colab": {
          "base_uri": "https://localhost:8080/"
        },
        "id": "4610675a",
        "outputId": "9b537f74-f859-4808-c425-f391cda66a5c"
      },
      "outputs": [
        {
          "output_type": "stream",
          "name": "stdout",
          "text": [
            "1/1 [==============================] - 1s 629ms/step - loss: 0.2485 - binary_accuracy: 0.5999\n"
          ]
        },
        {
          "output_type": "execute_result",
          "data": {
            "text/plain": [
              "[0.24846598505973816, 0.599857747554779]"
            ]
          },
          "metadata": {},
          "execution_count": 43
        }
      ],
      "source": [
        "model.evaluate(x_test,y_test)"
      ],
      "id": "4610675a"
    },
    {
      "cell_type": "code",
      "execution_count": null,
      "metadata": {
        "id": "OPjtTZ3Mlvcv"
      },
      "outputs": [],
      "source": [],
      "id": "OPjtTZ3Mlvcv"
    }
  ],
  "metadata": {
    "colab": {
      "provenance": []
    },
    "kernelspec": {
      "display_name": "Python 3 (ipykernel)",
      "language": "python",
      "name": "python3"
    },
    "language_info": {
      "codemirror_mode": {
        "name": "ipython",
        "version": 3
      },
      "file_extension": ".py",
      "mimetype": "text/x-python",
      "name": "python",
      "nbconvert_exporter": "python",
      "pygments_lexer": "ipython3",
      "version": "3.9.7"
    }
  },
  "nbformat": 4,
  "nbformat_minor": 5
}