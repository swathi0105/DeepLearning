{
  "cells": [
    {
      "cell_type": "code",
      "execution_count": null,
      "id": "fef1b9fd",
      "metadata": {
        "id": "fef1b9fd"
      },
      "outputs": [],
      "source": [
        "import numpy as np\n",
        "import pandas as pd\n",
        "import matplotlib.pyplot as plt\n",
        "\n",
        "from sklearn.datasets import fetch_20newsgroups\n",
        "from sklearn.decomposition import TruncatedSVD\n",
        "from sklearn.feature_extraction.text import TfidfTransformer, TfidfVectorizer\n",
        "from sklearn.feature_extraction.text import HashingVectorizer, CountVectorizer\n",
        "from sklearn.metrics import accuracy_score, classification_report, confusion_matrix\n",
        "from sklearn.metrics import ConfusionMatrixDisplay"
      ]
    },
    {
      "cell_type": "code",
      "source": [
        "from sklearn.pipeline import Pipeline, make_pipeline\n",
        "from sklearn.preprocessing import Normalizer\n",
        "\n",
        "from sklearn.linear_model import LogisticRegression\n",
        "from sklearn.naive_bayes import GaussianNB\n",
        "from sklearn.svm import SVC\n",
        "\n",
        "import tensorflow as tf\n",
        "\n",
        "from tensorflow.keras import layers\n",
        "import tensorflow_datasets as tfds"
      ],
      "metadata": {
        "id": "3RrBQ8ofiJqE"
      },
      "id": "3RrBQ8ofiJqE",
      "execution_count": null,
      "outputs": []
    },
    {
      "cell_type": "code",
      "execution_count": null,
      "id": "833f2718",
      "metadata": {
        "id": "833f2718"
      },
      "outputs": [],
      "source": [
        "categories = [\n",
        "    'alt.atheism',\n",
        "    'talk.religion.misc',\n",
        "    'comp.graphics',\n",
        "    'sci.space'\n",
        "]"
      ]
    },
    {
      "cell_type": "code",
      "execution_count": null,
      "id": "dd7b248b",
      "metadata": {
        "id": "dd7b248b"
      },
      "outputs": [],
      "source": [
        "data_train = fetch_20newsgroups(subset='train', \n",
        "                                categories=categories, \n",
        "                                shuffle=True, random_state=42)\n",
        "\n",
        "data_test = fetch_20newsgroups(subset='test', \n",
        "                               categories=categories, \n",
        "                               shuffle=True, random_state=42)\n",
        "X_train = data_train.data\n",
        "y_train = data_train.target\n",
        "\n",
        "X_test = data_test.data\n",
        "y_test = data_test.target\n",
        "\n",
        "assert(len(X_train) == len(y_train))\n",
        "assert(len(X_test) == len(y_test))"
      ]
    },
    {
      "cell_type": "code",
      "source": [
        "data_train = fetch_20newsgroups(subset='train', \n",
        "                                categories=categories, \n",
        "                                shuffle=True, random_state=42)\n",
        "n_components = 5\n",
        "labels = data_train.target\n",
        "true_k = np.unique(labels).shape[0]\n",
        "\n",
        "# Convert to TF-IDF format\n",
        "vectorizer = TfidfVectorizer(max_df=0.5, min_df=2, stop_words='english', use_idf=True)\n",
        "X_train = vectorizer.fit_transform(data_train.data)\n",
        "\n",
        "# Reduce dimensions\n",
        "svd = TruncatedSVD(n_components)\n",
        "normalizer = Normalizer(copy=False)\n",
        "# lsa = make_pipeline(svd, normalizer)\n",
        "\n",
        "# X_train = lsa.fit_transform(X_train)"
      ],
      "metadata": {
        "id": "Xf7Af4zAiJu7"
      },
      "id": "Xf7Af4zAiJu7",
      "execution_count": null,
      "outputs": []
    },
    {
      "cell_type": "code",
      "source": [
        "len(data_train.data)"
      ],
      "metadata": {
        "colab": {
          "base_uri": "https://localhost:8080/"
        },
        "id": "krLyFgKXiTR0",
        "outputId": "1bfba597-effc-4163-dac2-689b9b6cf06b"
      },
      "id": "krLyFgKXiTR0",
      "execution_count": null,
      "outputs": [
        {
          "output_type": "execute_result",
          "data": {
            "text/plain": [
              "2034"
            ]
          },
          "metadata": {},
          "execution_count": 6
        }
      ]
    },
    {
      "cell_type": "code",
      "source": [
        "pd.DataFrame(data_train.target).value_counts()"
      ],
      "metadata": {
        "colab": {
          "base_uri": "https://localhost:8080/"
        },
        "id": "O53aYVvRiTUj",
        "outputId": "3e8fae1c-03cc-4fce-d9c6-b6a4fceb9320"
      },
      "id": "O53aYVvRiTUj",
      "execution_count": null,
      "outputs": [
        {
          "output_type": "execute_result",
          "data": {
            "text/plain": [
              "2    593\n",
              "1    584\n",
              "0    480\n",
              "3    377\n",
              "dtype: int64"
            ]
          },
          "metadata": {},
          "execution_count": 7
        }
      ]
    },
    {
      "cell_type": "code",
      "source": [
        "data_test = fetch_20newsgroups(subset='test', \n",
        "                               categories=categories, \n",
        "                               shuffle=True, random_state=42)\n",
        "\n",
        "target_names = data_train.target_names\n",
        "\n",
        "# Split a train set and test set\n",
        "y_train, y_test = data_train.target, data_test.target\n",
        "\n",
        "print(\"Extracting features from the test data using the same vectorizer\")\n",
        "X_test = vectorizer.transform(data_test.data)\n",
        "# X_test = lsa.fit_transform(X_test)"
      ],
      "metadata": {
        "colab": {
          "base_uri": "https://localhost:8080/"
        },
        "id": "bAWuLQs5iTW7",
        "outputId": "b1bd415c-3527-43ba-9b89-a86e26733622"
      },
      "id": "bAWuLQs5iTW7",
      "execution_count": null,
      "outputs": [
        {
          "output_type": "stream",
          "name": "stdout",
          "text": [
            "Extracting features from the test data using the same vectorizer\n"
          ]
        }
      ]
    },
    {
      "cell_type": "markdown",
      "source": [
        "Convolutional Neural Networks - CNNs"
      ],
      "metadata": {
        "id": "C4RM6VSPinac"
      },
      "id": "C4RM6VSPinac"
    },
    {
      "cell_type": "code",
      "source": [
        "data_train = fetch_20newsgroups(subset='train', \n",
        "                                categories=categories, \n",
        "                                shuffle=True, random_state=42)\n",
        "\n",
        "data_test = fetch_20newsgroups(subset='test', \n",
        "                               categories=categories, \n",
        "                               shuffle=True, random_state=42)\n",
        "X_train = data_train.data\n",
        "y_train = data_train.target\n",
        "\n",
        "X_test = data_test.data\n",
        "y_test = data_test.target\n",
        "\n",
        "assert(len(X_train) == len(y_train))\n",
        "assert(len(X_test) == len(y_test))"
      ],
      "metadata": {
        "id": "ga-9wZPAiTZj"
      },
      "id": "ga-9wZPAiTZj",
      "execution_count": null,
      "outputs": []
    },
    {
      "cell_type": "markdown",
      "source": [
        "Tokenization"
      ],
      "metadata": {
        "id": "zpONLfMli97z"
      },
      "id": "zpONLfMli97z"
    },
    {
      "cell_type": "code",
      "source": [
        "import tensorflow_datasets as tfds\n",
        "\n",
        "tokenizer = tfds.deprecated.text.Tokenizer()"
      ],
      "metadata": {
        "id": "s8_vYua5jJzM"
      },
      "id": "s8_vYua5jJzM",
      "execution_count": null,
      "outputs": []
    },
    {
      "cell_type": "code",
      "source": [
        "tokenizer = tfds.deprecated.text.SubwordTextEncoder.build_from_corpus(\n",
        "    X_train, target_vocab_size=2**18\n",
        ")\n",
        "\n",
        "train_inputs = [tokenizer.encode(text) for text in X_train]\n",
        "test_inputs = [tokenizer.encode(text) for text in X_test]"
      ],
      "metadata": {
        "id": "60P1kGL3irdc"
      },
      "id": "60P1kGL3irdc",
      "execution_count": null,
      "outputs": []
    },
    {
      "cell_type": "markdown",
      "source": [
        "Padding"
      ],
      "metadata": {
        "id": "Dk8wIz43j12b"
      },
      "id": "Dk8wIz43j12b"
    },
    {
      "cell_type": "code",
      "source": [
        "MAX_LEN = max([len(sentence) for sentence in data_train])"
      ],
      "metadata": {
        "id": "cIrMpCbMl_jL"
      },
      "id": "cIrMpCbMl_jL",
      "execution_count": null,
      "outputs": []
    },
    {
      "cell_type": "code",
      "source": [
        "\n",
        "train_inputs = tf.keras.preprocessing.sequence.pad_sequences(train_inputs,\n",
        "                                                             value=0,\n",
        "                                                             padding=\"post\",\n",
        "                                                             maxlen=MAX_LEN)\n",
        "\n",
        "test_inputs = tf.keras.preprocessing.sequence.pad_sequences(test_inputs,\n",
        "                                                            value=0,\n",
        "                                                            padding=\"post\",\n",
        "                                                            maxlen=MAX_LEN)"
      ],
      "metadata": {
        "id": "2k9sm10rirgb"
      },
      "id": "2k9sm10rirgb",
      "execution_count": null,
      "outputs": []
    },
    {
      "cell_type": "code",
      "source": [
        "class DCNN(tf.keras.Model):\n",
        "    \n",
        "    def __init__(self, vocab_size, emb_dim=128, nb_filters=50, FFN_units=512, nb_classes=2,\n",
        "                 dropout_rate=0.1, training=False, name=\"dcnn\"):\n",
        "        super(DCNN, self).__init__(name=name)\n",
        "        \n",
        "        self.embedding = layers.Embedding(vocab_size, emb_dim)\n",
        "        self.bigram = layers.Conv1D(filters=nb_filters, kernel_size=2, padding=\"valid\", activation=\"relu\")\n",
        "        self.trigram = layers.Conv1D(filters=nb_filters, kernel_size=3, padding=\"valid\", activation=\"relu\")\n",
        "        self.fourgram = layers.Conv1D(filters=nb_filters, kernel_size=4, padding=\"valid\", activation=\"relu\")\n",
        "        self.pool = layers.GlobalMaxPool1D() # no training variable so we can\n",
        "                                             # use the same layer for each\n",
        "                                             # pooling step\n",
        "        self.dense_1 = layers.Dense(units=FFN_units, activation=\"relu\")\n",
        "        self.dropout = layers.Dropout(rate=dropout_rate)\n",
        "        if nb_classes == 2:\n",
        "            self.last_dense = layers.Dense(units=1, activation=\"sigmoid\")\n",
        "        else:\n",
        "            self.last_dense = layers.Dense(units=nb_classes, activation=\"softmax\")\n",
        "    \n",
        "    def call(self, inputs, training):\n",
        "        x = self.embedding(inputs)\n",
        "        x_1 = self.bigram(x)\n",
        "        x_1 = self.pool(x_1)\n",
        "        x_2 = self.trigram(x)\n",
        "        x_2 = self.pool(x_2)\n",
        "        x_3 = self.fourgram(x)\n",
        "        x_3 = self.pool(x_3)\n",
        "        \n",
        "        merged = tf.concat([x_1, x_2, x_3], axis=-1) # (batch_size, 3 * nb_filters)\n",
        "        merged = self.dense_1(merged)\n",
        "        merged = self.dropout(merged, training)\n",
        "        output = self.last_dense(merged)\n",
        "        \n",
        "        return output"
      ],
      "metadata": {
        "id": "DUvTssWGirjj"
      },
      "id": "DUvTssWGirjj",
      "execution_count": null,
      "outputs": []
    },
    {
      "cell_type": "code",
      "source": [
        "VOCAB_SIZE = tokenizer.vocab_size\n",
        "\n",
        "EMB_DIM = 200\n",
        "NB_FILTERS = 100\n",
        "FFN_UNITS = 256\n",
        "NB_CLASSES = len(set(y_train))\n",
        "\n",
        "DROPOUT_RATE = 0.2\n",
        "\n",
        "BATCH_SIZE = 32\n",
        "NB_EPOCHS = 5\n",
        "\n",
        "Dcnn = DCNN(vocab_size=VOCAB_SIZE, emb_dim=EMB_DIM, nb_filters=NB_FILTERS,\n",
        "            FFN_units=FFN_UNITS, nb_classes=NB_CLASSES,\n",
        "            dropout_rate=DROPOUT_RATE)"
      ],
      "metadata": {
        "id": "um5MSN3SnS1t"
      },
      "id": "um5MSN3SnS1t",
      "execution_count": null,
      "outputs": []
    },
    {
      "cell_type": "code",
      "source": [
        "if NB_CLASSES == 2:\n",
        "    Dcnn.compile(loss=\"binary_crossentropy\",\n",
        "                 optimizer=\"adam\",\n",
        "                 metrics=[\"accuracy\"])\n",
        "else:\n",
        "    Dcnn.compile(loss=\"sparse_categorical_crossentropy\",\n",
        "                 optimizer=\"adam\",\n",
        "                 metrics=[\"sparse_categorical_accuracy\"])"
      ],
      "metadata": {
        "id": "1HBy7Qd7mtOk"
      },
      "id": "1HBy7Qd7mtOk",
      "execution_count": null,
      "outputs": []
    },
    {
      "cell_type": "code",
      "source": [
        "checkpoint_path = \"./drive/My Drive/projects/CNN_for_NLP/ckpt/\"\n",
        "\n",
        "ckpt = tf.train.Checkpoint(Dcnn=Dcnn)\n",
        "\n",
        "ckpt_manager = tf.train.CheckpointManager(ckpt, checkpoint_path, max_to_keep=5)\n",
        "\n",
        "if ckpt_manager.latest_checkpoint:\n",
        "    ckpt.restore(ckpt_manager.latest_checkpoint)\n",
        "    print(\"Latest checkpoint restored!!\")"
      ],
      "metadata": {
        "id": "5MqPqJmFmtRT"
      },
      "id": "5MqPqJmFmtRT",
      "execution_count": null,
      "outputs": []
    },
    {
      "cell_type": "code",
      "source": [
        "Dcnn.fit(train_inputs,\n",
        "         y_train,\n",
        "         batch_size=BATCH_SIZE,\n",
        "         epochs=NB_EPOCHS)\n",
        "ckpt_manager.save()"
      ],
      "metadata": {
        "colab": {
          "base_uri": "https://localhost:8080/",
          "height": 209
        },
        "id": "mISYoL68mtTm",
        "outputId": "be6c2852-157c-4456-f67b-94400b4444a2"
      },
      "id": "mISYoL68mtTm",
      "execution_count": null,
      "outputs": [
        {
          "output_type": "stream",
          "name": "stdout",
          "text": [
            "Epoch 1/5\n",
            "64/64 [==============================] - 13s 172ms/step - loss: 1.2595 - sparse_categorical_accuracy: 0.4371\n",
            "Epoch 2/5\n",
            "64/64 [==============================] - 10s 162ms/step - loss: 0.5802 - sparse_categorical_accuracy: 0.8260\n",
            "Epoch 3/5\n",
            "64/64 [==============================] - 10s 162ms/step - loss: 0.1294 - sparse_categorical_accuracy: 0.9661\n",
            "Epoch 4/5\n",
            "64/64 [==============================] - 10s 161ms/step - loss: 0.0652 - sparse_categorical_accuracy: 0.9794\n",
            "Epoch 5/5\n",
            "64/64 [==============================] - 10s 160ms/step - loss: 0.0564 - sparse_categorical_accuracy: 0.9823\n"
          ]
        },
        {
          "output_type": "execute_result",
          "data": {
            "text/plain": [
              "'./drive/My Drive/projects/CNN_for_NLP/ckpt/ckpt-1'"
            ],
            "application/vnd.google.colaboratory.intrinsic+json": {
              "type": "string"
            }
          },
          "metadata": {},
          "execution_count": 18
        }
      ]
    },
    {
      "cell_type": "markdown",
      "source": [
        "step__5 CNN-LSTM MODEL CREATION "
      ],
      "metadata": {
        "id": "SJxKahHroQcM"
      },
      "id": "SJxKahHroQcM"
    },
    {
      "cell_type": "code",
      "source": [
        "max_features = 20000\n",
        "maxlen = 100\n",
        "embedding_size = 128\n",
        "# Convolution\n",
        "kernel_size = 5\n",
        "filters = 64\n",
        "pool_size = 4\n",
        "# LSTM\n",
        "lstm_output_size = 70\n",
        "# Training\n",
        "batch_size = 30\n",
        "epochs = 5"
      ],
      "metadata": {
        "id": "CgOQTODamtV9"
      },
      "id": "CgOQTODamtV9",
      "execution_count": null,
      "outputs": []
    },
    {
      "cell_type": "code",
      "source": [
        "model = Sequential()\n",
        "model.add(Embedding(max_features, embedding_size, input_length=maxlen))\n",
        "model.add(Dropout(0.25))\n",
        "model.add(Conv1D(filters,\n",
        "                 kernel_size,\n",
        "                 padding='valid',\n",
        "                 activation='relu',\n",
        "                 strides=1))\n",
        "model.add(MaxPooling1D(pool_size=pool_size))\n",
        "model.add(LSTM(lstm_output_size))\n",
        "model.add(Dense(1))\n",
        "model.add(Activation('sigmoid'))\n",
        "\n",
        "model.compile(loss='binary_crossentropy',\n",
        "              optimizer='adam',\n",
        "              metrics=['accuracy'])\n",
        "model.summary()"
      ],
      "metadata": {
        "colab": {
          "base_uri": "https://localhost:8080/",
          "height": 235
        },
        "id": "OPveDn8TmtYL",
        "outputId": "b74a0af3-61db-4b91-ec80-a4094d0a97f7"
      },
      "id": "OPveDn8TmtYL",
      "execution_count": null,
      "outputs": [
        {
          "output_type": "error",
          "ename": "NameError",
          "evalue": "ignored",
          "traceback": [
            "\u001b[0;31m---------------------------------------------------------------------------\u001b[0m",
            "\u001b[0;31mNameError\u001b[0m                                 Traceback (most recent call last)",
            "\u001b[0;32m<ipython-input-20-d3ac262e9f8a>\u001b[0m in \u001b[0;36m<module>\u001b[0;34m\u001b[0m\n\u001b[0;32m----> 1\u001b[0;31m \u001b[0mmodel\u001b[0m \u001b[0;34m=\u001b[0m \u001b[0mSequential\u001b[0m\u001b[0;34m(\u001b[0m\u001b[0;34m)\u001b[0m\u001b[0;34m\u001b[0m\u001b[0;34m\u001b[0m\u001b[0m\n\u001b[0m\u001b[1;32m      2\u001b[0m \u001b[0mmodel\u001b[0m\u001b[0;34m.\u001b[0m\u001b[0madd\u001b[0m\u001b[0;34m(\u001b[0m\u001b[0mEmbedding\u001b[0m\u001b[0;34m(\u001b[0m\u001b[0mmax_features\u001b[0m\u001b[0;34m,\u001b[0m \u001b[0membedding_size\u001b[0m\u001b[0;34m,\u001b[0m \u001b[0minput_length\u001b[0m\u001b[0;34m=\u001b[0m\u001b[0mmaxlen\u001b[0m\u001b[0;34m)\u001b[0m\u001b[0;34m)\u001b[0m\u001b[0;34m\u001b[0m\u001b[0;34m\u001b[0m\u001b[0m\n\u001b[1;32m      3\u001b[0m \u001b[0mmodel\u001b[0m\u001b[0;34m.\u001b[0m\u001b[0madd\u001b[0m\u001b[0;34m(\u001b[0m\u001b[0mDropout\u001b[0m\u001b[0;34m(\u001b[0m\u001b[0;36m0.25\u001b[0m\u001b[0;34m)\u001b[0m\u001b[0;34m)\u001b[0m\u001b[0;34m\u001b[0m\u001b[0;34m\u001b[0m\u001b[0m\n\u001b[1;32m      4\u001b[0m model.add(Conv1D(filters,\n\u001b[1;32m      5\u001b[0m                  \u001b[0mkernel_size\u001b[0m\u001b[0;34m,\u001b[0m\u001b[0;34m\u001b[0m\u001b[0;34m\u001b[0m\u001b[0m\n",
            "\u001b[0;31mNameError\u001b[0m: name 'Sequential' is not defined"
          ]
        }
      ]
    },
    {
      "cell_type": "code",
      "source": [
        "from keras.preprocessing import sequence\n",
        "from keras.models import Sequential\n",
        "from keras.layers import LSTM\n",
        "from keras.layers import Conv1D, MaxPooling1D"
      ],
      "metadata": {
        "id": "hX4TCEyfqOZc"
      },
      "id": "hX4TCEyfqOZc",
      "execution_count": null,
      "outputs": []
    },
    {
      "cell_type": "code",
      "source": [
        "data_train = fetch_20newsgroups(subset='train', \n",
        "                                categories=categories, \n",
        "                                shuffle=True, random_state=42)\n",
        "\n",
        "data_test = fetch_20newsgroups(subset='test', \n",
        "                               categories=categories, \n",
        "                               shuffle=True, random_state=42)\n",
        "x_train = data_train.data\n",
        "Y_train = data_train.target\n",
        "\n",
        "x_test = data_test.data\n",
        "Y_test = data_test.target\n",
        "\n",
        "assert(len(X_train) == len(y_train))\n",
        "assert(len(X_test) == len(y_test))"
      ],
      "metadata": {
        "id": "5zdcFORfqYfz"
      },
      "id": "5zdcFORfqYfz",
      "execution_count": null,
      "outputs": []
    },
    {
      "cell_type": "code",
      "source": [
        "from tensorflow.keras.preprocessing.sequence import pad_sequences"
      ],
      "metadata": {
        "id": "odGVDF65q2hM"
      },
      "id": "odGVDF65q2hM",
      "execution_count": null,
      "outputs": []
    },
    {
      "cell_type": "code",
      "source": [
        "max_words = 1000\n",
        "max_len = 100\n",
        "tok = Tokenizer(num_words=max_words)\n",
        "tok.fit_on_texts(x_train)\n",
        "sequences = tok.texts_to_sequences(x_train)"
      ],
      "metadata": {
        "id": "MiYKNv8pqj7X"
      },
      "id": "MiYKNv8pqj7X",
      "execution_count": null,
      "outputs": []
    },
    {
      "cell_type": "code",
      "source": [
        "Dcnn.fit(train_inputs,\n",
        "         y_train,\n",
        "         batch_size=BATCH_SIZE,\n",
        "         epochs=NB_EPOCHS)\n",
        "ckpt_manager.save()"
      ],
      "metadata": {
        "id": "a1iKPuxQopvv"
      },
      "id": "a1iKPuxQopvv",
      "execution_count": null,
      "outputs": []
    },
    {
      "cell_type": "code",
      "source": [],
      "metadata": {
        "id": "2rRrkWNuuYHn"
      },
      "id": "2rRrkWNuuYHn",
      "execution_count": null,
      "outputs": []
    }
  ],
  "metadata": {
    "kernelspec": {
      "display_name": "Python 3 (ipykernel)",
      "language": "python",
      "name": "python3"
    },
    "language_info": {
      "codemirror_mode": {
        "name": "ipython",
        "version": 3
      },
      "file_extension": ".py",
      "mimetype": "text/x-python",
      "name": "python",
      "nbconvert_exporter": "python",
      "pygments_lexer": "ipython3",
      "version": "3.9.12"
    },
    "colab": {
      "provenance": []
    }
  },
  "nbformat": 4,
  "nbformat_minor": 5
}